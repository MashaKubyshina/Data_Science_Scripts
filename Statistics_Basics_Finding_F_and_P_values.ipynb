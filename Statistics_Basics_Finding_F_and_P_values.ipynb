{
  "nbformat": 4,
  "nbformat_minor": 0,
  "metadata": {
    "colab": {
      "name": "Statistics-Basics-Finding F and P values.ipynb",
      "provenance": [],
      "authorship_tag": "ABX9TyOVR3y00milOlxfh2lC5KCI",
      "include_colab_link": true
    },
    "kernelspec": {
      "name": "python3",
      "display_name": "Python 3"
    },
    "language_info": {
      "name": "python"
    }
  },
  "cells": [
    {
      "cell_type": "markdown",
      "metadata": {
        "id": "view-in-github",
        "colab_type": "text"
      },
      "source": [
        "<a href=\"https://colab.research.google.com/github/MashaKubyshina/Learning_to_code/blob/master/Statistics_Basics_Finding_F_and_P_values.ipynb\" target=\"_parent\"><img src=\"https://colab.research.google.com/assets/colab-badge.svg\" alt=\"Open In Colab\"/></a>"
      ]
    },
    {
      "cell_type": "markdown",
      "metadata": {
        "id": "8bCnofJesHnS"
      },
      "source": [
        "# Description"
      ]
    },
    {
      "cell_type": "code",
      "metadata": {
        "id": "okCIztJZ2GNs"
      },
      "source": [
        "# Main question: we have results from 4 tests (A, B, C, D) (see data link below)\n",
        "# Are these results statistically significant?\n",
        "# Our H-zero (Zero hypothesis) is that the results between groups are not statistically significant\n",
        "# For H-zero to be true F has to be very small, close to 0 and P > 0.005\n",
        "# For the results to be statistically significant F has to be not too small, definetly not close to 0 and P < 0.005\n",
        "\n",
        "# Process followed:\n",
        "\n",
        "# 1. Import libraries\n",
        "# 2. Import and read dataset\n",
        "# 3. Clean dataset\n",
        "# 4. Do EDA (exploratory data analysis) to see the data\n",
        "# 5. Find F and P\n",
        "# 6. Conclusion"
      ],
      "execution_count": 20,
      "outputs": []
    },
    {
      "cell_type": "code",
      "metadata": {
        "id": "ZbNLH6cYrziJ"
      },
      "source": [
        "# 1. Import libraries\n",
        "\n",
        "import pandas as pd\n",
        "import numpy as np\n",
        "import matplotlib as plt\n",
        "import scipy.stats as stats"
      ],
      "execution_count": 21,
      "outputs": []
    },
    {
      "cell_type": "code",
      "metadata": {
        "id": "E5hoUW1ar9Ro"
      },
      "source": [
        "# 2. Import and read dataset\n",
        "\n",
        "url = 'https://stepik.org/media/attachments/lesson/8083/genetherapy.csv'\n",
        "\n",
        "df = pd.read_csv(url, header=None, sep=',')"
      ],
      "execution_count": 22,
      "outputs": []
    },
    {
      "cell_type": "markdown",
      "metadata": {
        "id": "ZI6iMZ0Xsf-o"
      },
      "source": [
        "# Import and Read Dataset"
      ]
    },
    {
      "cell_type": "markdown",
      "metadata": {
        "id": "JnvGHkHosaGr"
      },
      "source": [
        "Import and Read Dataset"
      ]
    },
    {
      "cell_type": "code",
      "metadata": {
        "colab": {
          "base_uri": "https://localhost:8080/",
          "height": 419
        },
        "id": "QQiwZ-EysCpS",
        "outputId": "27f48c7c-32c1-416e-ed6d-e01545683876"
      },
      "source": [
        "df"
      ],
      "execution_count": 23,
      "outputs": [
        {
          "output_type": "execute_result",
          "data": {
            "text/html": [
              "<div>\n",
              "<style scoped>\n",
              "    .dataframe tbody tr th:only-of-type {\n",
              "        vertical-align: middle;\n",
              "    }\n",
              "\n",
              "    .dataframe tbody tr th {\n",
              "        vertical-align: top;\n",
              "    }\n",
              "\n",
              "    .dataframe thead th {\n",
              "        text-align: right;\n",
              "    }\n",
              "</style>\n",
              "<table border=\"1\" class=\"dataframe\">\n",
              "  <thead>\n",
              "    <tr style=\"text-align: right;\">\n",
              "      <th></th>\n",
              "      <th>0</th>\n",
              "      <th>1</th>\n",
              "    </tr>\n",
              "  </thead>\n",
              "  <tbody>\n",
              "    <tr>\n",
              "      <th>0</th>\n",
              "      <td>expr</td>\n",
              "      <td>Therapy</td>\n",
              "    </tr>\n",
              "    <tr>\n",
              "      <th>1</th>\n",
              "      <td>100</td>\n",
              "      <td>A</td>\n",
              "    </tr>\n",
              "    <tr>\n",
              "      <th>2</th>\n",
              "      <td>96</td>\n",
              "      <td>A</td>\n",
              "    </tr>\n",
              "    <tr>\n",
              "      <th>3</th>\n",
              "      <td>101</td>\n",
              "      <td>A</td>\n",
              "    </tr>\n",
              "    <tr>\n",
              "      <th>4</th>\n",
              "      <td>95</td>\n",
              "      <td>A</td>\n",
              "    </tr>\n",
              "    <tr>\n",
              "      <th>...</th>\n",
              "      <td>...</td>\n",
              "      <td>...</td>\n",
              "    </tr>\n",
              "    <tr>\n",
              "      <th>56</th>\n",
              "      <td>87</td>\n",
              "      <td>D</td>\n",
              "    </tr>\n",
              "    <tr>\n",
              "      <th>57</th>\n",
              "      <td>93</td>\n",
              "      <td>D</td>\n",
              "    </tr>\n",
              "    <tr>\n",
              "      <th>58</th>\n",
              "      <td>96</td>\n",
              "      <td>D</td>\n",
              "    </tr>\n",
              "    <tr>\n",
              "      <th>59</th>\n",
              "      <td>92</td>\n",
              "      <td>D</td>\n",
              "    </tr>\n",
              "    <tr>\n",
              "      <th>60</th>\n",
              "      <td>90</td>\n",
              "      <td>D</td>\n",
              "    </tr>\n",
              "  </tbody>\n",
              "</table>\n",
              "<p>61 rows × 2 columns</p>\n",
              "</div>"
            ],
            "text/plain": [
              "       0        1\n",
              "0   expr  Therapy\n",
              "1    100        A\n",
              "2     96        A\n",
              "3    101        A\n",
              "4     95        A\n",
              "..   ...      ...\n",
              "56    87        D\n",
              "57    93        D\n",
              "58    96        D\n",
              "59    92        D\n",
              "60    90        D\n",
              "\n",
              "[61 rows x 2 columns]"
            ]
          },
          "metadata": {
            "tags": []
          },
          "execution_count": 23
        }
      ]
    },
    {
      "cell_type": "code",
      "metadata": {
        "colab": {
          "base_uri": "https://localhost:8080/"
        },
        "id": "TtaTg7Nms9fa",
        "outputId": "7d06afd5-a990-4615-dc6a-e67dbecc78b6"
      },
      "source": [
        "df.columns"
      ],
      "execution_count": 24,
      "outputs": [
        {
          "output_type": "execute_result",
          "data": {
            "text/plain": [
              "Int64Index([0, 1], dtype='int64')"
            ]
          },
          "metadata": {
            "tags": []
          },
          "execution_count": 24
        }
      ]
    },
    {
      "cell_type": "markdown",
      "metadata": {
        "id": "9CnPqDZDsrkX"
      },
      "source": [
        "# Clean Dataset"
      ]
    },
    {
      "cell_type": "code",
      "metadata": {
        "colab": {
          "base_uri": "https://localhost:8080/",
          "height": 419
        },
        "id": "mWdVo1Olwnne",
        "outputId": "130adfc6-35ba-4d66-8699-48a9d8d6952d"
      },
      "source": [
        "# 3. Clean dataset\n",
        "\n",
        "# We need to clean the data: drop the first row and move column labels to header\n",
        "\n",
        "# We set the column labels to equal the values in the 1st row (index location 0):\n",
        "\n",
        "df.columns  = df.iloc[0]\n",
        "\n",
        "df"
      ],
      "execution_count": 25,
      "outputs": [
        {
          "output_type": "execute_result",
          "data": {
            "text/html": [
              "<div>\n",
              "<style scoped>\n",
              "    .dataframe tbody tr th:only-of-type {\n",
              "        vertical-align: middle;\n",
              "    }\n",
              "\n",
              "    .dataframe tbody tr th {\n",
              "        vertical-align: top;\n",
              "    }\n",
              "\n",
              "    .dataframe thead th {\n",
              "        text-align: right;\n",
              "    }\n",
              "</style>\n",
              "<table border=\"1\" class=\"dataframe\">\n",
              "  <thead>\n",
              "    <tr style=\"text-align: right;\">\n",
              "      <th></th>\n",
              "      <th>expr</th>\n",
              "      <th>Therapy</th>\n",
              "    </tr>\n",
              "  </thead>\n",
              "  <tbody>\n",
              "    <tr>\n",
              "      <th>0</th>\n",
              "      <td>expr</td>\n",
              "      <td>Therapy</td>\n",
              "    </tr>\n",
              "    <tr>\n",
              "      <th>1</th>\n",
              "      <td>100</td>\n",
              "      <td>A</td>\n",
              "    </tr>\n",
              "    <tr>\n",
              "      <th>2</th>\n",
              "      <td>96</td>\n",
              "      <td>A</td>\n",
              "    </tr>\n",
              "    <tr>\n",
              "      <th>3</th>\n",
              "      <td>101</td>\n",
              "      <td>A</td>\n",
              "    </tr>\n",
              "    <tr>\n",
              "      <th>4</th>\n",
              "      <td>95</td>\n",
              "      <td>A</td>\n",
              "    </tr>\n",
              "    <tr>\n",
              "      <th>...</th>\n",
              "      <td>...</td>\n",
              "      <td>...</td>\n",
              "    </tr>\n",
              "    <tr>\n",
              "      <th>56</th>\n",
              "      <td>87</td>\n",
              "      <td>D</td>\n",
              "    </tr>\n",
              "    <tr>\n",
              "      <th>57</th>\n",
              "      <td>93</td>\n",
              "      <td>D</td>\n",
              "    </tr>\n",
              "    <tr>\n",
              "      <th>58</th>\n",
              "      <td>96</td>\n",
              "      <td>D</td>\n",
              "    </tr>\n",
              "    <tr>\n",
              "      <th>59</th>\n",
              "      <td>92</td>\n",
              "      <td>D</td>\n",
              "    </tr>\n",
              "    <tr>\n",
              "      <th>60</th>\n",
              "      <td>90</td>\n",
              "      <td>D</td>\n",
              "    </tr>\n",
              "  </tbody>\n",
              "</table>\n",
              "<p>61 rows × 2 columns</p>\n",
              "</div>"
            ],
            "text/plain": [
              "0   expr  Therapy\n",
              "0   expr  Therapy\n",
              "1    100        A\n",
              "2     96        A\n",
              "3    101        A\n",
              "4     95        A\n",
              "..   ...      ...\n",
              "56    87        D\n",
              "57    93        D\n",
              "58    96        D\n",
              "59    92        D\n",
              "60    90        D\n",
              "\n",
              "[61 rows x 2 columns]"
            ]
          },
          "metadata": {
            "tags": []
          },
          "execution_count": 25
        }
      ]
    },
    {
      "cell_type": "code",
      "metadata": {
        "colab": {
          "base_uri": "https://localhost:8080/",
          "height": 1000
        },
        "id": "95omdd80x3Qs",
        "outputId": "f1521c9e-0f4c-4fa6-9014-57176bf82012"
      },
      "source": [
        "# Then we drop the 1st row using iloc\n",
        "# We will save the new dataset as df_cleaned and will use this dataset from the rest of the operations\n",
        "\n",
        "df_cleaned=df.iloc[pd.RangeIndex(len(df)).drop(0)]\n",
        "df_cleaned"
      ],
      "execution_count": 54,
      "outputs": [
        {
          "output_type": "execute_result",
          "data": {
            "text/html": [
              "<div>\n",
              "<style scoped>\n",
              "    .dataframe tbody tr th:only-of-type {\n",
              "        vertical-align: middle;\n",
              "    }\n",
              "\n",
              "    .dataframe tbody tr th {\n",
              "        vertical-align: top;\n",
              "    }\n",
              "\n",
              "    .dataframe thead th {\n",
              "        text-align: right;\n",
              "    }\n",
              "</style>\n",
              "<table border=\"1\" class=\"dataframe\">\n",
              "  <thead>\n",
              "    <tr style=\"text-align: right;\">\n",
              "      <th></th>\n",
              "      <th>expr</th>\n",
              "      <th>Therapy</th>\n",
              "    </tr>\n",
              "  </thead>\n",
              "  <tbody>\n",
              "    <tr>\n",
              "      <th>1</th>\n",
              "      <td>100.0</td>\n",
              "      <td>A</td>\n",
              "    </tr>\n",
              "    <tr>\n",
              "      <th>2</th>\n",
              "      <td>96.0</td>\n",
              "      <td>A</td>\n",
              "    </tr>\n",
              "    <tr>\n",
              "      <th>3</th>\n",
              "      <td>101.0</td>\n",
              "      <td>A</td>\n",
              "    </tr>\n",
              "    <tr>\n",
              "      <th>4</th>\n",
              "      <td>95.0</td>\n",
              "      <td>A</td>\n",
              "    </tr>\n",
              "    <tr>\n",
              "      <th>5</th>\n",
              "      <td>103.0</td>\n",
              "      <td>A</td>\n",
              "    </tr>\n",
              "    <tr>\n",
              "      <th>6</th>\n",
              "      <td>99.0</td>\n",
              "      <td>A</td>\n",
              "    </tr>\n",
              "    <tr>\n",
              "      <th>7</th>\n",
              "      <td>97.0</td>\n",
              "      <td>A</td>\n",
              "    </tr>\n",
              "    <tr>\n",
              "      <th>8</th>\n",
              "      <td>96.0</td>\n",
              "      <td>A</td>\n",
              "    </tr>\n",
              "    <tr>\n",
              "      <th>9</th>\n",
              "      <td>98.0</td>\n",
              "      <td>A</td>\n",
              "    </tr>\n",
              "    <tr>\n",
              "      <th>10</th>\n",
              "      <td>106.0</td>\n",
              "      <td>A</td>\n",
              "    </tr>\n",
              "    <tr>\n",
              "      <th>11</th>\n",
              "      <td>106.0</td>\n",
              "      <td>A</td>\n",
              "    </tr>\n",
              "    <tr>\n",
              "      <th>12</th>\n",
              "      <td>104.0</td>\n",
              "      <td>A</td>\n",
              "    </tr>\n",
              "    <tr>\n",
              "      <th>13</th>\n",
              "      <td>95.0</td>\n",
              "      <td>A</td>\n",
              "    </tr>\n",
              "    <tr>\n",
              "      <th>14</th>\n",
              "      <td>95.0</td>\n",
              "      <td>A</td>\n",
              "    </tr>\n",
              "    <tr>\n",
              "      <th>15</th>\n",
              "      <td>105.0</td>\n",
              "      <td>A</td>\n",
              "    </tr>\n",
              "    <tr>\n",
              "      <th>16</th>\n",
              "      <td>100.0</td>\n",
              "      <td>B</td>\n",
              "    </tr>\n",
              "    <tr>\n",
              "      <th>17</th>\n",
              "      <td>100.0</td>\n",
              "      <td>B</td>\n",
              "    </tr>\n",
              "    <tr>\n",
              "      <th>18</th>\n",
              "      <td>95.0</td>\n",
              "      <td>B</td>\n",
              "    </tr>\n",
              "    <tr>\n",
              "      <th>19</th>\n",
              "      <td>84.0</td>\n",
              "      <td>B</td>\n",
              "    </tr>\n",
              "    <tr>\n",
              "      <th>20</th>\n",
              "      <td>101.0</td>\n",
              "      <td>B</td>\n",
              "    </tr>\n",
              "    <tr>\n",
              "      <th>21</th>\n",
              "      <td>101.0</td>\n",
              "      <td>B</td>\n",
              "    </tr>\n",
              "    <tr>\n",
              "      <th>22</th>\n",
              "      <td>95.0</td>\n",
              "      <td>B</td>\n",
              "    </tr>\n",
              "    <tr>\n",
              "      <th>23</th>\n",
              "      <td>106.0</td>\n",
              "      <td>B</td>\n",
              "    </tr>\n",
              "    <tr>\n",
              "      <th>24</th>\n",
              "      <td>105.0</td>\n",
              "      <td>B</td>\n",
              "    </tr>\n",
              "    <tr>\n",
              "      <th>25</th>\n",
              "      <td>97.0</td>\n",
              "      <td>B</td>\n",
              "    </tr>\n",
              "    <tr>\n",
              "      <th>26</th>\n",
              "      <td>103.0</td>\n",
              "      <td>B</td>\n",
              "    </tr>\n",
              "    <tr>\n",
              "      <th>27</th>\n",
              "      <td>94.0</td>\n",
              "      <td>B</td>\n",
              "    </tr>\n",
              "    <tr>\n",
              "      <th>28</th>\n",
              "      <td>94.0</td>\n",
              "      <td>B</td>\n",
              "    </tr>\n",
              "    <tr>\n",
              "      <th>29</th>\n",
              "      <td>100.0</td>\n",
              "      <td>B</td>\n",
              "    </tr>\n",
              "    <tr>\n",
              "      <th>30</th>\n",
              "      <td>107.0</td>\n",
              "      <td>B</td>\n",
              "    </tr>\n",
              "    <tr>\n",
              "      <th>31</th>\n",
              "      <td>91.0</td>\n",
              "      <td>C</td>\n",
              "    </tr>\n",
              "    <tr>\n",
              "      <th>32</th>\n",
              "      <td>96.0</td>\n",
              "      <td>C</td>\n",
              "    </tr>\n",
              "    <tr>\n",
              "      <th>33</th>\n",
              "      <td>94.0</td>\n",
              "      <td>C</td>\n",
              "    </tr>\n",
              "    <tr>\n",
              "      <th>34</th>\n",
              "      <td>96.0</td>\n",
              "      <td>C</td>\n",
              "    </tr>\n",
              "    <tr>\n",
              "      <th>35</th>\n",
              "      <td>91.0</td>\n",
              "      <td>C</td>\n",
              "    </tr>\n",
              "    <tr>\n",
              "      <th>36</th>\n",
              "      <td>85.0</td>\n",
              "      <td>C</td>\n",
              "    </tr>\n",
              "    <tr>\n",
              "      <th>37</th>\n",
              "      <td>98.0</td>\n",
              "      <td>C</td>\n",
              "    </tr>\n",
              "    <tr>\n",
              "      <th>38</th>\n",
              "      <td>93.0</td>\n",
              "      <td>C</td>\n",
              "    </tr>\n",
              "    <tr>\n",
              "      <th>39</th>\n",
              "      <td>100.0</td>\n",
              "      <td>C</td>\n",
              "    </tr>\n",
              "    <tr>\n",
              "      <th>40</th>\n",
              "      <td>85.0</td>\n",
              "      <td>C</td>\n",
              "    </tr>\n",
              "    <tr>\n",
              "      <th>41</th>\n",
              "      <td>101.0</td>\n",
              "      <td>C</td>\n",
              "    </tr>\n",
              "    <tr>\n",
              "      <th>42</th>\n",
              "      <td>101.0</td>\n",
              "      <td>C</td>\n",
              "    </tr>\n",
              "    <tr>\n",
              "      <th>43</th>\n",
              "      <td>90.0</td>\n",
              "      <td>C</td>\n",
              "    </tr>\n",
              "    <tr>\n",
              "      <th>44</th>\n",
              "      <td>98.0</td>\n",
              "      <td>C</td>\n",
              "    </tr>\n",
              "    <tr>\n",
              "      <th>45</th>\n",
              "      <td>97.0</td>\n",
              "      <td>C</td>\n",
              "    </tr>\n",
              "    <tr>\n",
              "      <th>46</th>\n",
              "      <td>92.0</td>\n",
              "      <td>D</td>\n",
              "    </tr>\n",
              "    <tr>\n",
              "      <th>47</th>\n",
              "      <td>85.0</td>\n",
              "      <td>D</td>\n",
              "    </tr>\n",
              "    <tr>\n",
              "      <th>48</th>\n",
              "      <td>95.0</td>\n",
              "      <td>D</td>\n",
              "    </tr>\n",
              "    <tr>\n",
              "      <th>49</th>\n",
              "      <td>89.0</td>\n",
              "      <td>D</td>\n",
              "    </tr>\n",
              "    <tr>\n",
              "      <th>50</th>\n",
              "      <td>91.0</td>\n",
              "      <td>D</td>\n",
              "    </tr>\n",
              "    <tr>\n",
              "      <th>51</th>\n",
              "      <td>91.0</td>\n",
              "      <td>D</td>\n",
              "    </tr>\n",
              "    <tr>\n",
              "      <th>52</th>\n",
              "      <td>99.0</td>\n",
              "      <td>D</td>\n",
              "    </tr>\n",
              "    <tr>\n",
              "      <th>53</th>\n",
              "      <td>94.0</td>\n",
              "      <td>D</td>\n",
              "    </tr>\n",
              "    <tr>\n",
              "      <th>54</th>\n",
              "      <td>97.0</td>\n",
              "      <td>D</td>\n",
              "    </tr>\n",
              "    <tr>\n",
              "      <th>55</th>\n",
              "      <td>94.0</td>\n",
              "      <td>D</td>\n",
              "    </tr>\n",
              "    <tr>\n",
              "      <th>56</th>\n",
              "      <td>87.0</td>\n",
              "      <td>D</td>\n",
              "    </tr>\n",
              "    <tr>\n",
              "      <th>57</th>\n",
              "      <td>93.0</td>\n",
              "      <td>D</td>\n",
              "    </tr>\n",
              "    <tr>\n",
              "      <th>58</th>\n",
              "      <td>96.0</td>\n",
              "      <td>D</td>\n",
              "    </tr>\n",
              "    <tr>\n",
              "      <th>59</th>\n",
              "      <td>92.0</td>\n",
              "      <td>D</td>\n",
              "    </tr>\n",
              "    <tr>\n",
              "      <th>60</th>\n",
              "      <td>90.0</td>\n",
              "      <td>D</td>\n",
              "    </tr>\n",
              "  </tbody>\n",
              "</table>\n",
              "</div>"
            ],
            "text/plain": [
              "0    expr Therapy\n",
              "1   100.0       A\n",
              "2    96.0       A\n",
              "3   101.0       A\n",
              "4    95.0       A\n",
              "5   103.0       A\n",
              "6    99.0       A\n",
              "7    97.0       A\n",
              "8    96.0       A\n",
              "9    98.0       A\n",
              "10  106.0       A\n",
              "11  106.0       A\n",
              "12  104.0       A\n",
              "13   95.0       A\n",
              "14   95.0       A\n",
              "15  105.0       A\n",
              "16  100.0       B\n",
              "17  100.0       B\n",
              "18   95.0       B\n",
              "19   84.0       B\n",
              "20  101.0       B\n",
              "21  101.0       B\n",
              "22   95.0       B\n",
              "23  106.0       B\n",
              "24  105.0       B\n",
              "25   97.0       B\n",
              "26  103.0       B\n",
              "27   94.0       B\n",
              "28   94.0       B\n",
              "29  100.0       B\n",
              "30  107.0       B\n",
              "31   91.0       C\n",
              "32   96.0       C\n",
              "33   94.0       C\n",
              "34   96.0       C\n",
              "35   91.0       C\n",
              "36   85.0       C\n",
              "37   98.0       C\n",
              "38   93.0       C\n",
              "39  100.0       C\n",
              "40   85.0       C\n",
              "41  101.0       C\n",
              "42  101.0       C\n",
              "43   90.0       C\n",
              "44   98.0       C\n",
              "45   97.0       C\n",
              "46   92.0       D\n",
              "47   85.0       D\n",
              "48   95.0       D\n",
              "49   89.0       D\n",
              "50   91.0       D\n",
              "51   91.0       D\n",
              "52   99.0       D\n",
              "53   94.0       D\n",
              "54   97.0       D\n",
              "55   94.0       D\n",
              "56   87.0       D\n",
              "57   93.0       D\n",
              "58   96.0       D\n",
              "59   92.0       D\n",
              "60   90.0       D"
            ]
          },
          "metadata": {
            "tags": []
          },
          "execution_count": 54
        }
      ]
    },
    {
      "cell_type": "code",
      "metadata": {
        "colab": {
          "base_uri": "https://localhost:8080/"
        },
        "id": "rQVDzYP5xV9_",
        "outputId": "4cf51ebd-2ecb-4e8c-978b-cc13663a530e"
      },
      "source": [
        "df_cleaned.columns"
      ],
      "execution_count": 55,
      "outputs": [
        {
          "output_type": "execute_result",
          "data": {
            "text/plain": [
              "Index(['expr', 'Therapy'], dtype='object', name=0)"
            ]
          },
          "metadata": {
            "tags": []
          },
          "execution_count": 55
        }
      ]
    },
    {
      "cell_type": "code",
      "metadata": {
        "colab": {
          "base_uri": "https://localhost:8080/"
        },
        "id": "lZjKcijItNk5",
        "outputId": "a998b174-2336-4dfc-8da8-3dcabf6b632d"
      },
      "source": [
        "df_cleaned.head"
      ],
      "execution_count": 56,
      "outputs": [
        {
          "output_type": "execute_result",
          "data": {
            "text/plain": [
              "<bound method NDFrame.head of 0    expr Therapy\n",
              "1   100.0       A\n",
              "2    96.0       A\n",
              "3   101.0       A\n",
              "4    95.0       A\n",
              "5   103.0       A\n",
              "6    99.0       A\n",
              "7    97.0       A\n",
              "8    96.0       A\n",
              "9    98.0       A\n",
              "10  106.0       A\n",
              "11  106.0       A\n",
              "12  104.0       A\n",
              "13   95.0       A\n",
              "14   95.0       A\n",
              "15  105.0       A\n",
              "16  100.0       B\n",
              "17  100.0       B\n",
              "18   95.0       B\n",
              "19   84.0       B\n",
              "20  101.0       B\n",
              "21  101.0       B\n",
              "22   95.0       B\n",
              "23  106.0       B\n",
              "24  105.0       B\n",
              "25   97.0       B\n",
              "26  103.0       B\n",
              "27   94.0       B\n",
              "28   94.0       B\n",
              "29  100.0       B\n",
              "30  107.0       B\n",
              "31   91.0       C\n",
              "32   96.0       C\n",
              "33   94.0       C\n",
              "34   96.0       C\n",
              "35   91.0       C\n",
              "36   85.0       C\n",
              "37   98.0       C\n",
              "38   93.0       C\n",
              "39  100.0       C\n",
              "40   85.0       C\n",
              "41  101.0       C\n",
              "42  101.0       C\n",
              "43   90.0       C\n",
              "44   98.0       C\n",
              "45   97.0       C\n",
              "46   92.0       D\n",
              "47   85.0       D\n",
              "48   95.0       D\n",
              "49   89.0       D\n",
              "50   91.0       D\n",
              "51   91.0       D\n",
              "52   99.0       D\n",
              "53   94.0       D\n",
              "54   97.0       D\n",
              "55   94.0       D\n",
              "56   87.0       D\n",
              "57   93.0       D\n",
              "58   96.0       D\n",
              "59   92.0       D\n",
              "60   90.0       D>"
            ]
          },
          "metadata": {
            "tags": []
          },
          "execution_count": 56
        }
      ]
    },
    {
      "cell_type": "code",
      "metadata": {
        "colab": {
          "base_uri": "https://localhost:8080/"
        },
        "id": "hyQhl0M5sICs",
        "outputId": "b5305fc5-771c-4446-8e73-0f4f7c44c2b9"
      },
      "source": [
        "df_cleaned.shape"
      ],
      "execution_count": 57,
      "outputs": [
        {
          "output_type": "execute_result",
          "data": {
            "text/plain": [
              "(60, 2)"
            ]
          },
          "metadata": {
            "tags": []
          },
          "execution_count": 57
        }
      ]
    },
    {
      "cell_type": "code",
      "metadata": {
        "colab": {
          "base_uri": "https://localhost:8080/"
        },
        "id": "iHC63heuyNUR",
        "outputId": "0584454b-2333-43df-88e5-1f8e32fe3875"
      },
      "source": [
        "# We convert the 'expr' column to numeric:\n",
        "\n",
        "df_cleaned.expr = pd.to_numeric(df_cleaned['expr'],errors='coerce')"
      ],
      "execution_count": 59,
      "outputs": [
        {
          "output_type": "stream",
          "text": [
            "/usr/local/lib/python3.7/dist-packages/pandas/core/generic.py:5170: SettingWithCopyWarning: \n",
            "A value is trying to be set on a copy of a slice from a DataFrame.\n",
            "Try using .loc[row_indexer,col_indexer] = value instead\n",
            "\n",
            "See the caveats in the documentation: https://pandas.pydata.org/pandas-docs/stable/user_guide/indexing.html#returning-a-view-versus-a-copy\n",
            "  self[name] = value\n"
          ],
          "name": "stderr"
        }
      ]
    },
    {
      "cell_type": "markdown",
      "metadata": {
        "id": "w9LCq_d8s2Af"
      },
      "source": [
        "# EDA (exploratory data anaylis)"
      ]
    },
    {
      "cell_type": "code",
      "metadata": {
        "colab": {
          "base_uri": "https://localhost:8080/",
          "height": 557
        },
        "id": "1Wixe5CvvaNf",
        "outputId": "fbd23aa3-4e03-426f-c539-3f7dee623ec9"
      },
      "source": [
        "# 4. Do EDA (exploratory data analysis) to see the data\n",
        "\n",
        "# Let's explore data looking at boxplot\n",
        "\n",
        "df_cleaned.boxplot('expr', by='Therapy', figsize=(12,8), grid=True)"
      ],
      "execution_count": 60,
      "outputs": [
        {
          "output_type": "execute_result",
          "data": {
            "text/plain": [
              "<matplotlib.axes._subplots.AxesSubplot at 0x7f10b520f650>"
            ]
          },
          "metadata": {
            "tags": []
          },
          "execution_count": 60
        },
        {
          "output_type": "display_data",
          "data": {
            "image/png": "[encoded data removed]",
            "text/plain": [
              "<Figure size 864x576 with 1 Axes>"
            ]
          },
          "metadata": {
            "tags": [],
            "needs_background": "light"
          }
        }
      ]
    },
    {
      "cell_type": "code",
      "metadata": {
        "colab": {
          "base_uri": "https://localhost:8080/",
          "height": 214
        },
        "id": "ZTnK18_fsQFU",
        "outputId": "fc423d2e-41f2-4aa7-fea2-e456793a0184"
      },
      "source": [
        "# another view is via pairplot\n",
        "\n",
        "import seaborn as sns\n",
        "\n",
        "sns.pairplot(df_cleaned, y_vars=\"expr\", x_vars=[\"Therapy\"])"
      ],
      "execution_count": 61,
      "outputs": [
        {
          "output_type": "execute_result",
          "data": {
            "text/plain": [
              "<seaborn.axisgrid.PairGrid at 0x7f10b5127e10>"
            ]
          },
          "metadata": {
            "tags": []
          },
          "execution_count": 61
        },
        {
          "output_type": "display_data",
          "data": {
            "image/png": "[encoded data removed]",
            "text/plain": [
              "<Figure size 180x180 with 1 Axes>"
            ]
          },
          "metadata": {
            "tags": [],
            "needs_background": "light"
          }
        }
      ]
    },
    {
      "cell_type": "markdown",
      "metadata": {
        "id": "qokhpfENs_Un"
      },
      "source": [
        "# Find F and P"
      ]
    },
    {
      "cell_type": "code",
      "metadata": {
        "colab": {
          "base_uri": "https://localhost:8080/"
        },
        "id": "-LALWfTKtm2n",
        "outputId": "09ff345f-a636-49b0-a885-479262ee438a"
      },
      "source": [
        "# 5. Find F and P\n",
        "\n",
        "# Having P < 0.005 and F a bit over 8, tells us that there is statistical significance between these groups\n",
        "# H-zero is not supported by these values of P and F\n",
        "\n",
        "A = df_cleaned[df_cleaned[\"Therapy\"] == \"A\"][\"expr\"]\n",
        "B = df_cleaned[df_cleaned[\"Therapy\"] == \"B\"][\"expr\"]\n",
        "C = df_cleaned[df_cleaned[\"Therapy\"] == \"C\"][\"expr\"]\n",
        "D = df_cleaned[df_cleaned[\"Therapy\"] == \"D\"][\"expr\"]\n",
        "stats.f_oneway(A, B, C, D)"
      ],
      "execution_count": 62,
      "outputs": [
        {
          "output_type": "execute_result",
          "data": {
            "text/plain": [
              "F_onewayResult(statistic=8.03730248114399, pvalue=0.00015249722895229536)"
            ]
          },
          "metadata": {
            "tags": []
          },
          "execution_count": 62
        }
      ]
    },
    {
      "cell_type": "code",
      "metadata": {
        "colab": {
          "base_uri": "https://localhost:8080/"
        },
        "id": "bXT6WFEk0EQE",
        "outputId": "a5d1af63-82f0-4248-9112-a45f87a11296"
      },
      "source": [
        "# We can also get F and P values, plus the sum_sq, mean_sq and df using anova\n",
        "# source https://www.statsmodels.org/devel/generated/statsmodels.stats.anova.anova_lm.html\n",
        "\n",
        "# import these libraires\n",
        "import statsmodels.api as sm\n",
        "from statsmodels.formula.api import ols\n",
        "\n",
        "expr_lm = ols('expr ~ Therapy',data=df_cleaned).fit()\n",
        "table = sm.stats.anova_lm(expr_lm, type=2) # Type 2 Anova DataFrame\n",
        "print(table)\n",
        "\n",
        "# sum_sq for Thearpy is SSB (=total sum of squares between groups)\n",
        "# mean_sq for Therapy is SSB/df\n",
        "# df for Therapy is degrees of freedom between groups \n",
        "# sum_sq for Residual is SSW (=total sum of squares within groups)\n",
        "# mean_sq for Residual is SSW/df\n",
        "# df for Residual is degrees of freedom within groups"
      ],
      "execution_count": 66,
      "outputs": [
        {
          "output_type": "stream",
          "text": [
            "            df       sum_sq     mean_sq         F    PR(>F)\n",
            "Therapy    3.0   560.716667  186.905556  8.037302  0.000152\n",
            "Residual  56.0  1302.266667   23.254762       NaN       NaN\n"
          ],
          "name": "stdout"
        }
      ]
    },
    {
      "cell_type": "code",
      "metadata": {
        "id": "wd0awVb211cZ"
      },
      "source": [
        "# 6. Conclusion\n",
        "\n",
        "# If H-zero is TRUE then F has to be very small, close to 0 and P > 0.005\n",
        "# In our case F is 8.037 and P < 0.005\n",
        "# This allows us to say that H-zero is not True and there is statistical significance between these 4 groups"
      ],
      "execution_count": 39,
      "outputs": []
    }
  ]
}
