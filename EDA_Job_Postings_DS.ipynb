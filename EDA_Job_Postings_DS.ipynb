{
  "nbformat": 4,
  "nbformat_minor": 0,
  "metadata": {
    "colab": {
      "name": "EDA_Job_Postings_DS.ipynb",
      "provenance": [],
      "collapsed_sections": [],
      "authorship_tag": "ABX9TyNDWJU2A9dHOTR9TZdiyMbH",
      "include_colab_link": true
    },
    "kernelspec": {
      "name": "python3",
      "display_name": "Python 3"
    },
    "language_info": {
      "name": "python"
    }
  },
  "cells": [
    {
      "cell_type": "markdown",
      "metadata": {
        "id": "view-in-github",
        "colab_type": "text"
      },
      "source": [
        "<a href=\"https://colab.research.google.com/github/MashaKubyshina/Learning_to_code/blob/master/EDA_Job_Postings_DS.ipynb\" target=\"_parent\"><img src=\"https://colab.research.google.com/assets/colab-badge.svg\" alt=\"Open In Colab\"/></a>"
      ]
    },
    {
      "cell_type": "code",
      "metadata": {
        "colab": {
          "base_uri": "https://localhost:8080/"
        },
        "id": "XPESfseFWygM",
        "outputId": "fe888d62-5003-45d2-a6d3-695732cf0939"
      },
      "source": [
        "# The EDA is done following this path https://towardsdatascience.com/text-classification-in-python-dd95d264c802\n",
        "# To install it, please type this command in the shell(terminal): ! conda install -c conda-forge altair vega_datasets notebook vega"
      ],
      "execution_count": null,
      "outputs": [
        {
          "output_type": "stream",
          "text": [
            "/bin/bash: conda: command not found\n"
          ],
          "name": "stdout"
        }
      ]
    },
    {
      "cell_type": "code",
      "metadata": {
        "id": "MgbrdldsWHoy"
      },
      "source": [
        "import pandas as pd\n",
        "import matplotlib.pyplot as plt\n",
        "import pickle\n",
        "import seaborn as sns\n",
        "sns.set_style(\"whitegrid\")\n",
        "import altair as alt\n",
        "#alt.renderers.enable(\"notebook\")\n",
        "\n",
        "# Code for hiding seaborn warnings\n",
        "import warnings\n",
        "warnings.filterwarnings(\"ignore\")"
      ],
      "execution_count": null,
      "outputs": []
    },
    {
      "cell_type": "code",
      "metadata": {
        "id": "oatpv58BXAQA"
      },
      "source": [
        "# Exploratory Data Analysis on the dataset\n",
        "\n",
        "# For further information please visit the project site: https://altair-viz.github.io/"
      ],
      "execution_count": null,
      "outputs": []
    },
    {
      "cell_type": "code",
      "metadata": {
        "colab": {
          "base_uri": "https://localhost:8080/",
          "height": 906
        },
        "id": "mmE_whZJTeHY",
        "outputId": "a86e2dc2-92af-4778-d232-ff905c1a124f"
      },
      "source": [
        "# Open the dataset from https://data.world/jobspikr/10000-data-scientist-job-postings-from-the-usa\n",
        "\n",
        "import pandas as pd\n",
        "df = pd.read_csv('https://query.data.world/s/hpv4ejstsxjszdo2eathrfgjhzqlqy')\n",
        "df.head(10)"
      ],
      "execution_count": null,
      "outputs": [
        {
          "output_type": "execute_result",
          "data": {
            "text/html": [
              "<div>\n",
              "<style scoped>\n",
              "    .dataframe tbody tr th:only-of-type {\n",
              "        vertical-align: middle;\n",
              "    }\n",
              "\n",
              "    .dataframe tbody tr th {\n",
              "        vertical-align: top;\n",
              "    }\n",
              "\n",
              "    .dataframe thead th {\n",
              "        text-align: right;\n",
              "    }\n",
              "</style>\n",
              "<table border=\"1\" class=\"dataframe\">\n",
              "  <thead>\n",
              "    <tr style=\"text-align: right;\">\n",
              "      <th></th>\n",
              "      <th>crawl_timestamp</th>\n",
              "      <th>url</th>\n",
              "      <th>job_title</th>\n",
              "      <th>category</th>\n",
              "      <th>company_name</th>\n",
              "      <th>city</th>\n",
              "      <th>state</th>\n",
              "      <th>country</th>\n",
              "      <th>inferred_city</th>\n",
              "      <th>inferred_state</th>\n",
              "      <th>inferred_country</th>\n",
              "      <th>post_date</th>\n",
              "      <th>job_description</th>\n",
              "      <th>job_type</th>\n",
              "      <th>salary_offered</th>\n",
              "      <th>job_board</th>\n",
              "      <th>geo</th>\n",
              "      <th>cursor</th>\n",
              "      <th>contact_email</th>\n",
              "      <th>contact_phone_number</th>\n",
              "      <th>uniq_id</th>\n",
              "      <th>html_job_description</th>\n",
              "    </tr>\n",
              "  </thead>\n",
              "  <tbody>\n",
              "    <tr>\n",
              "      <th>0</th>\n",
              "      <td>2019-02-06 05:26:22 +0000</td>\n",
              "      <td>https://www.indeed.com/viewjob?jk=fd83355c2b23...</td>\n",
              "      <td>Enterprise Data Scientist I</td>\n",
              "      <td>Accounting/Finance</td>\n",
              "      <td>Farmers Insurance Group</td>\n",
              "      <td>Woodland Hills</td>\n",
              "      <td>CA</td>\n",
              "      <td>Usa</td>\n",
              "      <td>Woodland hills</td>\n",
              "      <td>California</td>\n",
              "      <td>Usa</td>\n",
              "      <td>2019-02-06</td>\n",
              "      <td>Read what people are saying about working here...</td>\n",
              "      <td>Undefined</td>\n",
              "      <td>NaN</td>\n",
              "      <td>indeed</td>\n",
              "      <td>usa</td>\n",
              "      <td>1549432819114777</td>\n",
              "      <td>NaN</td>\n",
              "      <td>NaN</td>\n",
              "      <td>3b6c6acfcba6135a31c83bd7ea493b18</td>\n",
              "      <td>NaN</td>\n",
              "    </tr>\n",
              "    <tr>\n",
              "      <th>1</th>\n",
              "      <td>2019-02-06 05:33:41 +0000</td>\n",
              "      <td>https://www.dice.com/jobs/detail/Data-Scientis...</td>\n",
              "      <td>Data Scientist</td>\n",
              "      <td>NaN</td>\n",
              "      <td>Luxoft USA Inc</td>\n",
              "      <td>Middletown</td>\n",
              "      <td>NJ</td>\n",
              "      <td>Usa</td>\n",
              "      <td>Middletown</td>\n",
              "      <td>New jersey</td>\n",
              "      <td>Usa</td>\n",
              "      <td>2019-02-05</td>\n",
              "      <td>We have an immediate opening for a Sharp Data ...</td>\n",
              "      <td>Undefined</td>\n",
              "      <td>NaN</td>\n",
              "      <td>dice</td>\n",
              "      <td>usa</td>\n",
              "      <td>1549432819122106</td>\n",
              "      <td>NaN</td>\n",
              "      <td>NaN</td>\n",
              "      <td>741727428839ae7ada852eebef29b0fe</td>\n",
              "      <td>NaN</td>\n",
              "    </tr>\n",
              "    <tr>\n",
              "      <th>2</th>\n",
              "      <td>2019-02-06 05:33:35 +0000</td>\n",
              "      <td>https://www.dice.com/jobs/detail/Data-Scientis...</td>\n",
              "      <td>Data Scientist</td>\n",
              "      <td>NaN</td>\n",
              "      <td>Cincinnati Bell Technology Solutions</td>\n",
              "      <td>New York</td>\n",
              "      <td>NY</td>\n",
              "      <td>Usa</td>\n",
              "      <td>New york</td>\n",
              "      <td>New york</td>\n",
              "      <td>Usa</td>\n",
              "      <td>2019-02-05</td>\n",
              "      <td>Candidates should have the following backgroun...</td>\n",
              "      <td>Full Time</td>\n",
              "      <td>NaN</td>\n",
              "      <td>dice</td>\n",
              "      <td>usa</td>\n",
              "      <td>1549432819236156</td>\n",
              "      <td>NaN</td>\n",
              "      <td>NaN</td>\n",
              "      <td>cdc9ef9a1de327ccdc19cc0d07dbbb37</td>\n",
              "      <td>NaN</td>\n",
              "    </tr>\n",
              "    <tr>\n",
              "      <th>3</th>\n",
              "      <td>2019-02-06 05:33:42 +0000</td>\n",
              "      <td>https://www.indeed.com/viewjob?jk=841edd86ead2...</td>\n",
              "      <td>Data Scientist, Aladdin Wealth Tech, Associate...</td>\n",
              "      <td>Accounting/Finance</td>\n",
              "      <td>BlackRock</td>\n",
              "      <td>New York</td>\n",
              "      <td>NY 10055 (Midtown area)</td>\n",
              "      <td>Usa</td>\n",
              "      <td>New york</td>\n",
              "      <td>New york</td>\n",
              "      <td>Usa</td>\n",
              "      <td>2019-02-06</td>\n",
              "      <td>Read what people are saying about working here...</td>\n",
              "      <td>Undefined</td>\n",
              "      <td>NaN</td>\n",
              "      <td>indeed</td>\n",
              "      <td>usa</td>\n",
              "      <td>1549432819259473</td>\n",
              "      <td>NaN</td>\n",
              "      <td>NaN</td>\n",
              "      <td>1c8541cd2c2c924f9391c7d3f526f64e</td>\n",
              "      <td>NaN</td>\n",
              "    </tr>\n",
              "    <tr>\n",
              "      <th>4</th>\n",
              "      <td>2019-02-06 05:48:23 +0000</td>\n",
              "      <td>https://job-openings.monster.com/senior-data-s...</td>\n",
              "      <td>Senior Data Scientist</td>\n",
              "      <td>biotech</td>\n",
              "      <td>CyberCoders</td>\n",
              "      <td>Charlotte</td>\n",
              "      <td>NC</td>\n",
              "      <td>Usa</td>\n",
              "      <td>Charlotte</td>\n",
              "      <td>North carolina</td>\n",
              "      <td>Usa</td>\n",
              "      <td>2019-02-05</td>\n",
              "      <td>We are seeking an extraordinary Data Scientist...</td>\n",
              "      <td>Full Time</td>\n",
              "      <td>NaN</td>\n",
              "      <td>monster</td>\n",
              "      <td>usa</td>\n",
              "      <td>1549436429015957</td>\n",
              "      <td>NaN</td>\n",
              "      <td>NaN</td>\n",
              "      <td>445652a560a5441060857853cf267470</td>\n",
              "      <td>NaN</td>\n",
              "    </tr>\n",
              "    <tr>\n",
              "      <th>5</th>\n",
              "      <td>2019-02-06 05:36:06 +0000</td>\n",
              "      <td>https://www.indeed.com/viewjob?jk=14fa3772cd5f...</td>\n",
              "      <td>CIB – Fixed Income Research – Machine Learning...</td>\n",
              "      <td>Accounting/Finance</td>\n",
              "      <td>JP Morgan Chase</td>\n",
              "      <td>New York</td>\n",
              "      <td>NY 10179 (Midtown area)</td>\n",
              "      <td>Usa</td>\n",
              "      <td>New york</td>\n",
              "      <td>New york</td>\n",
              "      <td>Usa</td>\n",
              "      <td>2019-02-05</td>\n",
              "      <td>Read what people are saying about working here...</td>\n",
              "      <td>Undefined</td>\n",
              "      <td>NaN</td>\n",
              "      <td>indeed</td>\n",
              "      <td>usa</td>\n",
              "      <td>1549436429033307</td>\n",
              "      <td>NaN</td>\n",
              "      <td>NaN</td>\n",
              "      <td>9571ec617ba209fd9a4f842973a4e9c8</td>\n",
              "      <td>NaN</td>\n",
              "    </tr>\n",
              "    <tr>\n",
              "      <th>6</th>\n",
              "      <td>2019-02-06 05:34:37 +0000</td>\n",
              "      <td>https://www.indeed.com/viewjob?jk=c6db96b37f8a...</td>\n",
              "      <td>Data Scientist, Licensing Operations</td>\n",
              "      <td>Accounting/Finance</td>\n",
              "      <td>Spotify</td>\n",
              "      <td>New York</td>\n",
              "      <td>NY 10011 (Chelsea area)</td>\n",
              "      <td>Usa</td>\n",
              "      <td>New york</td>\n",
              "      <td>New york</td>\n",
              "      <td>Usa</td>\n",
              "      <td>2019-02-06</td>\n",
              "      <td>Read what people are saying about working here...</td>\n",
              "      <td>Undefined</td>\n",
              "      <td>NaN</td>\n",
              "      <td>indeed</td>\n",
              "      <td>usa</td>\n",
              "      <td>1549436429042348</td>\n",
              "      <td>NaN</td>\n",
              "      <td>NaN</td>\n",
              "      <td>0ec629c03f3e82651711f2626c23cadb</td>\n",
              "      <td>NaN</td>\n",
              "    </tr>\n",
              "    <tr>\n",
              "      <th>7</th>\n",
              "      <td>2019-02-06 05:52:12 +0000</td>\n",
              "      <td>https://www.dice.com/jobs/detail/Sr.-Data-Scie...</td>\n",
              "      <td>Sr. Data Scientist (Can work on Xoriant W2)</td>\n",
              "      <td>NaN</td>\n",
              "      <td>Xoriant Corporation</td>\n",
              "      <td>Santa Clara</td>\n",
              "      <td>CA</td>\n",
              "      <td>Usa</td>\n",
              "      <td>Santa clara</td>\n",
              "      <td>California</td>\n",
              "      <td>Usa</td>\n",
              "      <td>2019-02-06</td>\n",
              "      <td>Job Title: - Sr. Data Science Consultant Durat...</td>\n",
              "      <td>Contract</td>\n",
              "      <td>NaN</td>\n",
              "      <td>dice</td>\n",
              "      <td>usa</td>\n",
              "      <td>1549436429042523</td>\n",
              "      <td>NaN</td>\n",
              "      <td>NaN</td>\n",
              "      <td>972e897473d65f34b8e7f1c1b4c74b1c</td>\n",
              "      <td>NaN</td>\n",
              "    </tr>\n",
              "    <tr>\n",
              "      <th>8</th>\n",
              "      <td>2019-02-06 05:34:18 +0000</td>\n",
              "      <td>https://www.indeed.com/viewjob?jk=0fc298b9f3a8...</td>\n",
              "      <td>Data Scientist, Aladdin Wealth Tech, Associate</td>\n",
              "      <td>Accounting/Finance</td>\n",
              "      <td>BlackRock</td>\n",
              "      <td>New York</td>\n",
              "      <td>NY 10055 (Midtown area)</td>\n",
              "      <td>Usa</td>\n",
              "      <td>New york</td>\n",
              "      <td>New york</td>\n",
              "      <td>Usa</td>\n",
              "      <td>2019-02-06</td>\n",
              "      <td>Read what people are saying about working here...</td>\n",
              "      <td>Undefined</td>\n",
              "      <td>NaN</td>\n",
              "      <td>indeed</td>\n",
              "      <td>usa</td>\n",
              "      <td>1549436429066810</td>\n",
              "      <td>NaN</td>\n",
              "      <td>NaN</td>\n",
              "      <td>80d64b46bc7c89602f63daf06b9f1b4c</td>\n",
              "      <td>NaN</td>\n",
              "    </tr>\n",
              "    <tr>\n",
              "      <th>9</th>\n",
              "      <td>2019-02-06 06:03:55 +0000</td>\n",
              "      <td>https://www.dice.com/jobs/detail/Data-Scientis...</td>\n",
              "      <td>Data Scientist</td>\n",
              "      <td>NaN</td>\n",
              "      <td>Adroit Resources</td>\n",
              "      <td>San Francisco</td>\n",
              "      <td>CA</td>\n",
              "      <td>Usa</td>\n",
              "      <td>San francisco</td>\n",
              "      <td>California</td>\n",
              "      <td>Usa</td>\n",
              "      <td>2019-02-05</td>\n",
              "      <td>• 3+ years related a professional experience  ...</td>\n",
              "      <td>Contract</td>\n",
              "      <td>NaN</td>\n",
              "      <td>dice</td>\n",
              "      <td>usa</td>\n",
              "      <td>1549436429884667</td>\n",
              "      <td>NaN</td>\n",
              "      <td>NaN</td>\n",
              "      <td>b772c6ef8ee7631895ab9a59b5e8b2c1</td>\n",
              "      <td>NaN</td>\n",
              "    </tr>\n",
              "  </tbody>\n",
              "</table>\n",
              "</div>"
            ],
            "text/plain": [
              "             crawl_timestamp  ... html_job_description\n",
              "0  2019-02-06 05:26:22 +0000  ...                  NaN\n",
              "1  2019-02-06 05:33:41 +0000  ...                  NaN\n",
              "2  2019-02-06 05:33:35 +0000  ...                  NaN\n",
              "3  2019-02-06 05:33:42 +0000  ...                  NaN\n",
              "4  2019-02-06 05:48:23 +0000  ...                  NaN\n",
              "5  2019-02-06 05:36:06 +0000  ...                  NaN\n",
              "6  2019-02-06 05:34:37 +0000  ...                  NaN\n",
              "7  2019-02-06 05:52:12 +0000  ...                  NaN\n",
              "8  2019-02-06 05:34:18 +0000  ...                  NaN\n",
              "9  2019-02-06 06:03:55 +0000  ...                  NaN\n",
              "\n",
              "[10 rows x 22 columns]"
            ]
          },
          "metadata": {
            "tags": []
          },
          "execution_count": 42
        }
      ]
    },
    {
      "cell_type": "code",
      "metadata": {
        "colab": {
          "base_uri": "https://localhost:8080/"
        },
        "id": "ARh9otdSYKd6",
        "outputId": "92cac8c1-38c7-48f5-feef-b0c18fa4e68d"
      },
      "source": [
        "df.shape"
      ],
      "execution_count": null,
      "outputs": [
        {
          "output_type": "execute_result",
          "data": {
            "text/plain": [
              "(10000, 22)"
            ]
          },
          "metadata": {
            "tags": []
          },
          "execution_count": 43
        }
      ]
    },
    {
      "cell_type": "code",
      "metadata": {
        "colab": {
          "base_uri": "https://localhost:8080/"
        },
        "id": "hqJyJ09_cYps",
        "outputId": "fb95921c-ad81-430b-a1a8-115bad959497"
      },
      "source": [
        "df.columns"
      ],
      "execution_count": null,
      "outputs": [
        {
          "output_type": "execute_result",
          "data": {
            "text/plain": [
              "Index(['crawl_timestamp', 'url', 'job_title', 'category', 'company_name',\n",
              "       'city', 'state', 'country', 'inferred_city', 'inferred_state',\n",
              "       'inferred_country', 'post_date', 'job_description', 'job_type',\n",
              "       'salary_offered', 'job_board', 'geo', 'cursor', 'contact_email',\n",
              "       'contact_phone_number', 'uniq_id', 'html_job_description'],\n",
              "      dtype='object')"
            ]
          },
          "metadata": {
            "tags": []
          },
          "execution_count": 44
        }
      ]
    },
    {
      "cell_type": "code",
      "metadata": {
        "colab": {
          "base_uri": "https://localhost:8080/"
        },
        "id": "_CFDwBwtca6J",
        "outputId": "8a05a959-8c37-409c-d219-1259424aebd1"
      },
      "source": [
        "# Create a slice with the columns to look at\n",
        "\n",
        "df_slice=df[['job_title', 'category', 'company_name',\n",
        "       'city', 'state', 'country', 'inferred_city', 'inferred_state',\n",
        "       'inferred_country', 'post_date', 'job_description', 'job_type']]\n",
        "\n",
        "df_slice.shape"
      ],
      "execution_count": null,
      "outputs": [
        {
          "output_type": "execute_result",
          "data": {
            "text/plain": [
              "(10000, 12)"
            ]
          },
          "metadata": {
            "tags": []
          },
          "execution_count": 45
        }
      ]
    },
    {
      "cell_type": "code",
      "metadata": {
        "colab": {
          "base_uri": "https://localhost:8080/"
        },
        "id": "qCIN1X08cIyJ",
        "outputId": "bc851c98-19bb-4c0c-bfe7-65398ee4f831"
      },
      "source": [
        "# Drop the columns with nan values\n",
        "\n",
        "df_full = df_slice.dropna(how='any',axis=0)\n",
        "df_full.shape"
      ],
      "execution_count": null,
      "outputs": [
        {
          "output_type": "execute_result",
          "data": {
            "text/plain": [
              "(8048, 12)"
            ]
          },
          "metadata": {
            "tags": []
          },
          "execution_count": 46
        }
      ]
    },
    {
      "cell_type": "code",
      "metadata": {
        "colab": {
          "base_uri": "https://localhost:8080/",
          "height": 983
        },
        "id": "p617nuB9aUZb",
        "outputId": "d392d198-d8ec-4a96-eb36-8b3c405b04c6"
      },
      "source": [
        "# For visualizaiton make a slice of 4000 rows (the visualizaiton tool will work with up to 5000 rows only)\n",
        "\n",
        "data=df_full.iloc[:4000]\n",
        "data"
      ],
      "execution_count": null,
      "outputs": [
        {
          "output_type": "execute_result",
          "data": {
            "text/html": [
              "<div>\n",
              "<style scoped>\n",
              "    .dataframe tbody tr th:only-of-type {\n",
              "        vertical-align: middle;\n",
              "    }\n",
              "\n",
              "    .dataframe tbody tr th {\n",
              "        vertical-align: top;\n",
              "    }\n",
              "\n",
              "    .dataframe thead th {\n",
              "        text-align: right;\n",
              "    }\n",
              "</style>\n",
              "<table border=\"1\" class=\"dataframe\">\n",
              "  <thead>\n",
              "    <tr style=\"text-align: right;\">\n",
              "      <th></th>\n",
              "      <th>job_title</th>\n",
              "      <th>category</th>\n",
              "      <th>company_name</th>\n",
              "      <th>city</th>\n",
              "      <th>state</th>\n",
              "      <th>country</th>\n",
              "      <th>inferred_city</th>\n",
              "      <th>inferred_state</th>\n",
              "      <th>inferred_country</th>\n",
              "      <th>post_date</th>\n",
              "      <th>job_description</th>\n",
              "      <th>job_type</th>\n",
              "    </tr>\n",
              "  </thead>\n",
              "  <tbody>\n",
              "    <tr>\n",
              "      <th>0</th>\n",
              "      <td>Enterprise Data Scientist I</td>\n",
              "      <td>Accounting/Finance</td>\n",
              "      <td>Farmers Insurance Group</td>\n",
              "      <td>Woodland Hills</td>\n",
              "      <td>CA</td>\n",
              "      <td>Usa</td>\n",
              "      <td>Woodland hills</td>\n",
              "      <td>California</td>\n",
              "      <td>Usa</td>\n",
              "      <td>2019-02-06</td>\n",
              "      <td>Read what people are saying about working here...</td>\n",
              "      <td>Undefined</td>\n",
              "    </tr>\n",
              "    <tr>\n",
              "      <th>3</th>\n",
              "      <td>Data Scientist, Aladdin Wealth Tech, Associate...</td>\n",
              "      <td>Accounting/Finance</td>\n",
              "      <td>BlackRock</td>\n",
              "      <td>New York</td>\n",
              "      <td>NY 10055 (Midtown area)</td>\n",
              "      <td>Usa</td>\n",
              "      <td>New york</td>\n",
              "      <td>New york</td>\n",
              "      <td>Usa</td>\n",
              "      <td>2019-02-06</td>\n",
              "      <td>Read what people are saying about working here...</td>\n",
              "      <td>Undefined</td>\n",
              "    </tr>\n",
              "    <tr>\n",
              "      <th>4</th>\n",
              "      <td>Senior Data Scientist</td>\n",
              "      <td>biotech</td>\n",
              "      <td>CyberCoders</td>\n",
              "      <td>Charlotte</td>\n",
              "      <td>NC</td>\n",
              "      <td>Usa</td>\n",
              "      <td>Charlotte</td>\n",
              "      <td>North carolina</td>\n",
              "      <td>Usa</td>\n",
              "      <td>2019-02-05</td>\n",
              "      <td>We are seeking an extraordinary Data Scientist...</td>\n",
              "      <td>Full Time</td>\n",
              "    </tr>\n",
              "    <tr>\n",
              "      <th>5</th>\n",
              "      <td>CIB – Fixed Income Research – Machine Learning...</td>\n",
              "      <td>Accounting/Finance</td>\n",
              "      <td>JP Morgan Chase</td>\n",
              "      <td>New York</td>\n",
              "      <td>NY 10179 (Midtown area)</td>\n",
              "      <td>Usa</td>\n",
              "      <td>New york</td>\n",
              "      <td>New york</td>\n",
              "      <td>Usa</td>\n",
              "      <td>2019-02-05</td>\n",
              "      <td>Read what people are saying about working here...</td>\n",
              "      <td>Undefined</td>\n",
              "    </tr>\n",
              "    <tr>\n",
              "      <th>6</th>\n",
              "      <td>Data Scientist, Licensing Operations</td>\n",
              "      <td>Accounting/Finance</td>\n",
              "      <td>Spotify</td>\n",
              "      <td>New York</td>\n",
              "      <td>NY 10011 (Chelsea area)</td>\n",
              "      <td>Usa</td>\n",
              "      <td>New york</td>\n",
              "      <td>New york</td>\n",
              "      <td>Usa</td>\n",
              "      <td>2019-02-06</td>\n",
              "      <td>Read what people are saying about working here...</td>\n",
              "      <td>Undefined</td>\n",
              "    </tr>\n",
              "    <tr>\n",
              "      <th>...</th>\n",
              "      <td>...</td>\n",
              "      <td>...</td>\n",
              "      <td>...</td>\n",
              "      <td>...</td>\n",
              "      <td>...</td>\n",
              "      <td>...</td>\n",
              "      <td>...</td>\n",
              "      <td>...</td>\n",
              "      <td>...</td>\n",
              "      <td>...</td>\n",
              "      <td>...</td>\n",
              "      <td>...</td>\n",
              "    </tr>\n",
              "    <tr>\n",
              "      <th>5169</th>\n",
              "      <td>Senior Data Scientist - Healthcare, Predictive...</td>\n",
              "      <td>management jobs</td>\n",
              "      <td>CyberCoders</td>\n",
              "      <td>Santa Cruz</td>\n",
              "      <td>CA</td>\n",
              "      <td>Usa</td>\n",
              "      <td>Santa cruz</td>\n",
              "      <td>California</td>\n",
              "      <td>United states</td>\n",
              "      <td>2019-07-24</td>\n",
              "      <td>If you are a Data Scientist, Healthcare with e...</td>\n",
              "      <td>Full Time</td>\n",
              "    </tr>\n",
              "    <tr>\n",
              "      <th>5170</th>\n",
              "      <td>Senior Data Scientist - Predictive Modeling/In...</td>\n",
              "      <td>math jobs</td>\n",
              "      <td>CyberCoders</td>\n",
              "      <td>Woodbridge</td>\n",
              "      <td>NJ</td>\n",
              "      <td>Usa</td>\n",
              "      <td>Woodbridge</td>\n",
              "      <td>New jersey</td>\n",
              "      <td>United states</td>\n",
              "      <td>2019-07-24</td>\n",
              "      <td>If you are a Senior Data Scientist with at lea...</td>\n",
              "      <td>Full Time</td>\n",
              "    </tr>\n",
              "    <tr>\n",
              "      <th>5171</th>\n",
              "      <td>Data Scientist - Oil/Gas Industry</td>\n",
              "      <td>math jobs</td>\n",
              "      <td>CyberCoders</td>\n",
              "      <td>Houston</td>\n",
              "      <td>TX</td>\n",
              "      <td>Usa</td>\n",
              "      <td>Houston</td>\n",
              "      <td>Texas</td>\n",
              "      <td>United states</td>\n",
              "      <td>2019-07-24</td>\n",
              "      <td>If you are a Data Scientist with experience, p...</td>\n",
              "      <td>Full Time</td>\n",
              "    </tr>\n",
              "    <tr>\n",
              "      <th>5172</th>\n",
              "      <td>Senior Data Scientist (Python, Tensorflow, Pre...</td>\n",
              "      <td>math jobs</td>\n",
              "      <td>CyberCoders</td>\n",
              "      <td>San Francisco</td>\n",
              "      <td>CA</td>\n",
              "      <td>Usa</td>\n",
              "      <td>San francisco</td>\n",
              "      <td>California</td>\n",
              "      <td>United states</td>\n",
              "      <td>2019-07-24</td>\n",
              "      <td>If you are a Senior Data Scientist with 3+ yea...</td>\n",
              "      <td>Full Time</td>\n",
              "    </tr>\n",
              "    <tr>\n",
              "      <th>5173</th>\n",
              "      <td>Lead Data Scientist - CNN, Deep Learning - REL...</td>\n",
              "      <td>math jobs</td>\n",
              "      <td>CyberCoders</td>\n",
              "      <td>West Hollywood</td>\n",
              "      <td>CA</td>\n",
              "      <td>Usa</td>\n",
              "      <td>Hollywood</td>\n",
              "      <td>California</td>\n",
              "      <td>United states</td>\n",
              "      <td>2019-07-24</td>\n",
              "      <td>Are you an Expert with Convolutional Neural Ne...</td>\n",
              "      <td>Full Time</td>\n",
              "    </tr>\n",
              "  </tbody>\n",
              "</table>\n",
              "<p>4000 rows × 12 columns</p>\n",
              "</div>"
            ],
            "text/plain": [
              "                                              job_title  ...   job_type\n",
              "0                           Enterprise Data Scientist I  ...  Undefined\n",
              "3     Data Scientist, Aladdin Wealth Tech, Associate...  ...  Undefined\n",
              "4                                 Senior Data Scientist  ...  Full Time\n",
              "5     CIB – Fixed Income Research – Machine Learning...  ...  Undefined\n",
              "6                  Data Scientist, Licensing Operations  ...  Undefined\n",
              "...                                                 ...  ...        ...\n",
              "5169  Senior Data Scientist - Healthcare, Predictive...  ...  Full Time\n",
              "5170  Senior Data Scientist - Predictive Modeling/In...  ...  Full Time\n",
              "5171                  Data Scientist - Oil/Gas Industry  ...  Full Time\n",
              "5172  Senior Data Scientist (Python, Tensorflow, Pre...  ...  Full Time\n",
              "5173  Lead Data Scientist - CNN, Deep Learning - REL...  ...  Full Time\n",
              "\n",
              "[4000 rows x 12 columns]"
            ]
          },
          "metadata": {
            "tags": []
          },
          "execution_count": 47
        }
      ]
    },
    {
      "cell_type": "code",
      "metadata": {
        "colab": {
          "base_uri": "https://localhost:8080/"
        },
        "id": "cIso1g3kf4SE",
        "outputId": "179551c7-8c33-4c2e-d5db-88adfb6bb32e"
      },
      "source": [
        "# create new column with just the first name of the category name\n",
        "\n",
        "data['cat']=data['category'].str.split().str[0]\n",
        "\n",
        "data['cat'] = data['cat'].apply(lambda x: ' '.join(sorted(x.split())))\n",
        "data['cat'].unique()"
      ],
      "execution_count": null,
      "outputs": [
        {
          "output_type": "execute_result",
          "data": {
            "text/plain": [
              "array(['Accounting/Finance', 'biotech', 'Computer/Internet',\n",
              "       'Arts/Entertainment/Publishing', 'military', 'business',\n",
              "       'Engineering/Architecture', 'Manufacturing/Mechanical', 'life',\n",
              "       'Banking/Loans', 'agriculture', 'Education/Training', 'science',\n",
              "       'arts', 'Customer+Service', 'food', 'technology', 'Healthcare',\n",
              "       'Government/Military', 'architecture', 'community', 'production',\n",
              "       'r', 'Insurance', 'security', 'healthcare', 'Human+Resources',\n",
              "       'Administrative', 'language', 'media', 'Sales', 'advertising',\n",
              "       'office', 'Restaurant/Food+Service', 'Telecommunications',\n",
              "       'Construction/Facilities', 'Legal', 'Marketing/Advertising/PR',\n",
              "       'Non-Profit/Volunteering', 'Pharmaceutical/Bio-tech', 'education',\n",
              "       'management', 'transportation', 'protective', 'legal', 'sales',\n",
              "       'Retail', 'Hospitality/Travel', 'building',\n",
              "       'Transportation/Logistics', 'math', 'Engineering-or-architecture',\n",
              "       'Computer-or-internet', 'Manufacturing-or-mechanical',\n",
              "       'Transportation-or-logistics', 'Banking-or-loans',\n",
              "       'Accounting-or-finance', 'Arts-or-entertainment-or-publishing',\n",
              "       'Law-Enforcement-or-security', 'Marketing-or-advertising-or-pr',\n",
              "       'computer', 'service', 'Government-or-military',\n",
              "       'Construction-or-facilities', 'Human-Resources',\n",
              "       'Customer-Service', 'social', 'Restaurant-or-food-Service',\n",
              "       'finance', 'administrative', 'Education-or-training',\n",
              "       'engineering', 'entertainment', 'construction', 'manufacturing',\n",
              "       'financieel', 'animal', 'higher', 'Hospitality-or-travel',\n",
              "       'personal', 'Upper-Management-or-consulting'], dtype=object)"
            ]
          },
          "metadata": {
            "tags": []
          },
          "execution_count": 58
        }
      ]
    },
    {
      "cell_type": "code",
      "metadata": {
        "id": "Uqy4Vw9Uhg0_"
      },
      "source": [
        "data['cat']= data['cat'].replace(['Accounting/Finance','Accounting-or-finance','finance','financieel'],'Finance')\n",
        "data['cat']= data['cat'].replace(['biotech','Pharmaceutical/Bio-tech','science','math'],'Biotech')\n",
        "data['cat']= data['cat'].replace(['Computer/Internet','technology','Computer-or-internet','computer'],'Computer/Tech')\n",
        "data['cat']= data['cat'].replace(['life','social','r','animal','higher','personal'],'Misc')\n",
        "data['cat']= data['cat'].replace(['Arts/Entertainment/Publishing','Arts-or-entertainment-or-publishing','entertainment'],'Entertainment')\n",
        "data['cat']= data['cat'].replace(['production','media','community','advertising','Marketing/Advertising/PR','Sales','sales','Marketing-or-advertising-or-pr'],'SocialMedia/Marketing')\n",
        "data['cat']= data['cat'].replace(['military','Government/Military','science','Government-or-military'],'Military')\n",
        "data['cat']= data['cat'].replace(['business','management','Upper-Management-or-consulting'],'Business/Consulting')\n",
        "data['cat']= data['cat'].replace(['Administrative','office','administrative'],'Administrative')\n",
        "data['cat']= data['cat'].replace(['Engineering/Architecture','architecture','Engineering-or-architecture','engineering'],'Engineering/Architecture')\n",
        "data['cat']= data['cat'].replace(['Manufacturing/Mechanical','production','manufacturing','Manufacturing-or-mechanical'],'Manufacturing')\n",
        "data['cat']= data['cat'].replace(['Banking/Loans','Banking-or-loans'],'Banking')\n",
        "data['cat']= data['cat'].replace(['agriculture',],'Agriculture')\n",
        "data['cat']= data['cat'].replace(['Restaurant/Food+Service','food','Restaurant-or-food-Service'],'FoodService')\n",
        "data['cat']= data['cat'].replace(['Education/Training','education','Education-or-training'],'Education/Training')\n",
        "data['cat']= data['cat'].replace(['science','math'],'Math/Science')\n",
        "data['cat']= data['cat'].replace(['Healthcare','healthcare','service','Customer-Service'],'Healthcare')\n",
        "data['cat']= data['cat'].replace(['Customer+Service','Telecommunications','service','Customer-Service'],'CustomerService')\n",
        "data['cat']= data['cat'].replace(['Insurance','protective'],'Insurance')\n",
        "data['cat']= data['cat'].replace(['security','Law-Enforcement-or-security'],'Security')\n",
        "data['cat']= data['cat'].replace(['Human+Resources','Human-Resources'],'HumanResources')\n",
        "data['cat']= data['cat'].replace(['language'],'Language')\n",
        "data['cat']= data['cat'].replace(['Construction/Facilities','building','Construction-or-facilities','construction'],'Construction')\n",
        "data['cat']= data['cat'].replace(['Legal','legal'],'Legal')\n",
        "data['cat']= data['cat'].replace(['arts'],'Arts')\n",
        "data['cat']= data['cat'].replace(['transportation','Transportation/Logistics','Transportation-or-logistics'],'Transportation')\n",
        "data['cat']= data['cat'].replace(['Hospitality-or-travel','Hospitality/Travel'],'Hospitality/Travel')"
      ],
      "execution_count": null,
      "outputs": []
    },
    {
      "cell_type": "code",
      "metadata": {
        "colab": {
          "base_uri": "https://localhost:8080/"
        },
        "id": "H0qHckv6x90i",
        "outputId": "7fa79bec-190e-45d6-a1e9-e5c7ca8d3a50"
      },
      "source": [
        "data['cat'].unique()"
      ],
      "execution_count": null,
      "outputs": [
        {
          "output_type": "execute_result",
          "data": {
            "text/plain": [
              "array(['Finance', 'Biotech', 'Computer/Tech', 'Entertainment', 'Military',\n",
              "       'Business/Consulting', 'Engineering/Architecture', 'Manufacturing',\n",
              "       'Misc', 'Banking', 'Agriculture', 'Education/Training', 'Arts',\n",
              "       'CustomerService', 'FoodService', 'Healthcare',\n",
              "       'SocialMedia/Marketing', 'Insurance', 'Security', 'HumanResources',\n",
              "       'Administrative', 'Language', 'Construction', 'Legal',\n",
              "       'Non-Profit/Volunteering', 'Transportation', 'Retail',\n",
              "       'Hospitality/Travel'], dtype=object)"
            ]
          },
          "metadata": {
            "tags": []
          },
          "execution_count": 83
        }
      ]
    },
    {
      "cell_type": "code",
      "metadata": {
        "id": "GEXv15gqWwnj"
      },
      "source": [
        "# Let's plot number of articles in each category\n",
        "\n",
        "bars = alt.Chart(data).mark_bar(size=50).encode(\n",
        "    x=alt.X(\"cat\"),\n",
        "    y=alt.Y(\"count():Q\", axis=alt.Axis(title='Number of Job Postings')),\n",
        "    tooltip=[alt.Tooltip('count()', title='Job Category'), 'cat'],\n",
        "    color='cat'\n",
        "\n",
        ")\n",
        "\n",
        "text = bars.mark_text(\n",
        "    align='center',\n",
        "    baseline='bottom',\n",
        ").encode(\n",
        "    text='count()'\n",
        ")\n",
        "\n",
        "(bars + text).interactive().properties(\n",
        "    height=300, \n",
        "    width=700,\n",
        "    title = \"Number of jobs in each category\",\n",
        ")"
      ],
      "execution_count": null,
      "outputs": []
    },
    {
      "cell_type": "code",
      "metadata": {
        "id": "MSpvoAJjy2cT"
      },
      "source": [
        "# Percent of jobs in each category\n",
        "\n",
        "data['id'] = 1\n",
        "data2 = pd.DataFrame(data.groupby('cat').count()['id']).reset_index()\n",
        "\n",
        "bars = alt.Chart(data2).mark_bar(size=50).encode(\n",
        "    x=alt.X('cat'),\n",
        "    y=alt.Y('PercentOfTotal:Q', axis=alt.Axis(format='.0%', title='% of Jobs')),\n",
        "    color='cat'\n",
        ").transform_window(\n",
        "    TotalArticles='sum(id)',\n",
        "    frame=[None, None]\n",
        ").transform_calculate(\n",
        "    PercentOfTotal=\"datum.id / datum.TotalArticles\"\n",
        ")\n",
        "\n",
        "text = bars.mark_text(\n",
        "    align='center',\n",
        "    baseline='bottom',\n",
        "    #dx=5  # Nudges text to right so it doesn't appear on top of the bar\n",
        ").encode(\n",
        "    text=alt.Text('PercentOfTotal:Q', format='.1%')\n",
        ")\n",
        "\n",
        "(bars + text).interactive().properties(\n",
        "    height=300, \n",
        "    width=700,\n",
        "    title = \"% of jobs in each category\",\n",
        ")"
      ],
      "execution_count": null,
      "outputs": []
    },
    {
      "cell_type": "code",
      "metadata": {
        "id": "ku71-ji_zTbH"
      },
      "source": [
        "# Job posts lenght by category\n",
        "\n",
        "data['Job_post_length'] = data['job_description'].str.len()"
      ],
      "execution_count": null,
      "outputs": []
    },
    {
      "cell_type": "code",
      "metadata": {
        "id": "les8dVy4zkW8"
      },
      "source": [
        "plt.figure(figsize=(12.8,6))\n",
        "sns.distplot(data['Job_post_length']).set_title('Job posts length distribution');"
      ],
      "execution_count": null,
      "outputs": []
    },
    {
      "cell_type": "code",
      "metadata": {
        "colab": {
          "base_uri": "https://localhost:8080/"
        },
        "id": "X6YTFfKDz508",
        "outputId": "1bc90448-0bcc-4dfc-fb89-490914c6d1ad"
      },
      "source": [
        "data['Job_post_length'].describe()"
      ],
      "execution_count": null,
      "outputs": [
        {
          "output_type": "execute_result",
          "data": {
            "text/plain": [
              "count     4000.000000\n",
              "mean      4505.601500\n",
              "std       2914.139254\n",
              "min         14.000000\n",
              "25%       2617.500000\n",
              "50%       3832.500000\n",
              "75%       5589.000000\n",
              "max      33400.000000\n",
              "Name: Job_post_length, dtype: float64"
            ]
          },
          "metadata": {
            "tags": []
          },
          "execution_count": 88
        }
      ]
    },
    {
      "cell_type": "code",
      "metadata": {
        "id": "WfFDodQc0BPu"
      },
      "source": [
        "# Removing 95% percentile to aprpeciate the distribution bettwe\n",
        "\n",
        "quantile_95 = data['Job_post_length'].quantile(0.95)\n",
        "data_95 = data[data['Job_post_length'] < quantile_95]"
      ],
      "execution_count": null,
      "outputs": []
    },
    {
      "cell_type": "code",
      "metadata": {
        "id": "50qGrBaS0JEm"
      },
      "source": [
        "plt.figure(figsize=(12.8,6))\n",
        "sns.distplot(data_95['Job_post_length']).set_title('Job posts length distribution');"
      ],
      "execution_count": null,
      "outputs": []
    },
    {
      "cell_type": "code",
      "metadata": {
        "colab": {
          "base_uri": "https://localhost:8080/"
        },
        "id": "rkNCPiJp0x-l",
        "outputId": "77077124-cd15-47b3-959b-e167fcb95a47"
      },
      "source": [
        "data_more10k = data[data['Job_post_length'] > 10000]\n",
        "len(data_more10k)"
      ],
      "execution_count": null,
      "outputs": [
        {
          "output_type": "execute_result",
          "data": {
            "text/plain": [
              "215"
            ]
          },
          "metadata": {
            "tags": []
          },
          "execution_count": 92
        }
      ]
    },
    {
      "cell_type": "code",
      "metadata": {
        "id": "P6YJBcUv0-UR"
      },
      "source": [
        "plt.figure(figsize=(12.8,6))\n",
        "sns.boxplot(data=data, x='cat', y='Job_post_length', width=.5);"
      ],
      "execution_count": null,
      "outputs": []
    },
    {
      "cell_type": "code",
      "metadata": {
        "id": "Bo9Q6bHT1NvX"
      },
      "source": [
        "plt.figure(figsize=(12.8,6))\n",
        "sns.boxplot(data=data_95, x='cat', y='Job_post_length');"
      ],
      "execution_count": null,
      "outputs": []
    },
    {
      "cell_type": "code",
      "metadata": {
        "id": "t_-mlec11WrY"
      },
      "source": [
        "with open('Jobs_dataset.pickle', 'wb') as output:\n",
        "    pickle.dump(data, output)"
      ],
      "execution_count": null,
      "outputs": []
    }
  ]
}