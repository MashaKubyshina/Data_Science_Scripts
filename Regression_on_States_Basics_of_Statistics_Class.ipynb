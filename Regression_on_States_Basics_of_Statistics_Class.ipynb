{
  "nbformat": 4,
  "nbformat_minor": 0,
  "metadata": {
    "colab": {
      "name": "Regression on States - Basics of Statistics Class.ipynb",
      "provenance": [],
      "collapsed_sections": [],
      "include_colab_link": true
    },
    "kernelspec": {
      "display_name": "Python 3",
      "name": "python3"
    },
    "language_info": {
      "name": "python"
    }
  },
  "cells": [
    {
      "cell_type": "markdown",
      "metadata": {
        "id": "view-in-github",
        "colab_type": "text"
      },
      "source": [
        "<a href=\"https://colab.research.google.com/github/MashaKubyshina/Learning_to_code/blob/master/Regression_on_States_Basics_of_Statistics_Class.ipynb\" target=\"_parent\"><img src=\"https://colab.research.google.com/assets/colab-badge.svg\" alt=\"Open In Colab\"/></a>"
      ]
    },
    {
      "cell_type": "markdown",
      "metadata": {
        "id": "P_q_Vqnd9Vk6"
      },
      "source": [
        "# State dataset\n"
      ]
    },
    {
      "cell_type": "markdown",
      "metadata": {
        "id": "yve8MgJb_yc2"
      },
      "source": [
        "**Goal:** find the best predictor for poverty\n",
        "\n",
        "Process:\n",
        "1. Import the libraries and the data\n",
        "2. Look at the data\n",
        "3. Plot the data\n",
        "4. Run linear regression\n",
        "5. Scaler min-max\n",
        "6. Use Forward and Backward selection\n",
        "7. RidgeCV regression\n",
        "8. LassoCV regression\n",
        "9. A few more plots\n",
        "\n",
        "\n",
        "**Conclusion:** insights and next steps\n"
      ]
    },
    {
      "cell_type": "code",
      "metadata": {
        "colab": {
          "base_uri": "https://localhost:8080/"
        },
        "id": "DR2Bs3jNZKaE",
        "outputId": "0aa66af5-c40b-49cf-e35e-470bd937a16a"
      },
      "source": [
        "# We do this to install scikit-learn 0.24 version\n",
        "# It is a hack for those using colab\n",
        "\n",
        "!pip uninstall scikit-learn -y\n",
        "\n",
        "!pip install -U scikit-learn"
      ],
      "execution_count": 1,
      "outputs": [
        {
          "output_type": "stream",
          "text": [
            "Uninstalling scikit-learn-0.22.2.post1:\n",
            "  Successfully uninstalled scikit-learn-0.22.2.post1\n",
            "Collecting scikit-learn\n",
            "\u001b[?25l  Downloading https://files.pythonhosted.org/packages/a8/eb/a48f25c967526b66d5f1fa7a984594f0bf0a5afafa94a8c4dbc317744620/scikit_learn-0.24.2-cp37-cp37m-manylinux2010_x86_64.whl (22.3MB)\n",
            "\u001b[K     |████████████████████████████████| 22.3MB 1.3MB/s \n",
            "\u001b[?25hRequirement already satisfied, skipping upgrade: joblib>=0.11 in /usr/local/lib/python3.7/dist-packages (from scikit-learn) (1.0.1)\n",
            "Requirement already satisfied, skipping upgrade: scipy>=0.19.1 in /usr/local/lib/python3.7/dist-packages (from scikit-learn) (1.4.1)\n",
            "Collecting threadpoolctl>=2.0.0\n",
            "  Downloading https://files.pythonhosted.org/packages/f7/12/ec3f2e203afa394a149911729357aa48affc59c20e2c1c8297a60f33f133/threadpoolctl-2.1.0-py3-none-any.whl\n",
            "Requirement already satisfied, skipping upgrade: numpy>=1.13.3 in /usr/local/lib/python3.7/dist-packages (from scikit-learn) (1.19.5)\n",
            "Installing collected packages: threadpoolctl, scikit-learn\n",
            "Successfully installed scikit-learn-0.24.2 threadpoolctl-2.1.0\n"
          ],
          "name": "stdout"
        }
      ]
    },
    {
      "cell_type": "code",
      "metadata": {
        "colab": {
          "base_uri": "https://localhost:8080/",
          "height": 37
        },
        "id": "fGwj4KucZZFj",
        "outputId": "cb13c530-b969-499b-b771-80be28dce6b0"
      },
      "source": [
        "# Check sklearn version\n",
        "\n",
        "import sklearn\n",
        "\n",
        "sklearn.__version__"
      ],
      "execution_count": 2,
      "outputs": [
        {
          "output_type": "execute_result",
          "data": {
            "application/vnd.google.colaboratory.intrinsic+json": {
              "type": "string"
            },
            "text/plain": [
              "'0.24.2'"
            ]
          },
          "metadata": {
            "tags": []
          },
          "execution_count": 2
        }
      ]
    },
    {
      "cell_type": "code",
      "metadata": {
        "id": "XZCiFo3u5shP"
      },
      "source": [
        "# Import necessary libraries to start\n",
        "\n",
        "import pandas as pd\n",
        "import numpy as np\n",
        "import matplotlib as plt\n",
        "import seaborn as sns\n",
        "import scipy.stats as stats\n",
        "import sklearn.linear_model as linear_module\n",
        "from sklearn.model_selection import train_test_split\n",
        "from sklearn.metrics import mean_squared_error\n",
        "from sklearn import preprocessing\n",
        "from sklearn.preprocessing import OneHotEncoder\n",
        "import math\n",
        "from sklearn.metrics import r2_score"
      ],
      "execution_count": 3,
      "outputs": []
    },
    {
      "cell_type": "code",
      "metadata": {
        "colab": {
          "base_uri": "https://localhost:8080/",
          "height": 1000
        },
        "id": "xZX1cpB8dXjV",
        "outputId": "ccd047d3-78bd-44fc-9740-2164ea3c1cd3"
      },
      "source": [
        "url = 'http://d396qusza40orc.cloudfront.net/statistics/lec_resources/states.csv'\n",
        "\n",
        "df = pd.read_csv(url,  sep=',')\n",
        "df"
      ],
      "execution_count": 4,
      "outputs": [
        {
          "output_type": "execute_result",
          "data": {
            "text/html": [
              "<div>\n",
              "<style scoped>\n",
              "    .dataframe tbody tr th:only-of-type {\n",
              "        vertical-align: middle;\n",
              "    }\n",
              "\n",
              "    .dataframe tbody tr th {\n",
              "        vertical-align: top;\n",
              "    }\n",
              "\n",
              "    .dataframe thead th {\n",
              "        text-align: right;\n",
              "    }\n",
              "</style>\n",
              "<table border=\"1\" class=\"dataframe\">\n",
              "  <thead>\n",
              "    <tr style=\"text-align: right;\">\n",
              "      <th></th>\n",
              "      <th>state</th>\n",
              "      <th>metro_res</th>\n",
              "      <th>white</th>\n",
              "      <th>hs_grad</th>\n",
              "      <th>poverty</th>\n",
              "      <th>female_house</th>\n",
              "    </tr>\n",
              "  </thead>\n",
              "  <tbody>\n",
              "    <tr>\n",
              "      <th>0</th>\n",
              "      <td>Alabama</td>\n",
              "      <td>55.4</td>\n",
              "      <td>71.3</td>\n",
              "      <td>79.9</td>\n",
              "      <td>14.6</td>\n",
              "      <td>14.2</td>\n",
              "    </tr>\n",
              "    <tr>\n",
              "      <th>1</th>\n",
              "      <td>Alaska</td>\n",
              "      <td>65.6</td>\n",
              "      <td>70.8</td>\n",
              "      <td>90.6</td>\n",
              "      <td>8.3</td>\n",
              "      <td>10.8</td>\n",
              "    </tr>\n",
              "    <tr>\n",
              "      <th>2</th>\n",
              "      <td>Arizona</td>\n",
              "      <td>88.2</td>\n",
              "      <td>87.7</td>\n",
              "      <td>83.8</td>\n",
              "      <td>13.3</td>\n",
              "      <td>11.1</td>\n",
              "    </tr>\n",
              "    <tr>\n",
              "      <th>3</th>\n",
              "      <td>Arkansas</td>\n",
              "      <td>52.5</td>\n",
              "      <td>81.0</td>\n",
              "      <td>80.9</td>\n",
              "      <td>18.0</td>\n",
              "      <td>12.1</td>\n",
              "    </tr>\n",
              "    <tr>\n",
              "      <th>4</th>\n",
              "      <td>California</td>\n",
              "      <td>94.4</td>\n",
              "      <td>77.5</td>\n",
              "      <td>81.1</td>\n",
              "      <td>12.8</td>\n",
              "      <td>12.6</td>\n",
              "    </tr>\n",
              "    <tr>\n",
              "      <th>5</th>\n",
              "      <td>Colorado</td>\n",
              "      <td>84.5</td>\n",
              "      <td>90.2</td>\n",
              "      <td>88.7</td>\n",
              "      <td>9.4</td>\n",
              "      <td>9.6</td>\n",
              "    </tr>\n",
              "    <tr>\n",
              "      <th>6</th>\n",
              "      <td>Connecticut</td>\n",
              "      <td>87.7</td>\n",
              "      <td>85.4</td>\n",
              "      <td>87.5</td>\n",
              "      <td>7.8</td>\n",
              "      <td>12.1</td>\n",
              "    </tr>\n",
              "    <tr>\n",
              "      <th>7</th>\n",
              "      <td>Delaware</td>\n",
              "      <td>80.1</td>\n",
              "      <td>76.3</td>\n",
              "      <td>88.7</td>\n",
              "      <td>8.1</td>\n",
              "      <td>13.1</td>\n",
              "    </tr>\n",
              "    <tr>\n",
              "      <th>8</th>\n",
              "      <td>District  of Columbia</td>\n",
              "      <td>100.0</td>\n",
              "      <td>36.2</td>\n",
              "      <td>86.0</td>\n",
              "      <td>16.8</td>\n",
              "      <td>18.9</td>\n",
              "    </tr>\n",
              "    <tr>\n",
              "      <th>9</th>\n",
              "      <td>Florida</td>\n",
              "      <td>89.3</td>\n",
              "      <td>80.6</td>\n",
              "      <td>84.7</td>\n",
              "      <td>12.1</td>\n",
              "      <td>12.0</td>\n",
              "    </tr>\n",
              "    <tr>\n",
              "      <th>10</th>\n",
              "      <td>Georgia</td>\n",
              "      <td>71.6</td>\n",
              "      <td>67.5</td>\n",
              "      <td>85.1</td>\n",
              "      <td>12.1</td>\n",
              "      <td>14.5</td>\n",
              "    </tr>\n",
              "    <tr>\n",
              "      <th>11</th>\n",
              "      <td>Hawaii</td>\n",
              "      <td>91.5</td>\n",
              "      <td>25.9</td>\n",
              "      <td>88.5</td>\n",
              "      <td>10.6</td>\n",
              "      <td>12.4</td>\n",
              "    </tr>\n",
              "    <tr>\n",
              "      <th>12</th>\n",
              "      <td>Idaho</td>\n",
              "      <td>66.4</td>\n",
              "      <td>95.5</td>\n",
              "      <td>88.2</td>\n",
              "      <td>11.8</td>\n",
              "      <td>8.7</td>\n",
              "    </tr>\n",
              "    <tr>\n",
              "      <th>13</th>\n",
              "      <td>Illinois</td>\n",
              "      <td>87.8</td>\n",
              "      <td>79.5</td>\n",
              "      <td>85.9</td>\n",
              "      <td>11.2</td>\n",
              "      <td>12.3</td>\n",
              "    </tr>\n",
              "    <tr>\n",
              "      <th>14</th>\n",
              "      <td>Indiana</td>\n",
              "      <td>70.8</td>\n",
              "      <td>88.9</td>\n",
              "      <td>86.4</td>\n",
              "      <td>8.7</td>\n",
              "      <td>11.1</td>\n",
              "    </tr>\n",
              "    <tr>\n",
              "      <th>15</th>\n",
              "      <td>Iowa</td>\n",
              "      <td>61.1</td>\n",
              "      <td>94.9</td>\n",
              "      <td>89.7</td>\n",
              "      <td>8.3</td>\n",
              "      <td>8.6</td>\n",
              "    </tr>\n",
              "    <tr>\n",
              "      <th>16</th>\n",
              "      <td>Kansas</td>\n",
              "      <td>71.4</td>\n",
              "      <td>89.3</td>\n",
              "      <td>88.6</td>\n",
              "      <td>9.4</td>\n",
              "      <td>9.3</td>\n",
              "    </tr>\n",
              "    <tr>\n",
              "      <th>17</th>\n",
              "      <td>Kentucky</td>\n",
              "      <td>55.8</td>\n",
              "      <td>90.3</td>\n",
              "      <td>82.8</td>\n",
              "      <td>13.1</td>\n",
              "      <td>11.8</td>\n",
              "    </tr>\n",
              "    <tr>\n",
              "      <th>18</th>\n",
              "      <td>Louisiana</td>\n",
              "      <td>72.6</td>\n",
              "      <td>64.2</td>\n",
              "      <td>79.8</td>\n",
              "      <td>17.0</td>\n",
              "      <td>16.6</td>\n",
              "    </tr>\n",
              "    <tr>\n",
              "      <th>19</th>\n",
              "      <td>Maine</td>\n",
              "      <td>40.2</td>\n",
              "      <td>97.1</td>\n",
              "      <td>86.6</td>\n",
              "      <td>11.3</td>\n",
              "      <td>9.5</td>\n",
              "    </tr>\n",
              "    <tr>\n",
              "      <th>20</th>\n",
              "      <td>Maryland</td>\n",
              "      <td>86.1</td>\n",
              "      <td>65.6</td>\n",
              "      <td>87.6</td>\n",
              "      <td>7.3</td>\n",
              "      <td>14.1</td>\n",
              "    </tr>\n",
              "    <tr>\n",
              "      <th>21</th>\n",
              "      <td>Massachusetts</td>\n",
              "      <td>91.4</td>\n",
              "      <td>87.2</td>\n",
              "      <td>87.1</td>\n",
              "      <td>9.6</td>\n",
              "      <td>11.9</td>\n",
              "    </tr>\n",
              "    <tr>\n",
              "      <th>22</th>\n",
              "      <td>Michigan</td>\n",
              "      <td>74.7</td>\n",
              "      <td>81.5</td>\n",
              "      <td>87.6</td>\n",
              "      <td>10.3</td>\n",
              "      <td>12.5</td>\n",
              "    </tr>\n",
              "    <tr>\n",
              "      <th>23</th>\n",
              "      <td>Minnesota</td>\n",
              "      <td>70.9</td>\n",
              "      <td>90.2</td>\n",
              "      <td>91.6</td>\n",
              "      <td>6.5</td>\n",
              "      <td>8.9</td>\n",
              "    </tr>\n",
              "    <tr>\n",
              "      <th>24</th>\n",
              "      <td>Mississippi</td>\n",
              "      <td>48.8</td>\n",
              "      <td>61.2</td>\n",
              "      <td>81.2</td>\n",
              "      <td>17.6</td>\n",
              "      <td>17.3</td>\n",
              "    </tr>\n",
              "    <tr>\n",
              "      <th>25</th>\n",
              "      <td>Missouri</td>\n",
              "      <td>69.4</td>\n",
              "      <td>85.3</td>\n",
              "      <td>88.3</td>\n",
              "      <td>9.6</td>\n",
              "      <td>11.6</td>\n",
              "    </tr>\n",
              "    <tr>\n",
              "      <th>26</th>\n",
              "      <td>Montana</td>\n",
              "      <td>54.1</td>\n",
              "      <td>90.9</td>\n",
              "      <td>90.1</td>\n",
              "      <td>13.7</td>\n",
              "      <td>8.9</td>\n",
              "    </tr>\n",
              "    <tr>\n",
              "      <th>27</th>\n",
              "      <td>Nebraska</td>\n",
              "      <td>69.8</td>\n",
              "      <td>92.1</td>\n",
              "      <td>90.8</td>\n",
              "      <td>9.5</td>\n",
              "      <td>9.1</td>\n",
              "    </tr>\n",
              "    <tr>\n",
              "      <th>28</th>\n",
              "      <td>Nevada</td>\n",
              "      <td>91.5</td>\n",
              "      <td>84.1</td>\n",
              "      <td>85.6</td>\n",
              "      <td>8.3</td>\n",
              "      <td>11.1</td>\n",
              "    </tr>\n",
              "    <tr>\n",
              "      <th>29</th>\n",
              "      <td>New  Hampshire</td>\n",
              "      <td>59.3</td>\n",
              "      <td>96.3</td>\n",
              "      <td>92.1</td>\n",
              "      <td>5.6</td>\n",
              "      <td>9.1</td>\n",
              "    </tr>\n",
              "    <tr>\n",
              "      <th>30</th>\n",
              "      <td>New Jersey</td>\n",
              "      <td>94.4</td>\n",
              "      <td>77.3</td>\n",
              "      <td>86.2</td>\n",
              "      <td>7.8</td>\n",
              "      <td>12.6</td>\n",
              "    </tr>\n",
              "    <tr>\n",
              "      <th>31</th>\n",
              "      <td>New Mexico</td>\n",
              "      <td>75.0</td>\n",
              "      <td>84.9</td>\n",
              "      <td>81.7</td>\n",
              "      <td>17.8</td>\n",
              "      <td>13.2</td>\n",
              "    </tr>\n",
              "    <tr>\n",
              "      <th>32</th>\n",
              "      <td>New York</td>\n",
              "      <td>87.5</td>\n",
              "      <td>73.6</td>\n",
              "      <td>84.2</td>\n",
              "      <td>14.0</td>\n",
              "      <td>14.7</td>\n",
              "    </tr>\n",
              "    <tr>\n",
              "      <th>33</th>\n",
              "      <td>North  Carolina</td>\n",
              "      <td>60.2</td>\n",
              "      <td>74.1</td>\n",
              "      <td>81.4</td>\n",
              "      <td>13.1</td>\n",
              "      <td>12.5</td>\n",
              "    </tr>\n",
              "    <tr>\n",
              "      <th>34</th>\n",
              "      <td>North Dakota</td>\n",
              "      <td>55.9</td>\n",
              "      <td>92.5</td>\n",
              "      <td>89.7</td>\n",
              "      <td>11.9</td>\n",
              "      <td>7.8</td>\n",
              "    </tr>\n",
              "    <tr>\n",
              "      <th>35</th>\n",
              "      <td>Ohio</td>\n",
              "      <td>77.4</td>\n",
              "      <td>85.4</td>\n",
              "      <td>87.2</td>\n",
              "      <td>10.1</td>\n",
              "      <td>12.1</td>\n",
              "    </tr>\n",
              "    <tr>\n",
              "      <th>36</th>\n",
              "      <td>Oklahoma</td>\n",
              "      <td>65.3</td>\n",
              "      <td>78.4</td>\n",
              "      <td>85.7</td>\n",
              "      <td>14.7</td>\n",
              "      <td>11.4</td>\n",
              "    </tr>\n",
              "    <tr>\n",
              "      <th>37</th>\n",
              "      <td>Oregon</td>\n",
              "      <td>78.7</td>\n",
              "      <td>90.8</td>\n",
              "      <td>86.9</td>\n",
              "      <td>11.2</td>\n",
              "      <td>9.8</td>\n",
              "    </tr>\n",
              "    <tr>\n",
              "      <th>38</th>\n",
              "      <td>Pennsylvania</td>\n",
              "      <td>77.1</td>\n",
              "      <td>86.4</td>\n",
              "      <td>86.0</td>\n",
              "      <td>9.2</td>\n",
              "      <td>11.6</td>\n",
              "    </tr>\n",
              "    <tr>\n",
              "      <th>39</th>\n",
              "      <td>Rhode Island</td>\n",
              "      <td>90.9</td>\n",
              "      <td>89.2</td>\n",
              "      <td>81.0</td>\n",
              "      <td>10.3</td>\n",
              "      <td>12.9</td>\n",
              "    </tr>\n",
              "    <tr>\n",
              "      <th>40</th>\n",
              "      <td>South  Carolina</td>\n",
              "      <td>60.5</td>\n",
              "      <td>67.7</td>\n",
              "      <td>80.8</td>\n",
              "      <td>13.5</td>\n",
              "      <td>14.8</td>\n",
              "    </tr>\n",
              "    <tr>\n",
              "      <th>41</th>\n",
              "      <td>South Dakota</td>\n",
              "      <td>51.9</td>\n",
              "      <td>88.8</td>\n",
              "      <td>88.7</td>\n",
              "      <td>10.2</td>\n",
              "      <td>9.0</td>\n",
              "    </tr>\n",
              "    <tr>\n",
              "      <th>42</th>\n",
              "      <td>Tennessee</td>\n",
              "      <td>63.6</td>\n",
              "      <td>80.8</td>\n",
              "      <td>81.0</td>\n",
              "      <td>14.2</td>\n",
              "      <td>12.9</td>\n",
              "    </tr>\n",
              "    <tr>\n",
              "      <th>43</th>\n",
              "      <td>Texas</td>\n",
              "      <td>82.5</td>\n",
              "      <td>83.6</td>\n",
              "      <td>77.2</td>\n",
              "      <td>15.3</td>\n",
              "      <td>12.7</td>\n",
              "    </tr>\n",
              "    <tr>\n",
              "      <th>44</th>\n",
              "      <td>Utah</td>\n",
              "      <td>88.2</td>\n",
              "      <td>93.6</td>\n",
              "      <td>89.4</td>\n",
              "      <td>9.3</td>\n",
              "      <td>9.4</td>\n",
              "    </tr>\n",
              "    <tr>\n",
              "      <th>45</th>\n",
              "      <td>Vermont</td>\n",
              "      <td>38.2</td>\n",
              "      <td>96.9</td>\n",
              "      <td>88.9</td>\n",
              "      <td>9.9</td>\n",
              "      <td>9.3</td>\n",
              "    </tr>\n",
              "    <tr>\n",
              "      <th>46</th>\n",
              "      <td>Virginia</td>\n",
              "      <td>73.0</td>\n",
              "      <td>73.9</td>\n",
              "      <td>87.8</td>\n",
              "      <td>8.7</td>\n",
              "      <td>11.9</td>\n",
              "    </tr>\n",
              "    <tr>\n",
              "      <th>47</th>\n",
              "      <td>Washington</td>\n",
              "      <td>82.0</td>\n",
              "      <td>85.5</td>\n",
              "      <td>89.1</td>\n",
              "      <td>10.8</td>\n",
              "      <td>9.9</td>\n",
              "    </tr>\n",
              "    <tr>\n",
              "      <th>48</th>\n",
              "      <td>West  Virginia</td>\n",
              "      <td>46.1</td>\n",
              "      <td>95.0</td>\n",
              "      <td>78.7</td>\n",
              "      <td>16.0</td>\n",
              "      <td>10.7</td>\n",
              "    </tr>\n",
              "    <tr>\n",
              "      <th>49</th>\n",
              "      <td>Wisconsin</td>\n",
              "      <td>68.3</td>\n",
              "      <td>90.1</td>\n",
              "      <td>88.6</td>\n",
              "      <td>8.6</td>\n",
              "      <td>9.6</td>\n",
              "    </tr>\n",
              "    <tr>\n",
              "      <th>50</th>\n",
              "      <td>Wyoming</td>\n",
              "      <td>65.1</td>\n",
              "      <td>94.7</td>\n",
              "      <td>90.9</td>\n",
              "      <td>9.5</td>\n",
              "      <td>8.7</td>\n",
              "    </tr>\n",
              "  </tbody>\n",
              "</table>\n",
              "</div>"
            ],
            "text/plain": [
              "                    state  metro_res  white  hs_grad  poverty  female_house\n",
              "0                 Alabama       55.4   71.3     79.9     14.6          14.2\n",
              "1                  Alaska       65.6   70.8     90.6      8.3          10.8\n",
              "2                 Arizona       88.2   87.7     83.8     13.3          11.1\n",
              "3                Arkansas       52.5   81.0     80.9     18.0          12.1\n",
              "4              California       94.4   77.5     81.1     12.8          12.6\n",
              "5                Colorado       84.5   90.2     88.7      9.4           9.6\n",
              "6             Connecticut       87.7   85.4     87.5      7.8          12.1\n",
              "7                Delaware       80.1   76.3     88.7      8.1          13.1\n",
              "8   District  of Columbia      100.0   36.2     86.0     16.8          18.9\n",
              "9                 Florida       89.3   80.6     84.7     12.1          12.0\n",
              "10                Georgia       71.6   67.5     85.1     12.1          14.5\n",
              "11                 Hawaii       91.5   25.9     88.5     10.6          12.4\n",
              "12                  Idaho       66.4   95.5     88.2     11.8           8.7\n",
              "13               Illinois       87.8   79.5     85.9     11.2          12.3\n",
              "14                Indiana       70.8   88.9     86.4      8.7          11.1\n",
              "15                   Iowa       61.1   94.9     89.7      8.3           8.6\n",
              "16                 Kansas       71.4   89.3     88.6      9.4           9.3\n",
              "17               Kentucky       55.8   90.3     82.8     13.1          11.8\n",
              "18              Louisiana       72.6   64.2     79.8     17.0          16.6\n",
              "19                  Maine       40.2   97.1     86.6     11.3           9.5\n",
              "20               Maryland       86.1   65.6     87.6      7.3          14.1\n",
              "21          Massachusetts       91.4   87.2     87.1      9.6          11.9\n",
              "22               Michigan       74.7   81.5     87.6     10.3          12.5\n",
              "23              Minnesota       70.9   90.2     91.6      6.5           8.9\n",
              "24            Mississippi       48.8   61.2     81.2     17.6          17.3\n",
              "25               Missouri       69.4   85.3     88.3      9.6          11.6\n",
              "26                Montana       54.1   90.9     90.1     13.7           8.9\n",
              "27               Nebraska       69.8   92.1     90.8      9.5           9.1\n",
              "28                 Nevada       91.5   84.1     85.6      8.3          11.1\n",
              "29         New  Hampshire       59.3   96.3     92.1      5.6           9.1\n",
              "30             New Jersey       94.4   77.3     86.2      7.8          12.6\n",
              "31             New Mexico       75.0   84.9     81.7     17.8          13.2\n",
              "32               New York       87.5   73.6     84.2     14.0          14.7\n",
              "33        North  Carolina       60.2   74.1     81.4     13.1          12.5\n",
              "34           North Dakota       55.9   92.5     89.7     11.9           7.8\n",
              "35                   Ohio       77.4   85.4     87.2     10.1          12.1\n",
              "36               Oklahoma       65.3   78.4     85.7     14.7          11.4\n",
              "37                 Oregon       78.7   90.8     86.9     11.2           9.8\n",
              "38           Pennsylvania       77.1   86.4     86.0      9.2          11.6\n",
              "39           Rhode Island       90.9   89.2     81.0     10.3          12.9\n",
              "40        South  Carolina       60.5   67.7     80.8     13.5          14.8\n",
              "41           South Dakota       51.9   88.8     88.7     10.2           9.0\n",
              "42              Tennessee       63.6   80.8     81.0     14.2          12.9\n",
              "43                  Texas       82.5   83.6     77.2     15.3          12.7\n",
              "44                   Utah       88.2   93.6     89.4      9.3           9.4\n",
              "45                Vermont       38.2   96.9     88.9      9.9           9.3\n",
              "46               Virginia       73.0   73.9     87.8      8.7          11.9\n",
              "47             Washington       82.0   85.5     89.1     10.8           9.9\n",
              "48         West  Virginia       46.1   95.0     78.7     16.0          10.7\n",
              "49              Wisconsin       68.3   90.1     88.6      8.6           9.6\n",
              "50                Wyoming       65.1   94.7     90.9      9.5           8.7"
            ]
          },
          "metadata": {
            "tags": []
          },
          "execution_count": 4
        }
      ]
    },
    {
      "cell_type": "code",
      "metadata": {
        "colab": {
          "base_uri": "https://localhost:8080/"
        },
        "id": "xXBJ6ENW8LXV",
        "outputId": "40037f9f-05bf-4811-feb4-6121267cba8d"
      },
      "source": [
        "df.shape"
      ],
      "execution_count": 5,
      "outputs": [
        {
          "output_type": "execute_result",
          "data": {
            "text/plain": [
              "(51, 6)"
            ]
          },
          "metadata": {
            "tags": []
          },
          "execution_count": 5
        }
      ]
    },
    {
      "cell_type": "code",
      "metadata": {
        "colab": {
          "base_uri": "https://localhost:8080/"
        },
        "id": "PGPTzIRndmwa",
        "outputId": "69a37ba7-fbd8-4bbc-fd03-3365d512c4e6"
      },
      "source": [
        "df.columns"
      ],
      "execution_count": 7,
      "outputs": [
        {
          "output_type": "execute_result",
          "data": {
            "text/plain": [
              "Index(['state', 'metro_res', 'white', 'hs_grad', 'poverty', 'female_house'], dtype='object')"
            ]
          },
          "metadata": {
            "tags": []
          },
          "execution_count": 7
        }
      ]
    },
    {
      "cell_type": "code",
      "metadata": {
        "id": "5w6Bry23Epd3",
        "colab": {
          "base_uri": "https://localhost:8080/",
          "height": 214
        },
        "outputId": "83a5865e-423f-4488-ad59-745088684532"
      },
      "source": [
        "# Before we decide what perdictor to use, we want to check pairplot to see if we find any visual guidance\n",
        "\n",
        "\n",
        "import seaborn as sns\n",
        "\n",
        "sns.pairplot(df, y_vars=\"state\", x_vars=['metro_res', 'white', 'hs_grad', 'poverty', 'female_house'])"
      ],
      "execution_count": 8,
      "outputs": [
        {
          "output_type": "execute_result",
          "data": {
            "text/plain": [
              "<seaborn.axisgrid.PairGrid at 0x7f1cf7fa3710>"
            ]
          },
          "metadata": {
            "tags": []
          },
          "execution_count": 8
        },
        {
          "output_type": "display_data",
          "data": {
            "image/png": "[encoded data removed]",
            "text/plain": [
              "<Figure size 900x180 with 5 Axes>"
            ]
          },
          "metadata": {
            "tags": [],
            "needs_background": "light"
          }
        }
      ]
    },
    {
      "cell_type": "code",
      "metadata": {
        "colab": {
          "base_uri": "https://localhost:8080/"
        },
        "id": "ZoobKAi4nfJd",
        "outputId": "6190750f-ac77-4b34-f8b3-88b989a39374"
      },
      "source": [
        "# Regression results overview\n",
        "\n",
        "import statsmodels.formula.api as smf\n",
        "m1 = smf.ols('poverty ~ hs_grad', \n",
        "             data=df)\n",
        "fitted = m1.fit()\n",
        "print(fitted.summary())\n",
        "\n",
        "# p < 0,05 means that there is statistical significance"
      ],
      "execution_count": 55,
      "outputs": [
        {
          "output_type": "stream",
          "text": [
            "/usr/local/lib/python3.7/dist-packages/statsmodels/tools/_testing.py:19: FutureWarning: pandas.util.testing is deprecated. Use the functions in the public API at pandas.testing instead.\n",
            "  import pandas.util.testing as tm\n"
          ],
          "name": "stderr"
        },
        {
          "output_type": "stream",
          "text": [
            "                            OLS Regression Results                            \n",
            "==============================================================================\n",
            "Dep. Variable:                poverty   R-squared:                       0.558\n",
            "Model:                            OLS   Adj. R-squared:                  0.549\n",
            "Method:                 Least Squares   F-statistic:                     61.81\n",
            "Date:                Sun, 30 May 2021   Prob (F-statistic):           3.11e-10\n",
            "Time:                        00:13:07   Log-Likelihood:                -108.74\n",
            "No. Observations:                  51   AIC:                             221.5\n",
            "Df Residuals:                      49   BIC:                             225.3\n",
            "Df Model:                           1                                         \n",
            "Covariance Type:            nonrobust                                         \n",
            "==============================================================================\n",
            "                 coef    std err          t      P>|t|      [0.025      0.975]\n",
            "------------------------------------------------------------------------------\n",
            "Intercept     64.7810      6.803      9.523      0.000      51.111      78.451\n",
            "hs_grad       -0.6212      0.079     -7.862      0.000      -0.780      -0.462\n",
            "==============================================================================\n",
            "Omnibus:                        3.534   Durbin-Watson:                   1.977\n",
            "Prob(Omnibus):                  0.171   Jarque-Bera (JB):                2.653\n",
            "Skew:                           0.540   Prob(JB):                        0.265\n",
            "Kurtosis:                       3.289   Cond. No.                     2.01e+03\n",
            "==============================================================================\n",
            "\n",
            "Warnings:\n",
            "[1] Standard Errors assume that the covariance matrix of the errors is correctly specified.\n",
            "[2] The condition number is large, 2.01e+03. This might indicate that there are\n",
            "strong multicollinearity or other numerical problems.\n"
          ],
          "name": "stdout"
        }
      ]
    },
    {
      "cell_type": "code",
      "metadata": {
        "colab": {
          "base_uri": "https://localhost:8080/"
        },
        "id": "yimg2FyZ78fv",
        "outputId": "269e4c5e-d769-4fd4-aa14-172d9cee436c"
      },
      "source": [
        "# First we will test linear regression using one variable\n",
        "# In this analysis I will use hs_grad as the perdictor\n",
        "# Worth noting that I am using 75% of data for training and 25% for testing in this colab\n",
        "\n",
        "Y = df[['poverty']]\n",
        "X = df[['hs_grad']]\n",
        "\n",
        "from sklearn.model_selection import train_test_split\n",
        "X_train, X_test, y_train, y_test = train_test_split(X, Y, test_size=0.25, random_state=1)\n",
        "# training\n",
        "import sklearn.linear_model as linear_module\n",
        "model = linear_module.LinearRegression()\n",
        "reg = model.fit(X_train, y_train)\n",
        "print(\"intercept\", reg.intercept_)\n",
        "print(\"slope\", reg.coef_)\n",
        "\n",
        "# training error\n",
        "y_train_predict = reg.predict(X_train)\n",
        "regression_train_rse = math.sqrt(mean_squared_error(y_train_predict, y_train))\n",
        "r2_score_tr=r2_score(y_train, y_train_predict)\n",
        "print(\"Training error: \", r2_score_tr)\n",
        "\n",
        "# test error\n",
        "y_predict = reg.predict(X_test)\n",
        "regression_test_rse = math.sqrt(mean_squared_error(y_predict, y_test))\n",
        "r2_score_ts=r2_score(y_test, y_predict)\n",
        "print(\"Test error:\", r2_score_ts)\n",
        "\n",
        "# Based on r2_score 49% of variability can be explained by the model"
      ],
      "execution_count": 11,
      "outputs": [
        {
          "output_type": "stream",
          "text": [
            "intercept [65.66392245]\n",
            "slope [[-0.63353192]]\n",
            "Training error:  0.5727012009678737\n",
            "Test error: 0.49798874751389655\n"
          ],
          "name": "stdout"
        }
      ]
    },
    {
      "cell_type": "code",
      "metadata": {
        "colab": {
          "base_uri": "https://localhost:8080/"
        },
        "id": "SFHWfTcahRuo",
        "outputId": "76947120-882f-452f-f4c3-686509d6b665"
      },
      "source": [
        "# In this analysis I will use white as the perdictor\n",
        "\n",
        "Y = df[['poverty']]\n",
        "X = df[['white']]\n",
        "\n",
        "from sklearn.model_selection import train_test_split\n",
        "X_train, X_test, y_train, y_test = train_test_split(X, Y, test_size=0.25, random_state=1)\n",
        "# training\n",
        "import sklearn.linear_model as linear_module\n",
        "model = linear_module.LinearRegression()\n",
        "reg = model.fit(X_train, y_train)\n",
        "print(\"intercept\", reg.intercept_)\n",
        "print(\"slope\", reg.coef_)\n",
        "\n",
        "# training error\n",
        "y_train_predict = reg.predict(X_train)\n",
        "regression_train_rse = math.sqrt(mean_squared_error(y_train_predict, y_train))\n",
        "r2_score_tr=r2_score(y_train, y_train_predict)\n",
        "print(\"Training error: \", r2_score_tr)\n",
        "\n",
        "# test error\n",
        "y_predict = reg.predict(X_test)\n",
        "regression_test_rse = math.sqrt(mean_squared_error(y_predict, y_test))\n",
        "r2_score_ts=r2_score(y_test, y_predict)\n",
        "print(\"Test error:\", r2_score_ts)\n",
        "\n",
        "# Based on r2_score 11% of variability can be explained by the model"
      ],
      "execution_count": 52,
      "outputs": [
        {
          "output_type": "stream",
          "text": [
            "intercept [16.04367223]\n",
            "slope [[-0.05718019]]\n",
            "Training error:  0.08017696386942053\n",
            "Test error: 0.11399744761631148\n"
          ],
          "name": "stdout"
        }
      ]
    },
    {
      "cell_type": "code",
      "metadata": {
        "colab": {
          "base_uri": "https://localhost:8080/"
        },
        "id": "xPycAArHhYJx",
        "outputId": "b1b6ea2a-4b79-4570-9997-704f9fa52c36"
      },
      "source": [
        "# In this analysis I will use female_house as the perdictor\n",
        "\n",
        "Y = df[['poverty']]\n",
        "X = df[['female_house']]\n",
        "\n",
        "from sklearn.model_selection import train_test_split\n",
        "X_train, X_test, y_train, y_test = train_test_split(X, Y, test_size=0.25, random_state=1)\n",
        "# training\n",
        "import sklearn.linear_model as linear_module\n",
        "model = linear_module.LinearRegression()\n",
        "reg = model.fit(X_train, y_train)\n",
        "print(\"intercept\", reg.intercept_)\n",
        "print(\"slope\", reg.coef_)\n",
        "\n",
        "# training error\n",
        "y_train_predict = reg.predict(X_train)\n",
        "regression_train_rse = math.sqrt(mean_squared_error(y_train_predict, y_train))\n",
        "r2_score_tr=r2_score(y_train, y_train_predict)\n",
        "print(\"Training error: \", r2_score_tr)\n",
        "\n",
        "# test error\n",
        "y_predict = reg.predict(X_test)\n",
        "regression_test_rse = math.sqrt(mean_squared_error(y_predict, y_test))\n",
        "r2_score_ts=r2_score(y_test, y_predict)\n",
        "print(\"Test error:\", r2_score_ts)\n",
        "\n",
        "# Based on r2_score 18% of variability can be explained by the model"
      ],
      "execution_count": 53,
      "outputs": [
        {
          "output_type": "stream",
          "text": [
            "intercept [3.15032837]\n",
            "slope [[0.69650744]]\n",
            "Training error:  0.3058554718696975\n",
            "Test error: 0.18118640381892048\n"
          ],
          "name": "stdout"
        }
      ]
    },
    {
      "cell_type": "code",
      "metadata": {
        "colab": {
          "base_uri": "https://localhost:8080/"
        },
        "id": "bYSZ-wKNhlWY",
        "outputId": "021b4196-6713-4484-8bb8-c4e8be2f28b1"
      },
      "source": [
        "# In this analysis I will use metro_res as the perdictor\n",
        "\n",
        "Y = df[['poverty']]\n",
        "X = df[['metro_res']]\n",
        "\n",
        "from sklearn.model_selection import train_test_split\n",
        "X_train, X_test, y_train, y_test = train_test_split(X, Y, test_size=0.25, random_state=1)\n",
        "# training\n",
        "import sklearn.linear_model as linear_module\n",
        "model = linear_module.LinearRegression()\n",
        "reg = model.fit(X_train, y_train)\n",
        "print(\"intercept\", reg.intercept_)\n",
        "print(\"slope\", reg.coef_)\n",
        "\n",
        "# training error\n",
        "y_train_predict = reg.predict(X_train)\n",
        "regression_train_rse = math.sqrt(mean_squared_error(y_train_predict, y_train))\n",
        "r2_score_tr=r2_score(y_train, y_train_predict)\n",
        "print(\"Training error: \", r2_score_tr)\n",
        "\n",
        "# test error\n",
        "y_predict = reg.predict(X_test)\n",
        "regression_test_rse = math.sqrt(mean_squared_error(y_predict, y_test))\n",
        "r2_score_ts=r2_score(y_test, y_predict)\n",
        "print(\"Test error:\", r2_score_ts)\n",
        "\n",
        "# Based on r2_score 3% of variability can be explained by the model"
      ],
      "execution_count": 54,
      "outputs": [
        {
          "output_type": "stream",
          "text": [
            "intercept [14.13689334]\n",
            "slope [[-0.03718506]]\n",
            "Training error:  0.036406298865671816\n",
            "Test error: 0.03790955116555472\n"
          ],
          "name": "stdout"
        }
      ]
    },
    {
      "cell_type": "code",
      "metadata": {
        "colab": {
          "base_uri": "https://localhost:8080/"
        },
        "id": "IC3nWkXVzD7N",
        "outputId": "de89c2ca-ac80-4449-c266-40ada309ac9c"
      },
      "source": [
        "# Using 2 predictors: 'white', 'hs_grad'\n",
        "\n",
        "Y = df[['poverty']]\n",
        "X = df[['white', 'hs_grad']]\n",
        "\n",
        "from sklearn.model_selection import train_test_split\n",
        "X_train, X_test, y_train, y_test = train_test_split(X, Y, test_size=0.25, random_state=1)\n",
        "\n",
        "# training\n",
        "import sklearn.linear_model as linear_module\n",
        "model = linear_module.LinearRegression()\n",
        "reg = model.fit(X_train, y_train)\n",
        "print(\"intercept\", reg.intercept_)\n",
        "print(\"slope\", reg.coef_)\n",
        "\n",
        "# training error\n",
        "y_train_predict = reg.predict(X_train)\n",
        "regression_train_rse = math.sqrt(mean_squared_error(y_train_predict, y_train))\n",
        "r2_score_tr=r2_score(y_train, y_train_predict)\n",
        "print(\"Training error: \", r2_score_tr)\n",
        "\n",
        "# test error\n",
        "y_predict = reg.predict(X_test)\n",
        "regression_test_rse = math.sqrt(mean_squared_error(y_predict, y_test))\n",
        "r2_score_ts=r2_score(y_test, y_predict)\n",
        "print(\"Test error:\", r2_score_ts)\n",
        "\n",
        "# Agian, based on r2_score, only 44% of variability can be explained by the model\n",
        "# Using 2 predictors doesn't improve the results (actually the result is slightly worse)"
      ],
      "execution_count": 59,
      "outputs": [
        {
          "output_type": "stream",
          "text": [
            "intercept [67.23806856]\n",
            "slope [[-0.04006851 -0.61435205]]\n",
            "Training error:  0.6115462488918346\n",
            "Test error: 0.44176482187782695\n"
          ],
          "name": "stdout"
        }
      ]
    },
    {
      "cell_type": "code",
      "metadata": {
        "colab": {
          "base_uri": "https://localhost:8080/",
          "height": 248
        },
        "id": "qx9Dyi20zdEO",
        "outputId": "58e23d1c-abbf-4259-af2d-0735b7758f08"
      },
      "source": [
        "# we can plot a 3D plot showing this data\n",
        "\n",
        "data_slice = df[['white', 'hs_grad', 'poverty']]\n",
        "data_slice.head()\n",
        "white, hs_grad, poverty = [column for column in data_slice.values.T]\n",
        "\n",
        "from mpl_toolkits.mplot3d import Axes3D\n",
        "\n",
        "fig = plt.figure()\n",
        "ax = fig.add_subplot(111, projection='3d')\n",
        "ax.scatter(xs=white, ys=poverty, zs=hs_grad)\n",
        "\n",
        "ax.set_xlabel('White(%)')\n",
        "ax.set_ylabel('Poverty(%)')\n",
        "ax.set_zlabel('Higher education(%)')\n",
        "\n",
        "plt.show()"
      ],
      "execution_count": 62,
      "outputs": [
        {
          "output_type": "display_data",
          "data": {
            "image/png": "[encoded data removed]",
            "text/plain": [
              "<Figure size 432x288 with 1 Axes>"
            ]
          },
          "metadata": {
            "tags": [],
            "needs_background": "light"
          }
        }
      ]
    },
    {
      "cell_type": "code",
      "metadata": {
        "colab": {
          "base_uri": "https://localhost:8080/"
        },
        "id": "mUnKXEHeCDhQ",
        "outputId": "9a3b907d-66ce-4893-df0a-94297b1384df"
      },
      "source": [
        "# Using all predictors\n",
        "\n",
        "Y = df[['poverty']]\n",
        "X = df[['metro_res', 'white', 'hs_grad', 'female_house']]\n",
        "\n",
        "from sklearn.model_selection import train_test_split\n",
        "X_train, X_test, y_train, y_test = train_test_split(X, Y, test_size=0.25, random_state=1)\n",
        "\n",
        "# training\n",
        "import sklearn.linear_model as linear_module\n",
        "model = linear_module.LinearRegression()\n",
        "reg = model.fit(X_train, y_train)\n",
        "print(\"intercept\", reg.intercept_)\n",
        "print(\"slope\", reg.coef_)\n",
        "\n",
        "# training error\n",
        "y_train_predict = reg.predict(X_train)\n",
        "regression_train_rse = math.sqrt(mean_squared_error(y_train_predict, y_train))\n",
        "r2_score_tr=r2_score(y_train, y_train_predict)\n",
        "print(\"Training error: \", r2_score_tr)\n",
        "\n",
        "# test error\n",
        "y_predict = reg.predict(X_test)\n",
        "regression_test_rse = math.sqrt(mean_squared_error(y_predict, y_test))\n",
        "r2_score_ts=r2_score(y_test, y_predict)\n",
        "print(\"Test error:\", r2_score_ts)\n",
        "\n",
        "# Agian, based on r2_score, only 48% of variability can be explained by the model\n",
        "# Using 4 predictors doesn't improve the results (actually the result is slightly worse)"
      ],
      "execution_count": 70,
      "outputs": [
        {
          "output_type": "stream",
          "text": [
            "intercept [65.60511731]\n",
            "slope [[-0.05641241 -0.0492473  -0.5563571   0.12373212]]\n",
            "Training error:  0.6815553318250999\n",
            "Test error: 0.48719779124124096\n"
          ],
          "name": "stdout"
        }
      ]
    },
    {
      "cell_type": "code",
      "metadata": {
        "colab": {
          "base_uri": "https://localhost:8080/",
          "height": 265
        },
        "id": "pn0LLLBH1dUK",
        "outputId": "c25f555f-2813-41f8-de02-02b9076f0e67"
      },
      "source": [
        "# plotting in 3D metro_res and hs_grad\n",
        "\n",
        "df.head()\n",
        "\n",
        "lm = smf.ols(formula='poverty ~ metro_res + hs_grad', data=df).fit()\n",
        "\n",
        "lm.params\n",
        "\n",
        "def f(x, y):\n",
        "    return lm.params.Intercept + lm.params.hs_grad * x  + lm.params.metro_res * y\n",
        "\n",
        "x = df.hs_grad.sort_values()\n",
        "y = df.metro_res.sort_values()\n",
        "\n",
        "X, Y = np.meshgrid(x, y)\n",
        "Z = f(X, Y)\n",
        "\n",
        "fig = plt.figure()\n",
        "ax = plt.axes(projection='3d')\n",
        "ax.plot_surface(X, Y, Z, alpha=0.3)\n",
        "data_below_serf = df[df['poverty'] < f(df['hs_grad'], df['metro_res'])]\n",
        "data_above_serf = df[df['poverty'] >= f(df['hs_grad'], df['metro_res'])]\n",
        "ax.scatter(data_below_serf.hs_grad, data_below_serf.metro_res, data_below_serf.poverty, c='r', marker='o')\n",
        "ax.scatter(data_above_serf.hs_grad, data_above_serf.metro_res, data_above_serf.poverty, c='g', marker='o')\n",
        "ax.set_xlabel('hs_grad')\n",
        "ax.set_ylabel('metro_res')\n",
        "ax.set_zlabel('poverty')"
      ],
      "execution_count": 67,
      "outputs": [
        {
          "output_type": "execute_result",
          "data": {
            "text/plain": [
              "Text(0.5, 0, 'poverty')"
            ]
          },
          "metadata": {
            "tags": []
          },
          "execution_count": 67
        },
        {
          "output_type": "display_data",
          "data": {
            "image/png": "[encoded data removed]",
            "text/plain": [
              "<Figure size 432x288 with 1 Axes>"
            ]
          },
          "metadata": {
            "tags": [],
            "needs_background": "light"
          }
        }
      ]
    },
    {
      "cell_type": "code",
      "metadata": {
        "colab": {
          "base_uri": "https://localhost:8080/"
        },
        "id": "oPkaELk-CpQ5",
        "outputId": "e6efabd5-a39d-4d0b-f55e-b2f2957e7ca9"
      },
      "source": [
        "# Standardizing 'poverty', 'female_house'\n",
        "# Ideally we would like to standardize values that are far apart on the numeric scale\n",
        "\n",
        "Y = df[['hs_grad']]\n",
        "X = df[['poverty', 'female_house']]\n",
        "\n",
        "from sklearn.model_selection import train_test_split\n",
        "X_train, X_test, y_train, y_test = train_test_split(X, Y, test_size=0.25, random_state=1)\n",
        "\n",
        "# training\n",
        "import sklearn.linear_model as linear_module\n",
        "model = linear_module.LinearRegression()\n",
        "reg = model.fit(X_train, y_train)\n",
        "print(\"intercept\", reg.intercept_)\n",
        "print(\"slope\", reg.coef_)"
      ],
      "execution_count": 13,
      "outputs": [
        {
          "output_type": "stream",
          "text": [
            "intercept [97.90145894]\n",
            "slope [[-0.77782931 -0.2872795 ]]\n"
          ],
          "name": "stdout"
        }
      ]
    },
    {
      "cell_type": "code",
      "metadata": {
        "colab": {
          "base_uri": "https://localhost:8080/"
        },
        "id": "m4S9cKuYC0Gl",
        "outputId": "635e0e61-8a7e-445e-c8af-ddb91566282f"
      },
      "source": [
        "scaler = preprocessing.StandardScaler().fit(X)\n",
        "\n",
        "scaler"
      ],
      "execution_count": 14,
      "outputs": [
        {
          "output_type": "execute_result",
          "data": {
            "text/plain": [
              "StandardScaler()"
            ]
          },
          "metadata": {
            "tags": []
          },
          "execution_count": 14
        }
      ]
    },
    {
      "cell_type": "code",
      "metadata": {
        "colab": {
          "base_uri": "https://localhost:8080/"
        },
        "id": "xkp-qyQrC2Up",
        "outputId": "c7454efa-d2ce-4bc4-b51e-6b6c70c39019"
      },
      "source": [
        "print(scaler.mean_, scaler.scale_)"
      ],
      "execution_count": 15,
      "outputs": [
        {
          "output_type": "stream",
          "text": [
            "[11.34901961 11.63333333] [3.06865063 2.33294114]\n"
          ],
          "name": "stdout"
        }
      ]
    },
    {
      "cell_type": "code",
      "metadata": {
        "colab": {
          "base_uri": "https://localhost:8080/"
        },
        "id": "ogH5DEPPC5A9",
        "outputId": "8fcc3ff3-a195-4925-9d98-df008d99740e"
      },
      "source": [
        "X_train_scaled = scaler.transform(X_train)\n",
        "X_train_scaled[0:5]"
      ],
      "execution_count": 16,
      "outputs": [
        {
          "output_type": "execute_result",
          "data": {
            "text/plain": [
              "array([[-0.37443807, -1.12876115],\n",
              "       [-0.34185045,  0.5429484 ],\n",
              "       [-0.56996375,  0.11430493],\n",
              "       [ 0.70095317,  1.35737101],\n",
              "       [-0.7003142 , -0.01428812]])"
            ]
          },
          "metadata": {
            "tags": []
          },
          "execution_count": 16
        }
      ]
    },
    {
      "cell_type": "code",
      "metadata": {
        "colab": {
          "base_uri": "https://localhost:8080/",
          "height": 204
        },
        "id": "5AWDRsJFC7Ep",
        "outputId": "8542771c-62d7-4a24-c38a-1ee15f1555e1"
      },
      "source": [
        "X_train[0:5]"
      ],
      "execution_count": 17,
      "outputs": [
        {
          "output_type": "execute_result",
          "data": {
            "text/html": [
              "<div>\n",
              "<style scoped>\n",
              "    .dataframe tbody tr th:only-of-type {\n",
              "        vertical-align: middle;\n",
              "    }\n",
              "\n",
              "    .dataframe tbody tr th {\n",
              "        vertical-align: top;\n",
              "    }\n",
              "\n",
              "    .dataframe thead th {\n",
              "        text-align: right;\n",
              "    }\n",
              "</style>\n",
              "<table border=\"1\" class=\"dataframe\">\n",
              "  <thead>\n",
              "    <tr style=\"text-align: right;\">\n",
              "      <th></th>\n",
              "      <th>poverty</th>\n",
              "      <th>female_house</th>\n",
              "    </tr>\n",
              "  </thead>\n",
              "  <tbody>\n",
              "    <tr>\n",
              "      <th>41</th>\n",
              "      <td>10.2</td>\n",
              "      <td>9.0</td>\n",
              "    </tr>\n",
              "    <tr>\n",
              "      <th>39</th>\n",
              "      <td>10.3</td>\n",
              "      <td>12.9</td>\n",
              "    </tr>\n",
              "    <tr>\n",
              "      <th>21</th>\n",
              "      <td>9.6</td>\n",
              "      <td>11.9</td>\n",
              "    </tr>\n",
              "    <tr>\n",
              "      <th>40</th>\n",
              "      <td>13.5</td>\n",
              "      <td>14.8</td>\n",
              "    </tr>\n",
              "    <tr>\n",
              "      <th>38</th>\n",
              "      <td>9.2</td>\n",
              "      <td>11.6</td>\n",
              "    </tr>\n",
              "  </tbody>\n",
              "</table>\n",
              "</div>"
            ],
            "text/plain": [
              "    poverty  female_house\n",
              "41     10.2           9.0\n",
              "39     10.3          12.9\n",
              "21      9.6          11.9\n",
              "40     13.5          14.8\n",
              "38      9.2          11.6"
            ]
          },
          "metadata": {
            "tags": []
          },
          "execution_count": 17
        }
      ]
    },
    {
      "cell_type": "code",
      "metadata": {
        "colab": {
          "base_uri": "https://localhost:8080/"
        },
        "id": "W1Zig0n3C94E",
        "outputId": "f424ee16-bf30-42e4-dcfa-da992d6762a6"
      },
      "source": [
        "# training\n",
        "\n",
        "model = linear_module.LinearRegression()\n",
        "reg = model.fit(X_train_scaled, y_train)\n",
        "print(\"intercept\", reg.intercept_)\n",
        "print(\"slope\", reg.coef_)"
      ],
      "execution_count": 18,
      "outputs": [
        {
          "output_type": "stream",
          "text": [
            "intercept [85.73184068]\n",
            "slope [[-2.3868864  -0.67020616]]\n"
          ],
          "name": "stdout"
        }
      ]
    },
    {
      "cell_type": "code",
      "metadata": {
        "colab": {
          "base_uri": "https://localhost:8080/"
        },
        "id": "JA5mKfy1DBFJ",
        "outputId": "741d334c-1ba3-42db-d1fa-cb044d0d984f"
      },
      "source": [
        "# test error\n",
        "\n",
        "X_test_scaled = scaler.transform(X_test)\n",
        "\n",
        "\n",
        "y_predict = reg.predict(X_test_scaled)\n",
        "regression_test_rse = math.sqrt(mean_squared_error(y_predict, y_test))\n",
        "\n",
        "from sklearn.metrics import r2_score\n",
        "r2_score(y_test, y_predict)"
      ],
      "execution_count": 19,
      "outputs": [
        {
          "output_type": "execute_result",
          "data": {
            "text/plain": [
              "0.5671141214888554"
            ]
          },
          "metadata": {
            "tags": []
          },
          "execution_count": 19
        }
      ]
    },
    {
      "cell_type": "code",
      "metadata": {
        "colab": {
          "base_uri": "https://localhost:8080/"
        },
        "id": "oEWHuH5wDHhY",
        "outputId": "3e12735d-0a91-466d-a3bd-672b8a770b60"
      },
      "source": [
        "# min-max scaler\n",
        "\n",
        "from sklearn.preprocessing import MinMaxScaler\n",
        "\n",
        "min_max_scaler = preprocessing.MinMaxScaler()\n",
        "X_train_minmax = min_max_scaler.fit_transform(X_train)\n",
        "X_train_minmax[0:5]"
      ],
      "execution_count": 20,
      "outputs": [
        {
          "output_type": "execute_result",
          "data": {
            "text/plain": [
              "array([[0.32743363, 0.10810811],\n",
              "       [0.33628319, 0.45945946],\n",
              "       [0.27433628, 0.36936937],\n",
              "       [0.61946903, 0.63063063],\n",
              "       [0.23893805, 0.34234234]])"
            ]
          },
          "metadata": {
            "tags": []
          },
          "execution_count": 20
        }
      ]
    },
    {
      "cell_type": "code",
      "metadata": {
        "colab": {
          "base_uri": "https://localhost:8080/",
          "height": 204
        },
        "id": "N_BlrEwCDO_m",
        "outputId": "06862bd3-21b6-45af-e258-92d5acfa1d37"
      },
      "source": [
        "X_train[0:5]"
      ],
      "execution_count": 21,
      "outputs": [
        {
          "output_type": "execute_result",
          "data": {
            "text/html": [
              "<div>\n",
              "<style scoped>\n",
              "    .dataframe tbody tr th:only-of-type {\n",
              "        vertical-align: middle;\n",
              "    }\n",
              "\n",
              "    .dataframe tbody tr th {\n",
              "        vertical-align: top;\n",
              "    }\n",
              "\n",
              "    .dataframe thead th {\n",
              "        text-align: right;\n",
              "    }\n",
              "</style>\n",
              "<table border=\"1\" class=\"dataframe\">\n",
              "  <thead>\n",
              "    <tr style=\"text-align: right;\">\n",
              "      <th></th>\n",
              "      <th>poverty</th>\n",
              "      <th>female_house</th>\n",
              "    </tr>\n",
              "  </thead>\n",
              "  <tbody>\n",
              "    <tr>\n",
              "      <th>41</th>\n",
              "      <td>10.2</td>\n",
              "      <td>9.0</td>\n",
              "    </tr>\n",
              "    <tr>\n",
              "      <th>39</th>\n",
              "      <td>10.3</td>\n",
              "      <td>12.9</td>\n",
              "    </tr>\n",
              "    <tr>\n",
              "      <th>21</th>\n",
              "      <td>9.6</td>\n",
              "      <td>11.9</td>\n",
              "    </tr>\n",
              "    <tr>\n",
              "      <th>40</th>\n",
              "      <td>13.5</td>\n",
              "      <td>14.8</td>\n",
              "    </tr>\n",
              "    <tr>\n",
              "      <th>38</th>\n",
              "      <td>9.2</td>\n",
              "      <td>11.6</td>\n",
              "    </tr>\n",
              "  </tbody>\n",
              "</table>\n",
              "</div>"
            ],
            "text/plain": [
              "    poverty  female_house\n",
              "41     10.2           9.0\n",
              "39     10.3          12.9\n",
              "21      9.6          11.9\n",
              "40     13.5          14.8\n",
              "38      9.2          11.6"
            ]
          },
          "metadata": {
            "tags": []
          },
          "execution_count": 21
        }
      ]
    },
    {
      "cell_type": "code",
      "metadata": {
        "colab": {
          "base_uri": "https://localhost:8080/"
        },
        "id": "94l2qhnSIKmB",
        "outputId": "d5a22c97-b08d-4ffc-ef06-3fe5861e6b38"
      },
      "source": [
        "!pip show scikit-learn"
      ],
      "execution_count": 22,
      "outputs": [
        {
          "output_type": "stream",
          "text": [
            "Name: scikit-learn\n",
            "Version: 0.24.2\n",
            "Summary: A set of python modules for machine learning and data mining\n",
            "Home-page: http://scikit-learn.org\n",
            "Author: None\n",
            "Author-email: None\n",
            "License: new BSD\n",
            "Location: /usr/local/lib/python3.7/dist-packages\n",
            "Requires: scipy, threadpoolctl, numpy, joblib\n",
            "Required-by: yellowbrick, sklearn, sklearn-pandas, mlxtend, lightgbm, librosa, imbalanced-learn\n"
          ],
          "name": "stdout"
        }
      ]
    },
    {
      "cell_type": "code",
      "metadata": {
        "colab": {
          "base_uri": "https://localhost:8080/"
        },
        "id": "giBTQWuhIPNL",
        "outputId": "0d5084ae-3277-4a49-88be-58b0e514d0a9"
      },
      "source": [
        "sklearn.show_versions()"
      ],
      "execution_count": 23,
      "outputs": [
        {
          "output_type": "stream",
          "text": [
            "\n",
            "System:\n",
            "    python: 3.7.10 (default, May  3 2021, 02:48:31)  [GCC 7.5.0]\n",
            "executable: /usr/bin/python3\n",
            "   machine: Linux-5.4.109+-x86_64-with-Ubuntu-18.04-bionic\n",
            "\n",
            "Python dependencies:\n",
            "          pip: 19.3.1\n",
            "   setuptools: 56.1.0\n",
            "      sklearn: 0.24.2\n",
            "        numpy: 1.19.5\n",
            "        scipy: 1.4.1\n",
            "       Cython: 0.29.23\n",
            "       pandas: 1.1.5\n",
            "   matplotlib: 3.2.2\n",
            "       joblib: 1.0.1\n",
            "threadpoolctl: 2.1.0\n",
            "\n",
            "Built with OpenMP: True\n"
          ],
          "name": "stdout"
        }
      ]
    },
    {
      "cell_type": "code",
      "metadata": {
        "id": "TUhCi6jYoQ5F"
      },
      "source": [
        "# We will use min_max_scaler\n",
        "\n",
        "Y = df[['poverty']]\n",
        "X_unscaled = df[['metro_res', 'white', 'hs_grad', 'female_house']]\n",
        "\n",
        "X = min_max_scaler.fit_transform(X_unscaled)\n",
        "\n",
        "X_train, X_test, y_train, y_test = train_test_split(X, Y, test_size=0.25, random_state=1)"
      ],
      "execution_count": 24,
      "outputs": []
    },
    {
      "cell_type": "code",
      "metadata": {
        "colab": {
          "base_uri": "https://localhost:8080/"
        },
        "id": "vBRRGZ8erPOX",
        "outputId": "0fb43301-2c33-47d7-e575-99744e8bf607"
      },
      "source": [
        "# Forward and backward selection using regression model\n",
        "\n",
        "from sklearn.feature_selection import SequentialFeatureSelector\n",
        "from time import time\n",
        "from sklearn.linear_model import Lasso\n",
        "\n",
        "model = linear_module.LinearRegression()\n",
        "reg = model.fit(X_train, y_train)\n",
        "\n",
        "# this feature is optional: n_features_to_select=3, we are telling how many features to select\n",
        "\n",
        "tic_fwd = time()\n",
        "sfs_forward = SequentialFeatureSelector(reg, n_features_to_select=3,\n",
        "                                        direction='forward').fit(X_train, y_train)\n",
        "toc_fwd = time()\n",
        "\n",
        "tic_bwd = time()\n",
        "sfs_backward = SequentialFeatureSelector(reg,\n",
        "                                       direction='backward').fit(X_train, y_train)\n",
        "toc_bwd = time()\n",
        "\n",
        "sfs_forward.get_support()\n",
        "toc_fwd = time()\n",
        "print(toc_fwd)\n",
        "print(tic_bwd)"
      ],
      "execution_count": 26,
      "outputs": [
        {
          "output_type": "stream",
          "text": [
            "1622331606.3376265\n",
            "1622331606.2923687\n"
          ],
          "name": "stdout"
        }
      ]
    },
    {
      "cell_type": "code",
      "metadata": {
        "colab": {
          "base_uri": "https://localhost:8080/"
        },
        "id": "f8OZoDKKrce9",
        "outputId": "50844526-46a1-4401-d0e7-11f1b2a2136e"
      },
      "source": [
        "X_unscaled.columns[sfs_forward.get_support()]"
      ],
      "execution_count": 27,
      "outputs": [
        {
          "output_type": "execute_result",
          "data": {
            "text/plain": [
              "Index(['metro_res', 'white', 'hs_grad'], dtype='object')"
            ]
          },
          "metadata": {
            "tags": []
          },
          "execution_count": 27
        }
      ]
    },
    {
      "cell_type": "code",
      "metadata": {
        "colab": {
          "base_uri": "https://localhost:8080/"
        },
        "id": "KknTSWxgrzHv",
        "outputId": "950b07cc-ec08-4e7b-cc8b-28ea958de1af"
      },
      "source": [
        "X_unscaled.columns[sfs_backward.get_support()]"
      ],
      "execution_count": 28,
      "outputs": [
        {
          "output_type": "execute_result",
          "data": {
            "text/plain": [
              "Index(['white', 'hs_grad'], dtype='object')"
            ]
          },
          "metadata": {
            "tags": []
          },
          "execution_count": 28
        }
      ]
    },
    {
      "cell_type": "code",
      "metadata": {
        "colab": {
          "base_uri": "https://localhost:8080/"
        },
        "id": "ANvd3UPrr5cG",
        "outputId": "9e2d6e01-86f3-4fd4-969f-111998d719d3"
      },
      "source": [
        "sfs_forward.get_params()"
      ],
      "execution_count": 29,
      "outputs": [
        {
          "output_type": "execute_result",
          "data": {
            "text/plain": [
              "{'cv': 5,\n",
              " 'direction': 'forward',\n",
              " 'estimator': LinearRegression(),\n",
              " 'estimator__copy_X': True,\n",
              " 'estimator__fit_intercept': True,\n",
              " 'estimator__n_jobs': None,\n",
              " 'estimator__normalize': False,\n",
              " 'estimator__positive': False,\n",
              " 'n_features_to_select': 3,\n",
              " 'n_jobs': None,\n",
              " 'scoring': None}"
            ]
          },
          "metadata": {
            "tags": []
          },
          "execution_count": 29
        }
      ]
    },
    {
      "cell_type": "code",
      "metadata": {
        "colab": {
          "base_uri": "https://localhost:8080/"
        },
        "id": "uBJtVDn6r8om",
        "outputId": "babd92af-b8e6-4f72-da75-ecdf3826a1dc"
      },
      "source": [
        "X_train[0:5]"
      ],
      "execution_count": 30,
      "outputs": [
        {
          "output_type": "execute_result",
          "data": {
            "text/plain": [
              "array([[0.22168285, 0.88342697, 0.77181208, 0.10810811],\n",
              "       [0.85275081, 0.88904494, 0.25503356, 0.45945946],\n",
              "       [0.86084142, 0.86095506, 0.66442953, 0.36936937],\n",
              "       [0.36084142, 0.58707865, 0.24161074, 0.63063063],\n",
              "       [0.62944984, 0.8497191 , 0.59060403, 0.34234234]])"
            ]
          },
          "metadata": {
            "tags": []
          },
          "execution_count": 30
        }
      ]
    },
    {
      "cell_type": "code",
      "metadata": {
        "colab": {
          "base_uri": "https://localhost:8080/"
        },
        "id": "q1HJHmaHr_wY",
        "outputId": "b6b5a652-4060-4c8c-f358-32bad329f3f9"
      },
      "source": [
        "y_predict = sfs_backward.estimator.predict(X_test)\n",
        "regression_test_rse = math.sqrt(mean_squared_error(y_predict, y_test))\n",
        "\n",
        "from sklearn.metrics import r2_score\n",
        "r2_score(y_test, y_predict)\n",
        "\n",
        "# Using backward selection based on r2_score, 48% of variability can be explained by the model"
      ],
      "execution_count": 31,
      "outputs": [
        {
          "output_type": "execute_result",
          "data": {
            "text/plain": [
              "0.4871977912412424"
            ]
          },
          "metadata": {
            "tags": []
          },
          "execution_count": 31
        }
      ]
    },
    {
      "cell_type": "code",
      "metadata": {
        "colab": {
          "base_uri": "https://localhost:8080/"
        },
        "id": "E-eNlZc1NQzc",
        "outputId": "a8db8a51-7c80-47b2-d912-93ecad4976a6"
      },
      "source": [
        "df.columns"
      ],
      "execution_count": 32,
      "outputs": [
        {
          "output_type": "execute_result",
          "data": {
            "text/plain": [
              "Index(['state', 'metro_res', 'white', 'hs_grad', 'poverty', 'female_house'], dtype='object')"
            ]
          },
          "metadata": {
            "tags": []
          },
          "execution_count": 32
        }
      ]
    },
    {
      "cell_type": "code",
      "metadata": {
        "colab": {
          "base_uri": "https://localhost:8080/"
        },
        "id": "PQ8gJ0SwNWP0",
        "outputId": "4ca6edca-3010-405c-e300-3173accce511"
      },
      "source": [
        "# We will now use ridge model (all predictors)\n",
        "\n",
        "from sklearn.linear_model import Ridge\n",
        "\n",
        "Y = df[['poverty']]\n",
        "X = df[['metro_res', 'white', 'hs_grad', 'female_house']]\n",
        "\n",
        "X_train, X_test, y_train, y_test = train_test_split(X, Y, test_size=0.25, random_state=1)\n",
        "\n",
        "\n",
        "regressor = Ridge(alpha=0.5)\n",
        "regressor.fit(X_train,y_train)\n",
        "y_predict = regressor.predict(X_test)\n",
        "regression_model_mse = mean_squared_error(y_predict, y_test)\n",
        "regression_test_rse = math.sqrt(mean_squared_error(y_predict, y_test))\n",
        "\n",
        "r2_score(y_test, y_predict)\n",
        "\n",
        "\n",
        "# using ridge with all variables we get r2_score: 48% of variability can be explained by the model"
      ],
      "execution_count": 33,
      "outputs": [
        {
          "output_type": "execute_result",
          "data": {
            "text/plain": [
              "0.48737825825943926"
            ]
          },
          "metadata": {
            "tags": []
          },
          "execution_count": 33
        }
      ]
    },
    {
      "cell_type": "code",
      "metadata": {
        "colab": {
          "base_uri": "https://localhost:8080/"
        },
        "id": "RBHnuxggNtwQ",
        "outputId": "833cfbcf-adc8-498d-dc83-ed64b2b88bf3"
      },
      "source": [
        "# Ridge (without 'white')\n",
        "\n",
        "from sklearn.linear_model import Ridge\n",
        "\n",
        "Y = df[['poverty']]\n",
        "X = df[['metro_res', 'hs_grad', 'female_house']]\n",
        "\n",
        "X_train, X_test, y_train, y_test = train_test_split(X, Y, test_size=0.25, random_state=1)\n",
        "\n",
        "\n",
        "regressor = Ridge(alpha=0.5)\n",
        "regressor.fit(X_train,y_train)\n",
        "y_predict = regressor.predict(X_test)\n",
        "regression_model_mse = mean_squared_error(y_predict, y_test)\n",
        "regression_test_rse = math.sqrt(mean_squared_error(y_predict, y_test))\n",
        "\n",
        "r2_score(y_test, y_predict)\n",
        "\n",
        "# using ridge without 'casual' and 'registered, we get r2_score of 0.48; 48% of variability can be explained by the model"
      ],
      "execution_count": 37,
      "outputs": [
        {
          "output_type": "execute_result",
          "data": {
            "text/plain": [
              "0.48939917186434523"
            ]
          },
          "metadata": {
            "tags": []
          },
          "execution_count": 37
        }
      ]
    },
    {
      "cell_type": "code",
      "metadata": {
        "colab": {
          "base_uri": "https://localhost:8080/"
        },
        "id": "xy4-bF4sNoDZ",
        "outputId": "43d8200b-c6f5-4751-9bbc-601e80758cc4"
      },
      "source": [
        "reg.intercept_"
      ],
      "execution_count": 38,
      "outputs": [
        {
          "output_type": "execute_result",
          "data": {
            "text/plain": [
              "array([20.18900044])"
            ]
          },
          "metadata": {
            "tags": []
          },
          "execution_count": 38
        }
      ]
    },
    {
      "cell_type": "code",
      "metadata": {
        "colab": {
          "base_uri": "https://localhost:8080/"
        },
        "id": "cTUQ8PcgNrsj",
        "outputId": "1b1818bc-a386-4c39-c67a-8ae2a9f88f34"
      },
      "source": [
        "reg.coef_"
      ],
      "execution_count": 39,
      "outputs": [
        {
          "output_type": "execute_result",
          "data": {
            "text/plain": [
              "array([[-3.48628668, -3.50640806, -8.28972083,  1.37342651]])"
            ]
          },
          "metadata": {
            "tags": []
          },
          "execution_count": 39
        }
      ]
    },
    {
      "cell_type": "code",
      "metadata": {
        "colab": {
          "base_uri": "https://localhost:8080/"
        },
        "id": "Ia5jH9lHOBkq",
        "outputId": "d43f4ec7-6b25-460b-80c9-37b881e9d2e5"
      },
      "source": [
        "# ridge cross validation\n",
        "\n",
        "from sklearn.linear_model import RidgeCV\n",
        "\n",
        "Y = df[['poverty']]\n",
        "X = df[['metro_res', 'white', 'hs_grad', 'female_house']]\n",
        "\n",
        "X_train, X_test, y_train, y_test = train_test_split(X, Y, test_size=0.25, random_state=1)\n",
        "\n",
        "\n",
        "ridge_regressor = RidgeCV(cv=5, alphas = [0.01,0.1, 0.5])\n",
        "ridge_regressor.fit(X_train,y_train)\n",
        "y_predict = ridge_regressor.predict(X_test)\n",
        "regression_model_mse = mean_squared_error(y_predict, y_test)\n",
        "regression_test_rse = math.sqrt(mean_squared_error(y_predict, y_test))\n",
        "\n",
        "r2_score(y_test, y_predict)\n",
        "\n",
        "# using ridge cross-validation we get r2_score of 0.48; 48% of variability can be explained by the model"
      ],
      "execution_count": 40,
      "outputs": [
        {
          "output_type": "execute_result",
          "data": {
            "text/plain": [
              "0.48737825825943926"
            ]
          },
          "metadata": {
            "tags": []
          },
          "execution_count": 40
        }
      ]
    },
    {
      "cell_type": "code",
      "metadata": {
        "colab": {
          "base_uri": "https://localhost:8080/"
        },
        "id": "lqmh2qo-OPjM",
        "outputId": "3514a77e-895f-4d9e-e67c-d5aa159ee4f6"
      },
      "source": [
        "ridge_regressor.coef_"
      ],
      "execution_count": 41,
      "outputs": [
        {
          "output_type": "execute_result",
          "data": {
            "text/plain": [
              "array([[-0.05642603, -0.04920944, -0.55562641,  0.1242545 ]])"
            ]
          },
          "metadata": {
            "tags": []
          },
          "execution_count": 41
        }
      ]
    },
    {
      "cell_type": "code",
      "metadata": {
        "id": "PZui3e9MORnC",
        "colab": {
          "base_uri": "https://localhost:8080/"
        },
        "outputId": "d6b5868f-dbb9-48a4-f537-c6a0de2ccd01"
      },
      "source": [
        "ridge_regressor.alpha_"
      ],
      "execution_count": 42,
      "outputs": [
        {
          "output_type": "execute_result",
          "data": {
            "text/plain": [
              "0.5"
            ]
          },
          "metadata": {
            "tags": []
          },
          "execution_count": 42
        }
      ]
    },
    {
      "cell_type": "code",
      "metadata": {
        "colab": {
          "base_uri": "https://localhost:8080/"
        },
        "id": "Mg5Dlv6lOVIY",
        "outputId": "3d962b59-9fb3-45d6-e41c-3caff7636dce"
      },
      "source": [
        "# Lasso cross validation model\n",
        "\n",
        "from sklearn.linear_model import LassoCV\n",
        "lasso_regressor = LassoCV(alphas=[0.001, 0.01, 0.1, 0.25, 0.5, 0.75, 1, 5, 10, 50, 100, 1000 ])\n",
        "lasso_regressor.fit(X_train,y_train)\n",
        "y_predict = lasso_regressor.predict(X_test)\n",
        "regression_model_mse = mean_squared_error(y_predict, y_test)\n",
        "regression_test_rse = math.sqrt(mean_squared_error(y_predict, y_test))\n",
        "\n",
        "r2_score(y_test, y_predict)\n",
        "\n",
        "# using lasso cross-validation we get r2_score of 0.51; 51% of variability can be explained by the model"
      ],
      "execution_count": 43,
      "outputs": [
        {
          "output_type": "stream",
          "text": [
            "/usr/local/lib/python3.7/dist-packages/sklearn/utils/validation.py:63: DataConversionWarning: A column-vector y was passed when a 1d array was expected. Please change the shape of y to (n_samples, ), for example using ravel().\n",
            "  return f(*args, **kwargs)\n"
          ],
          "name": "stderr"
        },
        {
          "output_type": "execute_result",
          "data": {
            "text/plain": [
              "0.517331597465721"
            ]
          },
          "metadata": {
            "tags": []
          },
          "execution_count": 43
        }
      ]
    },
    {
      "cell_type": "code",
      "metadata": {
        "colab": {
          "base_uri": "https://localhost:8080/"
        },
        "id": "urSQLr8_OYu-",
        "outputId": "e8cbe9c8-34cb-4831-9758-391454ca375a"
      },
      "source": [
        "lasso_regressor.alpha_"
      ],
      "execution_count": 44,
      "outputs": [
        {
          "output_type": "execute_result",
          "data": {
            "text/plain": [
              "0.75"
            ]
          },
          "metadata": {
            "tags": []
          },
          "execution_count": 44
        }
      ]
    },
    {
      "cell_type": "code",
      "metadata": {
        "colab": {
          "base_uri": "https://localhost:8080/"
        },
        "id": "dVn-bHjROeO7",
        "outputId": "ea15093b-7a1c-40c0-8999-f0030258db11"
      },
      "source": [
        "lasso_regressor.coef_"
      ],
      "execution_count": 45,
      "outputs": [
        {
          "output_type": "execute_result",
          "data": {
            "text/plain": [
              "array([-0.05102285, -0.05862933, -0.54099801,  0.        ])"
            ]
          },
          "metadata": {
            "tags": []
          },
          "execution_count": 45
        }
      ]
    },
    {
      "cell_type": "code",
      "metadata": {
        "id": "B4rykEJ7Dw6n",
        "colab": {
          "base_uri": "https://localhost:8080/",
          "height": 297
        },
        "outputId": "25ad4ad8-273e-4100-da27-9cba3f349730"
      },
      "source": [
        "# As the last step I want to check the dataset again and run some plots to visualize the data\n",
        "\n",
        "df.describe()"
      ],
      "execution_count": 46,
      "outputs": [
        {
          "output_type": "execute_result",
          "data": {
            "text/html": [
              "<div>\n",
              "<style scoped>\n",
              "    .dataframe tbody tr th:only-of-type {\n",
              "        vertical-align: middle;\n",
              "    }\n",
              "\n",
              "    .dataframe tbody tr th {\n",
              "        vertical-align: top;\n",
              "    }\n",
              "\n",
              "    .dataframe thead th {\n",
              "        text-align: right;\n",
              "    }\n",
              "</style>\n",
              "<table border=\"1\" class=\"dataframe\">\n",
              "  <thead>\n",
              "    <tr style=\"text-align: right;\">\n",
              "      <th></th>\n",
              "      <th>metro_res</th>\n",
              "      <th>white</th>\n",
              "      <th>hs_grad</th>\n",
              "      <th>poverty</th>\n",
              "      <th>female_house</th>\n",
              "    </tr>\n",
              "  </thead>\n",
              "  <tbody>\n",
              "    <tr>\n",
              "      <th>count</th>\n",
              "      <td>51.000000</td>\n",
              "      <td>51.000000</td>\n",
              "      <td>51.000000</td>\n",
              "      <td>51.000000</td>\n",
              "      <td>51.000000</td>\n",
              "    </tr>\n",
              "    <tr>\n",
              "      <th>mean</th>\n",
              "      <td>72.249020</td>\n",
              "      <td>81.719608</td>\n",
              "      <td>86.011765</td>\n",
              "      <td>11.349020</td>\n",
              "      <td>11.633333</td>\n",
              "    </tr>\n",
              "    <tr>\n",
              "      <th>std</th>\n",
              "      <td>15.275894</td>\n",
              "      <td>13.897223</td>\n",
              "      <td>3.725998</td>\n",
              "      <td>3.099185</td>\n",
              "      <td>2.356155</td>\n",
              "    </tr>\n",
              "    <tr>\n",
              "      <th>min</th>\n",
              "      <td>38.200000</td>\n",
              "      <td>25.900000</td>\n",
              "      <td>77.200000</td>\n",
              "      <td>5.600000</td>\n",
              "      <td>7.800000</td>\n",
              "    </tr>\n",
              "    <tr>\n",
              "      <th>25%</th>\n",
              "      <td>60.800000</td>\n",
              "      <td>76.800000</td>\n",
              "      <td>83.300000</td>\n",
              "      <td>9.250000</td>\n",
              "      <td>9.550000</td>\n",
              "    </tr>\n",
              "    <tr>\n",
              "      <th>50%</th>\n",
              "      <td>71.600000</td>\n",
              "      <td>85.400000</td>\n",
              "      <td>86.900000</td>\n",
              "      <td>10.600000</td>\n",
              "      <td>11.800000</td>\n",
              "    </tr>\n",
              "    <tr>\n",
              "      <th>75%</th>\n",
              "      <td>86.800000</td>\n",
              "      <td>90.250000</td>\n",
              "      <td>88.700000</td>\n",
              "      <td>13.400000</td>\n",
              "      <td>12.650000</td>\n",
              "    </tr>\n",
              "    <tr>\n",
              "      <th>max</th>\n",
              "      <td>100.000000</td>\n",
              "      <td>97.100000</td>\n",
              "      <td>92.100000</td>\n",
              "      <td>18.000000</td>\n",
              "      <td>18.900000</td>\n",
              "    </tr>\n",
              "  </tbody>\n",
              "</table>\n",
              "</div>"
            ],
            "text/plain": [
              "        metro_res      white    hs_grad    poverty  female_house\n",
              "count   51.000000  51.000000  51.000000  51.000000     51.000000\n",
              "mean    72.249020  81.719608  86.011765  11.349020     11.633333\n",
              "std     15.275894  13.897223   3.725998   3.099185      2.356155\n",
              "min     38.200000  25.900000  77.200000   5.600000      7.800000\n",
              "25%     60.800000  76.800000  83.300000   9.250000      9.550000\n",
              "50%     71.600000  85.400000  86.900000  10.600000     11.800000\n",
              "75%     86.800000  90.250000  88.700000  13.400000     12.650000\n",
              "max    100.000000  97.100000  92.100000  18.000000     18.900000"
            ]
          },
          "metadata": {
            "tags": []
          },
          "execution_count": 46
        }
      ]
    },
    {
      "cell_type": "code",
      "metadata": {
        "colab": {
          "base_uri": "https://localhost:8080/",
          "height": 462
        },
        "id": "r5HLo7aMstnB",
        "outputId": "dc8a3d16-261d-4e02-e5d4-83b02cd0cc19"
      },
      "source": [
        "# plotting: QQ-plot, residuals\n",
        "\n",
        "import scipy\n",
        "import numpy as np\n",
        "import matplotlib.pyplot as plt\n",
        "\n",
        "plt.figure(figsize=(20,7))\n",
        "plt.subplot(131)\n",
        "scipy.stats.probplot(fitted.resid, dist=\"norm\", plot=plt)\n",
        "plt.subplot(132)\n",
        "(fitted.resid).plot.hist()\n",
        "plt.xlabel('Residuals', fontsize=14)\n",
        "plt.subplot(133)\n",
        "plt.plot(df['hs_grad'], fitted.resid, 'o')\n",
        "plt.hlines(np.mean(fitted.resid), df['hs_grad'].min(), df['hs_grad'].max(), linestyle='--', colors='red')\n",
        "plt.show()\n",
        "\n",
        "# We can see that overall the residuals are normal "
      ],
      "execution_count": 58,
      "outputs": [
        {
          "output_type": "display_data",
          "data": {
            "image/png": "[encoded data removed]",
            "text/plain": [
              "<Figure size 1440x504 with 3 Axes>"
            ]
          },
          "metadata": {
            "tags": [],
            "needs_background": "light"
          }
        }
      ]
    },
    {
      "cell_type": "code",
      "metadata": {
        "id": "IpZDFw0WEIUM",
        "colab": {
          "base_uri": "https://localhost:8080/",
          "height": 612
        },
        "outputId": "5916ad3f-a136-4095-facf-8a5f5a43ecb8"
      },
      "source": [
        "# In this case I am doing exploratory analysis at the very end (to see if the predictors I get make sense)\n",
        "\n",
        "df.boxplot('poverty', by='female_house', figsize=(12,8), grid=True)"
      ],
      "execution_count": 48,
      "outputs": [
        {
          "output_type": "stream",
          "text": [
            "/usr/local/lib/python3.7/dist-packages/numpy/core/_asarray.py:83: VisibleDeprecationWarning: Creating an ndarray from ragged nested sequences (which is a list-or-tuple of lists-or-tuples-or ndarrays with different lengths or shapes) is deprecated. If you meant to do this, you must specify 'dtype=object' when creating the ndarray\n",
            "  return array(a, dtype, copy=False, order=order)\n"
          ],
          "name": "stderr"
        },
        {
          "output_type": "execute_result",
          "data": {
            "text/plain": [
              "<matplotlib.axes._subplots.AxesSubplot at 0x7f1ceb2e00d0>"
            ]
          },
          "metadata": {
            "tags": []
          },
          "execution_count": 48
        },
        {
          "output_type": "display_data",
          "data": {
            "image/png": "[encoded data removed]",
            "text/plain": [
              "<Figure size 864x576 with 1 Axes>"
            ]
          },
          "metadata": {
            "tags": [],
            "needs_background": "light"
          }
        }
      ]
    },
    {
      "cell_type": "code",
      "metadata": {
        "id": "lKYZlSs3ER4w",
        "colab": {
          "base_uri": "https://localhost:8080/",
          "height": 612
        },
        "outputId": "5af052cb-3b87-4096-d538-2fcbd35fb387"
      },
      "source": [
        "df.boxplot('poverty', by='hs_grad', figsize=(12,8), grid=True)"
      ],
      "execution_count": 49,
      "outputs": [
        {
          "output_type": "stream",
          "text": [
            "/usr/local/lib/python3.7/dist-packages/numpy/core/_asarray.py:83: VisibleDeprecationWarning: Creating an ndarray from ragged nested sequences (which is a list-or-tuple of lists-or-tuples-or ndarrays with different lengths or shapes) is deprecated. If you meant to do this, you must specify 'dtype=object' when creating the ndarray\n",
            "  return array(a, dtype, copy=False, order=order)\n"
          ],
          "name": "stderr"
        },
        {
          "output_type": "execute_result",
          "data": {
            "text/plain": [
              "<matplotlib.axes._subplots.AxesSubplot at 0x7f1ceae8f110>"
            ]
          },
          "metadata": {
            "tags": []
          },
          "execution_count": 49
        },
        {
          "output_type": "display_data",
          "data": {
            "image/png": "[encoded data removed]",
            "text/plain": [
              "<Figure size 864x576 with 1 Axes>"
            ]
          },
          "metadata": {
            "tags": [],
            "needs_background": "light"
          }
        }
      ]
    },
    {
      "cell_type": "code",
      "metadata": {
        "id": "n0HIW2KTEVgb",
        "colab": {
          "base_uri": "https://localhost:8080/",
          "height": 611
        },
        "outputId": "1a54c5c1-5898-4f19-e0eb-bbe20b963aba"
      },
      "source": [
        "df.boxplot('poverty', by='white', figsize=(12,8), grid=True)"
      ],
      "execution_count": 50,
      "outputs": [
        {
          "output_type": "stream",
          "text": [
            "/usr/local/lib/python3.7/dist-packages/numpy/core/_asarray.py:83: VisibleDeprecationWarning: Creating an ndarray from ragged nested sequences (which is a list-or-tuple of lists-or-tuples-or ndarrays with different lengths or shapes) is deprecated. If you meant to do this, you must specify 'dtype=object' when creating the ndarray\n",
            "  return array(a, dtype, copy=False, order=order)\n"
          ],
          "name": "stderr"
        },
        {
          "output_type": "execute_result",
          "data": {
            "text/plain": [
              "<matplotlib.axes._subplots.AxesSubplot at 0x7f1ceaa11dd0>"
            ]
          },
          "metadata": {
            "tags": []
          },
          "execution_count": 50
        },
        {
          "output_type": "display_data",
          "data": {
            "image/png": "[encoded data removed]",
            "text/plain": [
              "<Figure size 864x576 with 1 Axes>"
            ]
          },
          "metadata": {
            "tags": [],
            "needs_background": "light"
          }
        }
      ]
    },
    {
      "cell_type": "code",
      "metadata": {
        "id": "ZQVq1T4uEZCQ",
        "colab": {
          "base_uri": "https://localhost:8080/",
          "height": 611
        },
        "outputId": "d65abcdc-d118-4f90-8bfa-3ca078efbdde"
      },
      "source": [
        "df.boxplot('poverty', by='metro_res', figsize=(12,8), grid=True)"
      ],
      "execution_count": 51,
      "outputs": [
        {
          "output_type": "stream",
          "text": [
            "/usr/local/lib/python3.7/dist-packages/numpy/core/_asarray.py:83: VisibleDeprecationWarning: Creating an ndarray from ragged nested sequences (which is a list-or-tuple of lists-or-tuples-or ndarrays with different lengths or shapes) is deprecated. If you meant to do this, you must specify 'dtype=object' when creating the ndarray\n",
            "  return array(a, dtype, copy=False, order=order)\n"
          ],
          "name": "stderr"
        },
        {
          "output_type": "execute_result",
          "data": {
            "text/plain": [
              "<matplotlib.axes._subplots.AxesSubplot at 0x7f1cea4b2b10>"
            ]
          },
          "metadata": {
            "tags": []
          },
          "execution_count": 51
        },
        {
          "output_type": "display_data",
          "data": {
            "image/png": "[encoded data removed]",
            "text/plain": [
              "<Figure size 864x576 with 1 Axes>"
            ]
          },
          "metadata": {
            "tags": [],
            "needs_background": "light"
          }
        }
      ]
    },
    {
      "cell_type": "markdown",
      "metadata": {
        "id": "q1U2P39ThuhP"
      },
      "source": [
        "**Conclusion:**\n",
        "**education** level is the best prediction for **poverty**, best model to use is LassoCV. It gives us r-squared 0.51 which means that using this predictor 51% of the variability can be explained by this model."
      ]
    }
  ]
}