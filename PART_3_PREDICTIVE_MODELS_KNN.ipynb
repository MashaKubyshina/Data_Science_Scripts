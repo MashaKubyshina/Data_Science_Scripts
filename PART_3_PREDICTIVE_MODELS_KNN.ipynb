{
  "nbformat": 4,
  "nbformat_minor": 0,
  "metadata": {
    "colab": {
      "name": "PART 3-PREDICTIVE MODELS - KNN.ipynb",
      "provenance": [],
      "mount_file_id": "1HPGiQj_s-vTGWS3p7mQhaq8DGrWnQ_mh",
      "authorship_tag": "ABX9TyOfWeBsgUWwT66yEXkAAo0O",
      "include_colab_link": true
    },
    "kernelspec": {
      "name": "python3",
      "display_name": "Python 3"
    },
    "language_info": {
      "name": "python"
    }
  },
  "cells": [
    {
      "cell_type": "markdown",
      "metadata": {
        "id": "view-in-github",
        "colab_type": "text"
      },
      "source": [
        "<a href=\"https://colab.research.google.com/github/MashaKubyshina/Learning_to_code/blob/master/PART_3_PREDICTIVE_MODELS_KNN.ipynb\" target=\"_parent\"><img src=\"https://colab.research.google.com/assets/colab-badge.svg\" alt=\"Open In Colab\"/></a>"
      ]
    },
    {
      "cell_type": "markdown",
      "metadata": {
        "id": "cCxtUaEV4LM7"
      },
      "source": [
        "**Predictive Models**\n",
        "\n",
        "We will test the following models to see which ones can predict better:\n",
        "\n",
        "*  Random Forest\n",
        "*  Support Vector Machine\n",
        "*  K Nearest Neighbors\n",
        "*  Multinomial Naïve Bayes\n",
        "*  Multinomial Logistic Regression\n",
        "*  Gradient Boosting\n",
        "\n",
        "In this class project I am following a tutorial from this blog post https://towardsdatascience.com/text-classification-in-python-dd95d264c802\n",
        "\n",
        "**Process followed:**\n",
        "\n",
        "1.   Decide which hyperparameters we will use\n",
        "2.   Define our goal metric: what metric will we use to access the performance of the model\n",
        "3.   Use Randomized Search Cross Validation to find the hyperparameter that gives us most accuracy\n",
        "4.   Use Grid Search Cross Validation process in this region to find best combination of hyperparameters\n",
        "5.   Obtain the accuracy on the training data and the test data, the classification report and the confusion matrix.\n",
        "6.   Calculate the accuracy of a model with default hyperparameters\n",
        "\n",
        "There will be one notebook / link for each model"
      ]
    },
    {
      "cell_type": "markdown",
      "metadata": {
        "id": "o1uJ6wsE2_XL"
      },
      "source": [
        "**KNN**\n",
        "\n",
        "K Nearest Neighbors model"
      ]
    },
    {
      "cell_type": "code",
      "metadata": {
        "id": "PJLbx7jkxXpm"
      },
      "source": [
        "import pickle\n",
        "import numpy as np\n",
        "from sklearn.feature_extraction.text import TfidfVectorizer\n",
        "from sklearn.neighbors import KNeighborsClassifier\n",
        "from pprint import pprint\n",
        "from sklearn.model_selection import RandomizedSearchCV\n",
        "from sklearn.model_selection import GridSearchCV\n",
        "from sklearn.metrics import classification_report, confusion_matrix, accuracy_score\n",
        "from sklearn.model_selection import ShuffleSplit\n",
        "import matplotlib.pyplot as plt\n",
        "import seaborn as sns\n",
        "import pandas as pd"
      ],
      "execution_count": 1,
      "outputs": []
    },
    {
      "cell_type": "code",
      "metadata": {
        "id": "vrrI7WWzxq5y"
      },
      "source": [
        "# Dataframe\n",
        "path_df = \"/content/drive/MyDrive/Pickles/df.pickle\"\n",
        "with open(path_df, 'rb') as data:\n",
        "    df = pickle.load(data)\n",
        "\n",
        "# features_train\n",
        "path_features_train = \"/content/drive/MyDrive/Pickles/features_train.pickle\"\n",
        "with open(path_features_train, 'rb') as data:\n",
        "    features_train = pickle.load(data)\n",
        "\n",
        "# labels_train\n",
        "path_labels_train = \"/content/drive/MyDrive/Pickles/labels_train.pickle\"\n",
        "with open(path_labels_train, 'rb') as data:\n",
        "    labels_train = pickle.load(data)\n",
        "\n",
        "# features_test\n",
        "path_features_test = \"/content/drive/MyDrive/Pickles/features_test.pickle\"\n",
        "with open(path_features_test, 'rb') as data:\n",
        "    features_test = pickle.load(data)\n",
        "\n",
        "# labels_test\n",
        "path_labels_test = \"/content/drive/MyDrive/Pickles/labels_test.pickle\"\n",
        "with open(path_labels_test, 'rb') as data:\n",
        "    labels_test = pickle.load(data)"
      ],
      "execution_count": 2,
      "outputs": []
    },
    {
      "cell_type": "code",
      "metadata": {
        "colab": {
          "base_uri": "https://localhost:8080/"
        },
        "id": "yKCocxxSypI4",
        "outputId": "1f038ef9-7133-48a9-f82b-98c4b708c04f"
      },
      "source": [
        "# Check dimensions of the vectors\n",
        "\n",
        "print(features_train.shape)\n",
        "print(features_test.shape)"
      ],
      "execution_count": 3,
      "outputs": [
        {
          "output_type": "stream",
          "text": [
            "(1500, 300)\n",
            "(500, 300)\n"
          ],
          "name": "stdout"
        }
      ]
    },
    {
      "cell_type": "code",
      "metadata": {
        "colab": {
          "base_uri": "https://localhost:8080/"
        },
        "id": "iBUghfpPyzrg",
        "outputId": "9afec896-8ab0-4e1c-e1b9-b0b80902f7ce"
      },
      "source": [
        "# Cross Validation for Hyperparameter tunning\n",
        "\n",
        "# we can see what hyperparameters the model has:\n",
        "\n",
        "knnc_0 =KNeighborsClassifier()\n",
        "\n",
        "print('Parameters currently in use:\\n')\n",
        "pprint(knnc_0.get_params())"
      ],
      "execution_count": 4,
      "outputs": [
        {
          "output_type": "stream",
          "text": [
            "Parameters currently in use:\n",
            "\n",
            "{'algorithm': 'auto',\n",
            " 'leaf_size': 30,\n",
            " 'metric': 'minkowski',\n",
            " 'metric_params': None,\n",
            " 'n_jobs': None,\n",
            " 'n_neighbors': 5,\n",
            " 'p': 2,\n",
            " 'weights': 'uniform'}\n"
          ],
          "name": "stdout"
        }
      ]
    },
    {
      "cell_type": "code",
      "metadata": {
        "colab": {
          "base_uri": "https://localhost:8080/"
        },
        "id": "rQops_wLy5-V",
        "outputId": "680deafb-2b2f-4895-b973-6e2b861c62af"
      },
      "source": [
        "# We will tune the following parameters\n",
        "\n",
        "# K: Number of neighbors to use by default for queries.\n",
        "\n",
        "\n",
        "# Let's define the grid\n",
        "\n",
        "# Create the parameter grid \n",
        "n_neighbors = [int(x) for x in np.linspace(start = 1, stop = 500, num = 100)]\n",
        "\n",
        "param_grid = {'n_neighbors': n_neighbors}\n",
        "\n",
        "# Create a base model\n",
        "knnc = KNeighborsClassifier()\n",
        "\n",
        "# Manually create the splits in CV in order to be able to fix a random_state (GridSearchCV doesn't have that argument)\n",
        "cv_sets = ShuffleSplit(n_splits = 3, test_size = .33, random_state = 8)\n",
        "\n",
        "# Instantiate the grid search model\n",
        "grid_search = GridSearchCV(estimator=knnc, \n",
        "                           param_grid=param_grid,\n",
        "                           scoring='accuracy',\n",
        "                           cv=cv_sets,\n",
        "                           verbose=1)\n",
        "\n",
        "# Fit the grid search to the data\n",
        "grid_search.fit(features_train, labels_train)"
      ],
      "execution_count": 5,
      "outputs": [
        {
          "output_type": "stream",
          "text": [
            "Fitting 3 folds for each of 100 candidates, totalling 300 fits\n"
          ],
          "name": "stdout"
        },
        {
          "output_type": "stream",
          "text": [
            "[Parallel(n_jobs=1)]: Using backend SequentialBackend with 1 concurrent workers.\n",
            "[Parallel(n_jobs=1)]: Done 300 out of 300 | elapsed:  2.1min finished\n"
          ],
          "name": "stderr"
        },
        {
          "output_type": "execute_result",
          "data": {
            "text/plain": [
              "GridSearchCV(cv=ShuffleSplit(n_splits=3, random_state=8, test_size=0.33, train_size=None),\n",
              "             error_score=nan,\n",
              "             estimator=KNeighborsClassifier(algorithm='auto', leaf_size=30,\n",
              "                                            metric='minkowski',\n",
              "                                            metric_params=None, n_jobs=None,\n",
              "                                            n_neighbors=5, p=2,\n",
              "                                            weights='uniform'),\n",
              "             iid='deprecated', n_jobs=None,\n",
              "             param_grid={'n_neighbors': [1, 6, 11, 16, 21, 26, 31, 36, 41, 46,\n",
              "                                         51, 56, 61, 66, 71, 76, 81, 86, 91, 96,\n",
              "                                         101, 106, 111, 116, 121, 127, 132, 137,\n",
              "                                         142, 147, ...]},\n",
              "             pre_dispatch='2*n_jobs', refit=True, return_train_score=False,\n",
              "             scoring='accuracy', verbose=1)"
            ]
          },
          "metadata": {
            "tags": []
          },
          "execution_count": 5
        }
      ]
    },
    {
      "cell_type": "code",
      "metadata": {
        "colab": {
          "base_uri": "https://localhost:8080/"
        },
        "id": "nMXTgIR40NVk",
        "outputId": "9e4d80c2-cb4e-4c3a-abb1-1a4b95391646"
      },
      "source": [
        "print(\"The best hyperparameters from Grid Search are:\")\n",
        "print(grid_search.best_params_)\n",
        "print(\"\")\n",
        "print(\"The mean accuracy of a model with these hyperparameters is:\")\n",
        "print(grid_search.best_score_)"
      ],
      "execution_count": 6,
      "outputs": [
        {
          "output_type": "stream",
          "text": [
            "The best hyperparameters from Grid Search are:\n",
            "{'n_neighbors': 6}\n",
            "\n",
            "The mean accuracy of a model with these hyperparameters is:\n",
            "0.6141414141414142\n"
          ],
          "name": "stdout"
        }
      ]
    },
    {
      "cell_type": "code",
      "metadata": {
        "colab": {
          "base_uri": "https://localhost:8080/"
        },
        "id": "JjEAM7U40UJU",
        "outputId": "838e8aa8-d684-4eb5-9417-7d3a47ced1a9"
      },
      "source": [
        "# Since the grid had a space of 5 between each element, we'll now cover all the possible n_neighbors near to 6:\n",
        "\n",
        "n_neighbors = [1,2,3,4,5,6,7,8,9,10,11]\n",
        "param_grid = {'n_neighbors': n_neighbors}\n",
        "\n",
        "knnc = KNeighborsClassifier()\n",
        "cv_sets = ShuffleSplit(n_splits = 3, test_size = .33, random_state = 8)\n",
        "\n",
        "grid_search = GridSearchCV(estimator=knnc, \n",
        "                           param_grid=param_grid,\n",
        "                           scoring='accuracy',\n",
        "                           cv=cv_sets,\n",
        "                           verbose=1)\n",
        "\n",
        "grid_search.fit(features_train, labels_train)"
      ],
      "execution_count": 7,
      "outputs": [
        {
          "output_type": "stream",
          "text": [
            "[Parallel(n_jobs=1)]: Using backend SequentialBackend with 1 concurrent workers.\n"
          ],
          "name": "stderr"
        },
        {
          "output_type": "stream",
          "text": [
            "Fitting 3 folds for each of 11 candidates, totalling 33 fits\n"
          ],
          "name": "stdout"
        },
        {
          "output_type": "stream",
          "text": [
            "[Parallel(n_jobs=1)]: Done  33 out of  33 | elapsed:   12.2s finished\n"
          ],
          "name": "stderr"
        },
        {
          "output_type": "execute_result",
          "data": {
            "text/plain": [
              "GridSearchCV(cv=ShuffleSplit(n_splits=3, random_state=8, test_size=0.33, train_size=None),\n",
              "             error_score=nan,\n",
              "             estimator=KNeighborsClassifier(algorithm='auto', leaf_size=30,\n",
              "                                            metric='minkowski',\n",
              "                                            metric_params=None, n_jobs=None,\n",
              "                                            n_neighbors=5, p=2,\n",
              "                                            weights='uniform'),\n",
              "             iid='deprecated', n_jobs=None,\n",
              "             param_grid={'n_neighbors': [1, 2, 3, 4, 5, 6, 7, 8, 9, 10, 11]},\n",
              "             pre_dispatch='2*n_jobs', refit=True, return_train_score=False,\n",
              "             scoring='accuracy', verbose=1)"
            ]
          },
          "metadata": {
            "tags": []
          },
          "execution_count": 7
        }
      ]
    },
    {
      "cell_type": "code",
      "metadata": {
        "colab": {
          "base_uri": "https://localhost:8080/"
        },
        "id": "W-Q42owF0kW7",
        "outputId": "1deff0aa-4834-4a65-e377-91d633442854"
      },
      "source": [
        "print(\"The best hyperparameters from Grid Search are:\")\n",
        "print(grid_search.best_params_)\n",
        "print(\"\")\n",
        "print(\"The mean accuracy of a model with these hyperparameters is:\")\n",
        "print(grid_search.best_score_)"
      ],
      "execution_count": 8,
      "outputs": [
        {
          "output_type": "stream",
          "text": [
            "The best hyperparameters from Grid Search are:\n",
            "{'n_neighbors': 6}\n",
            "\n",
            "The mean accuracy of a model with these hyperparameters is:\n",
            "0.6141414141414142\n"
          ],
          "name": "stdout"
        }
      ]
    },
    {
      "cell_type": "code",
      "metadata": {
        "id": "FX1F1eMd02Pa"
      },
      "source": [
        "# save this model\n",
        "\n",
        "best_knnc = grid_search.best_estimator_"
      ],
      "execution_count": 9,
      "outputs": []
    },
    {
      "cell_type": "code",
      "metadata": {
        "colab": {
          "base_uri": "https://localhost:8080/"
        },
        "id": "yHMQDrIx05-X",
        "outputId": "13241fae-304e-4ad6-ad6e-053944cd901a"
      },
      "source": [
        "best_knnc"
      ],
      "execution_count": 10,
      "outputs": [
        {
          "output_type": "execute_result",
          "data": {
            "text/plain": [
              "KNeighborsClassifier(algorithm='auto', leaf_size=30, metric='minkowski',\n",
              "                     metric_params=None, n_jobs=None, n_neighbors=6, p=2,\n",
              "                     weights='uniform')"
            ]
          },
          "metadata": {
            "tags": []
          },
          "execution_count": 10
        }
      ]
    },
    {
      "cell_type": "markdown",
      "metadata": {
        "id": "95z9Q6jO0_j2"
      },
      "source": [
        "**Model Fit and Performance**"
      ]
    },
    {
      "cell_type": "code",
      "metadata": {
        "colab": {
          "base_uri": "https://localhost:8080/"
        },
        "id": "Q3TkvP-z1ClB",
        "outputId": "6a568892-daf0-4fba-c599-0158c725c253"
      },
      "source": [
        "# fit the model to our training data:\n",
        "\n",
        "best_knnc.fit(features_train, labels_train)"
      ],
      "execution_count": 11,
      "outputs": [
        {
          "output_type": "execute_result",
          "data": {
            "text/plain": [
              "KNeighborsClassifier(algorithm='auto', leaf_size=30, metric='minkowski',\n",
              "                     metric_params=None, n_jobs=None, n_neighbors=6, p=2,\n",
              "                     weights='uniform')"
            ]
          },
          "metadata": {
            "tags": []
          },
          "execution_count": 11
        }
      ]
    },
    {
      "cell_type": "code",
      "metadata": {
        "id": "5txklzUv1Hqs"
      },
      "source": [
        "# get predictions\n",
        "\n",
        "knnc_pred = best_knnc.predict(features_test)"
      ],
      "execution_count": 12,
      "outputs": []
    },
    {
      "cell_type": "code",
      "metadata": {
        "colab": {
          "base_uri": "https://localhost:8080/"
        },
        "id": "lH-uCKmv1Lz3",
        "outputId": "aaa745df-0815-461a-cc0b-8d72f27f20cd"
      },
      "source": [
        "# Training accuracy\n",
        "\n",
        "print(\"The training accuracy is: \")\n",
        "print(accuracy_score(labels_train, best_knnc.predict(features_train)))"
      ],
      "execution_count": 13,
      "outputs": [
        {
          "output_type": "stream",
          "text": [
            "The training accuracy is: \n",
            "0.7133333333333334\n"
          ],
          "name": "stdout"
        }
      ]
    },
    {
      "cell_type": "code",
      "metadata": {
        "colab": {
          "base_uri": "https://localhost:8080/"
        },
        "id": "4hyNHQfs1OsS",
        "outputId": "243cb858-e821-4c7e-9d98-d210b9253b29"
      },
      "source": [
        "# Test accuracy\n",
        "\n",
        "print(\"The test accuracy is: \")\n",
        "print(accuracy_score(labels_test, knnc_pred))"
      ],
      "execution_count": 14,
      "outputs": [
        {
          "output_type": "stream",
          "text": [
            "The test accuracy is: \n",
            "0.602\n"
          ],
          "name": "stdout"
        }
      ]
    },
    {
      "cell_type": "code",
      "metadata": {
        "colab": {
          "base_uri": "https://localhost:8080/"
        },
        "id": "bpYhmvjF1SDw",
        "outputId": "b5ddb9c7-5d39-40ec-8e9c-fc1a53a4402b"
      },
      "source": [
        "# Classification report\n",
        "\n",
        "print(\"Classification report\")\n",
        "print(classification_report(labels_test,knnc_pred))"
      ],
      "execution_count": 15,
      "outputs": [
        {
          "output_type": "stream",
          "text": [
            "Classification report\n",
            "              precision    recall  f1-score   support\n",
            "\n",
            "           0       0.64      0.82      0.72       274\n",
            "           1       0.37      0.25      0.30       124\n",
            "           2       0.70      0.44      0.54       102\n",
            "\n",
            "    accuracy                           0.60       500\n",
            "   macro avg       0.57      0.50      0.52       500\n",
            "weighted avg       0.59      0.60      0.58       500\n",
            "\n"
          ],
          "name": "stdout"
        }
      ]
    },
    {
      "cell_type": "code",
      "metadata": {
        "colab": {
          "base_uri": "https://localhost:8080/",
          "height": 404
        },
        "id": "iWbtM9zm1XZb",
        "outputId": "b2ff2a7c-1c78-4537-c322-0bc95ea09c9f"
      },
      "source": [
        "# confusion matrix\n",
        "\n",
        "aux_df = df[['category', 'Category_Code']].drop_duplicates().sort_values('Category_Code')\n",
        "conf_matrix = confusion_matrix(labels_test, knnc_pred)\n",
        "plt.figure(figsize=(12.8,6))\n",
        "sns.heatmap(conf_matrix, \n",
        "            annot=True,\n",
        "            xticklabels=aux_df['category'].values, \n",
        "            yticklabels=aux_df['category'].values,\n",
        "            cmap=\"Blues\")\n",
        "plt.ylabel('Predicted')\n",
        "plt.xlabel('Actual')\n",
        "plt.title('Confusion matrix')\n",
        "plt.show()"
      ],
      "execution_count": 16,
      "outputs": [
        {
          "output_type": "display_data",
          "data": {
            "image/png": "[encoded data removed]",
            "text/plain": [
              "<Figure size 921.6x432 with 2 Axes>"
            ]
          },
          "metadata": {
            "tags": [],
            "needs_background": "light"
          }
        }
      ]
    },
    {
      "cell_type": "code",
      "metadata": {
        "colab": {
          "base_uri": "https://localhost:8080/"
        },
        "id": "QwJssnxZ1hQn",
        "outputId": "a036623e-f72c-44e6-e011-232d8b0a0734"
      },
      "source": [
        "# Let's see if the hyperparameter tuning process has returned a better model:\n",
        "\n",
        "base_model = KNeighborsClassifier()\n",
        "base_model.fit(features_train, labels_train)\n",
        "accuracy_score(labels_test, base_model.predict(features_test))"
      ],
      "execution_count": 17,
      "outputs": [
        {
          "output_type": "execute_result",
          "data": {
            "text/plain": [
              "0.616"
            ]
          },
          "metadata": {
            "tags": []
          },
          "execution_count": 17
        }
      ]
    },
    {
      "cell_type": "code",
      "metadata": {
        "colab": {
          "base_uri": "https://localhost:8080/"
        },
        "id": "EuCmlTRF1mrR",
        "outputId": "59ec4b02-f6e2-45cd-b581-d12243950e31"
      },
      "source": [
        "best_knnc.fit(features_train, labels_train)\n",
        "accuracy_score(labels_test, best_knnc.predict(features_test))"
      ],
      "execution_count": 18,
      "outputs": [
        {
          "output_type": "execute_result",
          "data": {
            "text/plain": [
              "0.602"
            ]
          },
          "metadata": {
            "tags": []
          },
          "execution_count": 18
        }
      ]
    },
    {
      "cell_type": "code",
      "metadata": {
        "id": "tXLitaGY1pbq"
      },
      "source": [
        "# dataset with model summary to compare models\n",
        "\n",
        "d = {\n",
        "     'Model': 'KNN',\n",
        "     'Training Set Accuracy': accuracy_score(labels_train, best_knnc.predict(features_train)),\n",
        "     'Test Set Accuracy': accuracy_score(labels_test, knnc_pred)\n",
        "}\n",
        "\n",
        "df_models_knnc = pd.DataFrame(d, index=[0])"
      ],
      "execution_count": 19,
      "outputs": []
    },
    {
      "cell_type": "code",
      "metadata": {
        "colab": {
          "base_uri": "https://localhost:8080/",
          "height": 80
        },
        "id": "GTjKcd4s1uia",
        "outputId": "61cc2377-7209-400f-dc2b-00603cd69c4b"
      },
      "source": [
        "df_models_knnc"
      ],
      "execution_count": 20,
      "outputs": [
        {
          "output_type": "execute_result",
          "data": {
            "text/html": [
              "<div>\n",
              "<style scoped>\n",
              "    .dataframe tbody tr th:only-of-type {\n",
              "        vertical-align: middle;\n",
              "    }\n",
              "\n",
              "    .dataframe tbody tr th {\n",
              "        vertical-align: top;\n",
              "    }\n",
              "\n",
              "    .dataframe thead th {\n",
              "        text-align: right;\n",
              "    }\n",
              "</style>\n",
              "<table border=\"1\" class=\"dataframe\">\n",
              "  <thead>\n",
              "    <tr style=\"text-align: right;\">\n",
              "      <th></th>\n",
              "      <th>Model</th>\n",
              "      <th>Training Set Accuracy</th>\n",
              "      <th>Test Set Accuracy</th>\n",
              "    </tr>\n",
              "  </thead>\n",
              "  <tbody>\n",
              "    <tr>\n",
              "      <th>0</th>\n",
              "      <td>KNN</td>\n",
              "      <td>0.713333</td>\n",
              "      <td>0.602</td>\n",
              "    </tr>\n",
              "  </tbody>\n",
              "</table>\n",
              "</div>"
            ],
            "text/plain": [
              "  Model  Training Set Accuracy  Test Set Accuracy\n",
              "0   KNN               0.713333              0.602"
            ]
          },
          "metadata": {
            "tags": []
          },
          "execution_count": 20
        }
      ]
    },
    {
      "cell_type": "code",
      "metadata": {
        "id": "a_YBa9jd1zrv"
      },
      "source": [
        "with open('/content/drive/MyDrive/Pickles/Models/best_knnc.pickle', 'wb') as output:\n",
        "    pickle.dump(best_knnc, output)\n",
        "\n",
        "with open('/content/drive/MyDrive/Pickles/Models/best_knnc.pickle', 'wb') as output:\n",
        "    pickle.dump(df_models_knnc, output)"
      ],
      "execution_count": 21,
      "outputs": []
    }
  ]
}