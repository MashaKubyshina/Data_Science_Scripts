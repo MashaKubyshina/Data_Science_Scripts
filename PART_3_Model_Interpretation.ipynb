{
  "nbformat": 4,
  "nbformat_minor": 0,
  "metadata": {
    "colab": {
      "name": "PART-3_Model_Interpretation.ipynb",
      "provenance": [],
      "mount_file_id": "1R4deS-GpEKAiT6_WR5bk_9UIx9Z0adcS",
      "authorship_tag": "ABX9TyOl7YP45BEZSp92Si9dPdLu",
      "include_colab_link": true
    },
    "kernelspec": {
      "name": "python3",
      "display_name": "Python 3"
    },
    "language_info": {
      "name": "python"
    }
  },
  "cells": [
    {
      "cell_type": "markdown",
      "metadata": {
        "id": "view-in-github",
        "colab_type": "text"
      },
      "source": [
        "<a href=\"https://colab.research.google.com/github/MashaKubyshina/Learning_to_code/blob/master/PART_3_Model_Interpretation.ipynb\" target=\"_parent\"><img src=\"https://colab.research.google.com/assets/colab-badge.svg\" alt=\"Open In Colab\"/></a>"
      ]
    },
    {
      "cell_type": "code",
      "metadata": {
        "id": "5cKROyYMtUmL"
      },
      "source": [
        "# The code is from this tutorial https://towardsdatascience.com/text-classification-in-python-dd95d264c802"
      ],
      "execution_count": null,
      "outputs": []
    },
    {
      "cell_type": "code",
      "metadata": {
        "id": "vCKie-pytexY"
      },
      "source": [
        "import pickle\n",
        "import pandas as pd\n",
        "import numpy as np\n",
        "import random"
      ],
      "execution_count": 1,
      "outputs": []
    },
    {
      "cell_type": "code",
      "metadata": {
        "id": "aFz2Gt4Ctjnk"
      },
      "source": [
        "# In this project I selected Random Forest model to do preditions"
      ],
      "execution_count": null,
      "outputs": []
    },
    {
      "cell_type": "code",
      "metadata": {
        "id": "gJvazhl2uAw9"
      },
      "source": [
        "# we will load all Pickle files\n",
        "\n",
        "# Dataframe\n",
        "path_df = \"/content/drive/MyDrive/Pickles/df.pickle\"\n",
        "with open(path_df, 'rb') as data:\n",
        "    df = pickle.load(data)\n",
        "    \n",
        "# X_train\n",
        "path_X_train = \"/content/drive/MyDrive/Pickles/X_train.pickle\"\n",
        "with open(path_X_train, 'rb') as data:\n",
        "    X_train = pickle.load(data)\n",
        "\n",
        "# X_test\n",
        "path_X_test = \"/content/drive/MyDrive/Pickles/X_test.pickle\"\n",
        "with open(path_X_test, 'rb') as data:\n",
        "    X_test = pickle.load(data)\n",
        "\n",
        "# y_train\n",
        "path_y_train = \"/content/drive/MyDrive/Pickles/y_train.pickle\"\n",
        "with open(path_y_train, 'rb') as data:\n",
        "    y_train = pickle.load(data)\n",
        "\n",
        "# y_test\n",
        "path_y_test = \"/content/drive/MyDrive/Pickles/y_test.pickle\"\n",
        "with open(path_y_test, 'rb') as data:\n",
        "    y_test = pickle.load(data)\n",
        "\n",
        "# features_train\n",
        "path_features_train = \"/content/drive/MyDrive/Pickles/features_train.pickle\"\n",
        "with open(path_features_train, 'rb') as data:\n",
        "    features_train = pickle.load(data)\n",
        "\n",
        "# labels_train\n",
        "path_labels_train = \"/content/drive/MyDrive/Pickles/labels_train.pickle\"\n",
        "with open(path_labels_train, 'rb') as data:\n",
        "    labels_train = pickle.load(data)\n",
        "\n",
        "# features_test\n",
        "path_features_test = \"/content/drive/MyDrive/Pickles/features_test.pickle\"\n",
        "with open(path_features_test, 'rb') as data:\n",
        "    features_test = pickle.load(data)\n",
        "\n",
        "# labels_test\n",
        "path_labels_test = \"/content/drive/MyDrive/Pickles/labels_test.pickle\"\n",
        "with open(path_labels_test, 'rb') as data:\n",
        "    labels_test = pickle.load(data)\n",
        "    \n",
        "# Random Forest Model\n",
        "path_model = \"/content/drive/MyDrive/Pickles/Models/best_rfc.pickle\"\n",
        "with open(path_model, 'rb') as data:\n",
        "    rfc_model = pickle.load(data)\n",
        "    \n",
        "# Category mapping dictionary\n",
        "category_codes = {\n",
        "    'Computer/Tech': 0,\n",
        "    'Engineering/Architecture': 1,\n",
        "    'Business/Consulting': 2\n",
        "}\n",
        "\n",
        "category_names = {\n",
        "    0: 'Computer/Tech',\n",
        "    1: 'Engineering/Architecture',\n",
        "    2: 'Business/Consulting'\n",
        "}"
      ],
      "execution_count": 9,
      "outputs": []
    },
    {
      "cell_type": "code",
      "metadata": {
        "id": "6djODdOvvA8-"
      },
      "source": [
        "# predictions on test set\n",
        "\n",
        "predictions = rfc_model.predict(features_test)"
      ],
      "execution_count": 10,
      "outputs": []
    },
    {
      "cell_type": "code",
      "metadata": {
        "id": "fcHVbDyivKRR"
      },
      "source": [
        "# Test set dataframe with actual and predicted categories\n",
        "\n",
        "# Indexes of the test set\n",
        "index_X_test = X_test.index\n",
        "\n",
        "# We get them from the original df\n",
        "df_test = df.loc[index_X_test]\n",
        "\n",
        "# Add the predictions\n",
        "df_test['Prediction'] = predictions\n",
        "\n",
        "# Clean columns\n",
        "df_test = df_test[['job_description', 'category', 'Category_Code', 'Prediction']]\n",
        "\n",
        "# Decode\n",
        "df_test['Category_Predicted'] = df_test['Prediction']\n",
        "df_test = df_test.replace({'Category_Predicted': category_names})\n",
        "\n",
        "# Clean columns again\n",
        "df_test = df_test[['job_description', 'category', 'Category_Predicted']]"
      ],
      "execution_count": 11,
      "outputs": []
    },
    {
      "cell_type": "code",
      "metadata": {
        "colab": {
          "base_uri": "https://localhost:8080/",
          "height": 204
        },
        "id": "1sRJzvBrw7zv",
        "outputId": "61cad663-a499-42fd-e240-cb4785c08580"
      },
      "source": [
        "# Let's check actual category and category predicted by RFC model\n",
        "\n",
        "df_test.head()"
      ],
      "execution_count": 12,
      "outputs": [
        {
          "output_type": "execute_result",
          "data": {
            "text/html": [
              "<div>\n",
              "<style scoped>\n",
              "    .dataframe tbody tr th:only-of-type {\n",
              "        vertical-align: middle;\n",
              "    }\n",
              "\n",
              "    .dataframe tbody tr th {\n",
              "        vertical-align: top;\n",
              "    }\n",
              "\n",
              "    .dataframe thead th {\n",
              "        text-align: right;\n",
              "    }\n",
              "</style>\n",
              "<table border=\"1\" class=\"dataframe\">\n",
              "  <thead>\n",
              "    <tr style=\"text-align: right;\">\n",
              "      <th></th>\n",
              "      <th>job_description</th>\n",
              "      <th>category</th>\n",
              "      <th>Category_Predicted</th>\n",
              "    </tr>\n",
              "  </thead>\n",
              "  <tbody>\n",
              "    <tr>\n",
              "      <th>4005</th>\n",
              "      <td>Job Description\\n\\nPerforms data analysis, int...</td>\n",
              "      <td>Computer/Tech</td>\n",
              "      <td>Computer/Tech</td>\n",
              "    </tr>\n",
              "    <tr>\n",
              "      <th>2457</th>\n",
              "      <td>TTEC requires all employees hired in the Unite...</td>\n",
              "      <td>Engineering/Architecture</td>\n",
              "      <td>Engineering/Architecture</td>\n",
              "    </tr>\n",
              "    <tr>\n",
              "      <th>357</th>\n",
              "      <td>At Actian we believe data should be used as a ...</td>\n",
              "      <td>Business/Consulting</td>\n",
              "      <td>Business/Consulting</td>\n",
              "    </tr>\n",
              "    <tr>\n",
              "      <th>1728</th>\n",
              "      <td>Senior Data Scientist Duties Work with Retail,...</td>\n",
              "      <td>Business/Consulting</td>\n",
              "      <td>Business/Consulting</td>\n",
              "    </tr>\n",
              "    <tr>\n",
              "      <th>3909</th>\n",
              "      <td>Job Description\\n\\nWe are looking for a highly...</td>\n",
              "      <td>Computer/Tech</td>\n",
              "      <td>Engineering/Architecture</td>\n",
              "    </tr>\n",
              "  </tbody>\n",
              "</table>\n",
              "</div>"
            ],
            "text/plain": [
              "                                        job_description  ...        Category_Predicted\n",
              "4005  Job Description\\n\\nPerforms data analysis, int...  ...             Computer/Tech\n",
              "2457  TTEC requires all employees hired in the Unite...  ...  Engineering/Architecture\n",
              "357   At Actian we believe data should be used as a ...  ...       Business/Consulting\n",
              "1728  Senior Data Scientist Duties Work with Retail,...  ...       Business/Consulting\n",
              "3909  Job Description\\n\\nWe are looking for a highly...  ...  Engineering/Architecture\n",
              "\n",
              "[5 rows x 3 columns]"
            ]
          },
          "metadata": {
            "tags": []
          },
          "execution_count": 12
        }
      ]
    },
    {
      "cell_type": "code",
      "metadata": {
        "colab": {
          "base_uri": "https://localhost:8080/",
          "height": 142
        },
        "id": "tVrIrYPSxHf2",
        "outputId": "7a31caed-912c-47dd-afe6-c4e21a3639c3"
      },
      "source": [
        "# Let's get missclassifed job_descriptions\n",
        "\n",
        "condition = (df_test['category'] != df_test['Category_Predicted'])\n",
        "\n",
        "df_misclassified = df_test[condition]\n",
        "\n",
        "df_misclassified.head(3)"
      ],
      "execution_count": 13,
      "outputs": [
        {
          "output_type": "execute_result",
          "data": {
            "text/html": [
              "<div>\n",
              "<style scoped>\n",
              "    .dataframe tbody tr th:only-of-type {\n",
              "        vertical-align: middle;\n",
              "    }\n",
              "\n",
              "    .dataframe tbody tr th {\n",
              "        vertical-align: top;\n",
              "    }\n",
              "\n",
              "    .dataframe thead th {\n",
              "        text-align: right;\n",
              "    }\n",
              "</style>\n",
              "<table border=\"1\" class=\"dataframe\">\n",
              "  <thead>\n",
              "    <tr style=\"text-align: right;\">\n",
              "      <th></th>\n",
              "      <th>job_description</th>\n",
              "      <th>category</th>\n",
              "      <th>Category_Predicted</th>\n",
              "    </tr>\n",
              "  </thead>\n",
              "  <tbody>\n",
              "    <tr>\n",
              "      <th>3909</th>\n",
              "      <td>Job Description\\n\\nWe are looking for a highly...</td>\n",
              "      <td>Computer/Tech</td>\n",
              "      <td>Engineering/Architecture</td>\n",
              "    </tr>\n",
              "    <tr>\n",
              "      <th>888</th>\n",
              "      <td>AWS Data Scientist- Computer Software- Minneso...</td>\n",
              "      <td>Engineering/Architecture</td>\n",
              "      <td>Business/Consulting</td>\n",
              "    </tr>\n",
              "    <tr>\n",
              "      <th>2714</th>\n",
              "      <td>Credit Sesame is the nation’s only full-lifecy...</td>\n",
              "      <td>Engineering/Architecture</td>\n",
              "      <td>Computer/Tech</td>\n",
              "    </tr>\n",
              "  </tbody>\n",
              "</table>\n",
              "</div>"
            ],
            "text/plain": [
              "                                        job_description  ...        Category_Predicted\n",
              "3909  Job Description\\n\\nWe are looking for a highly...  ...  Engineering/Architecture\n",
              "888   AWS Data Scientist- Computer Software- Minneso...  ...       Business/Consulting\n",
              "2714  Credit Sesame is the nation’s only full-lifecy...  ...             Computer/Tech\n",
              "\n",
              "[3 rows x 3 columns]"
            ]
          },
          "metadata": {
            "tags": []
          },
          "execution_count": 13
        }
      ]
    },
    {
      "cell_type": "code",
      "metadata": {
        "id": "AqFRYGMaxT5U"
      },
      "source": [
        "# Function to get the sample of 3 missclasifed job postings\n",
        "\n",
        "def output_article(row_article):\n",
        "    print('Actual Category: %s' %(row_article['category']))\n",
        "    print('Predicted Category: %s' %(row_article['Category_Predicted']))\n",
        "    print('-------------------------------------------')\n",
        "    print('Text: ')\n",
        "    print('%s' %(row_article['job_description']))"
      ],
      "execution_count": 14,
      "outputs": []
    },
    {
      "cell_type": "code",
      "metadata": {
        "colab": {
          "base_uri": "https://localhost:8080/"
        },
        "id": "FmE9ope6xeBw",
        "outputId": "72082daf-348b-4e2e-8370-065d62a837a2"
      },
      "source": [
        "# get random number of indices\n",
        "\n",
        "random.seed(8)\n",
        "list_samples = random.sample(list(df_misclassified.index), 5)\n",
        "list_samples"
      ],
      "execution_count": 20,
      "outputs": [
        {
          "output_type": "execute_result",
          "data": {
            "text/plain": [
              "[2524, 781, 949, 714, 1778]"
            ]
          },
          "metadata": {
            "tags": []
          },
          "execution_count": 20
        }
      ]
    },
    {
      "cell_type": "code",
      "metadata": {
        "colab": {
          "base_uri": "https://localhost:8080/"
        },
        "id": "fN3IQp0yxkqt",
        "outputId": "fec98c30-42cd-4969-9a0f-45414af69fb9"
      },
      "source": [
        "# Let's look at all 3 job postings\n",
        "\n",
        "# first one\n",
        "\n",
        "\n",
        "output_article(df_misclassified.loc[list_samples[0]])"
      ],
      "execution_count": 22,
      "outputs": [
        {
          "output_type": "stream",
          "text": [
            "Actual Category: Business/Consulting\n",
            "Predicted Category: Computer/Tech\n",
            "-------------------------------------------\n",
            "Text: \n",
            "Look for more than answers.   At Quest, we are on a continuous journey of discovery and development. It’s this attitude that has made us an industry leader and the #1 Diagnostic Lab in the US. For those joining us, we offer exciting and fast-moving career opportunities where you can affect change at a rate unheard of in many organizations of our size and scope. While we invest in and develop technology to drive our innovations, our ongoing success relies on our people. As a Data Scientist, you will work for the world leader in the industry, with a career where you will have the opportunity to collaborate and affect change while expanding your leadership skills and technical knowledge. You can make a real impact in a market that is growing and developing. Data Scientist, the role:   The Data Scientist will support the franchises by using internal Quest Diagnostics data and externally purchased market data to inform key business decisions.  The main purpose of this role is to turn data into insights that drive key decisions for the organization and our clients. Job responsibilities: Provide biostatistical consultation to clients or colleagues. Analyze archival data such as laboratory, medical, prescription, and death records. Read current literature, attend meetings or conferences, and talk with colleagues to keep abreast of methodological or conceptual developments in fields such as actuarial sciences, data science, biostatistics, risk management, pharmacology, life sciences, and social sciences. Prepare articles for publication or presentation at professional conferences. Calculate sample size requirements for studies. Write program code to analyze data and develop predictive models using SAS statistical analysis software. Write detailed analysis plans and descriptions of analyses and findings for research protocols or reports. Prepare tables and graphs to present data or results. Draw conclusions or make predictions based on data summaries or statistical analyses. Develop or implement data analysis and reporting algorithms. Design research studies in collaboration with physicians, life scientists, underwriters, or other professionals. Analyze data using statistical approaches such as longitudinal analysis, mixed effect modeling, logistic regression analyses proportional hazards regression, and other model building techniques. To qualify, the ideal candidate will have the following: Bachelor’s degree in Actuarial Sciences, Biostatistics, Mathematics, Risk Management, Data Science or other closely related field.  Experience and demonstrable success will be considered in place of education Master’s degree in Actuarial Sciences, Biostatistics, or Data Science preferred Experience working with datasets in the life insurance and/or health care industries.  Experience with SAS strongly preferred.  Experience with other statistical languages such as R and Python will be considered. Knowledge of arithmetic, algebra, geometry, calculus, statistics, and their applications. Ability to use advanced statistics and mathematics to solve problems and develop models.  Additional skills preferred: Statistics/Mathematics -- Using advanced statistics and mathematics to solve problems and develop models.  Critical Thinking -- Using logic and reasoning to identify the strengths and weaknesses of alternative solutions, conclusions or approaches to problems. Complex Problem Solving -- Identifying complex problems and reviewing related information to develop and evaluate options and implement solutions. Judgment and Decision Making -- Considering the relative costs and benefits of potential actions to choose the most appropriate one. Science -- Using scientific rules and methods to solve problems. Writing -- Communicating effectively in writing as appropriate for the needs of the audience. Reading Comprehension -- Understanding written sentences and paragraphs in work related documents. Active Listening -- Giving full attention to what other people are saying, taking time to understand the points being made, asking questions as appropriate, and not interrupting at inappropriate times. Active Learning -- Understanding the implications of new information for both current and future problem-solving and decision-making. Speaking -- Talking to others to convey information effectively, including in the context of formal industry presentations.. Programming -- Writing SAS statistical and other computer programs for various purposes. Learning Strategies -- Selecting and using largely self-directed training/instructional methods and procedures appropriate for the situation when learning or teaching new things. Apply Today Join us for competitive benefits and development opportunities in a progressive and supportive environment. Help us improve our service, and the experiences of our patients and colleagues. Work with us and together we can be better.   Your Quest career. Seek it out. All requirements are subject to possible modifications to reasonably accommodate individuals with disabilities. Quest Diagnostics is an Equal Opportunity Employer: Women / Minorities / Veterans / Disabled / Sexual Orientation / Gender Identity. *cb*\n"
          ],
          "name": "stdout"
        }
      ]
    },
    {
      "cell_type": "code",
      "metadata": {
        "colab": {
          "base_uri": "https://localhost:8080/"
        },
        "id": "R1On98Ckx5FS",
        "outputId": "abf16c59-4908-4af0-ea64-82e38890d107"
      },
      "source": [
        "# second missclasifed job description\n",
        "\n",
        "output_article(df_misclassified.loc[list_samples[1]])"
      ],
      "execution_count": 19,
      "outputs": [
        {
          "output_type": "stream",
          "text": [
            "Actual Category: Business/Consulting\n",
            "Predicted Category: Computer/Tech\n",
            "-------------------------------------------\n",
            "Text: \n",
            "Job Title: Data Analyst/Data Scientist Location: San Francisco, CA Duration: 3+ months   CTH Responsibilities: • Skilled at defining and asking key questions that help clients discover their needs, building trust by communicating effectively with clients about status and issues, developing and presenting convincing recommendations that address key client objectives, setting appropriate expectations with client and managing them throughout the project life cycle • Analyze industry trends, conducting discussions for insights, interpreting dataextensive healthcare repository, examining models and tools, formulating studies and making recommendations to stakeholders. Design, build and deploy BI solutions in Tableau and create ad-hoc reports as needed • Support all aspects of projects; including formulating research and analysis plans, developing strategies instrumental in product success, managing data collection, executing data analysis, writing reports, and presenting findings while ensuring quality and accuracy. Provide on-going tracking and monitoring of performance decision systems and statistical models • Owning projects end-to-end and working in a multidisciplinary team that is agile in their approach to analytics, ensuring that everything they do is applied to the wider business. • Develop effective, defect free analysis and visual insights that meet business requirements and explain findings efficiently Skill Set Desired: Desired Skills • Ability to tackle problems by using a logical, systematic, and sequential approach • Prior experience and/or demonstrated desire to understand business workflows and promote data driven decision making within business teams • Recognizes abstract patterns and relationships between apparently unrelated entities or situations using statistical techniques • Experience with Analytics tools such as Tableau; Databases including SQL Server, Netezza etc. • Translate business requirements into data requirements with a deep understanding of project objectives and available data attributes • Excellent analytical, problem solving, and communication and collaboration skills • Must be proactive, demonstrate initiative, and be a logical thinker • Strong oral, written communication, and presentation skills. Ability to present complex information in an understandable and compelling manner • Proven experience working in a business intelligence analytics environment, delivering insights and recommendations across the organizations Qualifications • Bachelor’s degree in a relevant field of study (health sciences, computer science, engineering or other quantitative discipline • High proficiency with SQL, Tableau, and Excel Highly Competitive Candidates Will Have • Experience with Python/R • Prior work experience in the Healthcare industry domain • Experience in writing predictive algorithms and building sound statistical models • Foundational knowledge or proficient in new and emerging technologies such as Azure, Spark, Hadoop etc. is a plus Remote candidates are accepted as long as willing to be in office 4 days per month. (Examples: every Wednesday or one entire week per month) | \n"
          ],
          "name": "stdout"
        }
      ]
    },
    {
      "cell_type": "code",
      "metadata": {
        "colab": {
          "base_uri": "https://localhost:8080/"
        },
        "id": "JRSY9nrdyFx9",
        "outputId": "7380cd62-15e7-474c-e962-13ed720fdbe1"
      },
      "source": [
        "# third case\n",
        "\n",
        "output_article(df_misclassified.loc[list_samples[2]])"
      ],
      "execution_count": 18,
      "outputs": [
        {
          "output_type": "stream",
          "text": [
            "Actual Category: Engineering/Architecture\n",
            "Predicted Category: Computer/Tech\n",
            "-------------------------------------------\n",
            "Text: \n",
            "Read what people are saying about working here. \n",
            "\n",
            "Part-time, Internship\n",
            "\n",
            "ENGIE Insight, formerly Ecova, partners with multi-site businesses that aim to thrive in a sustainable world. With a foundation of accurate and comprehensive resource data – including energy, water, waste and telecom – we apply technology and people expertise to lower costs, drive efficiencies and reduce environmental impact. More than 1,000 customers, including 25%+ of the Fortune 500, turn to ENGIE Insight to help move their sustainable resource management initiatives forward.\n",
            "\n",
            "ENGIE Insight’s people are our greatest strength, bound by our vision to enable a sustainable world where people, organizations and the environment thrive. We are passionate about making our company and the world a better place; responsible in working with commitment and accountability; collaborative with our colleagues and clients, and agile enough to work in a dynamic, changing industry.\n",
            "\n",
            "The wide-ranging expertise of our diverse team fuels the innovation that places us on the leading edge of the energy industry. As such, we nurture a company culture—through training, mentoring and professional development—that encourages all employees to thrive. If this the kind of place you see yourself working, we invite you to join ENGIE Insight.\n",
            "\n",
            "*In order to be considered for the role, your resume must be attached in your application.\n",
            "\n",
            "Position Summary\n",
            "\n",
            "The Associate Data Scientist-Internship will be joining an industry-leading R&D team with extensive academic and industry experience in building energy analytics, solving physical system-based real-life big data problems. The Associate Data Scientist’s work will support the development of new algorithms used to help solve the real-world energy problems.\n",
            "\n",
            "Role Description\n",
            "\n",
            "Mine industrial-size data sets in various states of cleanliness for insights\n",
            "\n",
            "Refine and verify statistical and machine learning algorithms within the Analytics R&D group\n",
            "\n",
            "Assist the Analytics R&D team in running energy and algorithmic models and interpreting the results\n",
            "\n",
            "Evaluate business and technology trade-offs and report them in a manner that product and business teams can make decisions on final specifications\n",
            "\n",
            "Qualifications\n",
            "\n",
            "Role Competencies\n",
            "\n",
            "BS required, advanced degree in Computer Science, Engineering, Statistics, or equivalent field desired\n",
            "\n",
            "Strong mathematical background with teachable knowledge of various analytic methodologies such as signal processing, model selection, model verification, optimization, artificial neural networks, Bayesian, etc.\n",
            "\n",
            "0-3 years of experience developing, testing, and evaluating algorithms including statistical and machine learning\n",
            "\n",
            "Proficient in large-scale SQL/NoSQL database queries, with associated statistical analyses including the following areas: non-linear and multi-variate regressions, logistic regression, time series analyses, and probabilistic and classification models.\n",
            "\n",
            "Intermediate level knowledge of statistical tools (e.g., R, MatLab, etc.)\n",
            "\n",
            "Familiarity with scripting prototyping/scripting languages, e.g., Python\n",
            "\n",
            "Experience with real-world commercial data analytics and visualization\n",
            "\n",
            "Comfortable with working in a fast-paced multidisciplinary environment while maintaining strict customer data privacy requirements\n",
            "\n",
            "Uncompromising integrity and ethical standards\n",
            "\n",
            "Familiarity with cloud storage and processing technologies is desired\n",
            "\n",
            "ENGIE Insight Information\n",
            "\n",
            "Our salaries are competitive and commensurate with experience. We are a performance-based culture and have goal-based incentive programs and generous employee benefits. Our comprehensive benefit package includes medical, dental, vision insurance, life, AD&D, short- and long-term disability insurance. We also offer flexible spending accounts and 401(k) with a generous employer match.\n",
            "\n",
            "ENGIE Insight is an equal opportunity and affirmative action employer. All qualified applicants will be considered without regard to age, race, color, national origin, ancestry, sex, sexual orientation or preference, religion, marital status, citizenship, veteran status, or physical or mental disability.\n",
            "\n",
            "Connect with ENGIE Insight: Twitter | LinkedIn | Facebook | Blog | Videos | Webinars\n",
            "\n",
            "Job\n",
            "\n",
            ": Digital and IT\n",
            "\n",
            "Primary Location\n",
            "\n",
            ": North America-United States-Massachusetts-Boston\n",
            "\n",
            "Organization\n",
            "\n",
            ": Technology\n",
            "\n",
            "Schedule\n",
            "\n",
            ": Part-time\n",
            "\n",
            "Nature of Responsibility\n",
            "\n",
            ": Advanced operational / administrative role\n",
            "\n",
            "Job Posting\n",
            "\n",
            ": Mar 5, 2019, 8:42:28 PM\n"
          ],
          "name": "stdout"
        }
      ]
    },
    {
      "cell_type": "code",
      "metadata": {
        "colab": {
          "base_uri": "https://localhost:8080/"
        },
        "id": "IyvSJu3eyWYq",
        "outputId": "545bc675-7424-4235-a6c2-685c280f5cd0"
      },
      "source": [
        "# Fourth case\n",
        "\n",
        "output_article(df_misclassified.loc[list_samples[3]])"
      ],
      "execution_count": 23,
      "outputs": [
        {
          "output_type": "stream",
          "text": [
            "Actual Category: Engineering/Architecture\n",
            "Predicted Category: Computer/Tech\n",
            "-------------------------------------------\n",
            "Text: \n",
            "Read what people are saying about working here. \n",
            "\n",
            "The Applied Analytics COE team isresponsible for developing analytics-driven solutions to help GM Organizations achievetheir business goals. The individual will work as a member of amulti-disciplinary team of various experience levels that will be drivingsolution design, development, and deployment of analytic models in support ofbusiness facing analytic groups. The team is responsible for bothadvanced analytics strategy and applied, project-based solutions, focusing onthe company’s most critical business areas.\n",
            "\n",
            "Responsibilities include thefollowing:\n",
            "\n",
            "Work as a member of a cross-functional team to propose and implement high-impact data and analytic solutions that address business challenges across a variety of business units\n",
            "\n",
            "Apply Data Science and Modeling techniques to drive data driven decision making and solve complex business problems:\n",
            "\n",
            "Create breakthrough solutions, performing exploratory and targeted data analyses\n",
            "\n",
            "Build predictive models and machine-learning algorithms\n",
            "\n",
            "Analyze large amounts of diverse information to discover trends and patterns\n",
            "\n",
            "Undertake preprocessing of structured and unstructured data\n",
            "\n",
            "Monitor and sustain model effectiveness\n",
            "\n",
            "Combine models through ensemble modeling\n",
            "\n",
            "Present complex information using data visualization techniques\n",
            "\n",
            "Plan and execute projects, including direction and oversight of technical work of associate Data Scientists\n",
            "\n",
            "Work with diverse technical teams and provide data and analytic oversight to ensure project deliverables fulfill business needs and timing\n",
            "\n",
            "Identify long-term technical innovations and collaborate with the Analytics Research COE\n",
            "\n",
            "Minimum seven years of experience developing, deploying and monitoring performance of large analytic data sets and machine learning based models\n",
            "\n",
            "Minimum seven years of experience utilizing several of the following data and analytics toolsets:\n",
            "\n",
            "Languages: Python, R, Spark Scala, SAS\n",
            "\n",
            "Big Data Tools and Databases: Hadoop, Teradata, Spark, Kafka, Advanced SQL and NoSQL including Postgres and Cassandra\n",
            "\n",
            "Data Visualization: Tableau, SAS, JMP or similar\n",
            "\n",
            "Ability to prioritize and manage multiple tasks and projects at once without sacrificing quality\n",
            "\n",
            "Strong listening and communications skills\n",
            "\n",
            "Highly collaborative work style\n",
            "\n",
            "Ability to evaluate the big picture and solve business problems rather than focusing solely on metrics\n",
            "\n",
            "Education and Experience:\n",
            "\n",
            "PhD. or Master’s Degree in Mathematics, Statistics, Computer Science, Operations Research, Engineering, Economics or other quantitative field\n",
            "\n",
            "Preferred academic or work experience in a data-intensive field/industry such as biotechnology, computational chemistry, cognitive or neurosciences, behavioral economics, econometrics, engineering, physics, quantitative finance, high frequency trading or intelligence analytics\n",
            "\n",
            " GM is eagerly seeking new talent with fresh perspectives to inspire our innovative products and services. Join us on a journey to experie...\n"
          ],
          "name": "stdout"
        }
      ]
    },
    {
      "cell_type": "code",
      "metadata": {
        "colab": {
          "base_uri": "https://localhost:8080/"
        },
        "id": "1m31KjH3yfLS",
        "outputId": "050f6bb6-393c-4c0e-fac9-dfd2ac94cc6b"
      },
      "source": [
        "# fifth sample\n",
        "\n",
        "output_article(df_misclassified.loc[list_samples[4]])"
      ],
      "execution_count": 24,
      "outputs": [
        {
          "output_type": "stream",
          "text": [
            "Actual Category: Business/Consulting\n",
            "Predicted Category: Computer/Tech\n",
            "-------------------------------------------\n",
            "Text: \n",
            "Learn and work on meaningful initiatives with some of the best and brightest in the market research industry. The NPD Group provides the world’s most successful brands with leading market research, combining consumer and retail point-of-sale data with analytic solutions to interpret today’s market trends while anticipating tomorrow’s. In addition, we offer a career filled with innovation and growth to the forward-thinking problem solvers who join our team. Position Overview You’re a passionate, dynamic, and highly motivated individual who’s looking for an opportunity to have an impact on some of the most well-known companies in the world.  This integral member of the Research Sciences team will report directly to the Research Manager. If you enjoy working with clients to influence their business solutions, this job is for you. NPD’s Research Science Group works to ensure that NPD’s market information is of the highest quality; in particular, that it is reliable, accurate, and complete.  We design and monitor the systems that ensure quality outcomes through use of approaches such as: Missing data imputation Multi-level modeling Selection bias modeling Small area estimation Automatic categorization of purchase records Forecasting of future trends The demographic balance of questionnaire responses via sampling Post hoc adjustment (i.e., raking) This position exists within the Methodology and Protocols team, a core function in Research Science that is responsible for developing and promoting best practices across the organization and industry. Overall Responsibilities: Use SAS, SPSS, SQL, R, and/or Excel to: Design methodological enhancements to NPD processes Carry out tests of alternative implementations of these enhancements Conduct basic research that draws on existing NPD data to study different aspects of consumer reporting performance and POS data coverage Apply multivariate and machine learning techniques to the above problems Promote consistency in implementation of designed enhancements across different businesses Maintain relationships with Research Science client teams to understand what is working well with NPD methodology and what could be improved Communicate results and procedures to internal clients Qualifications: Advanced degree in statistics, preferably a PhD Two-plus years’ experience in: Statistical programming in SAS, SPSS and/or R Advanced statistical techniques (including those mentioned above) Knowledge of SQL queries preferred (either SAS Proc SQL or another SQL implementation)  Excellent project management, time management,  and problem solving skills Ability to communicate ideas and analysis results effectively both verbally and in writing to both technical and non-technical audiences Ability to work well on a team as well as independently Proficient in MS Office (MS Word, Excel and PowerPoint) Communication The ideal candidate must be able to conduct engaging and impactful presentations that deliver value to the client while telling a compelling story in a concise and polished manner to a diverse audience. Most importantly, the candidate must demonstrate the ability to listen to the customer and appropriately match the customer's needs with NPD’s products and services, or be willing to direct the customer to the best solution. Relationships The ideal candidate must be comfortable and effective when talking with a broad range of decision influencers and decision makers within an organization. The candidate will be able to effectively understand and build relationships throughout the prospective customer's organization. Discipline The ideal candidate will be competent in managing their time and activities and must embrace our proven opportunity and customer management processes and systems. Candidates must possess a \"can-do\" perspective in their professional attitude. They will be detail oriented and demonstrate a strong work ethic. They will be sticklers for accuracy in their own work as well as their colleagues. They will be ready to back up their assertions with facts. The NPD Group, Inc. is an Affirmative Action/Equal Opportunity Employer. All qualified applicants will receive consideration for employment without regard to race, color, religion, sex, sexual orientation, gender identity, national origin, disability or protected veteran status or any other characteristic protected by law.\n"
          ],
          "name": "stdout"
        }
      ]
    }
  ]
}