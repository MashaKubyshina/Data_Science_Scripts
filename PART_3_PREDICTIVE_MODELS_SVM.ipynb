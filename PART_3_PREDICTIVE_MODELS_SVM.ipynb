{
  "nbformat": 4,
  "nbformat_minor": 0,
  "metadata": {
    "colab": {
      "name": "PART 3-PREDICTIVE MODELS - SVM.ipynb",
      "provenance": [],
      "authorship_tag": "ABX9TyORV9Avqwt0QwBEyAbNNArM",
      "include_colab_link": true
    },
    "kernelspec": {
      "name": "python3",
      "display_name": "Python 3"
    },
    "language_info": {
      "name": "python"
    }
  },
  "cells": [
    {
      "cell_type": "markdown",
      "metadata": {
        "id": "view-in-github",
        "colab_type": "text"
      },
      "source": [
        "<a href=\"https://colab.research.google.com/github/MashaKubyshina/Learning_to_code/blob/master/PART_3_PREDICTIVE_MODELS_SVM.ipynb\" target=\"_parent\"><img src=\"https://colab.research.google.com/assets/colab-badge.svg\" alt=\"Open In Colab\"/></a>"
      ]
    },
    {
      "cell_type": "markdown",
      "metadata": {
        "id": "iH8k7GK-3N_C"
      },
      "source": [
        "**Predictive Models**\n",
        "\n",
        "We will test the following models to see which ones can predict better:\n",
        "\n",
        "*  Random Forest\n",
        "*  Support Vector Machine\n",
        "*  K Nearest Neighbors\n",
        "*  Multinomial Naïve Bayes\n",
        "*  Multinomial Logistic Regression\n",
        "*  Gradient Boosting\n",
        "\n",
        "In this class project I am following a tutorial from this blog post https://towardsdatascience.com/text-classification-in-python-dd95d264c802\n",
        "\n",
        "**Process followed:**\n",
        "\n",
        "1.   Decide which hyperparameters we will use\n",
        "2.   Define our goal metric: what metric will we use to access the performance of the model\n",
        "3.   Use Randomized Search Cross Validation to find the hyperparameter that gives us most accuracy\n",
        "4.   Use Grid Search Cross Validation process in this region to find best combination of hyperparameters\n",
        "5.   Obtain the accuracy on the training data and the test data, the classification report and the confusion matrix.\n",
        "6.   Calculate the accuracy of a model with default hyperparameters\n",
        "\n",
        "There will be one notebook / link for each model\n"
      ]
    },
    {
      "cell_type": "markdown",
      "metadata": {
        "id": "ZBx8EO325qvQ"
      },
      "source": [
        "**SVM** "
      ]
    },
    {
      "cell_type": "code",
      "metadata": {
        "id": "P-DpU7AP3Hzt"
      },
      "source": [
        "import pickle\n",
        "import numpy as np\n",
        "from sklearn.feature_extraction.text import TfidfVectorizer\n",
        "from sklearn import svm\n",
        "from pprint import pprint\n",
        "from sklearn.model_selection import RandomizedSearchCV\n",
        "from sklearn.model_selection import GridSearchCV\n",
        "from sklearn.metrics import classification_report, confusion_matrix, accuracy_score\n",
        "from sklearn.model_selection import ShuffleSplit\n",
        "import matplotlib.pyplot as plt\n",
        "import seaborn as sns\n",
        "import pandas as pd\n",
        "from time import time"
      ],
      "execution_count": 83,
      "outputs": []
    },
    {
      "cell_type": "code",
      "metadata": {
        "id": "30bRv6L-3NzT"
      },
      "source": [
        "# Dataframe\n",
        "# Open saved data files with Pickle\n",
        "\n",
        "\n",
        "path_df = \"/content/drive/MyDrive/Pickles/df.pickle\"\n",
        "with open(path_df, 'rb') as data:\n",
        "    df = pickle.load(data)\n",
        "\n",
        "# features_train\n",
        "path_features_train = \"/content/drive/MyDrive/Pickles/features_train.pickle\"\n",
        "with open(path_features_train, 'rb') as data:\n",
        "    features_train = pickle.load(data)\n",
        "\n",
        "# labels_train\n",
        "path_labels_train = \"/content/drive/MyDrive/Pickles/labels_train.pickle\"\n",
        "with open(path_labels_train, 'rb') as data:\n",
        "    labels_train = pickle.load(data)\n",
        "\n",
        "# features_test\n",
        "path_features_test = \"/content/drive/MyDrive/Pickles/features_test.pickle\"\n",
        "with open(path_features_test, 'rb') as data:\n",
        "    features_test = pickle.load(data)\n",
        "\n",
        "# labels_test\n",
        "path_labels_test = \"/content/drive/MyDrive/Pickles/labels_test.pickle\"\n",
        "with open(path_labels_test, 'rb') as data:\n",
        "    labels_test = pickle.load(data)"
      ],
      "execution_count": 84,
      "outputs": []
    },
    {
      "cell_type": "code",
      "metadata": {
        "colab": {
          "base_uri": "https://localhost:8080/"
        },
        "id": "GvSzeGzM-n7q",
        "outputId": "91c3d88f-4461-41ce-ffc6-a9c425c2b88f"
      },
      "source": [
        "# check the dimension of the vectors:\n",
        "\n",
        "print(features_train.shape)\n",
        "print(features_test.shape)"
      ],
      "execution_count": 85,
      "outputs": [
        {
          "output_type": "stream",
          "text": [
            "(1500, 300)\n",
            "(500, 300)\n"
          ],
          "name": "stdout"
        }
      ]
    },
    {
      "cell_type": "code",
      "metadata": {
        "colab": {
          "base_uri": "https://localhost:8080/"
        },
        "id": "ipRrTsbr-x2L",
        "outputId": "909ff487-0a34-4ee5-a10f-5a1bbb4d191a"
      },
      "source": [
        "# Cross Validation for Hyperparameter tunning\n",
        "\n",
        "# we can see what hyperparameters the model has:\n",
        "\n",
        "svc_0 =svm.SVC(random_state=8)\n",
        "\n",
        "print('Parameters currently in use:\\n')\n",
        "pprint(svc_0.get_params())"
      ],
      "execution_count": 86,
      "outputs": [
        {
          "output_type": "stream",
          "text": [
            "Parameters currently in use:\n",
            "\n",
            "{'C': 1.0,\n",
            " 'break_ties': False,\n",
            " 'cache_size': 200,\n",
            " 'class_weight': None,\n",
            " 'coef0': 0.0,\n",
            " 'decision_function_shape': 'ovr',\n",
            " 'degree': 3,\n",
            " 'gamma': 'scale',\n",
            " 'kernel': 'rbf',\n",
            " 'max_iter': -1,\n",
            " 'probability': False,\n",
            " 'random_state': 8,\n",
            " 'shrinking': True,\n",
            " 'tol': 0.001,\n",
            " 'verbose': False}\n"
          ],
          "name": "stdout"
        }
      ]
    },
    {
      "cell_type": "code",
      "metadata": {
        "colab": {
          "base_uri": "https://localhost:8080/"
        },
        "id": "qHHlq_Wf_PDC",
        "outputId": "d5b29439-434f-4527-b412-0e279abb7bf3"
      },
      "source": [
        "# We will tune the following parameters\n",
        "\n",
        "# C: Penalty parameter C of the error term.\n",
        "# kernel: Specifies the kernel type to be used in the algorithm.\n",
        "# gamma: Kernel coefficient.\n",
        "# degree: Degree of the polynomial kernel function.\n",
        "\n",
        "# Let's define the grid\n",
        "\n",
        "# C\n",
        "C = [.0001, .001, .01]\n",
        "\n",
        "# gamma\n",
        "gamma = [.0001, .001, .01, .1, 1, 10, 100]\n",
        "\n",
        "# degree\n",
        "degree = [1, 2, 3, 4, 5]\n",
        "\n",
        "# kernel\n",
        "kernel = ['linear', 'rbf', 'poly']\n",
        "\n",
        "# probability\n",
        "probability = [True]\n",
        "\n",
        "# Create the random grid\n",
        "random_grid = {'C': C,\n",
        "              'kernel': kernel,\n",
        "              'gamma': gamma,\n",
        "              'degree': degree,\n",
        "              'probability': probability\n",
        "             }\n",
        "\n",
        "pprint(random_grid)"
      ],
      "execution_count": 87,
      "outputs": [
        {
          "output_type": "stream",
          "text": [
            "{'C': [0.0001, 0.001, 0.01],\n",
            " 'degree': [1, 2, 3, 4, 5],\n",
            " 'gamma': [0.0001, 0.001, 0.01, 0.1, 1, 10, 100],\n",
            " 'kernel': ['linear', 'rbf', 'poly'],\n",
            " 'probability': [True]}\n"
          ],
          "name": "stdout"
        }
      ]
    },
    {
      "cell_type": "code",
      "metadata": {
        "colab": {
          "base_uri": "https://localhost:8080/"
        },
        "id": "oqTEOXJj_iZB",
        "outputId": "f9bbca8b-15c2-4d53-90fa-35c3f018eb36"
      },
      "source": [
        "# we will perform a random search\n",
        "# we are using 3 folds and 50 candidates as a trade off between accuracy and execution time\n",
        "\n",
        "\n",
        "# First create the base model to tune\n",
        "svc = svm.SVC(random_state=8)\n",
        "\n",
        "# Definition of the random search\n",
        "random_search = RandomizedSearchCV(estimator=svc,\n",
        "                                   param_distributions=random_grid,\n",
        "                                   n_iter=50,\n",
        "                                   scoring='accuracy',\n",
        "                                   cv=3, \n",
        "                                   verbose=1, \n",
        "                                   random_state=8)\n",
        "\n",
        "# Fit the random search model\n",
        "random_search.fit(features_train, labels_train)"
      ],
      "execution_count": 88,
      "outputs": [
        {
          "output_type": "stream",
          "text": [
            "Fitting 3 folds for each of 50 candidates, totalling 150 fits\n"
          ],
          "name": "stdout"
        },
        {
          "output_type": "stream",
          "text": [
            "[Parallel(n_jobs=1)]: Using backend SequentialBackend with 1 concurrent workers.\n",
            "[Parallel(n_jobs=1)]: Done 150 out of 150 | elapsed:  5.9min finished\n"
          ],
          "name": "stderr"
        },
        {
          "output_type": "execute_result",
          "data": {
            "text/plain": [
              "RandomizedSearchCV(cv=3, error_score=nan,\n",
              "                   estimator=SVC(C=1.0, break_ties=False, cache_size=200,\n",
              "                                 class_weight=None, coef0=0.0,\n",
              "                                 decision_function_shape='ovr', degree=3,\n",
              "                                 gamma='scale', kernel='rbf', max_iter=-1,\n",
              "                                 probability=False, random_state=8,\n",
              "                                 shrinking=True, tol=0.001, verbose=False),\n",
              "                   iid='deprecated', n_iter=50, n_jobs=None,\n",
              "                   param_distributions={'C': [0.0001, 0.001, 0.01],\n",
              "                                        'degree': [1, 2, 3, 4, 5],\n",
              "                                        'gamma': [0.0001, 0.001, 0.01, 0.1, 1,\n",
              "                                                  10, 100],\n",
              "                                        'kernel': ['linear', 'rbf', 'poly'],\n",
              "                                        'probability': [True]},\n",
              "                   pre_dispatch='2*n_jobs', random_state=8, refit=True,\n",
              "                   return_train_score=False, scoring='accuracy', verbose=1)"
            ]
          },
          "metadata": {
            "tags": []
          },
          "execution_count": 88
        }
      ]
    },
    {
      "cell_type": "code",
      "metadata": {
        "colab": {
          "base_uri": "https://localhost:8080/"
        },
        "id": "-03CoMZB_tRj",
        "outputId": "b9404cb1-1a77-43f3-db10-926285c06d48"
      },
      "source": [
        "# we can see the best hyperparameters resulting from random search\n",
        "\n",
        "print(\"The best hyperparameters from Random Search are:\")\n",
        "print(random_search.best_params_)\n",
        "print(\"\")\n",
        "print(\"The mean accuracy of a model with these hyperparameters is:\")\n",
        "print(random_search.best_score_)"
      ],
      "execution_count": 89,
      "outputs": [
        {
          "output_type": "stream",
          "text": [
            "The best hyperparameters from Random Search are:\n",
            "{'probability': True, 'kernel': 'poly', 'gamma': 10, 'degree': 4, 'C': 0.01}\n",
            "\n",
            "The mean accuracy of a model with these hyperparameters is:\n",
            "0.682\n"
          ],
          "name": "stdout"
        }
      ]
    },
    {
      "cell_type": "code",
      "metadata": {
        "colab": {
          "base_uri": "https://localhost:8080/"
        },
        "id": "QjZPcS2IEprH",
        "outputId": "cce57c9b-1ba1-4f29-a611-93519255f24b"
      },
      "source": [
        "# grid search validation\n",
        "\n",
        "\n",
        "# Create the parameter grid based on the results of random search \n",
        "C = [.0001, .001, .01, .1]\n",
        "degree = [3, 4, 5]\n",
        "gamma = [1, 10, 100]\n",
        "probability = [True]\n",
        "\n",
        "param_grid = [\n",
        "  {'C': C, 'kernel':['linear'], 'probability':probability},\n",
        "  {'C': C, 'kernel':['poly'], 'degree':degree, 'probability':probability},\n",
        "  {'C': C, 'kernel':['rbf'], 'gamma':gamma, 'probability':probability}\n",
        "]\n",
        "\n",
        "# Create a base model\n",
        "svc = svm.SVC(random_state=8)\n",
        "\n",
        "# Manually create the splits in CV in order to be able to fix a random_state (GridSearchCV doesn't have that argument)\n",
        "cv_sets = ShuffleSplit(n_splits = 3, test_size = .33, random_state = 8)\n",
        "\n",
        "# Instantiate the grid search model\n",
        "grid_search = GridSearchCV(estimator=svc, \n",
        "                           param_grid=param_grid,\n",
        "                           scoring='accuracy',\n",
        "                           cv=cv_sets,\n",
        "                           verbose=1)\n",
        "\n",
        "# Fit the grid search to the data\n",
        "grid_search.fit(features_train, labels_train)\n"
      ],
      "execution_count": 90,
      "outputs": [
        {
          "output_type": "stream",
          "text": [
            "Fitting 3 folds for each of 28 candidates, totalling 84 fits\n"
          ],
          "name": "stdout"
        },
        {
          "output_type": "stream",
          "text": [
            "[Parallel(n_jobs=1)]: Using backend SequentialBackend with 1 concurrent workers.\n",
            "[Parallel(n_jobs=1)]: Done  84 out of  84 | elapsed:  3.8min finished\n"
          ],
          "name": "stderr"
        },
        {
          "output_type": "execute_result",
          "data": {
            "text/plain": [
              "GridSearchCV(cv=ShuffleSplit(n_splits=3, random_state=8, test_size=0.33, train_size=None),\n",
              "             error_score=nan,\n",
              "             estimator=SVC(C=1.0, break_ties=False, cache_size=200,\n",
              "                           class_weight=None, coef0=0.0,\n",
              "                           decision_function_shape='ovr', degree=3,\n",
              "                           gamma='scale', kernel='rbf', max_iter=-1,\n",
              "                           probability=False, random_state=8, shrinking=True,\n",
              "                           tol=0.001, verbose=False),\n",
              "             iid='deprecated'...one,\n",
              "             param_grid=[{'C': [0.0001, 0.001, 0.01, 0.1], 'kernel': ['linear'],\n",
              "                          'probability': [True]},\n",
              "                         {'C': [0.0001, 0.001, 0.01, 0.1], 'degree': [3, 4, 5],\n",
              "                          'kernel': ['poly'], 'probability': [True]},\n",
              "                         {'C': [0.0001, 0.001, 0.01, 0.1],\n",
              "                          'gamma': [1, 10, 100], 'kernel': ['rbf'],\n",
              "                          'probability': [True]}],\n",
              "             pre_dispatch='2*n_jobs', refit=True, return_train_score=False,\n",
              "             scoring='accuracy', verbose=1)"
            ]
          },
          "metadata": {
            "tags": []
          },
          "execution_count": 90
        }
      ]
    },
    {
      "cell_type": "code",
      "metadata": {
        "colab": {
          "base_uri": "https://localhost:8080/"
        },
        "id": "XrOOcF07E4CU",
        "outputId": "6225601f-bdce-441d-ac5d-90cd602a8473"
      },
      "source": [
        "print(\"The best hyperparameters from Grid Search are:\")\n",
        "print(grid_search.best_params_)\n",
        "print(\"\")\n",
        "print(\"The mean accuracy of a model with these hyperparameters is:\")\n",
        "print(grid_search.best_score_)"
      ],
      "execution_count": 91,
      "outputs": [
        {
          "output_type": "stream",
          "text": [
            "The best hyperparameters from Grid Search are:\n",
            "{'C': 0.1, 'degree': 5, 'kernel': 'poly', 'probability': True}\n",
            "\n",
            "The mean accuracy of a model with these hyperparameters is:\n",
            "0.5946127946127947\n"
          ],
          "name": "stdout"
        }
      ]
    },
    {
      "cell_type": "code",
      "metadata": {
        "id": "IIFrt3_iE7ep"
      },
      "source": [
        "best_svc = grid_search.best_estimator_"
      ],
      "execution_count": 92,
      "outputs": []
    },
    {
      "cell_type": "code",
      "metadata": {
        "colab": {
          "base_uri": "https://localhost:8080/"
        },
        "id": "_E4FqSNsE9o1",
        "outputId": "a63b9502-7d17-4709-dd65-4b562a1e1e5e"
      },
      "source": [
        "best_svc\n",
        "\n",
        "# We now know the best SVM model. Let's fit it and see how it performs"
      ],
      "execution_count": 93,
      "outputs": [
        {
          "output_type": "execute_result",
          "data": {
            "text/plain": [
              "SVC(C=0.1, break_ties=False, cache_size=200, class_weight=None, coef0=0.0,\n",
              "    decision_function_shape='ovr', degree=5, gamma='scale', kernel='poly',\n",
              "    max_iter=-1, probability=True, random_state=8, shrinking=True, tol=0.001,\n",
              "    verbose=False)"
            ]
          },
          "metadata": {
            "tags": []
          },
          "execution_count": 93
        }
      ]
    },
    {
      "cell_type": "markdown",
      "metadata": {
        "id": "GcrUuAZ8FLBn"
      },
      "source": [
        "**Model Fit and Performance**"
      ]
    },
    {
      "cell_type": "code",
      "metadata": {
        "colab": {
          "base_uri": "https://localhost:8080/"
        },
        "id": "QrMkaTqXLaBX",
        "outputId": "593a5851-c543-4ffd-c5cc-60943c47d32a"
      },
      "source": [
        "# fit the model to our training data\n",
        "\n",
        "best_svc.fit(features_train, labels_train)"
      ],
      "execution_count": 94,
      "outputs": [
        {
          "output_type": "execute_result",
          "data": {
            "text/plain": [
              "SVC(C=0.1, break_ties=False, cache_size=200, class_weight=None, coef0=0.0,\n",
              "    decision_function_shape='ovr', degree=5, gamma='scale', kernel='poly',\n",
              "    max_iter=-1, probability=True, random_state=8, shrinking=True, tol=0.001,\n",
              "    verbose=False)"
            ]
          },
          "metadata": {
            "tags": []
          },
          "execution_count": 94
        }
      ]
    },
    {
      "cell_type": "code",
      "metadata": {
        "id": "ebRQ0ZC8LjTJ"
      },
      "source": [
        "# get the predictors\n",
        "\n",
        "\n",
        "svc_pred = best_svc.predict(features_test)\n"
      ],
      "execution_count": 95,
      "outputs": []
    },
    {
      "cell_type": "code",
      "metadata": {
        "id": "tBr8k2vzLq80"
      },
      "source": [
        "# conditional class probabilites\n",
        "\n",
        "# svc_pred = best_svc.predict_proba(features_test)"
      ],
      "execution_count": 96,
      "outputs": []
    },
    {
      "cell_type": "code",
      "metadata": {
        "colab": {
          "base_uri": "https://localhost:8080/"
        },
        "id": "d4ITnirzL2do",
        "outputId": "674f4e73-8c17-45e5-aacc-12458c2862eb"
      },
      "source": [
        "# For performance analysis, we will use the confusion matrix, the classification report and the accuracy on both training and test data:\n",
        "\n",
        "# Training accuracy\n",
        "print(\"The training accuracy is: \")\n",
        "print(accuracy_score(labels_train, best_svc.predict(features_train)))"
      ],
      "execution_count": 97,
      "outputs": [
        {
          "output_type": "stream",
          "text": [
            "The training accuracy is: \n",
            "0.79\n"
          ],
          "name": "stdout"
        }
      ]
    },
    {
      "cell_type": "code",
      "metadata": {
        "colab": {
          "base_uri": "https://localhost:8080/"
        },
        "id": "OfnpDWHZL-Cn",
        "outputId": "a776e3f3-7a13-4b20-cb17-d3a65ae196b5"
      },
      "source": [
        "# Test accuracy\n",
        "\n",
        "print(\"The test accuracy is: \")\n",
        "print(accuracy_score(labels_test, svc_pred))"
      ],
      "execution_count": 98,
      "outputs": [
        {
          "output_type": "stream",
          "text": [
            "The test accuracy is: \n",
            "0.634\n"
          ],
          "name": "stdout"
        }
      ]
    },
    {
      "cell_type": "code",
      "metadata": {
        "colab": {
          "base_uri": "https://localhost:8080/"
        },
        "id": "hKtSS51OMBvW",
        "outputId": "02ead511-ac12-4f3a-b423-3a5351290111"
      },
      "source": [
        "# Classification report\n",
        "\n",
        "print(\"Classification report\")\n",
        "print(classification_report(labels_test,svc_pred))"
      ],
      "execution_count": 99,
      "outputs": [
        {
          "output_type": "stream",
          "text": [
            "Classification report\n",
            "              precision    recall  f1-score   support\n",
            "\n",
            "           0       0.60      0.99      0.75       274\n",
            "           1       0.83      0.12      0.21       124\n",
            "           2       0.91      0.31      0.47       102\n",
            "\n",
            "    accuracy                           0.63       500\n",
            "   macro avg       0.78      0.47      0.48       500\n",
            "weighted avg       0.72      0.63      0.56       500\n",
            "\n"
          ],
          "name": "stdout"
        }
      ]
    },
    {
      "cell_type": "code",
      "metadata": {
        "colab": {
          "base_uri": "https://localhost:8080/",
          "height": 404
        },
        "id": "RC922oIGOjrf",
        "outputId": "e053f1bb-260b-47c2-e543-5759fe2358fb"
      },
      "source": [
        "# Confusion matrix\n",
        "\n",
        "aux_df = df[['category', 'Category_Code']].drop_duplicates().sort_values('Category_Code')\n",
        "conf_matrix = confusion_matrix(labels_test, svc_pred)\n",
        "plt.figure(figsize=(12.8,6))\n",
        "sns.heatmap(conf_matrix, \n",
        "            annot=True,\n",
        "            xticklabels=aux_df['category'].values, \n",
        "            yticklabels=aux_df['category'].values,\n",
        "            cmap=\"Blues\")\n",
        "plt.ylabel('Predicted')\n",
        "plt.xlabel('Actual')\n",
        "plt.title('Confusion matrix')\n",
        "plt.show()"
      ],
      "execution_count": 100,
      "outputs": [
        {
          "output_type": "display_data",
          "data": {
            "image/png": "[encoded data removed]",
            "text/plain": [
              "<Figure size 921.6x432 with 2 Axes>"
            ]
          },
          "metadata": {
            "tags": [],
            "needs_background": "light"
          }
        }
      ]
    },
    {
      "cell_type": "code",
      "metadata": {
        "colab": {
          "base_uri": "https://localhost:8080/"
        },
        "id": "bjDULqcOm5So",
        "outputId": "d1064a7c-98d0-486d-a299-191636a8cbcd"
      },
      "source": [
        "# Let's see if the hyperparameter tuning process has returned a better model:\n",
        "\n",
        "base_model = svm.SVC(random_state = 8)\n",
        "base_model.fit(features_train, labels_train)\n",
        "accuracy_score(labels_test, base_model.predict(features_test))"
      ],
      "execution_count": 101,
      "outputs": [
        {
          "output_type": "execute_result",
          "data": {
            "text/plain": [
              "0.698"
            ]
          },
          "metadata": {
            "tags": []
          },
          "execution_count": 101
        }
      ]
    },
    {
      "cell_type": "code",
      "metadata": {
        "colab": {
          "base_uri": "https://localhost:8080/"
        },
        "id": "ufWX73VEnC6m",
        "outputId": "4a6e22c8-b47d-46cd-d126-f395a4849be2"
      },
      "source": [
        "best_svc.fit(features_train, labels_train)\n",
        "accuracy_score(labels_test, best_svc.predict(features_test))"
      ],
      "execution_count": 102,
      "outputs": [
        {
          "output_type": "execute_result",
          "data": {
            "text/plain": [
              "0.634"
            ]
          },
          "metadata": {
            "tags": []
          },
          "execution_count": 102
        }
      ]
    },
    {
      "cell_type": "code",
      "metadata": {
        "id": "qHg6iHZgnJrS"
      },
      "source": [
        "# create a dataset with a model summary to compare models\n",
        "\n",
        "d = {\n",
        "     'Model': 'SVM',\n",
        "     'Training Set Accuracy': accuracy_score(labels_train, best_svc.predict(features_train)),\n",
        "     'Test Set Accuracy': accuracy_score(labels_test, svc_pred)\n",
        "}\n",
        "\n",
        "df_models_svc = pd.DataFrame(d, index=[0])"
      ],
      "execution_count": 103,
      "outputs": []
    },
    {
      "cell_type": "code",
      "metadata": {
        "colab": {
          "base_uri": "https://localhost:8080/",
          "height": 80
        },
        "id": "JtyPczw4q9WI",
        "outputId": "857b8617-4c9f-44ce-fac0-07f4093072ea"
      },
      "source": [
        "df_models_svc"
      ],
      "execution_count": 104,
      "outputs": [
        {
          "output_type": "execute_result",
          "data": {
            "text/html": [
              "<div>\n",
              "<style scoped>\n",
              "    .dataframe tbody tr th:only-of-type {\n",
              "        vertical-align: middle;\n",
              "    }\n",
              "\n",
              "    .dataframe tbody tr th {\n",
              "        vertical-align: top;\n",
              "    }\n",
              "\n",
              "    .dataframe thead th {\n",
              "        text-align: right;\n",
              "    }\n",
              "</style>\n",
              "<table border=\"1\" class=\"dataframe\">\n",
              "  <thead>\n",
              "    <tr style=\"text-align: right;\">\n",
              "      <th></th>\n",
              "      <th>Model</th>\n",
              "      <th>Training Set Accuracy</th>\n",
              "      <th>Test Set Accuracy</th>\n",
              "    </tr>\n",
              "  </thead>\n",
              "  <tbody>\n",
              "    <tr>\n",
              "      <th>0</th>\n",
              "      <td>SVM</td>\n",
              "      <td>0.79</td>\n",
              "      <td>0.634</td>\n",
              "    </tr>\n",
              "  </tbody>\n",
              "</table>\n",
              "</div>"
            ],
            "text/plain": [
              "  Model  Training Set Accuracy  Test Set Accuracy\n",
              "0   SVM                   0.79              0.634"
            ]
          },
          "metadata": {
            "tags": []
          },
          "execution_count": 104
        }
      ]
    },
    {
      "cell_type": "code",
      "metadata": {
        "id": "qtpMc-eWrBwX"
      },
      "source": [
        "with open('/content/drive/MyDrive/Pickles/Models/best_svc.pickle', 'wb') as output:\n",
        "    pickle.dump(best_svc, output)\n",
        "    \n",
        "with open('/content/drive/MyDrive/Pickles/Models/df_models_svc.pickle', 'wb') as output:\n",
        "    pickle.dump(df_models_svc, output)"
      ],
      "execution_count": 106,
      "outputs": []
    }
  ]
}