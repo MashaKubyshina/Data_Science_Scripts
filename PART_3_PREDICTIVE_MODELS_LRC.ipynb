{
  "nbformat": 4,
  "nbformat_minor": 0,
  "metadata": {
    "colab": {
      "name": "PART_3_PREDICTIVE_MODELS_LRC.ipynb",
      "provenance": [],
      "mount_file_id": "1BkJrV_sqeAnjpOOMZL0faJJwj_z5LYaG",
      "authorship_tag": "ABX9TyMRh4+vP/p9C63VYybQWznm",
      "include_colab_link": true
    },
    "kernelspec": {
      "name": "python3",
      "display_name": "Python 3"
    },
    "language_info": {
      "name": "python"
    }
  },
  "cells": [
    {
      "cell_type": "markdown",
      "metadata": {
        "id": "view-in-github",
        "colab_type": "text"
      },
      "source": [
        "<a href=\"https://colab.research.google.com/github/MashaKubyshina/Learning_to_code/blob/master/PART_3_PREDICTIVE_MODELS_LRC.ipynb\" target=\"_parent\"><img src=\"https://colab.research.google.com/assets/colab-badge.svg\" alt=\"Open In Colab\"/></a>"
      ]
    },
    {
      "cell_type": "markdown",
      "metadata": {
        "id": "iH8k7GK-3N_C"
      },
      "source": [
        "**Predictive Models**\n",
        "\n",
        "We will test the following models to see which ones can predict better:\n",
        "\n",
        "*  Random Forest\n",
        "*  Support Vector Machine\n",
        "*  K Nearest Neighbors\n",
        "*  Multinomial Naïve Bayes\n",
        "*  Multinomial Logistic Regression\n",
        "*  Gradient Boosting\n",
        "\n",
        "In this class project I am following a tutorial from this blog post https://towardsdatascience.com/text-classification-in-python-dd95d264c802\n",
        "\n",
        "**Process followed:**\n",
        "\n",
        "1.   Decide which hyperparameters we will use\n",
        "2.   Define our goal metric: what metric will we use to access the performance of the model\n",
        "3.   Use Randomized Search Cross Validation to find the hyperparameter that gives us most accuracy\n",
        "4.   Use Grid Search Cross Validation process in this region to find best combination of hyperparameters\n",
        "5.   Obtain the accuracy on the training data and the test data, the classification report and the confusion matrix.\n",
        "6.   Calculate the accuracy of a model with default hyperparameters\n",
        "\n",
        "There will be one notebook / link for each model\n"
      ]
    },
    {
      "cell_type": "markdown",
      "metadata": {
        "id": "ZBx8EO325qvQ"
      },
      "source": [
        "**Multinomial Logistic Regression** "
      ]
    },
    {
      "cell_type": "code",
      "metadata": {
        "id": "P-DpU7AP3Hzt"
      },
      "source": [
        "import pickle\n",
        "import numpy as np\n",
        "from sklearn.feature_extraction.text import TfidfVectorizer\n",
        "from sklearn.linear_model import LogisticRegression\n",
        "from pprint import pprint\n",
        "from sklearn.model_selection import RandomizedSearchCV\n",
        "from sklearn.model_selection import GridSearchCV\n",
        "from sklearn.metrics import classification_report, confusion_matrix, accuracy_score\n",
        "from sklearn.model_selection import ShuffleSplit\n",
        "import matplotlib.pyplot as plt\n",
        "import seaborn as sns\n",
        "import pandas as pd"
      ],
      "execution_count": 1,
      "outputs": []
    },
    {
      "cell_type": "code",
      "metadata": {
        "id": "30bRv6L-3NzT"
      },
      "source": [
        "# Dataframe\n",
        "# Open saved data files with Pickle\n",
        "\n",
        "\n",
        "path_df = \"/content/drive/MyDrive/Pickles/df.pickle\"\n",
        "with open(path_df, 'rb') as data:\n",
        "    df = pickle.load(data)\n",
        "\n",
        "# features_train\n",
        "path_features_train = \"/content/drive/MyDrive/Pickles/features_train.pickle\"\n",
        "with open(path_features_train, 'rb') as data:\n",
        "    features_train = pickle.load(data)\n",
        "\n",
        "# labels_train\n",
        "path_labels_train = \"/content/drive/MyDrive/Pickles/labels_train.pickle\"\n",
        "with open(path_labels_train, 'rb') as data:\n",
        "    labels_train = pickle.load(data)\n",
        "\n",
        "# features_test\n",
        "path_features_test = \"/content/drive/MyDrive/Pickles/features_test.pickle\"\n",
        "with open(path_features_test, 'rb') as data:\n",
        "    features_test = pickle.load(data)\n",
        "\n",
        "# labels_test\n",
        "path_labels_test = \"/content/drive/MyDrive/Pickles/labels_test.pickle\"\n",
        "with open(path_labels_test, 'rb') as data:\n",
        "    labels_test = pickle.load(data)"
      ],
      "execution_count": 2,
      "outputs": []
    },
    {
      "cell_type": "code",
      "metadata": {
        "colab": {
          "base_uri": "https://localhost:8080/"
        },
        "id": "GvSzeGzM-n7q",
        "outputId": "96132156-b620-4841-cacd-e2a785f10431"
      },
      "source": [
        "# check the dimension of the vectors:\n",
        "\n",
        "print(features_train.shape)\n",
        "print(features_test.shape)"
      ],
      "execution_count": 3,
      "outputs": [
        {
          "output_type": "stream",
          "text": [
            "(1500, 300)\n",
            "(500, 300)\n"
          ],
          "name": "stdout"
        }
      ]
    },
    {
      "cell_type": "code",
      "metadata": {
        "colab": {
          "base_uri": "https://localhost:8080/"
        },
        "id": "ipRrTsbr-x2L",
        "outputId": "597978bf-c416-4564-8f78-258d949546fc"
      },
      "source": [
        "# Cross Validation for Hyperparameter tunning\n",
        "\n",
        "# we can see what hyperparameters the model has:\n",
        "\n",
        "lr_0 = LogisticRegression(random_state = 8)\n",
        "\n",
        "print('Parameters currently in use:\\n')\n",
        "pprint(lr_0.get_params())"
      ],
      "execution_count": 4,
      "outputs": [
        {
          "output_type": "stream",
          "text": [
            "Parameters currently in use:\n",
            "\n",
            "{'C': 1.0,\n",
            " 'class_weight': None,\n",
            " 'dual': False,\n",
            " 'fit_intercept': True,\n",
            " 'intercept_scaling': 1,\n",
            " 'l1_ratio': None,\n",
            " 'max_iter': 100,\n",
            " 'multi_class': 'auto',\n",
            " 'n_jobs': None,\n",
            " 'penalty': 'l2',\n",
            " 'random_state': 8,\n",
            " 'solver': 'lbfgs',\n",
            " 'tol': 0.0001,\n",
            " 'verbose': 0,\n",
            " 'warm_start': False}\n"
          ],
          "name": "stdout"
        }
      ]
    },
    {
      "cell_type": "code",
      "metadata": {
        "colab": {
          "base_uri": "https://localhost:8080/"
        },
        "id": "qHHlq_Wf_PDC",
        "outputId": "4726499c-5257-4323-9ebf-eda613aa9538"
      },
      "source": [
        "# We will tune the following parameters\n",
        "\n",
        "# C = Inverse of regularization strength. Smaller values specify stronger regularization.\n",
        "# multi_class = We'll choose multinomial because this is a multi-class problem.\n",
        "# solver = Algorithm to use in the optimization problem. For multiclass problems, only newton-cg, sag, saga and lbfgs handle multinomial loss.\n",
        "# class_weight: Weights associated with classes.\n",
        "# penalty: Used to specify the norm used in the penalization. The ‘newton-cg’, ‘sag’ and ‘lbfgs’ solvers support only l2 penalties.\n",
        "\n",
        "# Let's define the grid\n",
        "\n",
        "# C\n",
        "C = [float(x) for x in np.linspace(start = 0.1, stop = 1, num = 10)]\n",
        "\n",
        "# multi_class\n",
        "multi_class = ['multinomial']\n",
        "\n",
        "# solver\n",
        "solver = ['newton-cg', 'sag', 'saga', 'lbfgs']\n",
        " \n",
        "# class_weight\n",
        "class_weight = ['balanced', None]\n",
        "\n",
        "# penalty\n",
        "penalty = ['l2']\n",
        "\n",
        "# Create the random grid\n",
        "random_grid = {'C': C,\n",
        "               'multi_class': multi_class,\n",
        "               'solver': solver,\n",
        "               'class_weight': class_weight,\n",
        "               'penalty': penalty}\n",
        "\n",
        "pprint(random_grid)"
      ],
      "execution_count": 5,
      "outputs": [
        {
          "output_type": "stream",
          "text": [
            "{'C': [0.1,\n",
            "       0.2,\n",
            "       0.30000000000000004,\n",
            "       0.4,\n",
            "       0.5,\n",
            "       0.6,\n",
            "       0.7000000000000001,\n",
            "       0.8,\n",
            "       0.9,\n",
            "       1.0],\n",
            " 'class_weight': ['balanced', None],\n",
            " 'multi_class': ['multinomial'],\n",
            " 'penalty': ['l2'],\n",
            " 'solver': ['newton-cg', 'sag', 'saga', 'lbfgs']}\n"
          ],
          "name": "stdout"
        }
      ]
    },
    {
      "cell_type": "code",
      "metadata": {
        "colab": {
          "base_uri": "https://localhost:8080/"
        },
        "id": "oqTEOXJj_iZB",
        "outputId": "f8df0154-9b4e-4946-a02b-dbc392bd628c"
      },
      "source": [
        "# First create the base model to tune\n",
        "\n",
        "lrc = LogisticRegression(random_state=8)\n",
        "\n",
        "# Definition of the random search\n",
        "\n",
        "random_search = RandomizedSearchCV(estimator=lrc,\n",
        "                                   param_distributions=random_grid,\n",
        "                                   n_iter=50,\n",
        "                                   scoring='accuracy',\n",
        "                                   cv=3, \n",
        "                                   verbose=1, \n",
        "                                   random_state=8)\n",
        "\n",
        "# Fit the random search model\n",
        "random_search.fit(features_train, labels_train)"
      ],
      "execution_count": 6,
      "outputs": [
        {
          "output_type": "stream",
          "text": [
            "Fitting 3 folds for each of 50 candidates, totalling 150 fits\n"
          ],
          "name": "stdout"
        },
        {
          "output_type": "stream",
          "text": [
            "[Parallel(n_jobs=1)]: Using backend SequentialBackend with 1 concurrent workers.\n",
            "[Parallel(n_jobs=1)]: Done 150 out of 150 | elapsed:   17.4s finished\n"
          ],
          "name": "stderr"
        },
        {
          "output_type": "execute_result",
          "data": {
            "text/plain": [
              "RandomizedSearchCV(cv=3, error_score=nan,\n",
              "                   estimator=LogisticRegression(C=1.0, class_weight=None,\n",
              "                                                dual=False, fit_intercept=True,\n",
              "                                                intercept_scaling=1,\n",
              "                                                l1_ratio=None, max_iter=100,\n",
              "                                                multi_class='auto', n_jobs=None,\n",
              "                                                penalty='l2', random_state=8,\n",
              "                                                solver='lbfgs', tol=0.0001,\n",
              "                                                verbose=0, warm_start=False),\n",
              "                   iid='deprecated', n_iter=50, n_jobs=None,\n",
              "                   param_distributions={'C': [0.1, 0.2, 0.30000000000000004,\n",
              "                                              0.4, 0.5, 0.6, 0.7000000000000001,\n",
              "                                              0.8, 0.9, 1.0],\n",
              "                                        'class_weight': ['balanced', None],\n",
              "                                        'multi_class': ['multinomial'],\n",
              "                                        'penalty': ['l2'],\n",
              "                                        'solver': ['newton-cg', 'sag', 'saga',\n",
              "                                                   'lbfgs']},\n",
              "                   pre_dispatch='2*n_jobs', random_state=8, refit=True,\n",
              "                   return_train_score=False, scoring='accuracy', verbose=1)"
            ]
          },
          "metadata": {
            "tags": []
          },
          "execution_count": 6
        }
      ]
    },
    {
      "cell_type": "code",
      "metadata": {
        "colab": {
          "base_uri": "https://localhost:8080/"
        },
        "id": "-03CoMZB_tRj",
        "outputId": "7d183e71-85d5-44b3-86cc-ec756ecb46ac"
      },
      "source": [
        "# we can see the best hyperparameters resulting from random search\n",
        "\n",
        "print(\"The best hyperparameters from Random Search are:\")\n",
        "print(random_search.best_params_)\n",
        "print(\"\")\n",
        "print(\"The mean accuracy of a model with these hyperparameters is:\")\n",
        "print(random_search.best_score_)"
      ],
      "execution_count": 7,
      "outputs": [
        {
          "output_type": "stream",
          "text": [
            "The best hyperparameters from Random Search are:\n",
            "{'solver': 'saga', 'penalty': 'l2', 'multi_class': 'multinomial', 'class_weight': None, 'C': 0.8}\n",
            "\n",
            "The mean accuracy of a model with these hyperparameters is:\n",
            "0.6779999999999999\n"
          ],
          "name": "stdout"
        }
      ]
    },
    {
      "cell_type": "code",
      "metadata": {
        "colab": {
          "base_uri": "https://localhost:8080/"
        },
        "id": "QjZPcS2IEprH",
        "outputId": "14c2710e-cd6c-4c34-8158-99c00eb949e1"
      },
      "source": [
        "# grid search validation\n",
        "\n",
        "# Create the parameter grid based on the results of random search \n",
        "\n",
        "C = [float(x) for x in np.linspace(start = 0.6, stop = 1, num = 10)]\n",
        "multi_class = ['multinomial']\n",
        "solver = ['sag']\n",
        "class_weight = ['balanced']\n",
        "penalty = ['l2']\n",
        "\n",
        "param_grid = {'C': C,\n",
        "               'multi_class': multi_class,\n",
        "               'solver': solver,\n",
        "               'class_weight': class_weight,\n",
        "               'penalty': penalty}\n",
        "\n",
        "# Create a base model\n",
        "lrc = LogisticRegression(random_state=8)\n",
        "\n",
        "# Manually create the splits in CV in order to be able to fix a random_state (GridSearchCV doesn't have that argument)\n",
        "cv_sets = ShuffleSplit(n_splits = 3, test_size = .33, random_state = 8)\n",
        "\n",
        "# Instantiate the grid search model\n",
        "grid_search = GridSearchCV(estimator=lrc, \n",
        "                           param_grid=param_grid,\n",
        "                           scoring='accuracy',\n",
        "                           cv=cv_sets,\n",
        "                           verbose=1)\n",
        "\n",
        "# Fit the grid search to the data\n",
        "grid_search.fit(features_train, labels_train)"
      ],
      "execution_count": 8,
      "outputs": [
        {
          "output_type": "stream",
          "text": [
            "Fitting 3 folds for each of 10 candidates, totalling 30 fits\n"
          ],
          "name": "stdout"
        },
        {
          "output_type": "stream",
          "text": [
            "[Parallel(n_jobs=1)]: Using backend SequentialBackend with 1 concurrent workers.\n",
            "[Parallel(n_jobs=1)]: Done  30 out of  30 | elapsed:    6.5s finished\n"
          ],
          "name": "stderr"
        },
        {
          "output_type": "execute_result",
          "data": {
            "text/plain": [
              "GridSearchCV(cv=ShuffleSplit(n_splits=3, random_state=8, test_size=0.33, train_size=None),\n",
              "             error_score=nan,\n",
              "             estimator=LogisticRegression(C=1.0, class_weight=None, dual=False,\n",
              "                                          fit_intercept=True,\n",
              "                                          intercept_scaling=1, l1_ratio=None,\n",
              "                                          max_iter=100, multi_class='auto',\n",
              "                                          n_jobs=None, penalty='l2',\n",
              "                                          random_state=8, solver='lbfgs',\n",
              "                                          tol=0.0001, verbose=0,\n",
              "                                          warm_start=False),\n",
              "             iid=...\n",
              "             param_grid={'C': [0.6, 0.6444444444444444, 0.6888888888888889,\n",
              "                               0.7333333333333333, 0.7777777777777778,\n",
              "                               0.8222222222222222, 0.8666666666666667,\n",
              "                               0.9111111111111111, 0.9555555555555555, 1.0],\n",
              "                         'class_weight': ['balanced'],\n",
              "                         'multi_class': ['multinomial'], 'penalty': ['l2'],\n",
              "                         'solver': ['sag']},\n",
              "             pre_dispatch='2*n_jobs', refit=True, return_train_score=False,\n",
              "             scoring='accuracy', verbose=1)"
            ]
          },
          "metadata": {
            "tags": []
          },
          "execution_count": 8
        }
      ]
    },
    {
      "cell_type": "code",
      "metadata": {
        "colab": {
          "base_uri": "https://localhost:8080/"
        },
        "id": "XrOOcF07E4CU",
        "outputId": "92618c4a-8764-4266-d972-1d0e6a5a141d"
      },
      "source": [
        "print(\"The best hyperparameters from Grid Search are:\")\n",
        "print(grid_search.best_params_)\n",
        "print(\"\")\n",
        "print(\"The mean accuracy of a model with these hyperparameters is:\")\n",
        "print(grid_search.best_score_)"
      ],
      "execution_count": 9,
      "outputs": [
        {
          "output_type": "stream",
          "text": [
            "The best hyperparameters from Grid Search are:\n",
            "{'C': 0.9555555555555555, 'class_weight': 'balanced', 'multi_class': 'multinomial', 'penalty': 'l2', 'solver': 'sag'}\n",
            "\n",
            "The mean accuracy of a model with these hyperparameters is:\n",
            "0.5952861952861953\n"
          ],
          "name": "stdout"
        }
      ]
    },
    {
      "cell_type": "code",
      "metadata": {
        "id": "IIFrt3_iE7ep"
      },
      "source": [
        "best_lrc = grid_search.best_estimator_"
      ],
      "execution_count": 10,
      "outputs": []
    },
    {
      "cell_type": "code",
      "metadata": {
        "colab": {
          "base_uri": "https://localhost:8080/"
        },
        "id": "_E4FqSNsE9o1",
        "outputId": "fb63c966-4223-41f7-e474-2fd8b16e931d"
      },
      "source": [
        "best_lrc\n",
        "\n",
        "# We now know the best RFC model. Let's fit it and see how it performs"
      ],
      "execution_count": 11,
      "outputs": [
        {
          "output_type": "execute_result",
          "data": {
            "text/plain": [
              "LogisticRegression(C=0.9555555555555555, class_weight='balanced', dual=False,\n",
              "                   fit_intercept=True, intercept_scaling=1, l1_ratio=None,\n",
              "                   max_iter=100, multi_class='multinomial', n_jobs=None,\n",
              "                   penalty='l2', random_state=8, solver='sag', tol=0.0001,\n",
              "                   verbose=0, warm_start=False)"
            ]
          },
          "metadata": {
            "tags": []
          },
          "execution_count": 11
        }
      ]
    },
    {
      "cell_type": "markdown",
      "metadata": {
        "id": "GcrUuAZ8FLBn"
      },
      "source": [
        "**Model Fit and Performance**"
      ]
    },
    {
      "cell_type": "code",
      "metadata": {
        "colab": {
          "base_uri": "https://localhost:8080/"
        },
        "id": "QrMkaTqXLaBX",
        "outputId": "ec1e7cd8-788c-496b-dc4e-0ebc015bc257"
      },
      "source": [
        "# fit the model to our training data\n",
        "\n",
        "best_lrc.fit(features_train, labels_train)"
      ],
      "execution_count": 12,
      "outputs": [
        {
          "output_type": "execute_result",
          "data": {
            "text/plain": [
              "LogisticRegression(C=0.9555555555555555, class_weight='balanced', dual=False,\n",
              "                   fit_intercept=True, intercept_scaling=1, l1_ratio=None,\n",
              "                   max_iter=100, multi_class='multinomial', n_jobs=None,\n",
              "                   penalty='l2', random_state=8, solver='sag', tol=0.0001,\n",
              "                   verbose=0, warm_start=False)"
            ]
          },
          "metadata": {
            "tags": []
          },
          "execution_count": 12
        }
      ]
    },
    {
      "cell_type": "code",
      "metadata": {
        "id": "ebRQ0ZC8LjTJ"
      },
      "source": [
        "# get the predictors\n",
        "\n",
        "\n",
        "lrc_pred = best_lrc.predict(features_test)\n"
      ],
      "execution_count": 13,
      "outputs": []
    },
    {
      "cell_type": "code",
      "metadata": {
        "id": "tBr8k2vzLq80"
      },
      "source": [
        "# conditional class probabilites\n",
        "\n",
        "# lrc_pred = best_lrc.predict_proba(features_test)"
      ],
      "execution_count": null,
      "outputs": []
    },
    {
      "cell_type": "code",
      "metadata": {
        "colab": {
          "base_uri": "https://localhost:8080/"
        },
        "id": "d4ITnirzL2do",
        "outputId": "e09ee33b-b0ff-4463-a3d6-8ae2e9f90066"
      },
      "source": [
        "# For performance analysis, we will use the confusion matrix, the classification report and the accuracy on both training and test data:\n",
        "\n",
        "# Training accuracy\n",
        "\n",
        "print(\"The training accuracy is: \")\n",
        "print(accuracy_score(labels_train, best_lrc.predict(features_train)))"
      ],
      "execution_count": 14,
      "outputs": [
        {
          "output_type": "stream",
          "text": [
            "The training accuracy is: \n",
            "0.73\n"
          ],
          "name": "stdout"
        }
      ]
    },
    {
      "cell_type": "code",
      "metadata": {
        "colab": {
          "base_uri": "https://localhost:8080/"
        },
        "id": "OfnpDWHZL-Cn",
        "outputId": "fdccea5a-a532-4c2a-c6ed-8fae9b98a177"
      },
      "source": [
        "# Test accuracy\n",
        "\n",
        "\n",
        "print(\"The test accuracy is: \")\n",
        "print(accuracy_score(labels_test, lrc_pred))"
      ],
      "execution_count": 15,
      "outputs": [
        {
          "output_type": "stream",
          "text": [
            "The test accuracy is: \n",
            "0.582\n"
          ],
          "name": "stdout"
        }
      ]
    },
    {
      "cell_type": "code",
      "metadata": {
        "colab": {
          "base_uri": "https://localhost:8080/"
        },
        "id": "hKtSS51OMBvW",
        "outputId": "deba551c-cba4-423e-fa22-cab0010a464e"
      },
      "source": [
        "# Classification report\n",
        "\n",
        "print(\"Classification report\")\n",
        "print(classification_report(labels_test,lrc_pred))"
      ],
      "execution_count": 16,
      "outputs": [
        {
          "output_type": "stream",
          "text": [
            "Classification report\n",
            "              precision    recall  f1-score   support\n",
            "\n",
            "           0       0.72      0.59      0.65       274\n",
            "           1       0.35      0.37      0.36       124\n",
            "           2       0.58      0.82      0.68       102\n",
            "\n",
            "    accuracy                           0.58       500\n",
            "   macro avg       0.55      0.59      0.56       500\n",
            "weighted avg       0.60      0.58      0.58       500\n",
            "\n"
          ],
          "name": "stdout"
        }
      ]
    },
    {
      "cell_type": "code",
      "metadata": {
        "colab": {
          "base_uri": "https://localhost:8080/",
          "height": 404
        },
        "id": "RC922oIGOjrf",
        "outputId": "4f0d3313-b989-4553-f34f-81c7b89be88a"
      },
      "source": [
        "# Confusion matrix\n",
        "\n",
        "aux_df = df[['category', 'Category_Code']].drop_duplicates().sort_values('Category_Code')\n",
        "conf_matrix = confusion_matrix(labels_test, lrc_pred)\n",
        "plt.figure(figsize=(12.8,6))\n",
        "sns.heatmap(conf_matrix, \n",
        "            annot=True,\n",
        "            xticklabels=aux_df['category'].values, \n",
        "            yticklabels=aux_df['category'].values,\n",
        "            cmap=\"Blues\")\n",
        "plt.ylabel('Predicted')\n",
        "plt.xlabel('Actual')\n",
        "plt.title('Confusion matrix')\n",
        "plt.show()"
      ],
      "execution_count": 17,
      "outputs": [
        {
          "output_type": "display_data",
          "data": {
            "image/png": "[encoded data removed]",
            "text/plain": [
              "<Figure size 921.6x432 with 2 Axes>"
            ]
          },
          "metadata": {
            "tags": [],
            "needs_background": "light"
          }
        }
      ]
    },
    {
      "cell_type": "code",
      "metadata": {
        "colab": {
          "base_uri": "https://localhost:8080/"
        },
        "id": "bjDULqcOm5So",
        "outputId": "ff5b8038-5dfe-4e00-8dee-52622b1b7ce8"
      },
      "source": [
        "# Let's see if the hyperparameter tuning process has returned a better model:\n",
        "\n",
        "base_model = LogisticRegression(random_state = 8)\n",
        "base_model.fit(features_train, labels_train)\n",
        "accuracy_score(labels_test, base_model.predict(features_test))"
      ],
      "execution_count": 19,
      "outputs": [
        {
          "output_type": "execute_result",
          "data": {
            "text/plain": [
              "0.668"
            ]
          },
          "metadata": {
            "tags": []
          },
          "execution_count": 19
        }
      ]
    },
    {
      "cell_type": "code",
      "metadata": {
        "colab": {
          "base_uri": "https://localhost:8080/"
        },
        "id": "ufWX73VEnC6m",
        "outputId": "55dd3451-28e5-4da3-f1c3-7e590ab62eb7"
      },
      "source": [
        "best_lrc.fit(features_train, labels_train)\n",
        "accuracy_score(labels_test, best_lrc.predict(features_test))"
      ],
      "execution_count": 20,
      "outputs": [
        {
          "output_type": "execute_result",
          "data": {
            "text/plain": [
              "0.582"
            ]
          },
          "metadata": {
            "tags": []
          },
          "execution_count": 20
        }
      ]
    },
    {
      "cell_type": "code",
      "metadata": {
        "id": "qHg6iHZgnJrS"
      },
      "source": [
        "# create a dataset with a model summary to compare models\n",
        "\n",
        "d = {\n",
        "     'Model': 'Logistic Regression',\n",
        "     'Training Set Accuracy': accuracy_score(labels_train, best_lrc.predict(features_train)),\n",
        "     'Test Set Accuracy': accuracy_score(labels_test, lrc_pred)\n",
        "}\n",
        "\n",
        "df_models_lrc = pd.DataFrame(d, index=[0])"
      ],
      "execution_count": 21,
      "outputs": []
    },
    {
      "cell_type": "code",
      "metadata": {
        "colab": {
          "base_uri": "https://localhost:8080/",
          "height": 80
        },
        "id": "JtyPczw4q9WI",
        "outputId": "7cd8b7b8-9204-48b4-f3a0-fe6d21826898"
      },
      "source": [
        "df_models_lrc"
      ],
      "execution_count": 22,
      "outputs": [
        {
          "output_type": "execute_result",
          "data": {
            "text/html": [
              "<div>\n",
              "<style scoped>\n",
              "    .dataframe tbody tr th:only-of-type {\n",
              "        vertical-align: middle;\n",
              "    }\n",
              "\n",
              "    .dataframe tbody tr th {\n",
              "        vertical-align: top;\n",
              "    }\n",
              "\n",
              "    .dataframe thead th {\n",
              "        text-align: right;\n",
              "    }\n",
              "</style>\n",
              "<table border=\"1\" class=\"dataframe\">\n",
              "  <thead>\n",
              "    <tr style=\"text-align: right;\">\n",
              "      <th></th>\n",
              "      <th>Model</th>\n",
              "      <th>Training Set Accuracy</th>\n",
              "      <th>Test Set Accuracy</th>\n",
              "    </tr>\n",
              "  </thead>\n",
              "  <tbody>\n",
              "    <tr>\n",
              "      <th>0</th>\n",
              "      <td>Logistic Regression</td>\n",
              "      <td>0.73</td>\n",
              "      <td>0.582</td>\n",
              "    </tr>\n",
              "  </tbody>\n",
              "</table>\n",
              "</div>"
            ],
            "text/plain": [
              "                 Model  Training Set Accuracy  Test Set Accuracy\n",
              "0  Logistic Regression                   0.73              0.582"
            ]
          },
          "metadata": {
            "tags": []
          },
          "execution_count": 22
        }
      ]
    },
    {
      "cell_type": "code",
      "metadata": {
        "id": "qtpMc-eWrBwX"
      },
      "source": [
        "with open('/content/drive/MyDrive/Pickles/Models/best_lrc.pickle', 'wb') as output:\n",
        "    pickle.dump(best_lrc, output)\n",
        "    \n",
        "with open('/content/drive/MyDrive/Pickles/Models/df_models_lrc.pickle', 'wb') as output:\n",
        "    pickle.dump(df_models_lrc, output)"
      ],
      "execution_count": 23,
      "outputs": []
    }
  ]
}