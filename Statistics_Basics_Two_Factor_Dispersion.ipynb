{
  "nbformat": 4,
  "nbformat_minor": 0,
  "metadata": {
    "colab": {
      "name": "Statistics-Basics-Two_Factor_Dispersion.ipynb",
      "provenance": [],
      "authorship_tag": "ABX9TyNEyazMeEdYehH9ug0zoUm3",
      "include_colab_link": true
    },
    "kernelspec": {
      "name": "python3",
      "display_name": "Python 3"
    },
    "language_info": {
      "name": "python"
    }
  },
  "cells": [
    {
      "cell_type": "markdown",
      "metadata": {
        "id": "view-in-github",
        "colab_type": "text"
      },
      "source": [
        "<a href=\"https://colab.research.google.com/github/MashaKubyshina/Learning_to_code/blob/master/Statistics_Basics_Two_Factor_Dispersion.ipynb\" target=\"_parent\"><img src=\"https://colab.research.google.com/assets/colab-badge.svg\" alt=\"Open In Colab\"/></a>"
      ]
    },
    {
      "cell_type": "markdown",
      "metadata": {
        "id": "8bCnofJesHnS"
      },
      "source": [
        "# Description"
      ]
    },
    {
      "cell_type": "code",
      "metadata": {
        "id": "okCIztJZ2GNs"
      },
      "source": [
        "# Main question: Is any of the individual parameters or combined make the results between 4 groups statistically significant?\n",
        "# We have results from 4 tests Young-Low_dosis, Young-High_dosis, Old-Low_dosis, Old-High_dosis (see data link below)\n",
        "# Our Zero hypothesis (H-zero) is that the results between groups are not statistically significant\n",
        "# For H-zero to be true F has to be very small (close to 0) and P > 0.05\n",
        "# A statistically significant test result (P ≤ 0.05) means that the Zerp hypothesis is false or should be rejected\n",
        "# For the results to be statistically significant F has to be not too small, definetly not close to 0 and P < 0.05\n",
        "# (P > 0.05 is the probability that the null hypothesis is true)\n",
        "\n",
        "# Process followed:\n",
        "\n",
        "# 1. Import libraries\n",
        "# 2. Import and read dataset\n",
        "# 3. Clean dataset\n",
        "# 4. Do EDA (exploratory data analysis) to see the data\n",
        "# 5. Find F and P\n",
        "# 6. Conclusion"
      ],
      "execution_count": 55,
      "outputs": []
    },
    {
      "cell_type": "code",
      "metadata": {
        "id": "ZbNLH6cYrziJ"
      },
      "source": [
        "# 1. Import libraries\n",
        "\n",
        "import pandas as pd\n",
        "import numpy as np\n",
        "import matplotlib as plt\n",
        "import scipy.stats as stats"
      ],
      "execution_count": 56,
      "outputs": []
    },
    {
      "cell_type": "markdown",
      "metadata": {
        "id": "ZI6iMZ0Xsf-o"
      },
      "source": [
        "# Import and Read Dataset"
      ]
    },
    {
      "cell_type": "code",
      "metadata": {
        "id": "E5hoUW1ar9Ro"
      },
      "source": [
        "# 2. Import and read dataset\n",
        "\n",
        "url = 'https://stepik.org/media/attachments/lesson/9250/atherosclerosis.csv'\n",
        "\n",
        "df = pd.read_csv(url, header=None, sep=',')"
      ],
      "execution_count": 75,
      "outputs": []
    },
    {
      "cell_type": "code",
      "metadata": {
        "colab": {
          "base_uri": "https://localhost:8080/",
          "height": 419
        },
        "id": "QQiwZ-EysCpS",
        "outputId": "60624625-6106-438a-f12d-cd24b67b8752"
      },
      "source": [
        "df"
      ],
      "execution_count": 76,
      "outputs": [
        {
          "output_type": "execute_result",
          "data": {
            "text/html": [
              "<div>\n",
              "<style scoped>\n",
              "    .dataframe tbody tr th:only-of-type {\n",
              "        vertical-align: middle;\n",
              "    }\n",
              "\n",
              "    .dataframe tbody tr th {\n",
              "        vertical-align: top;\n",
              "    }\n",
              "\n",
              "    .dataframe thead th {\n",
              "        text-align: right;\n",
              "    }\n",
              "</style>\n",
              "<table border=\"1\" class=\"dataframe\">\n",
              "  <thead>\n",
              "    <tr style=\"text-align: right;\">\n",
              "      <th></th>\n",
              "      <th>0</th>\n",
              "      <th>1</th>\n",
              "      <th>2</th>\n",
              "    </tr>\n",
              "  </thead>\n",
              "  <tbody>\n",
              "    <tr>\n",
              "      <th>0</th>\n",
              "      <td>expr</td>\n",
              "      <td>age</td>\n",
              "      <td>dose</td>\n",
              "    </tr>\n",
              "    <tr>\n",
              "      <th>1</th>\n",
              "      <td>107.351478054914</td>\n",
              "      <td>1</td>\n",
              "      <td>D1</td>\n",
              "    </tr>\n",
              "    <tr>\n",
              "      <th>2</th>\n",
              "      <td>104.504438134304</td>\n",
              "      <td>1</td>\n",
              "      <td>D1</td>\n",
              "    </tr>\n",
              "    <tr>\n",
              "      <th>3</th>\n",
              "      <td>103.435134210494</td>\n",
              "      <td>1</td>\n",
              "      <td>D1</td>\n",
              "    </tr>\n",
              "    <tr>\n",
              "      <th>4</th>\n",
              "      <td>109.572882092261</td>\n",
              "      <td>1</td>\n",
              "      <td>D1</td>\n",
              "    </tr>\n",
              "    <tr>\n",
              "      <th>...</th>\n",
              "      <td>...</td>\n",
              "      <td>...</td>\n",
              "      <td>...</td>\n",
              "    </tr>\n",
              "    <tr>\n",
              "      <th>60</th>\n",
              "      <td>101.851582089502</td>\n",
              "      <td>2</td>\n",
              "      <td>D2</td>\n",
              "    </tr>\n",
              "    <tr>\n",
              "      <th>61</th>\n",
              "      <td>105.239530154673</td>\n",
              "      <td>2</td>\n",
              "      <td>D2</td>\n",
              "    </tr>\n",
              "    <tr>\n",
              "      <th>62</th>\n",
              "      <td>99.3501976897502</td>\n",
              "      <td>2</td>\n",
              "      <td>D2</td>\n",
              "    </tr>\n",
              "    <tr>\n",
              "      <th>63</th>\n",
              "      <td>108.091455147545</td>\n",
              "      <td>2</td>\n",
              "      <td>D2</td>\n",
              "    </tr>\n",
              "    <tr>\n",
              "      <th>64</th>\n",
              "      <td>111.639128974569</td>\n",
              "      <td>2</td>\n",
              "      <td>D2</td>\n",
              "    </tr>\n",
              "  </tbody>\n",
              "</table>\n",
              "<p>65 rows × 3 columns</p>\n",
              "</div>"
            ],
            "text/plain": [
              "                   0    1     2\n",
              "0               expr  age  dose\n",
              "1   107.351478054914    1    D1\n",
              "2   104.504438134304    1    D1\n",
              "3   103.435134210494    1    D1\n",
              "4   109.572882092261    1    D1\n",
              "..               ...  ...   ...\n",
              "60  101.851582089502    2    D2\n",
              "61  105.239530154673    2    D2\n",
              "62  99.3501976897502    2    D2\n",
              "63  108.091455147545    2    D2\n",
              "64  111.639128974569    2    D2\n",
              "\n",
              "[65 rows x 3 columns]"
            ]
          },
          "metadata": {
            "tags": []
          },
          "execution_count": 76
        }
      ]
    },
    {
      "cell_type": "code",
      "metadata": {
        "colab": {
          "base_uri": "https://localhost:8080/"
        },
        "id": "TtaTg7Nms9fa",
        "outputId": "17b62cfa-69da-496f-d287-7452019b25d7"
      },
      "source": [
        "df.columns"
      ],
      "execution_count": 77,
      "outputs": [
        {
          "output_type": "execute_result",
          "data": {
            "text/plain": [
              "Int64Index([0, 1, 2], dtype='int64')"
            ]
          },
          "metadata": {
            "tags": []
          },
          "execution_count": 77
        }
      ]
    },
    {
      "cell_type": "markdown",
      "metadata": {
        "id": "9CnPqDZDsrkX"
      },
      "source": [
        "# Clean Dataset"
      ]
    },
    {
      "cell_type": "code",
      "metadata": {
        "colab": {
          "base_uri": "https://localhost:8080/",
          "height": 419
        },
        "id": "mWdVo1Olwnne",
        "outputId": "e2f77d60-db38-4233-c68b-a5796fa1602a"
      },
      "source": [
        "# 3. Clean dataset\n",
        "\n",
        "# We need to clean the data: drop the first row and move column labels to header\n",
        "\n",
        "# We set the column labels to equal the values in the 1st row (index location 0):\n",
        "\n",
        "df.columns  = df.iloc[0]\n",
        "\n",
        "df"
      ],
      "execution_count": 78,
      "outputs": [
        {
          "output_type": "execute_result",
          "data": {
            "text/html": [
              "<div>\n",
              "<style scoped>\n",
              "    .dataframe tbody tr th:only-of-type {\n",
              "        vertical-align: middle;\n",
              "    }\n",
              "\n",
              "    .dataframe tbody tr th {\n",
              "        vertical-align: top;\n",
              "    }\n",
              "\n",
              "    .dataframe thead th {\n",
              "        text-align: right;\n",
              "    }\n",
              "</style>\n",
              "<table border=\"1\" class=\"dataframe\">\n",
              "  <thead>\n",
              "    <tr style=\"text-align: right;\">\n",
              "      <th></th>\n",
              "      <th>expr</th>\n",
              "      <th>age</th>\n",
              "      <th>dose</th>\n",
              "    </tr>\n",
              "  </thead>\n",
              "  <tbody>\n",
              "    <tr>\n",
              "      <th>0</th>\n",
              "      <td>expr</td>\n",
              "      <td>age</td>\n",
              "      <td>dose</td>\n",
              "    </tr>\n",
              "    <tr>\n",
              "      <th>1</th>\n",
              "      <td>107.351478054914</td>\n",
              "      <td>1</td>\n",
              "      <td>D1</td>\n",
              "    </tr>\n",
              "    <tr>\n",
              "      <th>2</th>\n",
              "      <td>104.504438134304</td>\n",
              "      <td>1</td>\n",
              "      <td>D1</td>\n",
              "    </tr>\n",
              "    <tr>\n",
              "      <th>3</th>\n",
              "      <td>103.435134210494</td>\n",
              "      <td>1</td>\n",
              "      <td>D1</td>\n",
              "    </tr>\n",
              "    <tr>\n",
              "      <th>4</th>\n",
              "      <td>109.572882092261</td>\n",
              "      <td>1</td>\n",
              "      <td>D1</td>\n",
              "    </tr>\n",
              "    <tr>\n",
              "      <th>...</th>\n",
              "      <td>...</td>\n",
              "      <td>...</td>\n",
              "      <td>...</td>\n",
              "    </tr>\n",
              "    <tr>\n",
              "      <th>60</th>\n",
              "      <td>101.851582089502</td>\n",
              "      <td>2</td>\n",
              "      <td>D2</td>\n",
              "    </tr>\n",
              "    <tr>\n",
              "      <th>61</th>\n",
              "      <td>105.239530154673</td>\n",
              "      <td>2</td>\n",
              "      <td>D2</td>\n",
              "    </tr>\n",
              "    <tr>\n",
              "      <th>62</th>\n",
              "      <td>99.3501976897502</td>\n",
              "      <td>2</td>\n",
              "      <td>D2</td>\n",
              "    </tr>\n",
              "    <tr>\n",
              "      <th>63</th>\n",
              "      <td>108.091455147545</td>\n",
              "      <td>2</td>\n",
              "      <td>D2</td>\n",
              "    </tr>\n",
              "    <tr>\n",
              "      <th>64</th>\n",
              "      <td>111.639128974569</td>\n",
              "      <td>2</td>\n",
              "      <td>D2</td>\n",
              "    </tr>\n",
              "  </tbody>\n",
              "</table>\n",
              "<p>65 rows × 3 columns</p>\n",
              "</div>"
            ],
            "text/plain": [
              "0               expr  age  dose\n",
              "0               expr  age  dose\n",
              "1   107.351478054914    1    D1\n",
              "2   104.504438134304    1    D1\n",
              "3   103.435134210494    1    D1\n",
              "4   109.572882092261    1    D1\n",
              "..               ...  ...   ...\n",
              "60  101.851582089502    2    D2\n",
              "61  105.239530154673    2    D2\n",
              "62  99.3501976897502    2    D2\n",
              "63  108.091455147545    2    D2\n",
              "64  111.639128974569    2    D2\n",
              "\n",
              "[65 rows x 3 columns]"
            ]
          },
          "metadata": {
            "tags": []
          },
          "execution_count": 78
        }
      ]
    },
    {
      "cell_type": "code",
      "metadata": {
        "colab": {
          "base_uri": "https://localhost:8080/",
          "height": 419
        },
        "id": "95omdd80x3Qs",
        "outputId": "90b6b2f5-92e2-41d8-b23e-6f9bee4408dc"
      },
      "source": [
        "# Then we drop the 1st row using iloc\n",
        "# We will save the new dataset as df_cleaned and will use this dataset from the rest of the operations\n",
        "\n",
        "df_cleaned=df.iloc[pd.RangeIndex(len(df)).drop(0)]\n",
        "df_cleaned"
      ],
      "execution_count": 79,
      "outputs": [
        {
          "output_type": "execute_result",
          "data": {
            "text/html": [
              "<div>\n",
              "<style scoped>\n",
              "    .dataframe tbody tr th:only-of-type {\n",
              "        vertical-align: middle;\n",
              "    }\n",
              "\n",
              "    .dataframe tbody tr th {\n",
              "        vertical-align: top;\n",
              "    }\n",
              "\n",
              "    .dataframe thead th {\n",
              "        text-align: right;\n",
              "    }\n",
              "</style>\n",
              "<table border=\"1\" class=\"dataframe\">\n",
              "  <thead>\n",
              "    <tr style=\"text-align: right;\">\n",
              "      <th></th>\n",
              "      <th>expr</th>\n",
              "      <th>age</th>\n",
              "      <th>dose</th>\n",
              "    </tr>\n",
              "  </thead>\n",
              "  <tbody>\n",
              "    <tr>\n",
              "      <th>1</th>\n",
              "      <td>107.351478054914</td>\n",
              "      <td>1</td>\n",
              "      <td>D1</td>\n",
              "    </tr>\n",
              "    <tr>\n",
              "      <th>2</th>\n",
              "      <td>104.504438134304</td>\n",
              "      <td>1</td>\n",
              "      <td>D1</td>\n",
              "    </tr>\n",
              "    <tr>\n",
              "      <th>3</th>\n",
              "      <td>103.435134210494</td>\n",
              "      <td>1</td>\n",
              "      <td>D1</td>\n",
              "    </tr>\n",
              "    <tr>\n",
              "      <th>4</th>\n",
              "      <td>109.572882092261</td>\n",
              "      <td>1</td>\n",
              "      <td>D1</td>\n",
              "    </tr>\n",
              "    <tr>\n",
              "      <th>5</th>\n",
              "      <td>114.99380251712</td>\n",
              "      <td>1</td>\n",
              "      <td>D1</td>\n",
              "    </tr>\n",
              "    <tr>\n",
              "      <th>...</th>\n",
              "      <td>...</td>\n",
              "      <td>...</td>\n",
              "      <td>...</td>\n",
              "    </tr>\n",
              "    <tr>\n",
              "      <th>60</th>\n",
              "      <td>101.851582089502</td>\n",
              "      <td>2</td>\n",
              "      <td>D2</td>\n",
              "    </tr>\n",
              "    <tr>\n",
              "      <th>61</th>\n",
              "      <td>105.239530154673</td>\n",
              "      <td>2</td>\n",
              "      <td>D2</td>\n",
              "    </tr>\n",
              "    <tr>\n",
              "      <th>62</th>\n",
              "      <td>99.3501976897502</td>\n",
              "      <td>2</td>\n",
              "      <td>D2</td>\n",
              "    </tr>\n",
              "    <tr>\n",
              "      <th>63</th>\n",
              "      <td>108.091455147545</td>\n",
              "      <td>2</td>\n",
              "      <td>D2</td>\n",
              "    </tr>\n",
              "    <tr>\n",
              "      <th>64</th>\n",
              "      <td>111.639128974569</td>\n",
              "      <td>2</td>\n",
              "      <td>D2</td>\n",
              "    </tr>\n",
              "  </tbody>\n",
              "</table>\n",
              "<p>64 rows × 3 columns</p>\n",
              "</div>"
            ],
            "text/plain": [
              "0               expr age dose\n",
              "1   107.351478054914   1   D1\n",
              "2   104.504438134304   1   D1\n",
              "3   103.435134210494   1   D1\n",
              "4   109.572882092261   1   D1\n",
              "5    114.99380251712   1   D1\n",
              "..               ...  ..  ...\n",
              "60  101.851582089502   2   D2\n",
              "61  105.239530154673   2   D2\n",
              "62  99.3501976897502   2   D2\n",
              "63  108.091455147545   2   D2\n",
              "64  111.639128974569   2   D2\n",
              "\n",
              "[64 rows x 3 columns]"
            ]
          },
          "metadata": {
            "tags": []
          },
          "execution_count": 79
        }
      ]
    },
    {
      "cell_type": "code",
      "metadata": {
        "colab": {
          "base_uri": "https://localhost:8080/"
        },
        "id": "rQVDzYP5xV9_",
        "outputId": "df711a2c-3a2e-45a7-9f4f-814b7ec7966e"
      },
      "source": [
        "df_cleaned.columns"
      ],
      "execution_count": 80,
      "outputs": [
        {
          "output_type": "execute_result",
          "data": {
            "text/plain": [
              "Index(['expr', 'age', 'dose'], dtype='object', name=0)"
            ]
          },
          "metadata": {
            "tags": []
          },
          "execution_count": 80
        }
      ]
    },
    {
      "cell_type": "code",
      "metadata": {
        "colab": {
          "base_uri": "https://localhost:8080/"
        },
        "id": "lZjKcijItNk5",
        "outputId": "84e3686b-428e-4e1e-aa9c-76a8b5075f50"
      },
      "source": [
        "df_cleaned.head"
      ],
      "execution_count": 81,
      "outputs": [
        {
          "output_type": "execute_result",
          "data": {
            "text/plain": [
              "<bound method NDFrame.head of 0               expr age dose\n",
              "1   107.351478054914   1   D1\n",
              "2   104.504438134304   1   D1\n",
              "3   103.435134210494   1   D1\n",
              "4   109.572882092261   1   D1\n",
              "5    114.99380251712   1   D1\n",
              "..               ...  ..  ...\n",
              "60  101.851582089502   2   D2\n",
              "61  105.239530154673   2   D2\n",
              "62  99.3501976897502   2   D2\n",
              "63  108.091455147545   2   D2\n",
              "64  111.639128974569   2   D2\n",
              "\n",
              "[64 rows x 3 columns]>"
            ]
          },
          "metadata": {
            "tags": []
          },
          "execution_count": 81
        }
      ]
    },
    {
      "cell_type": "code",
      "metadata": {
        "colab": {
          "base_uri": "https://localhost:8080/"
        },
        "id": "hyQhl0M5sICs",
        "outputId": "622b1c2a-d7f7-4f57-dc0e-d3fbcd002cc4"
      },
      "source": [
        "df_cleaned.shape"
      ],
      "execution_count": 82,
      "outputs": [
        {
          "output_type": "execute_result",
          "data": {
            "text/plain": [
              "(64, 3)"
            ]
          },
          "metadata": {
            "tags": []
          },
          "execution_count": 82
        }
      ]
    },
    {
      "cell_type": "code",
      "metadata": {
        "colab": {
          "base_uri": "https://localhost:8080/"
        },
        "id": "iHC63heuyNUR",
        "outputId": "88b3186f-db13-4ccd-cc42-9e27cb0f698d"
      },
      "source": [
        "# We convert the 'expr' column to numeric:\n",
        "\n",
        "df_cleaned.expr = pd.to_numeric(df_cleaned['expr'],errors='coerce')"
      ],
      "execution_count": 83,
      "outputs": [
        {
          "output_type": "stream",
          "text": [
            "/usr/local/lib/python3.7/dist-packages/pandas/core/generic.py:5170: SettingWithCopyWarning: \n",
            "A value is trying to be set on a copy of a slice from a DataFrame.\n",
            "Try using .loc[row_indexer,col_indexer] = value instead\n",
            "\n",
            "See the caveats in the documentation: https://pandas.pydata.org/pandas-docs/stable/user_guide/indexing.html#returning-a-view-versus-a-copy\n",
            "  self[name] = value\n"
          ],
          "name": "stderr"
        }
      ]
    },
    {
      "cell_type": "markdown",
      "metadata": {
        "id": "w9LCq_d8s2Af"
      },
      "source": [
        "# EDA (exploratory data analysis)"
      ]
    },
    {
      "cell_type": "code",
      "metadata": {
        "colab": {
          "base_uri": "https://localhost:8080/",
          "height": 557
        },
        "id": "1Wixe5CvvaNf",
        "outputId": "ba08f8bf-6cff-4448-bf42-c4fdadb18499"
      },
      "source": [
        "# 4. Do EDA (exploratory data analysis) to see the data\n",
        "\n",
        "# Let's explore data looking at boxplot by dose\n",
        "# We can see the overlap of medians and boxes\n",
        "\n",
        "df_cleaned.boxplot('expr', by='dose', figsize=(12,8), grid=True)"
      ],
      "execution_count": 84,
      "outputs": [
        {
          "output_type": "execute_result",
          "data": {
            "text/plain": [
              "<matplotlib.axes._subplots.AxesSubplot at 0x7f67fe3266d0>"
            ]
          },
          "metadata": {
            "tags": []
          },
          "execution_count": 84
        },
        {
          "output_type": "display_data",
          "data": {
            "image/png": "[encoded data removed]",
            "text/plain": [
              "<Figure size 864x576 with 1 Axes>"
            ]
          },
          "metadata": {
            "tags": [],
            "needs_background": "light"
          }
        }
      ]
    },
    {
      "cell_type": "code",
      "metadata": {
        "colab": {
          "base_uri": "https://localhost:8080/",
          "height": 557
        },
        "id": "Xwrg8FcH-U9L",
        "outputId": "d1ab18e0-22fa-4190-d526-2149799b1fb4"
      },
      "source": [
        "# 4. Do EDA (exploratory data analysis) to see the data\n",
        "\n",
        "# Let's explore data looking at boxplot by age\n",
        "# In this case there is a bit more difference and the median of each group is outside the box of the other group\n",
        "\n",
        "df_cleaned.boxplot('expr', by='age', figsize=(12,8), grid=True)"
      ],
      "execution_count": 93,
      "outputs": [
        {
          "output_type": "execute_result",
          "data": {
            "text/plain": [
              "<matplotlib.axes._subplots.AxesSubplot at 0x7f67fe0ca810>"
            ]
          },
          "metadata": {
            "tags": []
          },
          "execution_count": 93
        },
        {
          "output_type": "display_data",
          "data": {
            "image/png": "[encoded data removed]",
            "text/plain": [
              "<Figure size 864x576 with 1 Axes>"
            ]
          },
          "metadata": {
            "tags": [],
            "needs_background": "light"
          }
        }
      ]
    },
    {
      "cell_type": "code",
      "metadata": {
        "colab": {
          "base_uri": "https://localhost:8080/",
          "height": 214
        },
        "id": "ZTnK18_fsQFU",
        "outputId": "ae03b080-f5a6-45b5-fd49-2804d6fcee94"
      },
      "source": [
        "# another view is via pairplot (not too useful here)\n",
        "\n",
        "import seaborn as sns\n",
        "\n",
        "sns.pairplot(df_cleaned, y_vars=\"expr\", x_vars=['age','dose'])"
      ],
      "execution_count": 86,
      "outputs": [
        {
          "output_type": "execute_result",
          "data": {
            "text/plain": [
              "<seaborn.axisgrid.PairGrid at 0x7f67fe283ad0>"
            ]
          },
          "metadata": {
            "tags": []
          },
          "execution_count": 86
        },
        {
          "output_type": "display_data",
          "data": {
            "image/png": "[encoded data removed]",
            "text/plain": [
              "<Figure size 360x180 with 2 Axes>"
            ]
          },
          "metadata": {
            "tags": [],
            "needs_background": "light"
          }
        }
      ]
    },
    {
      "cell_type": "markdown",
      "metadata": {
        "id": "qokhpfENs_Un"
      },
      "source": [
        "# Find F and P"
      ]
    },
    {
      "cell_type": "code",
      "metadata": {
        "colab": {
          "base_uri": "https://localhost:8080/",
          "height": 545
        },
        "id": "OYj3Gj7wbXVp",
        "outputId": "446b12e2-816f-41a3-fe28-df74ae4c5b11"
      },
      "source": [
        "# Create subsets combining multiple conditions\n",
        "\n",
        "G1_A1_D1 = df_cleaned[(df_cleaned['age'] == '1') & (df_cleaned['dose'] == 'D1')]\n",
        "G2_A1_D2 = df_cleaned[(df_cleaned['age'] == '1') & (df_cleaned['dose'] == 'D2')]\n",
        "G3_A2_D1 = df_cleaned[(df_cleaned['age'] == '2') & (df_cleaned['dose'] == 'D1')]\n",
        "G4_A2_D2 = df_cleaned[(df_cleaned['age'] == '2') & (df_cleaned['dose'] == 'D2')]\n",
        "\n",
        "# Test\n",
        "G3_A2_D1"
      ],
      "execution_count": 113,
      "outputs": [
        {
          "output_type": "execute_result",
          "data": {
            "text/html": [
              "<div>\n",
              "<style scoped>\n",
              "    .dataframe tbody tr th:only-of-type {\n",
              "        vertical-align: middle;\n",
              "    }\n",
              "\n",
              "    .dataframe tbody tr th {\n",
              "        vertical-align: top;\n",
              "    }\n",
              "\n",
              "    .dataframe thead th {\n",
              "        text-align: right;\n",
              "    }\n",
              "</style>\n",
              "<table border=\"1\" class=\"dataframe\">\n",
              "  <thead>\n",
              "    <tr style=\"text-align: right;\">\n",
              "      <th></th>\n",
              "      <th>expr</th>\n",
              "      <th>age</th>\n",
              "      <th>dose</th>\n",
              "    </tr>\n",
              "  </thead>\n",
              "  <tbody>\n",
              "    <tr>\n",
              "      <th>17</th>\n",
              "      <td>101.062276</td>\n",
              "      <td>2</td>\n",
              "      <td>D1</td>\n",
              "    </tr>\n",
              "    <tr>\n",
              "      <th>18</th>\n",
              "      <td>100.763332</td>\n",
              "      <td>2</td>\n",
              "      <td>D1</td>\n",
              "    </tr>\n",
              "    <tr>\n",
              "      <th>19</th>\n",
              "      <td>94.290992</td>\n",
              "      <td>2</td>\n",
              "      <td>D1</td>\n",
              "    </tr>\n",
              "    <tr>\n",
              "      <th>20</th>\n",
              "      <td>90.970949</td>\n",
              "      <td>2</td>\n",
              "      <td>D1</td>\n",
              "    </tr>\n",
              "    <tr>\n",
              "      <th>21</th>\n",
              "      <td>105.030672</td>\n",
              "      <td>2</td>\n",
              "      <td>D1</td>\n",
              "    </tr>\n",
              "    <tr>\n",
              "      <th>22</th>\n",
              "      <td>98.455295</td>\n",
              "      <td>2</td>\n",
              "      <td>D1</td>\n",
              "    </tr>\n",
              "    <tr>\n",
              "      <th>23</th>\n",
              "      <td>97.030269</td>\n",
              "      <td>2</td>\n",
              "      <td>D1</td>\n",
              "    </tr>\n",
              "    <tr>\n",
              "      <th>24</th>\n",
              "      <td>104.207160</td>\n",
              "      <td>2</td>\n",
              "      <td>D1</td>\n",
              "    </tr>\n",
              "    <tr>\n",
              "      <th>25</th>\n",
              "      <td>102.128773</td>\n",
              "      <td>2</td>\n",
              "      <td>D1</td>\n",
              "    </tr>\n",
              "    <tr>\n",
              "      <th>26</th>\n",
              "      <td>98.293741</td>\n",
              "      <td>2</td>\n",
              "      <td>D1</td>\n",
              "    </tr>\n",
              "    <tr>\n",
              "      <th>27</th>\n",
              "      <td>103.947551</td>\n",
              "      <td>2</td>\n",
              "      <td>D1</td>\n",
              "    </tr>\n",
              "    <tr>\n",
              "      <th>28</th>\n",
              "      <td>112.008916</td>\n",
              "      <td>2</td>\n",
              "      <td>D1</td>\n",
              "    </tr>\n",
              "    <tr>\n",
              "      <th>29</th>\n",
              "      <td>98.148634</td>\n",
              "      <td>2</td>\n",
              "      <td>D1</td>\n",
              "    </tr>\n",
              "    <tr>\n",
              "      <th>30</th>\n",
              "      <td>99.222945</td>\n",
              "      <td>2</td>\n",
              "      <td>D1</td>\n",
              "    </tr>\n",
              "    <tr>\n",
              "      <th>31</th>\n",
              "      <td>102.787408</td>\n",
              "      <td>2</td>\n",
              "      <td>D1</td>\n",
              "    </tr>\n",
              "    <tr>\n",
              "      <th>32</th>\n",
              "      <td>107.727966</td>\n",
              "      <td>2</td>\n",
              "      <td>D1</td>\n",
              "    </tr>\n",
              "  </tbody>\n",
              "</table>\n",
              "</div>"
            ],
            "text/plain": [
              "0         expr age dose\n",
              "17  101.062276   2   D1\n",
              "18  100.763332   2   D1\n",
              "19   94.290992   2   D1\n",
              "20   90.970949   2   D1\n",
              "21  105.030672   2   D1\n",
              "22   98.455295   2   D1\n",
              "23   97.030269   2   D1\n",
              "24  104.207160   2   D1\n",
              "25  102.128773   2   D1\n",
              "26   98.293741   2   D1\n",
              "27  103.947551   2   D1\n",
              "28  112.008916   2   D1\n",
              "29   98.148634   2   D1\n",
              "30   99.222945   2   D1\n",
              "31  102.787408   2   D1\n",
              "32  107.727966   2   D1"
            ]
          },
          "metadata": {
            "tags": []
          },
          "execution_count": 113
        }
      ]
    },
    {
      "cell_type": "code",
      "metadata": {
        "colab": {
          "base_uri": "https://localhost:8080/"
        },
        "id": "-LALWfTKtm2n",
        "outputId": "b86f7c2f-d95c-4168-8d2c-9d0ad22aa640"
      },
      "source": [
        "# 5. Find F and P\n",
        "\n",
        "# Explore different F and P\n",
        "\n",
        "# Having P > 0.05 and F over 2, tells us that when compared all 4 gouprs there is no stat. sign., but the results are \"on the border\"\n",
        "# With F over 2 we would want to look at each group separetly to understand if there is anything interesting\n",
        "\n",
        "\n",
        "# F and P for all groups (p value is \"on the border\", P > 0.05, however by very little)\n",
        "\n",
        "Age1_D1 = df_cleaned[(df_cleaned['age'] == '1') & (df_cleaned['dose'] == 'D1')][\"expr\"]\n",
        "Age1_D2 = df_cleaned[(df_cleaned['age'] == '1') & (df_cleaned['dose'] == 'D2')][\"expr\"]\n",
        "Age2_D1 = df_cleaned[(df_cleaned['age'] == '2') & (df_cleaned['dose'] == 'D1')][\"expr\"]\n",
        "Age2_D2 = df_cleaned[(df_cleaned['age'] == '2') & (df_cleaned['dose'] == 'D2')][\"expr\"]\n",
        "print(\"Results for all 4 groups\", stats.f_oneway(Age1_D1, Age1_D2, Age2_D1, Age2_D2))\n"
      ],
      "execution_count": 114,
      "outputs": [
        {
          "output_type": "stream",
          "text": [
            "Results for all groups F_onewayResult(statistic=2.7076380068278114, pvalue=0.053097105673345885)\n"
          ],
          "name": "stdout"
        }
      ]
    },
    {
      "cell_type": "code",
      "metadata": {
        "colab": {
          "base_uri": "https://localhost:8080/"
        },
        "id": "c5ur4WebgfGO",
        "outputId": "f25ce6c4-170d-43e9-85aa-1e2495af237c"
      },
      "source": [
        "# F and P for Age 1, D1\n",
        "\n",
        "age1 = df_cleaned[df_cleaned['age']=='1'][\"expr\"]\n",
        "dose1 = df_cleaned[df_cleaned['dose']=='D1'][\"expr\"]\n",
        "stats.f_oneway(age1, dose1)"
      ],
      "execution_count": 105,
      "outputs": [
        {
          "output_type": "execute_result",
          "data": {
            "text/plain": [
              "F_onewayResult(statistic=2.797539610439119, pvalue=0.09944849951092954)"
            ]
          },
          "metadata": {
            "tags": []
          },
          "execution_count": 105
        }
      ]
    },
    {
      "cell_type": "code",
      "metadata": {
        "colab": {
          "base_uri": "https://localhost:8080/"
        },
        "id": "LlRgiJSThzaE",
        "outputId": "c45b481f-0890-4a45-8138-0b65a07a7f3d"
      },
      "source": [
        "# F and P for Age 2, D1\n",
        "\n",
        "age2 = df_cleaned[df_cleaned['age']=='2'][\"expr\"]\n",
        "dose1 = df_cleaned[df_cleaned['dose']=='D1'][\"expr\"]\n",
        "stats.f_oneway(age2, dose1)"
      ],
      "execution_count": 106,
      "outputs": [
        {
          "output_type": "execute_result",
          "data": {
            "text/plain": [
              "F_onewayResult(statistic=0.840340590984628, pvalue=0.36285146466060136)"
            ]
          },
          "metadata": {
            "tags": []
          },
          "execution_count": 106
        }
      ]
    },
    {
      "cell_type": "code",
      "metadata": {
        "colab": {
          "base_uri": "https://localhost:8080/"
        },
        "id": "4k-z7LQ-iBPa",
        "outputId": "57b14252-26f9-4560-959b-41606a909255"
      },
      "source": [
        "# F and P for Age 1, D2\n",
        "\n",
        "age1 = df_cleaned[df_cleaned['age']=='1'][\"expr\"]\n",
        "dose2 = df_cleaned[df_cleaned['dose']=='D2'][\"expr\"]\n",
        "stats.f_oneway(age1, dose2)"
      ],
      "execution_count": 107,
      "outputs": [
        {
          "output_type": "execute_result",
          "data": {
            "text/plain": [
              "F_onewayResult(statistic=0.972499113862926, pvalue=0.3278906294824979)"
            ]
          },
          "metadata": {
            "tags": []
          },
          "execution_count": 107
        }
      ]
    },
    {
      "cell_type": "code",
      "metadata": {
        "colab": {
          "base_uri": "https://localhost:8080/"
        },
        "id": "L5BJQuMoiOY0",
        "outputId": "3b1c96eb-2866-49f4-b288-5ed4dbf7ac25"
      },
      "source": [
        "# F and P for Age 2, D2\n",
        "\n",
        "age2 = df_cleaned[df_cleaned['age']=='2'][\"expr\"]\n",
        "dose2 = df_cleaned[df_cleaned['dose']=='D2'][\"expr\"]\n",
        "stats.f_oneway(age2, dose2)"
      ],
      "execution_count": 120,
      "outputs": [
        {
          "output_type": "execute_result",
          "data": {
            "text/plain": [
              "F_onewayResult(statistic=3.260112705710404, pvalue=0.0758394699711344)"
            ]
          },
          "metadata": {
            "tags": []
          },
          "execution_count": 120
        }
      ]
    },
    {
      "cell_type": "code",
      "metadata": {
        "colab": {
          "base_uri": "https://localhost:8080/"
        },
        "id": "RDOylbOppgtw",
        "outputId": "46f24d9c-bad2-4a62-87fa-32629ee19590"
      },
      "source": [
        "# F and P for Age 1, Age 2\n",
        "\n",
        "# Here is where we see the most intersting results\n",
        "# P < 0.05 and F is large (>7), this means that the groups split by age yield stat. sign. results\n",
        "\n",
        "age1 = df_cleaned[df_cleaned['age']=='1'][\"expr\"]\n",
        "age2 = df_cleaned[df_cleaned['age']=='2'][\"expr\"]\n",
        "stats.f_oneway(age1, age2)"
      ],
      "execution_count": 121,
      "outputs": [
        {
          "output_type": "execute_result",
          "data": {
            "text/plain": [
              "F_onewayResult(statistic=7.612770077046995, pvalue=0.007608712054113158)"
            ]
          },
          "metadata": {
            "tags": []
          },
          "execution_count": 121
        }
      ]
    },
    {
      "cell_type": "code",
      "metadata": {
        "colab": {
          "base_uri": "https://localhost:8080/"
        },
        "id": "qnu0jM4Bq4ps",
        "outputId": "214da0ad-c94c-4293-8518-00754d5aa3ad"
      },
      "source": [
        "# F and P for Dose 1 and Dose 2\n",
        "\n",
        "# In this case we can see that P > 0.05 and F is close to 0\n",
        "# In case of splitting by dose the Zero-H is true\n",
        "\n",
        "stats.f_oneway(dose1, dose2)"
      ],
      "execution_count": 122,
      "outputs": [
        {
          "output_type": "execute_result",
          "data": {
            "text/plain": [
              "F_onewayResult(statistic=0.5862334097242068, pvalue=0.44678441580203143)"
            ]
          },
          "metadata": {
            "tags": []
          },
          "execution_count": 122
        }
      ]
    },
    {
      "cell_type": "code",
      "metadata": {
        "colab": {
          "base_uri": "https://localhost:8080/"
        },
        "id": "bXT6WFEk0EQE",
        "outputId": "a7221b25-9df4-4702-c2d7-96f18cc6e3e6"
      },
      "source": [
        "# F and P values, the sum_sq, mean_sq and df using anova\n",
        "# Here we are using age+dose \n",
        "# source https://www.statsmodels.org/devel/generated/statsmodels.stats.anova.anova_lm.html\n",
        "\n",
        "# import these libraires\n",
        "import statsmodels.api as sm\n",
        "from statsmodels.formula.api import ols\n",
        "\n",
        "expr_lm = ols('expr ~ age+dose',data=df_cleaned).fit()\n",
        "table = sm.stats.anova_lm(expr_lm, type=2) # Type 2 Anova DataFrame\n",
        "print(table)\n",
        "\n",
        "# sum_sq for Thearpy is SSB (=total sum of squares between groups)\n",
        "# mean_sq for Therapy is SSB/df\n",
        "# df for Therapy is degrees of freedom between groups \n",
        "# sum_sq for Residual is SSW (=total sum of squares within groups)\n",
        "# mean_sq for Residual is SSW/df\n",
        "# df for Residual is degrees of freedom within groups"
      ],
      "execution_count": 111,
      "outputs": [
        {
          "output_type": "stream",
          "text": [
            "            df       sum_sq     mean_sq         F    PR(>F)\n",
            "age        1.0   197.452754  197.452754  7.569592  0.007804\n",
            "dose       1.0    16.912241   16.912241  0.648351  0.423830\n",
            "Residual  61.0  1591.184501   26.084992       NaN       NaN\n"
          ],
          "name": "stdout"
        }
      ]
    },
    {
      "cell_type": "code",
      "metadata": {
        "colab": {
          "base_uri": "https://localhost:8080/"
        },
        "id": "xpVoCSp9kJxf",
        "outputId": "2830e1f8-b60b-4c2e-ead7-8018dc791520"
      },
      "source": [
        "# F and P values, the sum_sq, mean_sq and df using anova\n",
        "# Here we are using age*dose, to also see this as a combined parameter\n",
        "# The Residual becomes 60, from 61 because we introduce this another group\n",
        "\n",
        "# source https://www.statsmodels.org/devel/generated/statsmodels.stats.anova.anova_lm.html\n",
        "\n",
        "# import these libraires\n",
        "import statsmodels.api as sm\n",
        "from statsmodels.formula.api import ols\n",
        "\n",
        "expr_lm = ols('expr ~ age*dose',data=df_cleaned).fit()\n",
        "table = sm.stats.anova_lm(expr_lm, type=2) # Type 2 Anova DataFrame\n",
        "print(table)\n",
        "\n",
        "# sum_sq for Thearpy is SSB (=total sum of squares between groups)\n",
        "# mean_sq for Therapy is SSB/df\n",
        "# df for Therapy is degrees of freedom between groups \n",
        "# sum_sq for Residual is SSW (=total sum of squares within groups)\n",
        "# mean_sq for Residual is SSW/df\n",
        "# df for Residual is degrees of freedom within groups"
      ],
      "execution_count": 112,
      "outputs": [
        {
          "output_type": "stream",
          "text": [
            "            df       sum_sq     mean_sq         F    PR(>F)\n",
            "age        1.0   197.452754  197.452754  7.449841  0.008313\n",
            "dose       1.0    16.912241   16.912241  0.638094  0.427552\n",
            "age:dose   1.0     0.927077    0.927077  0.034978  0.852272\n",
            "Residual  60.0  1590.257424   26.504290       NaN       NaN\n"
          ],
          "name": "stdout"
        }
      ]
    },
    {
      "cell_type": "code",
      "metadata": {
        "id": "wd0awVb211cZ"
      },
      "source": [
        "# 6. Conclusion\n",
        "\n",
        "# If H-zero is TRUE then F has to be very small, close to 0 and P > 0.05\n",
        "# We can see that in this vase the P is < 0.05 and F is fairly large (7,44) for the age group.\n",
        "# This allows us to say that there is statistical significance in results grouped by age (1 and 2)\n",
        "\n",
        "# For the dose and age:dose result P > 0.05 and F is very small, less than 1.\n",
        "# This allows us to say that H-zero is true for dose and age:dose groups."
      ],
      "execution_count": null,
      "outputs": []
    }
  ]
}