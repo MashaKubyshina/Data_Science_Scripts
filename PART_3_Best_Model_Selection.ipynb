{
  "nbformat": 4,
  "nbformat_minor": 0,
  "metadata": {
    "colab": {
      "name": "PART-3_Best_Model_Selection.ipynb",
      "provenance": [],
      "mount_file_id": "1azR4g0GLW1oy2swFhCWMICcD1zmPolnp",
      "authorship_tag": "ABX9TyPB1quSGOnOXq3fJKVbnEz0",
      "include_colab_link": true
    },
    "kernelspec": {
      "name": "python3",
      "display_name": "Python 3"
    },
    "language_info": {
      "name": "python"
    }
  },
  "cells": [
    {
      "cell_type": "markdown",
      "metadata": {
        "id": "view-in-github",
        "colab_type": "text"
      },
      "source": [
        "<a href=\"https://colab.research.google.com/github/MashaKubyshina/Learning_to_code/blob/master/PART_3_Best_Model_Selection.ipynb\" target=\"_parent\"><img src=\"https://colab.research.google.com/assets/colab-badge.svg\" alt=\"Open In Colab\"/></a>"
      ]
    },
    {
      "cell_type": "code",
      "metadata": {
        "id": "QnKdA9i77TOd"
      },
      "source": [
        "import pickle\n",
        "import pandas as pd"
      ],
      "execution_count": 5,
      "outputs": []
    },
    {
      "cell_type": "code",
      "metadata": {
        "id": "mKX3cohT7k5u"
      },
      "source": [
        "path_pickles = \"/content/drive/MyDrive/Pickles/Models/\"\n",
        "\n",
        "list_pickles = [\n",
        "    \"df_models_gbc.pickle\",\n",
        "    \"df_models_knnc.pickle\",\n",
        "    \"df_models_lrc.pickle\",\n",
        "    \"df_models_mnbc.pickle\",\n",
        "    \"df_models_rfc.pickle\",\n",
        "    \"df_models_svc.pickle\"\n",
        "]\n",
        "\n",
        "df_summary = pd.DataFrame()\n",
        "\n",
        "for pickle_ in list_pickles:\n",
        "    \n",
        "    path = path_pickles + pickle_\n",
        "    \n",
        "    with open(path, 'rb') as data:\n",
        "        df = pickle.load(data)\n",
        "\n",
        "    df_summary = df_summary.append(df)\n",
        "\n",
        "df_summary = df_summary.reset_index().drop('index', axis=1)"
      ],
      "execution_count": 6,
      "outputs": []
    },
    {
      "cell_type": "code",
      "metadata": {
        "colab": {
          "base_uri": "https://localhost:8080/",
          "height": 235
        },
        "id": "jtJaCERFB15N",
        "outputId": "2a1cb2c3-3902-4a7f-9c5e-551c27787a40"
      },
      "source": [
        "# Here is the summary of all the models\n",
        "\n",
        "df_summary"
      ],
      "execution_count": 7,
      "outputs": [
        {
          "output_type": "execute_result",
          "data": {
            "text/html": [
              "<div>\n",
              "<style scoped>\n",
              "    .dataframe tbody tr th:only-of-type {\n",
              "        vertical-align: middle;\n",
              "    }\n",
              "\n",
              "    .dataframe tbody tr th {\n",
              "        vertical-align: top;\n",
              "    }\n",
              "\n",
              "    .dataframe thead th {\n",
              "        text-align: right;\n",
              "    }\n",
              "</style>\n",
              "<table border=\"1\" class=\"dataframe\">\n",
              "  <thead>\n",
              "    <tr style=\"text-align: right;\">\n",
              "      <th></th>\n",
              "      <th>Model</th>\n",
              "      <th>Training Set Accuracy</th>\n",
              "      <th>Test Set Accuracy</th>\n",
              "    </tr>\n",
              "  </thead>\n",
              "  <tbody>\n",
              "    <tr>\n",
              "      <th>0</th>\n",
              "      <td>Gradient Boosting</td>\n",
              "      <td>0.982667</td>\n",
              "      <td>0.722</td>\n",
              "    </tr>\n",
              "    <tr>\n",
              "      <th>1</th>\n",
              "      <td>KNN</td>\n",
              "      <td>0.713333</td>\n",
              "      <td>0.602</td>\n",
              "    </tr>\n",
              "    <tr>\n",
              "      <th>2</th>\n",
              "      <td>Logistic Regression</td>\n",
              "      <td>0.730000</td>\n",
              "      <td>0.582</td>\n",
              "    </tr>\n",
              "    <tr>\n",
              "      <th>3</th>\n",
              "      <td>Multinomial Naïve Bayes</td>\n",
              "      <td>0.592000</td>\n",
              "      <td>0.582</td>\n",
              "    </tr>\n",
              "    <tr>\n",
              "      <th>4</th>\n",
              "      <td>Random Forest</td>\n",
              "      <td>0.982667</td>\n",
              "      <td>0.724</td>\n",
              "    </tr>\n",
              "    <tr>\n",
              "      <th>5</th>\n",
              "      <td>SVM</td>\n",
              "      <td>0.790000</td>\n",
              "      <td>0.634</td>\n",
              "    </tr>\n",
              "  </tbody>\n",
              "</table>\n",
              "</div>"
            ],
            "text/plain": [
              "                     Model  Training Set Accuracy  Test Set Accuracy\n",
              "0        Gradient Boosting               0.982667              0.722\n",
              "1                      KNN               0.713333              0.602\n",
              "2      Logistic Regression               0.730000              0.582\n",
              "3  Multinomial Naïve Bayes               0.592000              0.582\n",
              "4            Random Forest               0.982667              0.724\n",
              "5                      SVM               0.790000              0.634"
            ]
          },
          "metadata": {
            "tags": []
          },
          "execution_count": 7
        }
      ]
    },
    {
      "cell_type": "code",
      "metadata": {
        "colab": {
          "base_uri": "https://localhost:8080/",
          "height": 235
        },
        "id": "_UoH0dEnB__J",
        "outputId": "93ff361b-fad0-48c1-84f9-756cad40429e"
      },
      "source": [
        "# Sorting them by test accuracy\n",
        "\n",
        "df_summary.sort_values('Test Set Accuracy', ascending=False)"
      ],
      "execution_count": 8,
      "outputs": [
        {
          "output_type": "execute_result",
          "data": {
            "text/html": [
              "<div>\n",
              "<style scoped>\n",
              "    .dataframe tbody tr th:only-of-type {\n",
              "        vertical-align: middle;\n",
              "    }\n",
              "\n",
              "    .dataframe tbody tr th {\n",
              "        vertical-align: top;\n",
              "    }\n",
              "\n",
              "    .dataframe thead th {\n",
              "        text-align: right;\n",
              "    }\n",
              "</style>\n",
              "<table border=\"1\" class=\"dataframe\">\n",
              "  <thead>\n",
              "    <tr style=\"text-align: right;\">\n",
              "      <th></th>\n",
              "      <th>Model</th>\n",
              "      <th>Training Set Accuracy</th>\n",
              "      <th>Test Set Accuracy</th>\n",
              "    </tr>\n",
              "  </thead>\n",
              "  <tbody>\n",
              "    <tr>\n",
              "      <th>4</th>\n",
              "      <td>Random Forest</td>\n",
              "      <td>0.982667</td>\n",
              "      <td>0.724</td>\n",
              "    </tr>\n",
              "    <tr>\n",
              "      <th>0</th>\n",
              "      <td>Gradient Boosting</td>\n",
              "      <td>0.982667</td>\n",
              "      <td>0.722</td>\n",
              "    </tr>\n",
              "    <tr>\n",
              "      <th>5</th>\n",
              "      <td>SVM</td>\n",
              "      <td>0.790000</td>\n",
              "      <td>0.634</td>\n",
              "    </tr>\n",
              "    <tr>\n",
              "      <th>1</th>\n",
              "      <td>KNN</td>\n",
              "      <td>0.713333</td>\n",
              "      <td>0.602</td>\n",
              "    </tr>\n",
              "    <tr>\n",
              "      <th>2</th>\n",
              "      <td>Logistic Regression</td>\n",
              "      <td>0.730000</td>\n",
              "      <td>0.582</td>\n",
              "    </tr>\n",
              "    <tr>\n",
              "      <th>3</th>\n",
              "      <td>Multinomial Naïve Bayes</td>\n",
              "      <td>0.592000</td>\n",
              "      <td>0.582</td>\n",
              "    </tr>\n",
              "  </tbody>\n",
              "</table>\n",
              "</div>"
            ],
            "text/plain": [
              "                     Model  Training Set Accuracy  Test Set Accuracy\n",
              "4            Random Forest               0.982667              0.724\n",
              "0        Gradient Boosting               0.982667              0.722\n",
              "5                      SVM               0.790000              0.634\n",
              "1                      KNN               0.713333              0.602\n",
              "2      Logistic Regression               0.730000              0.582\n",
              "3  Multinomial Naïve Bayes               0.592000              0.582"
            ]
          },
          "metadata": {
            "tags": []
          },
          "execution_count": 8
        }
      ]
    },
    {
      "cell_type": "code",
      "metadata": {
        "id": "plXRQcljCr6D"
      },
      "source": [
        "# The results in this are not clean. The highest test accuracy models, Random Forest and Gradient Boosting, are overfitting.\n",
        "# However the classes were unbalanced that this overfitting might be due to that.\n",
        "# If could also give more weight to precision and recall."
      ],
      "execution_count": null,
      "outputs": []
    }
  ]
}