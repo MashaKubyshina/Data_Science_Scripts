{
  "nbformat": 4,
  "nbformat_minor": 0,
  "metadata": {
    "colab": {
      "name": "Distribution and x-square of coin tossing_Stepik.ipynb",
      "provenance": [],
      "authorship_tag": "ABX9TyO3fFEC0pZGlThy+LXc+w11",
      "include_colab_link": true
    },
    "kernelspec": {
      "name": "python3",
      "display_name": "Python 3"
    },
    "language_info": {
      "name": "python"
    }
  },
  "cells": [
    {
      "cell_type": "markdown",
      "metadata": {
        "id": "view-in-github",
        "colab_type": "text"
      },
      "source": [
        "<a href=\"https://colab.research.google.com/github/MashaKubyshina/Learning_to_code/blob/master/Distribution_and_x_square_of_coin_tossing_Stepik.ipynb\" target=\"_parent\"><img src=\"https://colab.research.google.com/assets/colab-badge.svg\" alt=\"Open In Colab\"/></a>"
      ]
    },
    {
      "cell_type": "code",
      "metadata": {
        "id": "5P9kQG8HlWt8"
      },
      "source": [
        "# Coin tossing and calculation of chi-squared\n",
        "\n",
        "import random\n",
        "from math import sqrt\n",
        "\n",
        "def distance_chi_square_from_toss_coin():\n",
        "    heads = 0\n",
        "    tails = 0\n",
        "    # toss the coin 60 times\n",
        "    for i in range(60):\n",
        "        if random.randint(0,1):\n",
        "            heads += 1\n",
        "        else:\n",
        "            tails += 1\n",
        "    # Calculate chi-squared (Pearson)\n",
        "    # ((O1 - E1)|sqrt(E1))^2 + ... + ((On - En)|sqrt(En))^2\n",
        "    return (\n",
        "        (heads-30)**2/30 + (tails-30)**2/30\n",
        "    )"
      ],
      "execution_count": 2,
      "outputs": []
    },
    {
      "cell_type": "code",
      "metadata": {
        "id": "RCeQ5KnOlitt"
      },
      "source": [
        "# repeat 1000 times\n",
        "# the coin is tossed 60 times in each\n",
        "\n",
        "list_of_chi_square = []\n",
        "for i in range(10000):\n",
        "    list_of_chi_square.append(distance_chi_square_from_toss_coin())"
      ],
      "execution_count": 3,
      "outputs": []
    },
    {
      "cell_type": "code",
      "metadata": {
        "colab": {
          "base_uri": "https://localhost:8080/",
          "height": 319
        },
        "id": "uFxmzylGli0z",
        "outputId": "1abde906-925c-4807-c446-93332d2885cd"
      },
      "source": [
        "# distribution\n",
        "\n",
        "import seaborn as sns\n",
        "\n",
        "sns.distplot(list_of_chi_square);"
      ],
      "execution_count": 4,
      "outputs": [
        {
          "output_type": "stream",
          "text": [
            "/usr/local/lib/python3.7/dist-packages/seaborn/distributions.py:2557: FutureWarning: `distplot` is a deprecated function and will be removed in a future version. Please adapt your code to use either `displot` (a figure-level function with similar flexibility) or `histplot` (an axes-level function for histograms).\n",
            "  warnings.warn(msg, FutureWarning)\n"
          ],
          "name": "stderr"
        },
        {
          "output_type": "display_data",
          "data": {
            "image/png": "[encoded data removed]",
            "text/plain": [
              "<Figure size 432x288 with 1 Axes>"
            ]
          },
          "metadata": {
            "tags": [],
            "needs_background": "light"
          }
        }
      ]
    },
    {
      "cell_type": "code",
      "metadata": {
        "colab": {
          "base_uri": "https://localhost:8080/",
          "height": 265
        },
        "id": "FP1MT36mlwbv",
        "outputId": "e9649462-8e4e-408b-e852-4e1815961545"
      },
      "source": [
        "import matplotlib.pyplot as plt\n",
        "\n",
        "plt.hist(list_of_chi_square);"
      ],
      "execution_count": 5,
      "outputs": [
        {
          "output_type": "display_data",
          "data": {
            "image/png": "[encoded data removed]",
            "text/plain": [
              "<Figure size 432x288 with 1 Axes>"
            ]
          },
          "metadata": {
            "tags": [],
            "needs_background": "light"
          }
        }
      ]
    },
    {
      "cell_type": "code",
      "metadata": {
        "colab": {
          "base_uri": "https://localhost:8080/"
        },
        "id": "eITg734ZMieJ",
        "outputId": "3be86a6d-55ad-4657-e599-94399647196b"
      },
      "source": [
        "# Pearson's Chi-squared test with Yates' continuity correction\n",
        "\n",
        "from scipy import stats\n",
        "observed_array = [ [15, 9], [11, 6] ]\n",
        "chi2_value, p_value, df_value, expected_array = stats.chi2_contingency(observed_array, correction=True) \n",
        "# 'correction=True' - Yates' correction\n",
        "print(f'Chi-squared = {chi2_value:.3f}, p-value = {p_value:.3f}, df = {df_value}')\n",
        "print(f'Expected values:\\n{expected_array}')"
      ],
      "execution_count": 3,
      "outputs": [
        {
          "output_type": "stream",
          "text": [
            "Chi-squared = 0.034, p-value = 0.854, df = 1\n",
            "Expected values:\n",
            "[[15.2195122  8.7804878]\n",
            " [10.7804878  6.2195122]]\n"
          ],
          "name": "stdout"
        }
      ]
    },
    {
      "cell_type": "code",
      "metadata": {
        "colab": {
          "base_uri": "https://localhost:8080/"
        },
        "id": "6kjP1qnmNXAj",
        "outputId": "0d4762b7-a4cc-4e02-e121-24b4ef24c807"
      },
      "source": [
        "# Pearson's Chi-squared test with Yates' continuity correction\n",
        "\n",
        "from scipy.stats import chi2_contingency\n",
        "\n",
        "observed_values = [[15, 9], [11, 6]]\n",
        "chi2, p_value, ddof, expected = chi2_contingency(observed_values)\n",
        "\n",
        "print(ddof)  # degrees of freedom\n",
        "1\n",
        "\n",
        "print(expected)\n",
        "\n",
        "print(chi2)"
      ],
      "execution_count": 5,
      "outputs": [
        {
          "output_type": "stream",
          "text": [
            "1\n",
            "[[15.2195122  8.7804878]\n",
            " [10.7804878  6.2195122]]\n",
            "0.0340764831573656\n"
          ],
          "name": "stdout"
        }
      ]
    },
    {
      "cell_type": "code",
      "metadata": {
        "colab": {
          "base_uri": "https://localhost:8080/"
        },
        "id": "2TJeNuhsS7k7",
        "outputId": "50c63dd0-0b6a-40f0-9339-7e04fed87ed4"
      },
      "source": [
        "from scipy.stats import chi2_contingency\n",
        "  \n",
        "# defining the table\n",
        "data = [[15, 9], [11, 6]]\n",
        "stat, p, dof, expected = chi2_contingency(data)\n",
        "  \n",
        "# interpret p-value\n",
        "threshold = 0.05\n",
        "print(\"p value is \" + str(p))\n",
        "if p <= threshold:\n",
        "    print('Dependent (reject H0)')\n",
        "else:\n",
        "    print('Independent (H0 holds true)')\n",
        "\n",
        "print(\"Expected outcome\", expected)\n",
        "print(\"Degrees of freedom:\",dof)\n",
        "print(\"Chi-squared:\",stat)"
      ],
      "execution_count": 15,
      "outputs": [
        {
          "output_type": "stream",
          "text": [
            "p value is 0.8535442239746989\n",
            "Independent (H0 holds true)\n",
            "Expected outcome [[15.2195122  8.7804878]\n",
            " [10.7804878  6.2195122]]\n",
            "Degrees of freedom: 1\n",
            "Chi-squared: 0.0340764831573656\n"
          ],
          "name": "stdout"
        }
      ]
    },
    {
      "cell_type": "code",
      "metadata": {
        "colab": {
          "base_uri": "https://localhost:8080/"
        },
        "id": "GblhdVhzWVLV",
        "outputId": "f06c045c-7dd5-498c-cf64-30fc750cc77d"
      },
      "source": [
        "from scipy.stats import chi2_contingency\n",
        "  \n",
        "# defining the table\n",
        "data = [[20, 15], [11, 12],[7,9]]\n",
        "stat, p, dof, expected = chi2_contingency(data)\n",
        "  \n",
        "# interpret p-value\n",
        "threshold = 0.05\n",
        "print(\"p value is \" + str(p))\n",
        "if p <= threshold:\n",
        "    print('Dependent (reject H0)')\n",
        "else:\n",
        "    print('Independent (H0 holds true)')\n",
        "\n",
        "print(\"Expected outcome\", expected)\n",
        "print(\"Degrees of freedom:\",dof)\n",
        "print(\"Chi-squared:\",stat)"
      ],
      "execution_count": 16,
      "outputs": [
        {
          "output_type": "stream",
          "text": [
            "p value is 0.6205162173513055\n",
            "Independent (H0 holds true)\n",
            "Expected outcome [[17.97297297 17.02702703]\n",
            " [11.81081081 11.18918919]\n",
            " [ 8.21621622  7.78378378]]\n",
            "Degrees of freedom: 2\n",
            "Chi-squared: 0.9544070774762996\n"
          ],
          "name": "stdout"
        }
      ]
    },
    {
      "cell_type": "code",
      "metadata": {
        "colab": {
          "base_uri": "https://localhost:8080/",
          "height": 332
        },
        "id": "ad4cxeexZRDJ",
        "outputId": "d3e6a7c6-2f10-4e60-e85b-fab2ad8b39f6"
      },
      "source": [
        "from scipy import stats\n",
        "import numpy as np\n",
        "import matplotlib.pyplot as plt\n",
        "from statsmodels.graphics.mosaicplot import mosaic\n",
        "\n",
        "observed = np.array([[18, 7], [6, 13]])\n",
        "chi2, p, df, expected = stats.chi2_contingency(observed)\n",
        "print('x-squared =', chi2)\n",
        "print('p-value =', p)\n",
        "print('df =', df)\n",
        "\n",
        "mosaic(observed, gap=0.05, title='two by two table')\n",
        "plt.show()"
      ],
      "execution_count": 25,
      "outputs": [
        {
          "output_type": "stream",
          "text": [
            "x-squared = 5.57719298245614\n",
            "p-value = 0.018195864430772903\n",
            "df = 1\n"
          ],
          "name": "stdout"
        },
        {
          "output_type": "display_data",
          "data": {
            "image/png": "[encoded data removed]",
            "text/plain": [
              "<Figure size 432x288 with 3 Axes>"
            ]
          },
          "metadata": {
            "tags": [],
            "needs_background": "light"
          }
        }
      ]
    },
    {
      "cell_type": "code",
      "metadata": {
        "colab": {
          "base_uri": "https://localhost:8080/",
          "height": 366
        },
        "id": "87Jp-N99djA1",
        "outputId": "fb3376a6-3f0d-442d-fc57-27f7efc327a3"
      },
      "source": [
        "from statsmodels.graphics.mosaicplot import mosaic\n",
        "from itertools import product\n",
        "import matplotlib.pyplot as plt\n",
        "import seaborn as sns\n",
        "import pandas as pd\n",
        "from scipy.stats import chi2_contingency\n",
        "import matplotlib.patches as mpatches\n",
        "import numpy as np\n",
        "\n",
        "cure = ['Placebo', 'Aspirine']\n",
        "effect = ['Normal', 'Trombosis']\n",
        "idx = pd.MultiIndex.from_tuples(product(cure, effect))\n",
        "data = pd.Series([7, 13, 18, 6], index=idx)\n",
        "mosaic(data, gap=0.05, title='Trombosis Table')\n",
        "plt.show()\n",
        "print(data)"
      ],
      "execution_count": 33,
      "outputs": [
        {
          "output_type": "display_data",
          "data": {
            "image/png": "[encoded data removed]",
            "text/plain": [
              "<Figure size 432x288 with 3 Axes>"
            ]
          },
          "metadata": {
            "tags": [],
            "needs_background": "light"
          }
        },
        {
          "output_type": "stream",
          "text": [
            "Placebo   Normal        7\n",
            "          Trombosis    13\n",
            "Aspirine  Normal       18\n",
            "          Trombosis     6\n",
            "dtype: int64\n"
          ],
          "name": "stdout"
        }
      ]
    }
  ]
}