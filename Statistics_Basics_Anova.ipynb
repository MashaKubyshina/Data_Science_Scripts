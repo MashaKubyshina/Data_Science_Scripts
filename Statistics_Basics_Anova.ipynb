{
  "nbformat": 4,
  "nbformat_minor": 0,
  "metadata": {
    "colab": {
      "name": "Statistics-Basics-Anova.ipynb",
      "provenance": [],
      "authorship_tag": "ABX9TyOgA7ujrg29Cnx96COz2Pef",
      "include_colab_link": true
    },
    "kernelspec": {
      "name": "python3",
      "display_name": "Python 3"
    },
    "language_info": {
      "name": "python"
    }
  },
  "cells": [
    {
      "cell_type": "markdown",
      "metadata": {
        "id": "view-in-github",
        "colab_type": "text"
      },
      "source": [
        "<a href=\"https://colab.research.google.com/github/MashaKubyshina/Learning_to_code/blob/master/Statistics_Basics_Anova.ipynb\" target=\"_parent\"><img src=\"https://colab.research.google.com/assets/colab-badge.svg\" alt=\"Open In Colab\"/></a>"
      ]
    },
    {
      "cell_type": "markdown",
      "metadata": {
        "id": "8bCnofJesHnS"
      },
      "source": [
        "# Description"
      ]
    },
    {
      "cell_type": "code",
      "metadata": {
        "id": "okCIztJZ2GNs"
      },
      "source": [
        "# Main question: Is any of the individual parameters (sex and hormone) create stat. sign. between groups?\n",
        "# We have 2 predictors (sex and hormone), that predict the result (var4)\n",
        "# Our Zero hypothesis (H-zero) is that the results between groups are not statistically significant\n",
        "# For H-zero to be true F has to be very small (close to 0) and P > 0.05\n",
        "# A statistically significant test result (P ≤ 0.05) means that the Zerp hypothesis is false or should be rejected\n",
        "# For the results to be statistically significant F has to be not too small, definetly not close to 0 and P < 0.05\n",
        "# (P > 0.05 is the probability that the null hypothesis is true)\n",
        "\n",
        "# Process followed:\n",
        "\n",
        "# 1. Import libraries\n",
        "# 2. Import and read dataset\n",
        "# 3. Clean dataset\n",
        "# 4. Do EDA (exploratory data analysis) to see the data\n",
        "# 5. Find F and P\n",
        "# 6. Conclusion"
      ],
      "execution_count": null,
      "outputs": []
    },
    {
      "cell_type": "code",
      "metadata": {
        "id": "ZbNLH6cYrziJ"
      },
      "source": [
        "# 1. Import libraries\n",
        "\n",
        "import pandas as pd\n",
        "import numpy as np\n",
        "import matplotlib as plt\n",
        "import scipy.stats as stats"
      ],
      "execution_count": 1,
      "outputs": []
    },
    {
      "cell_type": "markdown",
      "metadata": {
        "id": "ZI6iMZ0Xsf-o"
      },
      "source": [
        "# Import and Read Dataset"
      ]
    },
    {
      "cell_type": "code",
      "metadata": {
        "id": "E5hoUW1ar9Ro"
      },
      "source": [
        "# 2. Import and read dataset\n",
        "\n",
        "url = 'https://stepik.org/media/attachments/lesson/9250/birds.csv'\n",
        "\n",
        "df = pd.read_csv(url, header=None, sep=',')"
      ],
      "execution_count": 2,
      "outputs": []
    },
    {
      "cell_type": "code",
      "metadata": {
        "colab": {
          "base_uri": "https://localhost:8080/",
          "height": 419
        },
        "id": "QQiwZ-EysCpS",
        "outputId": "36528269-0bbb-47e2-dad9-4d6e1c39b109"
      },
      "source": [
        "df"
      ],
      "execution_count": 3,
      "outputs": [
        {
          "output_type": "execute_result",
          "data": {
            "text/html": [
              "<div>\n",
              "<style scoped>\n",
              "    .dataframe tbody tr th:only-of-type {\n",
              "        vertical-align: middle;\n",
              "    }\n",
              "\n",
              "    .dataframe tbody tr th {\n",
              "        vertical-align: top;\n",
              "    }\n",
              "\n",
              "    .dataframe thead th {\n",
              "        text-align: right;\n",
              "    }\n",
              "</style>\n",
              "<table border=\"1\" class=\"dataframe\">\n",
              "  <thead>\n",
              "    <tr style=\"text-align: right;\">\n",
              "      <th></th>\n",
              "      <th>0</th>\n",
              "      <th>1</th>\n",
              "      <th>2</th>\n",
              "    </tr>\n",
              "  </thead>\n",
              "  <tbody>\n",
              "    <tr>\n",
              "      <th>0</th>\n",
              "      <td>var4</td>\n",
              "      <td>hormone</td>\n",
              "      <td>sex</td>\n",
              "    </tr>\n",
              "    <tr>\n",
              "      <th>1</th>\n",
              "      <td>17.859039225112</td>\n",
              "      <td>1</td>\n",
              "      <td>1</td>\n",
              "    </tr>\n",
              "    <tr>\n",
              "      <th>2</th>\n",
              "      <td>20.8423434475719</td>\n",
              "      <td>1</td>\n",
              "      <td>1</td>\n",
              "    </tr>\n",
              "    <tr>\n",
              "      <th>3</th>\n",
              "      <td>19.3180990285089</td>\n",
              "      <td>1</td>\n",
              "      <td>1</td>\n",
              "    </tr>\n",
              "    <tr>\n",
              "      <th>4</th>\n",
              "      <td>20.0644505810577</td>\n",
              "      <td>1</td>\n",
              "      <td>1</td>\n",
              "    </tr>\n",
              "    <tr>\n",
              "      <th>...</th>\n",
              "      <td>...</td>\n",
              "      <td>...</td>\n",
              "      <td>...</td>\n",
              "    </tr>\n",
              "    <tr>\n",
              "      <th>60</th>\n",
              "      <td>17.0541946210175</td>\n",
              "      <td>0</td>\n",
              "      <td>0</td>\n",
              "    </tr>\n",
              "    <tr>\n",
              "      <th>61</th>\n",
              "      <td>22.9515507831087</td>\n",
              "      <td>0</td>\n",
              "      <td>0</td>\n",
              "    </tr>\n",
              "    <tr>\n",
              "      <th>62</th>\n",
              "      <td>18.7993820244873</td>\n",
              "      <td>0</td>\n",
              "      <td>0</td>\n",
              "    </tr>\n",
              "    <tr>\n",
              "      <th>63</th>\n",
              "      <td>16.5431612681593</td>\n",
              "      <td>0</td>\n",
              "      <td>0</td>\n",
              "    </tr>\n",
              "    <tr>\n",
              "      <th>64</th>\n",
              "      <td>25.6830383288827</td>\n",
              "      <td>0</td>\n",
              "      <td>0</td>\n",
              "    </tr>\n",
              "  </tbody>\n",
              "</table>\n",
              "<p>65 rows × 3 columns</p>\n",
              "</div>"
            ],
            "text/plain": [
              "                   0        1    2\n",
              "0               var4  hormone  sex\n",
              "1    17.859039225112        1    1\n",
              "2   20.8423434475719        1    1\n",
              "3   19.3180990285089        1    1\n",
              "4   20.0644505810577        1    1\n",
              "..               ...      ...  ...\n",
              "60  17.0541946210175        0    0\n",
              "61  22.9515507831087        0    0\n",
              "62  18.7993820244873        0    0\n",
              "63  16.5431612681593        0    0\n",
              "64  25.6830383288827        0    0\n",
              "\n",
              "[65 rows x 3 columns]"
            ]
          },
          "metadata": {
            "tags": []
          },
          "execution_count": 3
        }
      ]
    },
    {
      "cell_type": "code",
      "metadata": {
        "colab": {
          "base_uri": "https://localhost:8080/"
        },
        "id": "TtaTg7Nms9fa",
        "outputId": "26738a9e-694f-486f-f7ae-f2daa8ba1c97"
      },
      "source": [
        "df.columns"
      ],
      "execution_count": 4,
      "outputs": [
        {
          "output_type": "execute_result",
          "data": {
            "text/plain": [
              "Int64Index([0, 1, 2], dtype='int64')"
            ]
          },
          "metadata": {
            "tags": []
          },
          "execution_count": 4
        }
      ]
    },
    {
      "cell_type": "markdown",
      "metadata": {
        "id": "9CnPqDZDsrkX"
      },
      "source": [
        "# Clean Dataset"
      ]
    },
    {
      "cell_type": "code",
      "metadata": {
        "colab": {
          "base_uri": "https://localhost:8080/",
          "height": 419
        },
        "id": "mWdVo1Olwnne",
        "outputId": "39d6550a-3f35-457e-9bfb-3d45c9d60d92"
      },
      "source": [
        "# 3. Clean dataset\n",
        "\n",
        "# We need to clean the data: drop the first row and move column labels to header\n",
        "\n",
        "# We set the column labels to equal the values in the 1st row (index location 0):\n",
        "\n",
        "df.columns  = df.iloc[0]\n",
        "\n",
        "df"
      ],
      "execution_count": 5,
      "outputs": [
        {
          "output_type": "execute_result",
          "data": {
            "text/html": [
              "<div>\n",
              "<style scoped>\n",
              "    .dataframe tbody tr th:only-of-type {\n",
              "        vertical-align: middle;\n",
              "    }\n",
              "\n",
              "    .dataframe tbody tr th {\n",
              "        vertical-align: top;\n",
              "    }\n",
              "\n",
              "    .dataframe thead th {\n",
              "        text-align: right;\n",
              "    }\n",
              "</style>\n",
              "<table border=\"1\" class=\"dataframe\">\n",
              "  <thead>\n",
              "    <tr style=\"text-align: right;\">\n",
              "      <th></th>\n",
              "      <th>var4</th>\n",
              "      <th>hormone</th>\n",
              "      <th>sex</th>\n",
              "    </tr>\n",
              "  </thead>\n",
              "  <tbody>\n",
              "    <tr>\n",
              "      <th>0</th>\n",
              "      <td>var4</td>\n",
              "      <td>hormone</td>\n",
              "      <td>sex</td>\n",
              "    </tr>\n",
              "    <tr>\n",
              "      <th>1</th>\n",
              "      <td>17.859039225112</td>\n",
              "      <td>1</td>\n",
              "      <td>1</td>\n",
              "    </tr>\n",
              "    <tr>\n",
              "      <th>2</th>\n",
              "      <td>20.8423434475719</td>\n",
              "      <td>1</td>\n",
              "      <td>1</td>\n",
              "    </tr>\n",
              "    <tr>\n",
              "      <th>3</th>\n",
              "      <td>19.3180990285089</td>\n",
              "      <td>1</td>\n",
              "      <td>1</td>\n",
              "    </tr>\n",
              "    <tr>\n",
              "      <th>4</th>\n",
              "      <td>20.0644505810577</td>\n",
              "      <td>1</td>\n",
              "      <td>1</td>\n",
              "    </tr>\n",
              "    <tr>\n",
              "      <th>...</th>\n",
              "      <td>...</td>\n",
              "      <td>...</td>\n",
              "      <td>...</td>\n",
              "    </tr>\n",
              "    <tr>\n",
              "      <th>60</th>\n",
              "      <td>17.0541946210175</td>\n",
              "      <td>0</td>\n",
              "      <td>0</td>\n",
              "    </tr>\n",
              "    <tr>\n",
              "      <th>61</th>\n",
              "      <td>22.9515507831087</td>\n",
              "      <td>0</td>\n",
              "      <td>0</td>\n",
              "    </tr>\n",
              "    <tr>\n",
              "      <th>62</th>\n",
              "      <td>18.7993820244873</td>\n",
              "      <td>0</td>\n",
              "      <td>0</td>\n",
              "    </tr>\n",
              "    <tr>\n",
              "      <th>63</th>\n",
              "      <td>16.5431612681593</td>\n",
              "      <td>0</td>\n",
              "      <td>0</td>\n",
              "    </tr>\n",
              "    <tr>\n",
              "      <th>64</th>\n",
              "      <td>25.6830383288827</td>\n",
              "      <td>0</td>\n",
              "      <td>0</td>\n",
              "    </tr>\n",
              "  </tbody>\n",
              "</table>\n",
              "<p>65 rows × 3 columns</p>\n",
              "</div>"
            ],
            "text/plain": [
              "0               var4  hormone  sex\n",
              "0               var4  hormone  sex\n",
              "1    17.859039225112        1    1\n",
              "2   20.8423434475719        1    1\n",
              "3   19.3180990285089        1    1\n",
              "4   20.0644505810577        1    1\n",
              "..               ...      ...  ...\n",
              "60  17.0541946210175        0    0\n",
              "61  22.9515507831087        0    0\n",
              "62  18.7993820244873        0    0\n",
              "63  16.5431612681593        0    0\n",
              "64  25.6830383288827        0    0\n",
              "\n",
              "[65 rows x 3 columns]"
            ]
          },
          "metadata": {
            "tags": []
          },
          "execution_count": 5
        }
      ]
    },
    {
      "cell_type": "code",
      "metadata": {
        "colab": {
          "base_uri": "https://localhost:8080/",
          "height": 419
        },
        "id": "95omdd80x3Qs",
        "outputId": "5f152162-3373-46da-f6d6-2bf27f1ca530"
      },
      "source": [
        "# Then we drop the 1st row using iloc\n",
        "# We will save the new dataset as df_cleaned and will use this dataset from the rest of the operations\n",
        "\n",
        "df_cleaned=df.iloc[pd.RangeIndex(len(df)).drop(0)]\n",
        "df_cleaned"
      ],
      "execution_count": 6,
      "outputs": [
        {
          "output_type": "execute_result",
          "data": {
            "text/html": [
              "<div>\n",
              "<style scoped>\n",
              "    .dataframe tbody tr th:only-of-type {\n",
              "        vertical-align: middle;\n",
              "    }\n",
              "\n",
              "    .dataframe tbody tr th {\n",
              "        vertical-align: top;\n",
              "    }\n",
              "\n",
              "    .dataframe thead th {\n",
              "        text-align: right;\n",
              "    }\n",
              "</style>\n",
              "<table border=\"1\" class=\"dataframe\">\n",
              "  <thead>\n",
              "    <tr style=\"text-align: right;\">\n",
              "      <th></th>\n",
              "      <th>var4</th>\n",
              "      <th>hormone</th>\n",
              "      <th>sex</th>\n",
              "    </tr>\n",
              "  </thead>\n",
              "  <tbody>\n",
              "    <tr>\n",
              "      <th>1</th>\n",
              "      <td>17.859039225112</td>\n",
              "      <td>1</td>\n",
              "      <td>1</td>\n",
              "    </tr>\n",
              "    <tr>\n",
              "      <th>2</th>\n",
              "      <td>20.8423434475719</td>\n",
              "      <td>1</td>\n",
              "      <td>1</td>\n",
              "    </tr>\n",
              "    <tr>\n",
              "      <th>3</th>\n",
              "      <td>19.3180990285089</td>\n",
              "      <td>1</td>\n",
              "      <td>1</td>\n",
              "    </tr>\n",
              "    <tr>\n",
              "      <th>4</th>\n",
              "      <td>20.0644505810577</td>\n",
              "      <td>1</td>\n",
              "      <td>1</td>\n",
              "    </tr>\n",
              "    <tr>\n",
              "      <th>5</th>\n",
              "      <td>17.6203158537085</td>\n",
              "      <td>1</td>\n",
              "      <td>1</td>\n",
              "    </tr>\n",
              "    <tr>\n",
              "      <th>...</th>\n",
              "      <td>...</td>\n",
              "      <td>...</td>\n",
              "      <td>...</td>\n",
              "    </tr>\n",
              "    <tr>\n",
              "      <th>60</th>\n",
              "      <td>17.0541946210175</td>\n",
              "      <td>0</td>\n",
              "      <td>0</td>\n",
              "    </tr>\n",
              "    <tr>\n",
              "      <th>61</th>\n",
              "      <td>22.9515507831087</td>\n",
              "      <td>0</td>\n",
              "      <td>0</td>\n",
              "    </tr>\n",
              "    <tr>\n",
              "      <th>62</th>\n",
              "      <td>18.7993820244873</td>\n",
              "      <td>0</td>\n",
              "      <td>0</td>\n",
              "    </tr>\n",
              "    <tr>\n",
              "      <th>63</th>\n",
              "      <td>16.5431612681593</td>\n",
              "      <td>0</td>\n",
              "      <td>0</td>\n",
              "    </tr>\n",
              "    <tr>\n",
              "      <th>64</th>\n",
              "      <td>25.6830383288827</td>\n",
              "      <td>0</td>\n",
              "      <td>0</td>\n",
              "    </tr>\n",
              "  </tbody>\n",
              "</table>\n",
              "<p>64 rows × 3 columns</p>\n",
              "</div>"
            ],
            "text/plain": [
              "0               var4 hormone sex\n",
              "1    17.859039225112       1   1\n",
              "2   20.8423434475719       1   1\n",
              "3   19.3180990285089       1   1\n",
              "4   20.0644505810577       1   1\n",
              "5   17.6203158537085       1   1\n",
              "..               ...     ...  ..\n",
              "60  17.0541946210175       0   0\n",
              "61  22.9515507831087       0   0\n",
              "62  18.7993820244873       0   0\n",
              "63  16.5431612681593       0   0\n",
              "64  25.6830383288827       0   0\n",
              "\n",
              "[64 rows x 3 columns]"
            ]
          },
          "metadata": {
            "tags": []
          },
          "execution_count": 6
        }
      ]
    },
    {
      "cell_type": "code",
      "metadata": {
        "colab": {
          "base_uri": "https://localhost:8080/"
        },
        "id": "rQVDzYP5xV9_",
        "outputId": "e57fda83-e8a1-489b-9962-defee52ae49e"
      },
      "source": [
        "df_cleaned.columns"
      ],
      "execution_count": 7,
      "outputs": [
        {
          "output_type": "execute_result",
          "data": {
            "text/plain": [
              "Index(['var4', 'hormone', 'sex'], dtype='object', name=0)"
            ]
          },
          "metadata": {
            "tags": []
          },
          "execution_count": 7
        }
      ]
    },
    {
      "cell_type": "code",
      "metadata": {
        "colab": {
          "base_uri": "https://localhost:8080/"
        },
        "id": "lZjKcijItNk5",
        "outputId": "581fd2ec-4b28-46fc-fd1c-331c4a4a49a2"
      },
      "source": [
        "df_cleaned.head"
      ],
      "execution_count": 8,
      "outputs": [
        {
          "output_type": "execute_result",
          "data": {
            "text/plain": [
              "<bound method NDFrame.head of 0               var4 hormone sex\n",
              "1    17.859039225112       1   1\n",
              "2   20.8423434475719       1   1\n",
              "3   19.3180990285089       1   1\n",
              "4   20.0644505810577       1   1\n",
              "5   17.6203158537085       1   1\n",
              "..               ...     ...  ..\n",
              "60  17.0541946210175       0   0\n",
              "61  22.9515507831087       0   0\n",
              "62  18.7993820244873       0   0\n",
              "63  16.5431612681593       0   0\n",
              "64  25.6830383288827       0   0\n",
              "\n",
              "[64 rows x 3 columns]>"
            ]
          },
          "metadata": {
            "tags": []
          },
          "execution_count": 8
        }
      ]
    },
    {
      "cell_type": "code",
      "metadata": {
        "colab": {
          "base_uri": "https://localhost:8080/"
        },
        "id": "hyQhl0M5sICs",
        "outputId": "40212378-c6c1-4daf-db38-259ea756c3cd"
      },
      "source": [
        "df_cleaned.shape"
      ],
      "execution_count": 9,
      "outputs": [
        {
          "output_type": "execute_result",
          "data": {
            "text/plain": [
              "(64, 3)"
            ]
          },
          "metadata": {
            "tags": []
          },
          "execution_count": 9
        }
      ]
    },
    {
      "cell_type": "code",
      "metadata": {
        "colab": {
          "base_uri": "https://localhost:8080/"
        },
        "id": "iHC63heuyNUR",
        "outputId": "7505aa0d-cdbd-4e33-a43c-3af8d5ce3a35"
      },
      "source": [
        "# We convert the 'var4' column to numeric:\n",
        "\n",
        "df_cleaned.var4 = pd.to_numeric(df_cleaned['var4'],errors='coerce')\n"
      ],
      "execution_count": 18,
      "outputs": [
        {
          "output_type": "stream",
          "text": [
            "/usr/local/lib/python3.7/dist-packages/pandas/core/generic.py:5170: SettingWithCopyWarning: \n",
            "A value is trying to be set on a copy of a slice from a DataFrame.\n",
            "Try using .loc[row_indexer,col_indexer] = value instead\n",
            "\n",
            "See the caveats in the documentation: https://pandas.pydata.org/pandas-docs/stable/user_guide/indexing.html#returning-a-view-versus-a-copy\n",
            "  self[name] = value\n"
          ],
          "name": "stderr"
        }
      ]
    },
    {
      "cell_type": "markdown",
      "metadata": {
        "id": "w9LCq_d8s2Af"
      },
      "source": [
        "# EDA (exploratory data analysis)"
      ]
    },
    {
      "cell_type": "code",
      "metadata": {
        "colab": {
          "base_uri": "https://localhost:8080/",
          "height": 557
        },
        "id": "1Wixe5CvvaNf",
        "outputId": "cccb8313-d353-4407-c31e-17bb83916104"
      },
      "source": [
        "# 4. Do EDA (exploratory data analysis) to see the data\n",
        "\n",
        "# Let's explore data looking at boxplot by sex\n",
        "# We can see the overlap of medians and boxes\n",
        "\n",
        "df_cleaned.boxplot('var4', by='sex', figsize=(12,8), grid=True)"
      ],
      "execution_count": 19,
      "outputs": [
        {
          "output_type": "execute_result",
          "data": {
            "text/plain": [
              "<matplotlib.axes._subplots.AxesSubplot at 0x7fc1e4cef9d0>"
            ]
          },
          "metadata": {
            "tags": []
          },
          "execution_count": 19
        },
        {
          "output_type": "display_data",
          "data": {
            "image/png": "[encoded data removed]",
            "text/plain": [
              "<Figure size 864x576 with 1 Axes>"
            ]
          },
          "metadata": {
            "tags": [],
            "needs_background": "light"
          }
        }
      ]
    },
    {
      "cell_type": "code",
      "metadata": {
        "colab": {
          "base_uri": "https://localhost:8080/",
          "height": 557
        },
        "id": "Xwrg8FcH-U9L",
        "outputId": "750eb321-132e-48c8-d4cc-12d99855e11b"
      },
      "source": [
        "# 4. Do EDA (exploratory data analysis) to see the data\n",
        "\n",
        "# Let's explore data looking at boxplot by hormone\n",
        "# Again we see overlap\n",
        "\n",
        "df_cleaned.boxplot('var4', by='hormone', figsize=(12,8), grid=True)"
      ],
      "execution_count": 20,
      "outputs": [
        {
          "output_type": "execute_result",
          "data": {
            "text/plain": [
              "<matplotlib.axes._subplots.AxesSubplot at 0x7fc1e42fe250>"
            ]
          },
          "metadata": {
            "tags": []
          },
          "execution_count": 20
        },
        {
          "output_type": "display_data",
          "data": {
            "image/png": "[encoded data removed]",
            "text/plain": [
              "<Figure size 864x576 with 1 Axes>"
            ]
          },
          "metadata": {
            "tags": [],
            "needs_background": "light"
          }
        }
      ]
    },
    {
      "cell_type": "code",
      "metadata": {
        "colab": {
          "base_uri": "https://localhost:8080/",
          "height": 214
        },
        "id": "ZTnK18_fsQFU",
        "outputId": "e13118ba-9cef-4b59-cd0f-a11924d770a7"
      },
      "source": [
        "# another view is via pairplot (not too useful here)\n",
        "\n",
        "import seaborn as sns\n",
        "\n",
        "sns.pairplot(df_cleaned, y_vars=\"var4\", x_vars=['sex','hormone'])"
      ],
      "execution_count": 21,
      "outputs": [
        {
          "output_type": "execute_result",
          "data": {
            "text/plain": [
              "<seaborn.axisgrid.PairGrid at 0x7fc1e42118d0>"
            ]
          },
          "metadata": {
            "tags": []
          },
          "execution_count": 21
        },
        {
          "output_type": "display_data",
          "data": {
            "image/png": "[encoded data removed]",
            "text/plain": [
              "<Figure size 360x180 with 2 Axes>"
            ]
          },
          "metadata": {
            "tags": [],
            "needs_background": "light"
          }
        }
      ]
    },
    {
      "cell_type": "markdown",
      "metadata": {
        "id": "qokhpfENs_Un"
      },
      "source": [
        "# Find F and P"
      ]
    },
    {
      "cell_type": "code",
      "metadata": {
        "colab": {
          "base_uri": "https://localhost:8080/"
        },
        "id": "-LALWfTKtm2n",
        "outputId": "d3fb8561-6296-4d34-98d3-55fc2e8b9cde"
      },
      "source": [
        "# 5. Find F and P\n",
        "\n",
        "# Explore different F and P\n",
        "\n",
        "# Having P > 0.05 and F over 3, tells us that when compared all 4 gouprs there is no stat. sign., but the results are \"on the border\"\n",
        "\n",
        "\n",
        "S0H0 = df_cleaned[(df_cleaned['sex'] == '0') & (df_cleaned['hormone'] == '0')]['var4']\n",
        "S1H0 = df_cleaned[(df_cleaned['sex'] == '1') & (df_cleaned['hormone'] == '0')][\"var4\"]\n",
        "S0H1 = df_cleaned[(df_cleaned['sex'] == '0') & (df_cleaned['hormone'] == '1')][\"var4\"]\n",
        "S1H1 = df_cleaned[(df_cleaned['sex'] == '1') & (df_cleaned['hormone'] == '1')][\"var4\"]\n",
        "print(\"Results for all 4 groups\", stats.f_oneway(S0H0, S1H0, S0H1, S1H1))\n"
      ],
      "execution_count": 24,
      "outputs": [
        {
          "output_type": "stream",
          "text": [
            "Results for all 4 groups F_onewayResult(statistic=3.0783819542735755, pvalue=0.03416895813964489)\n"
          ],
          "name": "stdout"
        }
      ]
    },
    {
      "cell_type": "code",
      "metadata": {
        "colab": {
          "base_uri": "https://localhost:8080/"
        },
        "id": "c5ur4WebgfGO",
        "outputId": "d1c87f7a-c704-4897-abeb-688f8bf37e29"
      },
      "source": [
        "# F and P for group 1\n",
        "\n",
        "S0 = df_cleaned[df_cleaned['sex']=='0'][\"var4\"]\n",
        "H0 = df_cleaned[df_cleaned['hormone']=='0'][\"var4\"]\n",
        "stats.f_oneway(S0, H0)"
      ],
      "execution_count": 33,
      "outputs": [
        {
          "output_type": "execute_result",
          "data": {
            "text/plain": [
              "F_onewayResult(statistic=0.034822029097888334, pvalue=0.8525783409006508)"
            ]
          },
          "metadata": {
            "tags": []
          },
          "execution_count": 33
        }
      ]
    },
    {
      "cell_type": "code",
      "metadata": {
        "colab": {
          "base_uri": "https://localhost:8080/"
        },
        "id": "LlRgiJSThzaE",
        "outputId": "774d34aa-1062-490d-f580-47e726320045"
      },
      "source": [
        "# F and P for group 2\n",
        "\n",
        "S0 = df_cleaned[df_cleaned['sex']=='0'][\"var4\"]\n",
        "H1 = df_cleaned[df_cleaned['hormone']=='1'][\"var4\"]\n",
        "stats.f_oneway(S0, H1)"
      ],
      "execution_count": 35,
      "outputs": [
        {
          "output_type": "execute_result",
          "data": {
            "text/plain": [
              "F_onewayResult(statistic=0.007079522606041773, pvalue=0.933216295479734)"
            ]
          },
          "metadata": {
            "tags": []
          },
          "execution_count": 35
        }
      ]
    },
    {
      "cell_type": "code",
      "metadata": {
        "colab": {
          "base_uri": "https://localhost:8080/"
        },
        "id": "4k-z7LQ-iBPa",
        "outputId": "a063816d-72a5-41cc-8976-10a94cbc64d7"
      },
      "source": [
        "# F and P for group 3\n",
        "\n",
        "S1 = df_cleaned[df_cleaned['sex']=='1'][\"var4\"]\n",
        "H0 = df_cleaned[df_cleaned['hormone']=='0'][\"var4\"]\n",
        "stats.f_oneway(S1, H0)"
      ],
      "execution_count": 36,
      "outputs": [
        {
          "output_type": "execute_result",
          "data": {
            "text/plain": [
              "F_onewayResult(statistic=0.008087580804791224, pvalue=0.9286319591584807)"
            ]
          },
          "metadata": {
            "tags": []
          },
          "execution_count": 36
        }
      ]
    },
    {
      "cell_type": "code",
      "metadata": {
        "colab": {
          "base_uri": "https://localhost:8080/"
        },
        "id": "L5BJQuMoiOY0",
        "outputId": "fd7a62ea-7d39-4238-e4d9-a4f98440f41a"
      },
      "source": [
        "# F and P for group 4\n",
        "\n",
        "S1 = df_cleaned[df_cleaned['sex']=='1'][\"var4\"]\n",
        "H1 = df_cleaned[df_cleaned['hormone']=='1'][\"var4\"]\n",
        "stats.f_oneway(S1, H1)"
      ],
      "execution_count": 37,
      "outputs": [
        {
          "output_type": "execute_result",
          "data": {
            "text/plain": [
              "F_onewayResult(statistic=0.03879093174002188, pvalue=0.8445076573484281)"
            ]
          },
          "metadata": {
            "tags": []
          },
          "execution_count": 37
        }
      ]
    },
    {
      "cell_type": "code",
      "metadata": {
        "colab": {
          "base_uri": "https://localhost:8080/"
        },
        "id": "RDOylbOppgtw",
        "outputId": "e25a8e39-0038-4d2d-df8b-e5a3c26ec227"
      },
      "source": [
        "# F and P for sex\n",
        "\n",
        "# There is nothing particulary intersting looking at difference due to sex\n",
        "\n",
        "stats.f_oneway(S0, S1)"
      ],
      "execution_count": 38,
      "outputs": [
        {
          "output_type": "execute_result",
          "data": {
            "text/plain": [
              "F_onewayResult(statistic=0.01095203533006384, pvalue=0.9169897948383834)"
            ]
          },
          "metadata": {
            "tags": []
          },
          "execution_count": 38
        }
      ]
    },
    {
      "cell_type": "code",
      "metadata": {
        "colab": {
          "base_uri": "https://localhost:8080/"
        },
        "id": "qnu0jM4Bq4ps",
        "outputId": "d4fa2f43-8bf4-42fc-ee40-aaee899beec8"
      },
      "source": [
        "# F and P for Hormone\n",
        "\n",
        "# Again H-zero seems to be true here\n",
        "\n",
        "stats.f_oneway(H0, H1)"
      ],
      "execution_count": 39,
      "outputs": [
        {
          "output_type": "execute_result",
          "data": {
            "text/plain": [
              "F_onewayResult(statistic=0.07758282144554444, pvalue=0.7815271112052923)"
            ]
          },
          "metadata": {
            "tags": []
          },
          "execution_count": 39
        }
      ]
    },
    {
      "cell_type": "code",
      "metadata": {
        "colab": {
          "base_uri": "https://localhost:8080/"
        },
        "id": "bXT6WFEk0EQE",
        "outputId": "5930d8e9-ab38-4964-fdf2-3fb0df83f225"
      },
      "source": [
        "# F and P values, the sum_sq, mean_sq and df using anova\n",
        "# Here we are using age+dose \n",
        "# source https://www.statsmodels.org/devel/generated/statsmodels.stats.anova.anova_lm.html\n",
        "\n",
        "# import these libraires\n",
        "import statsmodels.api as sm\n",
        "from statsmodels.formula.api import ols\n",
        "\n",
        "expr_lm = ols('var4 ~ sex+hormone',data=df_cleaned).fit()\n",
        "table = sm.stats.anova_lm(expr_lm, type=2) # Type 2 Anova DataFrame\n",
        "print(table)\n",
        "\n",
        "# sum_sq for Thearpy is SSB (=total sum of squares between groups)\n",
        "# mean_sq for Therapy is SSB/df\n",
        "# df for Therapy is degrees of freedom between groups \n",
        "# sum_sq for Residual is SSW (=total sum of squares within groups)\n",
        "# mean_sq for Residual is SSW/df\n",
        "# df for Residual is degrees of freedom within groups"
      ],
      "execution_count": 40,
      "outputs": [
        {
          "output_type": "stream",
          "text": [
            "            df      sum_sq    mean_sq         F    PR(>F)\n",
            "sex        1.0    0.119762   0.119762  0.010789  0.917614\n",
            "hormone    1.0    0.847472   0.847472  0.076345  0.783247\n",
            "Residual  61.0  677.133778  11.100554       NaN       NaN\n"
          ],
          "name": "stdout"
        }
      ]
    },
    {
      "cell_type": "code",
      "metadata": {
        "colab": {
          "base_uri": "https://localhost:8080/"
        },
        "id": "xpVoCSp9kJxf",
        "outputId": "28c531ef-5e0b-4367-acf0-705f074b9314"
      },
      "source": [
        "# F and P values, the sum_sq, mean_sq and df using anova\n",
        "# Here we are using age*dose, to also see this as a combined parameter\n",
        "# The Residual becomes 60, from 61 because we introduce this another group\n",
        "\n",
        "# source https://www.statsmodels.org/devel/generated/statsmodels.stats.anova.anova_lm.html\n",
        "\n",
        "# import these libraires\n",
        "import statsmodels.api as sm\n",
        "from statsmodels.formula.api import ols\n",
        "\n",
        "expr_lm = ols('var4 ~ sex*hormone',data=df_cleaned).fit()\n",
        "table = sm.stats.anova_lm(expr_lm, type=2) # Type 2 Anova DataFrame\n",
        "print(table)\n",
        "\n",
        "# sum_sq for Thearpy is SSB (=total sum of squares between groups)\n",
        "# mean_sq for Therapy is SSB/df\n",
        "# df for Therapy is degrees of freedom between groups \n",
        "# sum_sq for Residual is SSW (=total sum of squares within groups)\n",
        "# mean_sq for Residual is SSW/df\n",
        "# df for Residual is degrees of freedom within groups\n",
        "\n",
        "# Here we see very interesting results combining both groups (sex:hormone)"
      ],
      "execution_count": 41,
      "outputs": [
        {
          "output_type": "stream",
          "text": [
            "               df      sum_sq    mean_sq         F    PR(>F)\n",
            "sex           1.0    0.119762   0.119762  0.012228  0.912318\n",
            "hormone       1.0    0.847472   0.847472  0.086528  0.769653\n",
            "sex:hormone   1.0   89.483384  89.483384  9.136390  0.003682\n",
            "Residual     60.0  587.650394   9.794173       NaN       NaN\n"
          ],
          "name": "stdout"
        }
      ]
    },
    {
      "cell_type": "code",
      "metadata": {
        "colab": {
          "base_uri": "https://localhost:8080/"
        },
        "id": "iBFN8mnkyWhW",
        "outputId": "b9dbd24b-e2cc-420c-d448-860774e2cff1"
      },
      "source": [
        "# Another way to calculate F and P using anova\n",
        "\n",
        "formula = 'var4 ~ C(hormone) + C(sex) + C(hormone):C(sex)'\n",
        "model = ols(formula, df_cleaned).fit()\n",
        "aov_table = sm.stats.anova_lm(model, typ=2)\n",
        "print(aov_table)"
      ],
      "execution_count": 42,
      "outputs": [
        {
          "output_type": "stream",
          "text": [
            "                       sum_sq    df         F    PR(>F)\n",
            "C(hormone)           0.847472   1.0  0.086528  0.769653\n",
            "C(sex)               0.119762   1.0  0.012228  0.912318\n",
            "C(hormone):C(sex)   89.483384   1.0  9.136390  0.003682\n",
            "Residual           587.650394  60.0       NaN       NaN\n"
          ],
          "name": "stdout"
        }
      ]
    },
    {
      "cell_type": "code",
      "metadata": {
        "id": "wd0awVb211cZ"
      },
      "source": [
        "# 6. Conclusion\n",
        "\n",
        "# If H-zero is TRUE then F has to be very small, close to 0 and P > 0.05\n",
        "# We can see that in this case the P is < 0.05 and F is fairly large (9) when we combine both predictors together\n",
        "# This allows us to say that there is statistical significance in results when predictors are combined\n"
      ],
      "execution_count": null,
      "outputs": []
    }
  ]
}