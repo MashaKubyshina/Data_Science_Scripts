{
  "nbformat": 4,
  "nbformat_minor": 0,
  "metadata": {
    "colab": {
      "name": "PART_3_PREDICTIVE_MODELS_MNB.ipynb",
      "provenance": [],
      "mount_file_id": "1enOFf3IzRtZAxcvXCOQ7kHihMcxf7lZq",
      "authorship_tag": "ABX9TyNR8h89R5Wwfq8LPeRVAp1D",
      "include_colab_link": true
    },
    "kernelspec": {
      "name": "python3",
      "display_name": "Python 3"
    },
    "language_info": {
      "name": "python"
    }
  },
  "cells": [
    {
      "cell_type": "markdown",
      "metadata": {
        "id": "view-in-github",
        "colab_type": "text"
      },
      "source": [
        "<a href=\"https://colab.research.google.com/github/MashaKubyshina/Learning_to_code/blob/master/PART_3_PREDICTIVE_MODELS_MNB.ipynb\" target=\"_parent\"><img src=\"https://colab.research.google.com/assets/colab-badge.svg\" alt=\"Open In Colab\"/></a>"
      ]
    },
    {
      "cell_type": "markdown",
      "metadata": {
        "id": "iH8k7GK-3N_C"
      },
      "source": [
        "**Predictive Models**\n",
        "\n",
        "We will test the following models to see which ones can predict better:\n",
        "\n",
        "*  Random Forest\n",
        "*  Support Vector Machine\n",
        "*  K Nearest Neighbors\n",
        "*  Multinomial Naïve Bayes\n",
        "*  Multinomial Logistic Regression\n",
        "*  Gradient Boosting\n",
        "\n",
        "In this class project I am following a tutorial from this blog post https://towardsdatascience.com/text-classification-in-python-dd95d264c802\n",
        "\n",
        "**Process followed:**\n",
        "\n",
        "1.   Decide which hyperparameters we will use\n",
        "2.   Define our goal metric: what metric will we use to access the performance of the model\n",
        "3.   Use Randomized Search Cross Validation to find the hyperparameter that gives us most accuracy\n",
        "4.   Use Grid Search Cross Validation process in this region to find best combination of hyperparameters\n",
        "5.   Obtain the accuracy on the training data and the test data, the classification report and the confusion matrix.\n",
        "6.   Calculate the accuracy of a model with default hyperparameters\n",
        "\n",
        "There will be one notebook / link for each model\n"
      ]
    },
    {
      "cell_type": "markdown",
      "metadata": {
        "id": "ZBx8EO325qvQ"
      },
      "source": [
        "**Multinomial Naïve Bayes** "
      ]
    },
    {
      "cell_type": "code",
      "metadata": {
        "id": "P-DpU7AP3Hzt"
      },
      "source": [
        "import pickle\n",
        "import numpy as np\n",
        "from sklearn.feature_extraction.text import TfidfVectorizer\n",
        "from sklearn.naive_bayes import MultinomialNB\n",
        "from pprint import pprint\n",
        "from sklearn.model_selection import RandomizedSearchCV\n",
        "from sklearn.model_selection import GridSearchCV\n",
        "from sklearn.metrics import classification_report, confusion_matrix, accuracy_score\n",
        "from sklearn.model_selection import ShuffleSplit\n",
        "import matplotlib.pyplot as plt\n",
        "import seaborn as sns\n",
        "import pandas as pd"
      ],
      "execution_count": 3,
      "outputs": []
    },
    {
      "cell_type": "code",
      "metadata": {
        "id": "30bRv6L-3NzT"
      },
      "source": [
        "# Dataframe\n",
        "# Open saved data files with Pickle\n",
        "\n",
        "\n",
        "path_df = \"/content/drive/MyDrive/Pickles/df.pickle\"\n",
        "with open(path_df, 'rb') as data:\n",
        "    df = pickle.load(data)\n",
        "\n",
        "# features_train\n",
        "path_features_train = \"/content/drive/MyDrive/Pickles/features_train.pickle\"\n",
        "with open(path_features_train, 'rb') as data:\n",
        "    features_train = pickle.load(data)\n",
        "\n",
        "# labels_train\n",
        "path_labels_train = \"/content/drive/MyDrive/Pickles/labels_train.pickle\"\n",
        "with open(path_labels_train, 'rb') as data:\n",
        "    labels_train = pickle.load(data)\n",
        "\n",
        "# features_test\n",
        "path_features_test = \"/content/drive/MyDrive/Pickles/features_test.pickle\"\n",
        "with open(path_features_test, 'rb') as data:\n",
        "    features_test = pickle.load(data)\n",
        "\n",
        "# labels_test\n",
        "path_labels_test = \"/content/drive/MyDrive/Pickles/labels_test.pickle\"\n",
        "with open(path_labels_test, 'rb') as data:\n",
        "    labels_test = pickle.load(data)"
      ],
      "execution_count": 4,
      "outputs": []
    },
    {
      "cell_type": "code",
      "metadata": {
        "colab": {
          "base_uri": "https://localhost:8080/"
        },
        "id": "GvSzeGzM-n7q",
        "outputId": "ec4203ed-c392-4b91-d445-a607df1a9048"
      },
      "source": [
        "# check the dimension of the vectors:\n",
        "\n",
        "print(features_train.shape)\n",
        "print(features_test.shape)"
      ],
      "execution_count": 5,
      "outputs": [
        {
          "output_type": "stream",
          "text": [
            "(1500, 300)\n",
            "(500, 300)\n"
          ],
          "name": "stdout"
        }
      ]
    },
    {
      "cell_type": "code",
      "metadata": {
        "colab": {
          "base_uri": "https://localhost:8080/"
        },
        "id": "ipRrTsbr-x2L",
        "outputId": "215b0753-ad63-4418-b633-36fa353642f4"
      },
      "source": [
        "# Cross Validation for Hyperparameter tunning\n",
        "\n",
        "# In the case of Multinomial Naïve Bayes, we will not tune any hyperparameter.\n",
        "\n",
        "mnbc = MultinomialNB()\n",
        "mnbc"
      ],
      "execution_count": 6,
      "outputs": [
        {
          "output_type": "execute_result",
          "data": {
            "text/plain": [
              "MultinomialNB(alpha=1.0, class_prior=None, fit_prior=True)"
            ]
          },
          "metadata": {
            "tags": []
          },
          "execution_count": 6
        }
      ]
    },
    {
      "cell_type": "markdown",
      "metadata": {
        "id": "GcrUuAZ8FLBn"
      },
      "source": [
        "**Model Fit and Performance**"
      ]
    },
    {
      "cell_type": "code",
      "metadata": {
        "colab": {
          "base_uri": "https://localhost:8080/"
        },
        "id": "QrMkaTqXLaBX",
        "outputId": "a3f3a7c3-dc48-4e73-ff3c-22086a072aca"
      },
      "source": [
        "# fit the model to our training data\n",
        "\n",
        "mnbc.fit(features_train, labels_train)"
      ],
      "execution_count": 7,
      "outputs": [
        {
          "output_type": "execute_result",
          "data": {
            "text/plain": [
              "MultinomialNB(alpha=1.0, class_prior=None, fit_prior=True)"
            ]
          },
          "metadata": {
            "tags": []
          },
          "execution_count": 7
        }
      ]
    },
    {
      "cell_type": "code",
      "metadata": {
        "id": "ebRQ0ZC8LjTJ"
      },
      "source": [
        "# get the predictors\n",
        "\n",
        "\n",
        "mnbc_pred = mnbc.predict(features_test)\n"
      ],
      "execution_count": 8,
      "outputs": []
    },
    {
      "cell_type": "code",
      "metadata": {
        "id": "tBr8k2vzLq80"
      },
      "source": [
        "# conditional class probabilites\n",
        "\n",
        "# mnbc_pred = mnbc.predict_proba(features_test)"
      ],
      "execution_count": null,
      "outputs": []
    },
    {
      "cell_type": "code",
      "metadata": {
        "colab": {
          "base_uri": "https://localhost:8080/"
        },
        "id": "d4ITnirzL2do",
        "outputId": "5248e34c-0b26-4f14-c2e3-ddab69ef8976"
      },
      "source": [
        "# For performance analysis, we will use the confusion matrix, the classification report and the accuracy on both training and test data:\n",
        "\n",
        "# Training accuracy\n",
        "\n",
        "print(\"The training accuracy is: \")\n",
        "print(accuracy_score(labels_train, mnbc.predict(features_train)))"
      ],
      "execution_count": 9,
      "outputs": [
        {
          "output_type": "stream",
          "text": [
            "The training accuracy is: \n",
            "0.592\n"
          ],
          "name": "stdout"
        }
      ]
    },
    {
      "cell_type": "code",
      "metadata": {
        "colab": {
          "base_uri": "https://localhost:8080/"
        },
        "id": "OfnpDWHZL-Cn",
        "outputId": "16c08382-5f7a-4a31-f312-58c899291749"
      },
      "source": [
        "# Test accuracy\n",
        "\n",
        "\n",
        "print(\"The test accuracy is: \")\n",
        "print(accuracy_score(labels_test, mnbc_pred))"
      ],
      "execution_count": 10,
      "outputs": [
        {
          "output_type": "stream",
          "text": [
            "The test accuracy is: \n",
            "0.582\n"
          ],
          "name": "stdout"
        }
      ]
    },
    {
      "cell_type": "code",
      "metadata": {
        "colab": {
          "base_uri": "https://localhost:8080/"
        },
        "id": "hKtSS51OMBvW",
        "outputId": "bcd3c5d3-b7e0-489f-d2d7-ea28d6e114eb"
      },
      "source": [
        "# Classification report\n",
        "\n",
        "\n",
        "print(\"Classification report\")\n",
        "print(classification_report(labels_test,mnbc_pred))"
      ],
      "execution_count": 11,
      "outputs": [
        {
          "output_type": "stream",
          "text": [
            "Classification report\n",
            "              precision    recall  f1-score   support\n",
            "\n",
            "           0       0.57      1.00      0.73       274\n",
            "           1       0.00      0.00      0.00       124\n",
            "           2       0.74      0.17      0.27       102\n",
            "\n",
            "    accuracy                           0.58       500\n",
            "   macro avg       0.44      0.39      0.33       500\n",
            "weighted avg       0.47      0.58      0.46       500\n",
            "\n"
          ],
          "name": "stdout"
        },
        {
          "output_type": "stream",
          "text": [
            "/usr/local/lib/python3.7/dist-packages/sklearn/metrics/_classification.py:1272: UndefinedMetricWarning: Precision and F-score are ill-defined and being set to 0.0 in labels with no predicted samples. Use `zero_division` parameter to control this behavior.\n",
            "  _warn_prf(average, modifier, msg_start, len(result))\n"
          ],
          "name": "stderr"
        }
      ]
    },
    {
      "cell_type": "code",
      "metadata": {
        "colab": {
          "base_uri": "https://localhost:8080/",
          "height": 404
        },
        "id": "RC922oIGOjrf",
        "outputId": "ad40432a-12c2-4066-e3ed-a1fc8df3a47c"
      },
      "source": [
        "# Confusion matrix\n",
        "\n",
        "aux_df = df[['category', 'Category_Code']].drop_duplicates().sort_values('Category_Code')\n",
        "conf_matrix = confusion_matrix(labels_test, mnbc_pred)\n",
        "plt.figure(figsize=(12.8,6))\n",
        "sns.heatmap(conf_matrix, \n",
        "            annot=True,\n",
        "            xticklabels=aux_df['category'].values, \n",
        "            yticklabels=aux_df['category'].values,\n",
        "            cmap=\"Blues\")\n",
        "plt.ylabel('Predicted')\n",
        "plt.xlabel('Actual')\n",
        "plt.title('Confusion matrix')\n",
        "plt.show()"
      ],
      "execution_count": 13,
      "outputs": [
        {
          "output_type": "display_data",
          "data": {
            "image/png": "[encoded data removed]",
            "text/plain": [
              "<Figure size 921.6x432 with 2 Axes>"
            ]
          },
          "metadata": {
            "tags": [],
            "needs_background": "light"
          }
        }
      ]
    },
    {
      "cell_type": "code",
      "metadata": {
        "id": "bjDULqcOm5So"
      },
      "source": [
        "# Let's see if the hyperparameter tuning process has returned a better model:\n",
        "\n",
        "d = {\n",
        "     'Model': 'Multinomial Naïve Bayes',\n",
        "     'Training Set Accuracy': accuracy_score(labels_train, mnbc.predict(features_train)),\n",
        "     'Test Set Accuracy': accuracy_score(labels_test, mnbc_pred)\n",
        "}\n",
        "\n",
        "df_models_mnbc = pd.DataFrame(d, index=[0])"
      ],
      "execution_count": 14,
      "outputs": []
    },
    {
      "cell_type": "code",
      "metadata": {
        "colab": {
          "base_uri": "https://localhost:8080/",
          "height": 80
        },
        "id": "JtyPczw4q9WI",
        "outputId": "0dcc4354-eb01-4a48-cd4d-e3b15e7e3755"
      },
      "source": [
        "df_models_mnbc"
      ],
      "execution_count": 15,
      "outputs": [
        {
          "output_type": "execute_result",
          "data": {
            "text/html": [
              "<div>\n",
              "<style scoped>\n",
              "    .dataframe tbody tr th:only-of-type {\n",
              "        vertical-align: middle;\n",
              "    }\n",
              "\n",
              "    .dataframe tbody tr th {\n",
              "        vertical-align: top;\n",
              "    }\n",
              "\n",
              "    .dataframe thead th {\n",
              "        text-align: right;\n",
              "    }\n",
              "</style>\n",
              "<table border=\"1\" class=\"dataframe\">\n",
              "  <thead>\n",
              "    <tr style=\"text-align: right;\">\n",
              "      <th></th>\n",
              "      <th>Model</th>\n",
              "      <th>Training Set Accuracy</th>\n",
              "      <th>Test Set Accuracy</th>\n",
              "    </tr>\n",
              "  </thead>\n",
              "  <tbody>\n",
              "    <tr>\n",
              "      <th>0</th>\n",
              "      <td>Multinomial Naïve Bayes</td>\n",
              "      <td>0.592</td>\n",
              "      <td>0.582</td>\n",
              "    </tr>\n",
              "  </tbody>\n",
              "</table>\n",
              "</div>"
            ],
            "text/plain": [
              "                     Model  Training Set Accuracy  Test Set Accuracy\n",
              "0  Multinomial Naïve Bayes                  0.592              0.582"
            ]
          },
          "metadata": {
            "tags": []
          },
          "execution_count": 15
        }
      ]
    },
    {
      "cell_type": "code",
      "metadata": {
        "id": "qtpMc-eWrBwX"
      },
      "source": [
        "with open('/content/drive/MyDrive/Pickles/Models/best_mnbc.pickle', 'wb') as output:\n",
        "    pickle.dump(mnbc, output)\n",
        "    \n",
        "with open('/content/drive/MyDrive/Pickles/Models/df_models_mnbc.pickle', 'wb') as output:\n",
        "    pickle.dump(df_models_mnbc, output)"
      ],
      "execution_count": 17,
      "outputs": []
    }
  ]
}