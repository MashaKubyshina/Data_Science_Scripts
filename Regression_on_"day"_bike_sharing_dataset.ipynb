{
  "nbformat": 4,
  "nbformat_minor": 0,
  "metadata": {
    "colab": {
      "name": "Regression on \"day\" bike sharing dataset.ipynb",
      "provenance": [],
      "collapsed_sections": [],
      "include_colab_link": true
    },
    "kernelspec": {
      "display_name": "Python 3",
      "name": "python3"
    },
    "language_info": {
      "name": "python"
    }
  },
  "cells": [
    {
      "cell_type": "markdown",
      "metadata": {
        "id": "view-in-github",
        "colab_type": "text"
      },
      "source": [
        "<a href=\"https://colab.research.google.com/github/MashaKubyshina/Learning_to_code/blob/master/Regression_on_%22day%22_bike_sharing_dataset.ipynb\" target=\"_parent\"><img src=\"https://colab.research.google.com/assets/colab-badge.svg\" alt=\"Open In Colab\"/></a>"
      ]
    },
    {
      "cell_type": "markdown",
      "metadata": {
        "id": "P_q_Vqnd9Vk6"
      },
      "source": [
        "# Bike Sharing dataset\n"
      ]
    },
    {
      "cell_type": "markdown",
      "metadata": {
        "id": "yve8MgJb_yc2"
      },
      "source": [
        "Goal: find the best predictor for the number of bikes rented (cnt)\n",
        "\n",
        "Process:\n",
        "1. Look at the data\n",
        "2. Plot the data\n",
        "3. Run linear regression\n",
        "4. Scaler min-max\n",
        "5. Run one-hot-encoding\n",
        "6. Use Forward and Backward selection\n",
        "7. RidgeCV regression\n",
        "8. LassoCV regression\n",
        "9. A few more plots\n",
        "\n",
        "\n",
        "Conclusion: insights and next steps\n"
      ]
    },
    {
      "cell_type": "code",
      "metadata": {
        "colab": {
          "base_uri": "https://localhost:8080/"
        },
        "id": "DR2Bs3jNZKaE",
        "outputId": "c0dee6c0-263f-41b1-8099-6abddde0437c"
      },
      "source": [
        "# We do this to install scikit-learn 0.24 version\n",
        "\n",
        "!pip uninstall scikit-learn -y\n",
        "\n",
        "!pip install -U scikit-learn"
      ],
      "execution_count": 1,
      "outputs": [
        {
          "output_type": "stream",
          "text": [
            "Uninstalling scikit-learn-0.22.2.post1:\n",
            "  Successfully uninstalled scikit-learn-0.22.2.post1\n",
            "Collecting scikit-learn\n",
            "\u001b[?25l  Downloading https://files.pythonhosted.org/packages/a8/eb/a48f25c967526b66d5f1fa7a984594f0bf0a5afafa94a8c4dbc317744620/scikit_learn-0.24.2-cp37-cp37m-manylinux2010_x86_64.whl (22.3MB)\n",
            "\u001b[K     |████████████████████████████████| 22.3MB 1.9MB/s \n",
            "\u001b[?25hCollecting threadpoolctl>=2.0.0\n",
            "  Downloading https://files.pythonhosted.org/packages/f7/12/ec3f2e203afa394a149911729357aa48affc59c20e2c1c8297a60f33f133/threadpoolctl-2.1.0-py3-none-any.whl\n",
            "Requirement already satisfied, skipping upgrade: scipy>=0.19.1 in /usr/local/lib/python3.7/dist-packages (from scikit-learn) (1.4.1)\n",
            "Requirement already satisfied, skipping upgrade: joblib>=0.11 in /usr/local/lib/python3.7/dist-packages (from scikit-learn) (1.0.1)\n",
            "Requirement already satisfied, skipping upgrade: numpy>=1.13.3 in /usr/local/lib/python3.7/dist-packages (from scikit-learn) (1.19.5)\n",
            "Installing collected packages: threadpoolctl, scikit-learn\n",
            "Successfully installed scikit-learn-0.24.2 threadpoolctl-2.1.0\n"
          ],
          "name": "stdout"
        }
      ]
    },
    {
      "cell_type": "code",
      "metadata": {
        "colab": {
          "base_uri": "https://localhost:8080/",
          "height": 37
        },
        "id": "fGwj4KucZZFj",
        "outputId": "d8da55f8-c73c-4ff5-84ee-04020fbbf78a"
      },
      "source": [
        "# Check sklearn version\n",
        "\n",
        "import sklearn\n",
        "\n",
        "sklearn.__version__"
      ],
      "execution_count": 2,
      "outputs": [
        {
          "output_type": "execute_result",
          "data": {
            "application/vnd.google.colaboratory.intrinsic+json": {
              "type": "string"
            },
            "text/plain": [
              "'0.24.2'"
            ]
          },
          "metadata": {
            "tags": []
          },
          "execution_count": 2
        }
      ]
    },
    {
      "cell_type": "code",
      "metadata": {
        "id": "XZCiFo3u5shP"
      },
      "source": [
        "# Import necessary libraries to start\n",
        "\n",
        "import pandas as pd\n",
        "import numpy as np\n",
        "import matplotlib as plt\n",
        "import seaborn as sns\n",
        "import scipy.stats as stats\n",
        "import sklearn.linear_model as linear_module\n",
        "from sklearn.model_selection import train_test_split\n",
        "from sklearn.metrics import mean_squared_error\n",
        "from sklearn import preprocessing\n",
        "from sklearn.preprocessing import OneHotEncoder\n",
        "import math\n",
        "from sklearn.metrics import r2_score"
      ],
      "execution_count": 93,
      "outputs": []
    },
    {
      "cell_type": "code",
      "metadata": {
        "cellView": "form",
        "colab": {
          "base_uri": "https://localhost:8080/"
        },
        "id": "jtFyGq8ly97l",
        "outputId": "50b40d26-3d4c-4601-bfc1-c907cf99950f"
      },
      "source": [
        "#@title Download the dataset\n",
        "!wget https://archive.ics.uci.edu/ml/machine-learning-databases/00275/Bike-Sharing-Dataset.zip"
      ],
      "execution_count": 4,
      "outputs": [
        {
          "output_type": "stream",
          "text": [
            "--2021-05-28 22:05:01--  https://archive.ics.uci.edu/ml/machine-learning-databases/00275/Bike-Sharing-Dataset.zip\n",
            "Resolving archive.ics.uci.edu (archive.ics.uci.edu)... 128.195.10.252\n",
            "Connecting to archive.ics.uci.edu (archive.ics.uci.edu)|128.195.10.252|:443... connected.\n",
            "HTTP request sent, awaiting response... 200 OK\n",
            "Length: 279992 (273K) [application/x-httpd-php]\n",
            "Saving to: ‘Bike-Sharing-Dataset.zip’\n",
            "\n",
            "Bike-Sharing-Datase 100%[===================>] 273.43K  1.04MB/s    in 0.3s    \n",
            "\n",
            "2021-05-28 22:05:02 (1.04 MB/s) - ‘Bike-Sharing-Dataset.zip’ saved [279992/279992]\n",
            "\n"
          ],
          "name": "stdout"
        }
      ]
    },
    {
      "cell_type": "markdown",
      "metadata": {
        "id": "uh_77DpIaEx8"
      },
      "source": [
        ""
      ]
    },
    {
      "cell_type": "code",
      "metadata": {
        "colab": {
          "base_uri": "https://localhost:8080/"
        },
        "collapsed": true,
        "id": "3zqeH4oqzBTh",
        "outputId": "c63a68c1-50e7-4d85-be99-34ae4e58b861"
      },
      "source": [
        "# unzip\n",
        "\n",
        "!unzip Bike-Sharing-Dataset.zip"
      ],
      "execution_count": 5,
      "outputs": [
        {
          "output_type": "stream",
          "text": [
            "Archive:  Bike-Sharing-Dataset.zip\n",
            "  inflating: Readme.txt              \n",
            "  inflating: day.csv                 \n",
            "  inflating: hour.csv                \n"
          ],
          "name": "stdout"
        }
      ]
    },
    {
      "cell_type": "markdown",
      "metadata": {
        "id": "iJnup3ppplzV"
      },
      "source": [
        ""
      ]
    },
    {
      "cell_type": "code",
      "metadata": {
        "cellView": "form",
        "colab": {
          "base_uri": "https://localhost:8080/"
        },
        "id": "B3g_ll8MzhEd",
        "outputId": "ae96b0ae-390d-4cd0-839b-b904bc2aa91f"
      },
      "source": [
        "#@title The description of the data.\n",
        "!cat Readme.txt"
      ],
      "execution_count": null,
      "outputs": [
        {
          "output_type": "stream",
          "text": [
            "==========================================\r\n",
            "Bike Sharing Dataset\r\n",
            "==========================================\r\n",
            "\r\n",
            "Hadi Fanaee-T\r\n",
            "\r\n",
            "Laboratory of Artificial Intelligence and Decision Support (LIAAD), University of Porto\r\n",
            "INESC Porto, Campus da FEUP\r\n",
            "Rua Dr. Roberto Frias, 378\r\n",
            "4200 - 465 Porto, Portugal\r\n",
            "\r\n",
            "\r\n",
            "=========================================\r\n",
            "Background \r\n",
            "=========================================\r\n",
            "\r\n",
            "Bike sharing systems are new generation of traditional bike rentals where whole process from membership, rental and return \r\n",
            "back has become automatic. Through these systems, user is able to easily rent a bike from a particular position and return \r\n",
            "back at another position. Currently, there are about over 500 bike-sharing programs around the world which is composed of \r\n",
            "over 500 thousands bicycles. Today, there exists great interest in these systems due to their important role in traffic, \r\n",
            "environmental and health issues. \r\n",
            "\r\n",
            "Apart from interesting real world applications of bike sharing systems, the characteristics of data being generated by\r\n",
            "these systems make them attractive for the research. Opposed to other transport services such as bus or subway, the duration\r\n",
            "of travel, departure and arrival position is explicitly recorded in these systems. This feature turns bike sharing system into\r\n",
            "a virtual sensor network that can be used for sensing mobility in the city. Hence, it is expected that most of important\r\n",
            "events in the city could be detected via monitoring these data.\r\n",
            "\r\n",
            "=========================================\r\n",
            "Data Set\r\n",
            "=========================================\r\n",
            "Bike-sharing rental process is highly correlated to the environmental and seasonal settings. For instance, weather conditions,\r\n",
            "precipitation, day of week, season, hour of the day, etc. can affect the rental behaviors. The core data set is related to  \r\n",
            "the two-year historical log corresponding to years 2011 and 2012 from Capital Bikeshare system, Washington D.C., USA which is \r\n",
            "publicly available in http://capitalbikeshare.com/system-data. We aggregated the data on two hourly and daily basis and then \r\n",
            "extracted and added the corresponding weather and seasonal information. Weather information are extracted from http://www.freemeteo.com. \r\n",
            "\r\n",
            "=========================================\r\n",
            "Associated tasks\r\n",
            "=========================================\r\n",
            "\r\n",
            "\t- Regression: \r\n",
            "\t\tPredication of bike rental count hourly or daily based on the environmental and seasonal settings.\r\n",
            "\t\r\n",
            "\t- Event and Anomaly Detection:  \r\n",
            "\t\tCount of rented bikes are also correlated to some events in the town which easily are traceable via search engines.\r\n",
            "\t\tFor instance, query like \"2012-10-30 washington d.c.\" in Google returns related results to Hurricane Sandy. Some of the important events are \r\n",
            "\t\tidentified in [1]. Therefore the data can be used for validation of anomaly or event detection algorithms as well.\r\n",
            "\r\n",
            "\r\n",
            "=========================================\r\n",
            "Files\r\n",
            "=========================================\r\n",
            "\r\n",
            "\t- Readme.txt\r\n",
            "\t- hour.csv : bike sharing counts aggregated on hourly basis. Records: 17379 hours\r\n",
            "\t- day.csv - bike sharing counts aggregated on daily basis. Records: 731 days\r\n",
            "\r\n",
            "\t\r\n",
            "=========================================\r\n",
            "Dataset characteristics\r\n",
            "=========================================\t\r\n",
            "Both hour.csv and day.csv have the following fields, except hr which is not available in day.csv\r\n",
            "\t\r\n",
            "\t- instant: record index\r\n",
            "\t- dteday : date\r\n",
            "\t- season : season (1:springer, 2:summer, 3:fall, 4:winter)\r\n",
            "\t- yr : year (0: 2011, 1:2012)\r\n",
            "\t- mnth : month ( 1 to 12)\r\n",
            "\t- hr : hour (0 to 23)\r\n",
            "\t- holiday : weather day is holiday or not (extracted from http://dchr.dc.gov/page/holiday-schedule)\r\n",
            "\t- weekday : day of the week\r\n",
            "\t- workingday : if day is neither weekend nor holiday is 1, otherwise is 0.\r\n",
            "\t+ weathersit : \r\n",
            "\t\t- 1: Clear, Few clouds, Partly cloudy, Partly cloudy\r\n",
            "\t\t- 2: Mist + Cloudy, Mist + Broken clouds, Mist + Few clouds, Mist\r\n",
            "\t\t- 3: Light Snow, Light Rain + Thunderstorm + Scattered clouds, Light Rain + Scattered clouds\r\n",
            "\t\t- 4: Heavy Rain + Ice Pallets + Thunderstorm + Mist, Snow + Fog\r\n",
            "\t- temp : Normalized temperature in Celsius. The values are divided to 41 (max)\r\n",
            "\t- atemp: Normalized feeling temperature in Celsius. The values are divided to 50 (max)\r\n",
            "\t- hum: Normalized humidity. The values are divided to 100 (max)\r\n",
            "\t- windspeed: Normalized wind speed. The values are divided to 67 (max)\r\n",
            "\t- casual: count of casual users\r\n",
            "\t- registered: count of registered users\r\n",
            "\t- cnt: count of total rental bikes including both casual and registered\r\n",
            "\t\r\n",
            "=========================================\r\n",
            "License\r\n",
            "=========================================\r\n",
            "Use of this dataset in publications must be cited to the following publication:\r\n",
            "\r\n",
            "[1] Fanaee-T, Hadi, and Gama, Joao, \"Event labeling combining ensemble detectors and background knowledge\", Progress in Artificial Intelligence (2013): pp. 1-15, Springer Berlin Heidelberg, doi:10.1007/s13748-013-0040-3.\r\n",
            "\r\n",
            "@article{\r\n",
            "\tyear={2013},\r\n",
            "\tissn={2192-6352},\r\n",
            "\tjournal={Progress in Artificial Intelligence},\r\n",
            "\tdoi={10.1007/s13748-013-0040-3},\r\n",
            "\ttitle={Event labeling combining ensemble detectors and background knowledge},\r\n",
            "\turl={http://dx.doi.org/10.1007/s13748-013-0040-3},\r\n",
            "\tpublisher={Springer Berlin Heidelberg},\r\n",
            "\tkeywords={Event labeling; Event detection; Ensemble learning; Background knowledge},\r\n",
            "\tauthor={Fanaee-T, Hadi and Gama, Joao},\r\n",
            "\tpages={1-15}\r\n",
            "}\r\n",
            "\r\n",
            "=========================================\r\n",
            "Contact\r\n",
            "=========================================\r\n",
            "\t\r\n",
            "For further information about this dataset please contact Hadi Fanaee-T (hadi.fanaee@fe.up.pt)\r\n"
          ],
          "name": "stdout"
        }
      ]
    },
    {
      "cell_type": "code",
      "metadata": {
        "colab": {
          "base_uri": "https://localhost:8080/",
          "height": 450
        },
        "id": "FK-tt9bwzLk2",
        "outputId": "f9956bc6-0ae6-4fdc-877a-a232a24648e9"
      },
      "source": [
        "# Even through there are 2 datasets in the file, we will be using day.csv for this class\n",
        "\n",
        "df = pd.read_csv('day.csv')\n",
        "df = df.set_index('instant', drop = True)\n",
        "df"
      ],
      "execution_count": 7,
      "outputs": [
        {
          "output_type": "execute_result",
          "data": {
            "text/html": [
              "<div>\n",
              "<style scoped>\n",
              "    .dataframe tbody tr th:only-of-type {\n",
              "        vertical-align: middle;\n",
              "    }\n",
              "\n",
              "    .dataframe tbody tr th {\n",
              "        vertical-align: top;\n",
              "    }\n",
              "\n",
              "    .dataframe thead th {\n",
              "        text-align: right;\n",
              "    }\n",
              "</style>\n",
              "<table border=\"1\" class=\"dataframe\">\n",
              "  <thead>\n",
              "    <tr style=\"text-align: right;\">\n",
              "      <th></th>\n",
              "      <th>dteday</th>\n",
              "      <th>season</th>\n",
              "      <th>yr</th>\n",
              "      <th>mnth</th>\n",
              "      <th>holiday</th>\n",
              "      <th>weekday</th>\n",
              "      <th>workingday</th>\n",
              "      <th>weathersit</th>\n",
              "      <th>temp</th>\n",
              "      <th>atemp</th>\n",
              "      <th>hum</th>\n",
              "      <th>windspeed</th>\n",
              "      <th>casual</th>\n",
              "      <th>registered</th>\n",
              "      <th>cnt</th>\n",
              "    </tr>\n",
              "    <tr>\n",
              "      <th>instant</th>\n",
              "      <th></th>\n",
              "      <th></th>\n",
              "      <th></th>\n",
              "      <th></th>\n",
              "      <th></th>\n",
              "      <th></th>\n",
              "      <th></th>\n",
              "      <th></th>\n",
              "      <th></th>\n",
              "      <th></th>\n",
              "      <th></th>\n",
              "      <th></th>\n",
              "      <th></th>\n",
              "      <th></th>\n",
              "      <th></th>\n",
              "    </tr>\n",
              "  </thead>\n",
              "  <tbody>\n",
              "    <tr>\n",
              "      <th>1</th>\n",
              "      <td>2011-01-01</td>\n",
              "      <td>1</td>\n",
              "      <td>0</td>\n",
              "      <td>1</td>\n",
              "      <td>0</td>\n",
              "      <td>6</td>\n",
              "      <td>0</td>\n",
              "      <td>2</td>\n",
              "      <td>0.344167</td>\n",
              "      <td>0.363625</td>\n",
              "      <td>0.805833</td>\n",
              "      <td>0.160446</td>\n",
              "      <td>331</td>\n",
              "      <td>654</td>\n",
              "      <td>985</td>\n",
              "    </tr>\n",
              "    <tr>\n",
              "      <th>2</th>\n",
              "      <td>2011-01-02</td>\n",
              "      <td>1</td>\n",
              "      <td>0</td>\n",
              "      <td>1</td>\n",
              "      <td>0</td>\n",
              "      <td>0</td>\n",
              "      <td>0</td>\n",
              "      <td>2</td>\n",
              "      <td>0.363478</td>\n",
              "      <td>0.353739</td>\n",
              "      <td>0.696087</td>\n",
              "      <td>0.248539</td>\n",
              "      <td>131</td>\n",
              "      <td>670</td>\n",
              "      <td>801</td>\n",
              "    </tr>\n",
              "    <tr>\n",
              "      <th>3</th>\n",
              "      <td>2011-01-03</td>\n",
              "      <td>1</td>\n",
              "      <td>0</td>\n",
              "      <td>1</td>\n",
              "      <td>0</td>\n",
              "      <td>1</td>\n",
              "      <td>1</td>\n",
              "      <td>1</td>\n",
              "      <td>0.196364</td>\n",
              "      <td>0.189405</td>\n",
              "      <td>0.437273</td>\n",
              "      <td>0.248309</td>\n",
              "      <td>120</td>\n",
              "      <td>1229</td>\n",
              "      <td>1349</td>\n",
              "    </tr>\n",
              "    <tr>\n",
              "      <th>4</th>\n",
              "      <td>2011-01-04</td>\n",
              "      <td>1</td>\n",
              "      <td>0</td>\n",
              "      <td>1</td>\n",
              "      <td>0</td>\n",
              "      <td>2</td>\n",
              "      <td>1</td>\n",
              "      <td>1</td>\n",
              "      <td>0.200000</td>\n",
              "      <td>0.212122</td>\n",
              "      <td>0.590435</td>\n",
              "      <td>0.160296</td>\n",
              "      <td>108</td>\n",
              "      <td>1454</td>\n",
              "      <td>1562</td>\n",
              "    </tr>\n",
              "    <tr>\n",
              "      <th>5</th>\n",
              "      <td>2011-01-05</td>\n",
              "      <td>1</td>\n",
              "      <td>0</td>\n",
              "      <td>1</td>\n",
              "      <td>0</td>\n",
              "      <td>3</td>\n",
              "      <td>1</td>\n",
              "      <td>1</td>\n",
              "      <td>0.226957</td>\n",
              "      <td>0.229270</td>\n",
              "      <td>0.436957</td>\n",
              "      <td>0.186900</td>\n",
              "      <td>82</td>\n",
              "      <td>1518</td>\n",
              "      <td>1600</td>\n",
              "    </tr>\n",
              "    <tr>\n",
              "      <th>...</th>\n",
              "      <td>...</td>\n",
              "      <td>...</td>\n",
              "      <td>...</td>\n",
              "      <td>...</td>\n",
              "      <td>...</td>\n",
              "      <td>...</td>\n",
              "      <td>...</td>\n",
              "      <td>...</td>\n",
              "      <td>...</td>\n",
              "      <td>...</td>\n",
              "      <td>...</td>\n",
              "      <td>...</td>\n",
              "      <td>...</td>\n",
              "      <td>...</td>\n",
              "      <td>...</td>\n",
              "    </tr>\n",
              "    <tr>\n",
              "      <th>727</th>\n",
              "      <td>2012-12-27</td>\n",
              "      <td>1</td>\n",
              "      <td>1</td>\n",
              "      <td>12</td>\n",
              "      <td>0</td>\n",
              "      <td>4</td>\n",
              "      <td>1</td>\n",
              "      <td>2</td>\n",
              "      <td>0.254167</td>\n",
              "      <td>0.226642</td>\n",
              "      <td>0.652917</td>\n",
              "      <td>0.350133</td>\n",
              "      <td>247</td>\n",
              "      <td>1867</td>\n",
              "      <td>2114</td>\n",
              "    </tr>\n",
              "    <tr>\n",
              "      <th>728</th>\n",
              "      <td>2012-12-28</td>\n",
              "      <td>1</td>\n",
              "      <td>1</td>\n",
              "      <td>12</td>\n",
              "      <td>0</td>\n",
              "      <td>5</td>\n",
              "      <td>1</td>\n",
              "      <td>2</td>\n",
              "      <td>0.253333</td>\n",
              "      <td>0.255046</td>\n",
              "      <td>0.590000</td>\n",
              "      <td>0.155471</td>\n",
              "      <td>644</td>\n",
              "      <td>2451</td>\n",
              "      <td>3095</td>\n",
              "    </tr>\n",
              "    <tr>\n",
              "      <th>729</th>\n",
              "      <td>2012-12-29</td>\n",
              "      <td>1</td>\n",
              "      <td>1</td>\n",
              "      <td>12</td>\n",
              "      <td>0</td>\n",
              "      <td>6</td>\n",
              "      <td>0</td>\n",
              "      <td>2</td>\n",
              "      <td>0.253333</td>\n",
              "      <td>0.242400</td>\n",
              "      <td>0.752917</td>\n",
              "      <td>0.124383</td>\n",
              "      <td>159</td>\n",
              "      <td>1182</td>\n",
              "      <td>1341</td>\n",
              "    </tr>\n",
              "    <tr>\n",
              "      <th>730</th>\n",
              "      <td>2012-12-30</td>\n",
              "      <td>1</td>\n",
              "      <td>1</td>\n",
              "      <td>12</td>\n",
              "      <td>0</td>\n",
              "      <td>0</td>\n",
              "      <td>0</td>\n",
              "      <td>1</td>\n",
              "      <td>0.255833</td>\n",
              "      <td>0.231700</td>\n",
              "      <td>0.483333</td>\n",
              "      <td>0.350754</td>\n",
              "      <td>364</td>\n",
              "      <td>1432</td>\n",
              "      <td>1796</td>\n",
              "    </tr>\n",
              "    <tr>\n",
              "      <th>731</th>\n",
              "      <td>2012-12-31</td>\n",
              "      <td>1</td>\n",
              "      <td>1</td>\n",
              "      <td>12</td>\n",
              "      <td>0</td>\n",
              "      <td>1</td>\n",
              "      <td>1</td>\n",
              "      <td>2</td>\n",
              "      <td>0.215833</td>\n",
              "      <td>0.223487</td>\n",
              "      <td>0.577500</td>\n",
              "      <td>0.154846</td>\n",
              "      <td>439</td>\n",
              "      <td>2290</td>\n",
              "      <td>2729</td>\n",
              "    </tr>\n",
              "  </tbody>\n",
              "</table>\n",
              "<p>731 rows × 15 columns</p>\n",
              "</div>"
            ],
            "text/plain": [
              "             dteday  season  yr  mnth  ...  windspeed  casual  registered   cnt\n",
              "instant                                ...                                     \n",
              "1        2011-01-01       1   0     1  ...   0.160446     331         654   985\n",
              "2        2011-01-02       1   0     1  ...   0.248539     131         670   801\n",
              "3        2011-01-03       1   0     1  ...   0.248309     120        1229  1349\n",
              "4        2011-01-04       1   0     1  ...   0.160296     108        1454  1562\n",
              "5        2011-01-05       1   0     1  ...   0.186900      82        1518  1600\n",
              "...             ...     ...  ..   ...  ...        ...     ...         ...   ...\n",
              "727      2012-12-27       1   1    12  ...   0.350133     247        1867  2114\n",
              "728      2012-12-28       1   1    12  ...   0.155471     644        2451  3095\n",
              "729      2012-12-29       1   1    12  ...   0.124383     159        1182  1341\n",
              "730      2012-12-30       1   1    12  ...   0.350754     364        1432  1796\n",
              "731      2012-12-31       1   1    12  ...   0.154846     439        2290  2729\n",
              "\n",
              "[731 rows x 15 columns]"
            ]
          },
          "metadata": {
            "tags": []
          },
          "execution_count": 7
        }
      ]
    },
    {
      "cell_type": "code",
      "metadata": {
        "colab": {
          "base_uri": "https://localhost:8080/"
        },
        "id": "xXBJ6ENW8LXV",
        "outputId": "ab5f274c-7d03-49b5-ddba-c44cde5096c3"
      },
      "source": [
        "df.shape"
      ],
      "execution_count": 8,
      "outputs": [
        {
          "output_type": "execute_result",
          "data": {
            "text/plain": [
              "(731, 15)"
            ]
          },
          "metadata": {
            "tags": []
          },
          "execution_count": 8
        }
      ]
    },
    {
      "cell_type": "code",
      "metadata": {
        "id": "5w6Bry23Epd3",
        "colab": {
          "base_uri": "https://localhost:8080/",
          "height": 168
        },
        "outputId": "20ffd832-1d88-4aff-f69c-2f418d5b8758"
      },
      "source": [
        "# Before we decide what perdictor to use, we want to check pairplot to see if we find any visual guidance\n",
        "\n",
        "import seaborn as sns\n",
        "\n",
        "sns.pairplot(df, y_vars=\"cnt\", x_vars=['weekday', 'yr', 'weathersit', 'holiday', 'temp', 'atemp','season','mnth', 'windspeed', 'hum'])"
      ],
      "execution_count": 11,
      "outputs": [
        {
          "output_type": "execute_result",
          "data": {
            "text/plain": [
              "<seaborn.axisgrid.PairGrid at 0x7fc9bb5e5150>"
            ]
          },
          "metadata": {
            "tags": []
          },
          "execution_count": 11
        },
        {
          "output_type": "display_data",
          "data": {
            "image/png": "[encoded data removed]",
            "text/plain": [
              "<Figure size 1800x180 with 10 Axes>"
            ]
          },
          "metadata": {
            "tags": [],
            "needs_background": "light"
          }
        }
      ]
    },
    {
      "cell_type": "code",
      "metadata": {
        "colab": {
          "base_uri": "https://localhost:8080/"
        },
        "id": "yimg2FyZ78fv",
        "outputId": "c8753db3-5afc-4c6d-feac-eebffd8086a3"
      },
      "source": [
        "# First we will test linear regression using one variable\n",
        "# Both atemp and temp seem to be the best ones to use\n",
        "# In this analysis I will use atemp as the perdictor\n",
        "\n",
        "Y = df[['cnt']]\n",
        "X = df[['atemp']]\n",
        "\n",
        "from sklearn.model_selection import train_test_split\n",
        "X_train, X_test, y_train, y_test = train_test_split(X, Y, test_size=0.25, random_state=1)\n",
        "# training\n",
        "import sklearn.linear_model as linear_module\n",
        "model = linear_module.LinearRegression()\n",
        "reg = model.fit(X_train, y_train)\n",
        "print(\"intercept\", reg.intercept_)\n",
        "print(\"slope\", reg.coef_)\n",
        "\n",
        "# training error\n",
        "y_train_predict = reg.predict(X_train)\n",
        "regression_train_rse = math.sqrt(mean_squared_error(y_train_predict, y_train))\n",
        "r2_score_tr=r2_score(y_train, y_train_predict)\n",
        "print(\"Training error: \", r2_score_tr)\n",
        "\n",
        "# test error\n",
        "y_predict = reg.predict(X_test)\n",
        "regression_test_rse = math.sqrt(mean_squared_error(y_predict, y_test))\n",
        "r2_score_ts=r2_score(y_test, y_predict)\n",
        "print(\"Test error:\", r2_score_ts)\n",
        "\n",
        "# Based on r2_score 46% of variability can be explained by the model"
      ],
      "execution_count": 13,
      "outputs": [
        {
          "output_type": "stream",
          "text": [
            "intercept [1045.26868657]\n",
            "slope [[7352.03536362]]\n",
            "Training error:  0.36421554476080586\n",
            "Test error: 0.4681095572313917\n"
          ],
          "name": "stdout"
        }
      ]
    },
    {
      "cell_type": "code",
      "metadata": {
        "colab": {
          "base_uri": "https://localhost:8080/"
        },
        "id": "mUnKXEHeCDhQ",
        "outputId": "b5a308c2-5c26-4b76-ba3e-585506ad7d3e"
      },
      "source": [
        "# Out of curiosity I will try using 3 predictors (all of them numerical)\n",
        "\n",
        "Y = df[['cnt']]\n",
        "X = df[['atemp','hum', 'windspeed']]\n",
        "\n",
        "from sklearn.model_selection import train_test_split\n",
        "X_train, X_test, y_train, y_test = train_test_split(X, Y, test_size=0.25, random_state=1)\n",
        "\n",
        "# training\n",
        "import sklearn.linear_model as linear_module\n",
        "model = linear_module.LinearRegression()\n",
        "reg = model.fit(X_train, y_train)\n",
        "print(\"intercept\", reg.intercept_)\n",
        "print(\"slope\", reg.coef_)\n",
        "\n",
        "# training error\n",
        "y_train_predict = reg.predict(X_train)\n",
        "regression_train_rse = math.sqrt(mean_squared_error(y_train_predict, y_train))\n",
        "r2_score_tr=r2_score(y_train, y_train_predict)\n",
        "print(\"Training error: \", r2_score_tr)\n",
        "\n",
        "# test error\n",
        "y_predict = reg.predict(X_test)\n",
        "regression_test_rse = math.sqrt(mean_squared_error(y_predict, y_test))\n",
        "r2_score_ts=r2_score(y_test, y_predict)\n",
        "print(\"Test error:\", r2_score_ts)\n",
        "\n",
        "# Agian, based on r2_score, only 46% of variability can be explained by the model\n",
        "# Using 3 predictors doesn't improve the results (actually the result is slightly worse)\n"
      ],
      "execution_count": 14,
      "outputs": [
        {
          "output_type": "stream",
          "text": [
            "intercept [4305.15029406]\n",
            "slope [[ 7337.24085665 -3687.06936096 -4780.30933564]]\n",
            "Training error:  0.45088999839945454\n",
            "Test error: 0.46712556723261367\n"
          ],
          "name": "stdout"
        }
      ]
    },
    {
      "cell_type": "code",
      "metadata": {
        "colab": {
          "base_uri": "https://localhost:8080/"
        },
        "id": "oPkaELk-CpQ5",
        "outputId": "95a6b20c-2fe8-429e-8b52-86c2aad82261"
      },
      "source": [
        "# Standardizing atemp and hum\n",
        "\n",
        "Y = df[['cnt']]\n",
        "X = df[['atemp', 'hum']]\n",
        "\n",
        "from sklearn.model_selection import train_test_split\n",
        "X_train, X_test, y_train, y_test = train_test_split(X, Y, test_size=0.25, random_state=1)\n",
        "\n",
        "# training\n",
        "import sklearn.linear_model as linear_module\n",
        "model = linear_module.LinearRegression()\n",
        "reg = model.fit(X_train, y_train)\n",
        "print(\"intercept\", reg.intercept_)\n",
        "print(\"slope\", reg.coef_)"
      ],
      "execution_count": 16,
      "outputs": [
        {
          "output_type": "stream",
          "text": [
            "intercept [2823.51110479]\n",
            "slope [[ 7692.5174507  -3054.61384174]]\n"
          ],
          "name": "stdout"
        }
      ]
    },
    {
      "cell_type": "code",
      "metadata": {
        "colab": {
          "base_uri": "https://localhost:8080/"
        },
        "id": "m4S9cKuYC0Gl",
        "outputId": "b04ce535-7932-486a-fc26-391d660b169b"
      },
      "source": [
        "scaler = preprocessing.StandardScaler().fit(X)\n",
        "\n",
        "scaler"
      ],
      "execution_count": 18,
      "outputs": [
        {
          "output_type": "execute_result",
          "data": {
            "text/plain": [
              "StandardScaler()"
            ]
          },
          "metadata": {
            "tags": []
          },
          "execution_count": 18
        }
      ]
    },
    {
      "cell_type": "code",
      "metadata": {
        "colab": {
          "base_uri": "https://localhost:8080/"
        },
        "id": "xkp-qyQrC2Up",
        "outputId": "3dcc791d-948e-4236-e3a9-3c2581400f00"
      },
      "source": [
        "print(scaler.mean_, scaler.scale_)"
      ],
      "execution_count": 19,
      "outputs": [
        {
          "output_type": "stream",
          "text": [
            "[0.47435399 0.62789406] [0.16284968 0.14233164]\n"
          ],
          "name": "stdout"
        }
      ]
    },
    {
      "cell_type": "code",
      "metadata": {
        "colab": {
          "base_uri": "https://localhost:8080/"
        },
        "id": "ogH5DEPPC5A9",
        "outputId": "8c357dd6-905f-4750-bda7-2fa29209ce16"
      },
      "source": [
        "X_train_scaled = scaler.transform(X_train)\n",
        "X_train_scaled[0:5]"
      ],
      "execution_count": 20,
      "outputs": [
        {
          "output_type": "execute_result",
          "data": {
            "text/plain": [
              "array([[ 0.31647598, -0.10230377],\n",
              "       [ 0.84756086,  0.71445068],\n",
              "       [ 0.7622552 , -1.66847695],\n",
              "       [ 0.82051752,  0.44219919],\n",
              "       [ 0.09682556,  0.80901854]])"
            ]
          },
          "metadata": {
            "tags": []
          },
          "execution_count": 20
        }
      ]
    },
    {
      "cell_type": "code",
      "metadata": {
        "colab": {
          "base_uri": "https://localhost:8080/",
          "height": 235
        },
        "id": "5AWDRsJFC7Ep",
        "outputId": "a7b09a01-5572-4f90-89f2-20a9d3129a57"
      },
      "source": [
        "X_train[0:5]"
      ],
      "execution_count": 21,
      "outputs": [
        {
          "output_type": "execute_result",
          "data": {
            "text/html": [
              "<div>\n",
              "<style scoped>\n",
              "    .dataframe tbody tr th:only-of-type {\n",
              "        vertical-align: middle;\n",
              "    }\n",
              "\n",
              "    .dataframe tbody tr th {\n",
              "        vertical-align: top;\n",
              "    }\n",
              "\n",
              "    .dataframe thead th {\n",
              "        text-align: right;\n",
              "    }\n",
              "</style>\n",
              "<table border=\"1\" class=\"dataframe\">\n",
              "  <thead>\n",
              "    <tr style=\"text-align: right;\">\n",
              "      <th></th>\n",
              "      <th>atemp</th>\n",
              "      <th>hum</th>\n",
              "    </tr>\n",
              "    <tr>\n",
              "      <th>instant</th>\n",
              "      <th></th>\n",
              "      <th></th>\n",
              "    </tr>\n",
              "  </thead>\n",
              "  <tbody>\n",
              "    <tr>\n",
              "      <th>522</th>\n",
              "      <td>0.525892</td>\n",
              "      <td>0.613333</td>\n",
              "    </tr>\n",
              "    <tr>\n",
              "      <th>148</th>\n",
              "      <td>0.612379</td>\n",
              "      <td>0.729583</td>\n",
              "    </tr>\n",
              "    <tr>\n",
              "      <th>473</th>\n",
              "      <td>0.598487</td>\n",
              "      <td>0.390417</td>\n",
              "    </tr>\n",
              "    <tr>\n",
              "      <th>636</th>\n",
              "      <td>0.607975</td>\n",
              "      <td>0.690833</td>\n",
              "    </tr>\n",
              "    <tr>\n",
              "      <th>332</th>\n",
              "      <td>0.490122</td>\n",
              "      <td>0.743043</td>\n",
              "    </tr>\n",
              "  </tbody>\n",
              "</table>\n",
              "</div>"
            ],
            "text/plain": [
              "            atemp       hum\n",
              "instant                    \n",
              "522      0.525892  0.613333\n",
              "148      0.612379  0.729583\n",
              "473      0.598487  0.390417\n",
              "636      0.607975  0.690833\n",
              "332      0.490122  0.743043"
            ]
          },
          "metadata": {
            "tags": []
          },
          "execution_count": 21
        }
      ]
    },
    {
      "cell_type": "code",
      "metadata": {
        "colab": {
          "base_uri": "https://localhost:8080/"
        },
        "id": "W1Zig0n3C94E",
        "outputId": "593cf192-b627-4e3a-a7fc-ee3a7fa1876f"
      },
      "source": [
        "# training\n",
        "\n",
        "model = linear_module.LinearRegression()\n",
        "reg = model.fit(X_train_scaled, y_train)\n",
        "print(\"intercept\", reg.intercept_)\n",
        "print(\"slope\", reg.coef_)"
      ],
      "execution_count": 25,
      "outputs": [
        {
          "output_type": "stream",
          "text": [
            "intercept [4554.51354449]\n",
            "slope [[1252.72397205 -434.76820095]]\n"
          ],
          "name": "stdout"
        }
      ]
    },
    {
      "cell_type": "code",
      "metadata": {
        "colab": {
          "base_uri": "https://localhost:8080/"
        },
        "id": "JA5mKfy1DBFJ",
        "outputId": "45afbdc3-2897-45ad-9ca9-a057a6742459"
      },
      "source": [
        "# test error\n",
        "\n",
        "X_test_scaled = scaler.transform(X_test)\n",
        "\n",
        "\n",
        "y_predict = reg.predict(X_test_scaled)\n",
        "regression_test_rse = math.sqrt(mean_squared_error(y_predict, y_test))\n",
        "\n",
        "from sklearn.metrics import r2_score\n",
        "r2_score(y_test, y_predict)"
      ],
      "execution_count": 26,
      "outputs": [
        {
          "output_type": "execute_result",
          "data": {
            "text/plain": [
              "0.45859155263197837"
            ]
          },
          "metadata": {
            "tags": []
          },
          "execution_count": 26
        }
      ]
    },
    {
      "cell_type": "code",
      "metadata": {
        "colab": {
          "base_uri": "https://localhost:8080/"
        },
        "id": "oEWHuH5wDHhY",
        "outputId": "14af029c-8bc2-43bb-9b19-081928c357ae"
      },
      "source": [
        "# min-max scaler\n",
        "\n",
        "from sklearn.preprocessing import MinMaxScaler\n",
        "\n",
        "min_max_scaler = preprocessing.MinMaxScaler()\n",
        "X_train_minmax = min_max_scaler.fit_transform(X_train)\n",
        "X_train_minmax[0:5]"
      ],
      "execution_count": 27,
      "outputs": [
        {
          "output_type": "execute_result",
          "data": {
            "text/plain": [
              "array([[0.61612201, 0.54221924],\n",
              "       [0.73537866, 0.69038712],\n",
              "       [0.71622302, 0.25809889],\n",
              "       [0.729306  , 0.64099783],\n",
              "       [0.56679887, 0.70754273]])"
            ]
          },
          "metadata": {
            "tags": []
          },
          "execution_count": 27
        }
      ]
    },
    {
      "cell_type": "code",
      "metadata": {
        "colab": {
          "base_uri": "https://localhost:8080/",
          "height": 235
        },
        "id": "N_BlrEwCDO_m",
        "outputId": "3c37e451-b20a-409f-fecd-96617e742b91"
      },
      "source": [
        "X_train[0:5]"
      ],
      "execution_count": 28,
      "outputs": [
        {
          "output_type": "execute_result",
          "data": {
            "text/html": [
              "<div>\n",
              "<style scoped>\n",
              "    .dataframe tbody tr th:only-of-type {\n",
              "        vertical-align: middle;\n",
              "    }\n",
              "\n",
              "    .dataframe tbody tr th {\n",
              "        vertical-align: top;\n",
              "    }\n",
              "\n",
              "    .dataframe thead th {\n",
              "        text-align: right;\n",
              "    }\n",
              "</style>\n",
              "<table border=\"1\" class=\"dataframe\">\n",
              "  <thead>\n",
              "    <tr style=\"text-align: right;\">\n",
              "      <th></th>\n",
              "      <th>atemp</th>\n",
              "      <th>hum</th>\n",
              "    </tr>\n",
              "    <tr>\n",
              "      <th>instant</th>\n",
              "      <th></th>\n",
              "      <th></th>\n",
              "    </tr>\n",
              "  </thead>\n",
              "  <tbody>\n",
              "    <tr>\n",
              "      <th>522</th>\n",
              "      <td>0.525892</td>\n",
              "      <td>0.613333</td>\n",
              "    </tr>\n",
              "    <tr>\n",
              "      <th>148</th>\n",
              "      <td>0.612379</td>\n",
              "      <td>0.729583</td>\n",
              "    </tr>\n",
              "    <tr>\n",
              "      <th>473</th>\n",
              "      <td>0.598487</td>\n",
              "      <td>0.390417</td>\n",
              "    </tr>\n",
              "    <tr>\n",
              "      <th>636</th>\n",
              "      <td>0.607975</td>\n",
              "      <td>0.690833</td>\n",
              "    </tr>\n",
              "    <tr>\n",
              "      <th>332</th>\n",
              "      <td>0.490122</td>\n",
              "      <td>0.743043</td>\n",
              "    </tr>\n",
              "  </tbody>\n",
              "</table>\n",
              "</div>"
            ],
            "text/plain": [
              "            atemp       hum\n",
              "instant                    \n",
              "522      0.525892  0.613333\n",
              "148      0.612379  0.729583\n",
              "473      0.598487  0.390417\n",
              "636      0.607975  0.690833\n",
              "332      0.490122  0.743043"
            ]
          },
          "metadata": {
            "tags": []
          },
          "execution_count": 28
        }
      ]
    },
    {
      "cell_type": "code",
      "metadata": {
        "colab": {
          "base_uri": "https://localhost:8080/"
        },
        "id": "lOHM2YvNNWer",
        "outputId": "852485c9-d280-4f4a-a61e-d7bdab13581b"
      },
      "source": [
        "# The predictors I am interested in is \"season\" and \"mnth\" (month)\n",
        "# Both of these predictors are categorical (not numeric)\n",
        "# I will use one hot encoding to convert them to bianry and see if they improve the performace of the model\n",
        "\n",
        "# I will start with working on \"season\"\n",
        "# I will first do everything step by step and then do it in one piece of code again\n",
        "\n",
        "df.season.unique()"
      ],
      "execution_count": 29,
      "outputs": [
        {
          "output_type": "execute_result",
          "data": {
            "text/plain": [
              "array([1, 2, 3, 4])"
            ]
          },
          "metadata": {
            "tags": []
          },
          "execution_count": 29
        }
      ]
    },
    {
      "cell_type": "code",
      "metadata": {
        "colab": {
          "base_uri": "https://localhost:8080/"
        },
        "id": "Z_6dGtBiNfj0",
        "outputId": "46b184c8-b49e-4392-aed0-24b058023532"
      },
      "source": [
        "s_list=list(df.season.unique())\n",
        "s_list"
      ],
      "execution_count": 30,
      "outputs": [
        {
          "output_type": "execute_result",
          "data": {
            "text/plain": [
              "[1, 2, 3, 4]"
            ]
          },
          "metadata": {
            "tags": []
          },
          "execution_count": 30
        }
      ]
    },
    {
      "cell_type": "code",
      "metadata": {
        "colab": {
          "base_uri": "https://localhost:8080/"
        },
        "id": "HZBNyePxNl6-",
        "outputId": "0e5bd32e-c16a-4334-a16d-faba38cf35d4"
      },
      "source": [
        "# I want to make sure the enc works\n",
        "\n",
        "enc = preprocessing.OneHotEncoder(categories=[s_list])\n",
        "enc"
      ],
      "execution_count": 34,
      "outputs": [
        {
          "output_type": "execute_result",
          "data": {
            "text/plain": [
              "OneHotEncoder(categories=[[1, 2, 3, 4]])"
            ]
          },
          "metadata": {
            "tags": []
          },
          "execution_count": 34
        }
      ]
    },
    {
      "cell_type": "code",
      "metadata": {
        "colab": {
          "base_uri": "https://localhost:8080/"
        },
        "id": "UVYDbm-SNtwE",
        "outputId": "24830609-ad4b-4654-980c-7996c3f715a2"
      },
      "source": [
        "x = [[1], [3]]\n",
        "enc.fit(x)\n",
        "enc.transform(df.season.values.reshape(-1,1))"
      ],
      "execution_count": 40,
      "outputs": [
        {
          "output_type": "execute_result",
          "data": {
            "text/plain": [
              "<731x4 sparse matrix of type '<class 'numpy.float64'>'\n",
              "\twith 731 stored elements in Compressed Sparse Row format>"
            ]
          },
          "metadata": {
            "tags": []
          },
          "execution_count": 40
        }
      ]
    },
    {
      "cell_type": "code",
      "metadata": {
        "colab": {
          "base_uri": "https://localhost:8080/",
          "height": 419
        },
        "id": "iKeisdrbN8f_",
        "outputId": "df4c804b-6426-4def-bd61-0ec34e40afa5"
      },
      "source": [
        "pd.DataFrame.sparse.from_spmatrix(enc.transform(df.season.values.reshape(-1,1)))"
      ],
      "execution_count": 42,
      "outputs": [
        {
          "output_type": "execute_result",
          "data": {
            "text/html": [
              "<div>\n",
              "<style scoped>\n",
              "    .dataframe tbody tr th:only-of-type {\n",
              "        vertical-align: middle;\n",
              "    }\n",
              "\n",
              "    .dataframe tbody tr th {\n",
              "        vertical-align: top;\n",
              "    }\n",
              "\n",
              "    .dataframe thead th {\n",
              "        text-align: right;\n",
              "    }\n",
              "</style>\n",
              "<table border=\"1\" class=\"dataframe\">\n",
              "  <thead>\n",
              "    <tr style=\"text-align: right;\">\n",
              "      <th></th>\n",
              "      <th>0</th>\n",
              "      <th>1</th>\n",
              "      <th>2</th>\n",
              "      <th>3</th>\n",
              "    </tr>\n",
              "  </thead>\n",
              "  <tbody>\n",
              "    <tr>\n",
              "      <th>0</th>\n",
              "      <td>1.0</td>\n",
              "      <td>0.0</td>\n",
              "      <td>0.0</td>\n",
              "      <td>0.0</td>\n",
              "    </tr>\n",
              "    <tr>\n",
              "      <th>1</th>\n",
              "      <td>1.0</td>\n",
              "      <td>0.0</td>\n",
              "      <td>0.0</td>\n",
              "      <td>0.0</td>\n",
              "    </tr>\n",
              "    <tr>\n",
              "      <th>2</th>\n",
              "      <td>1.0</td>\n",
              "      <td>0.0</td>\n",
              "      <td>0.0</td>\n",
              "      <td>0.0</td>\n",
              "    </tr>\n",
              "    <tr>\n",
              "      <th>3</th>\n",
              "      <td>1.0</td>\n",
              "      <td>0.0</td>\n",
              "      <td>0.0</td>\n",
              "      <td>0.0</td>\n",
              "    </tr>\n",
              "    <tr>\n",
              "      <th>4</th>\n",
              "      <td>1.0</td>\n",
              "      <td>0.0</td>\n",
              "      <td>0.0</td>\n",
              "      <td>0.0</td>\n",
              "    </tr>\n",
              "    <tr>\n",
              "      <th>...</th>\n",
              "      <td>...</td>\n",
              "      <td>...</td>\n",
              "      <td>...</td>\n",
              "      <td>...</td>\n",
              "    </tr>\n",
              "    <tr>\n",
              "      <th>726</th>\n",
              "      <td>1.0</td>\n",
              "      <td>0.0</td>\n",
              "      <td>0.0</td>\n",
              "      <td>0.0</td>\n",
              "    </tr>\n",
              "    <tr>\n",
              "      <th>727</th>\n",
              "      <td>1.0</td>\n",
              "      <td>0.0</td>\n",
              "      <td>0.0</td>\n",
              "      <td>0.0</td>\n",
              "    </tr>\n",
              "    <tr>\n",
              "      <th>728</th>\n",
              "      <td>1.0</td>\n",
              "      <td>0.0</td>\n",
              "      <td>0.0</td>\n",
              "      <td>0.0</td>\n",
              "    </tr>\n",
              "    <tr>\n",
              "      <th>729</th>\n",
              "      <td>1.0</td>\n",
              "      <td>0.0</td>\n",
              "      <td>0.0</td>\n",
              "      <td>0.0</td>\n",
              "    </tr>\n",
              "    <tr>\n",
              "      <th>730</th>\n",
              "      <td>1.0</td>\n",
              "      <td>0.0</td>\n",
              "      <td>0.0</td>\n",
              "      <td>0.0</td>\n",
              "    </tr>\n",
              "  </tbody>\n",
              "</table>\n",
              "<p>731 rows × 4 columns</p>\n",
              "</div>"
            ],
            "text/plain": [
              "       0    1    2    3\n",
              "0    1.0  0.0  0.0  0.0\n",
              "1    1.0  0.0  0.0  0.0\n",
              "2    1.0  0.0  0.0  0.0\n",
              "3    1.0  0.0  0.0  0.0\n",
              "4    1.0  0.0  0.0  0.0\n",
              "..   ...  ...  ...  ...\n",
              "726  1.0  0.0  0.0  0.0\n",
              "727  1.0  0.0  0.0  0.0\n",
              "728  1.0  0.0  0.0  0.0\n",
              "729  1.0  0.0  0.0  0.0\n",
              "730  1.0  0.0  0.0  0.0\n",
              "\n",
              "[731 rows x 4 columns]"
            ]
          },
          "metadata": {
            "tags": []
          },
          "execution_count": 42
        }
      ]
    },
    {
      "cell_type": "code",
      "metadata": {
        "colab": {
          "base_uri": "https://localhost:8080/"
        },
        "id": "VryO5_0SPlWf",
        "outputId": "5e6f63f4-e978-4065-c89c-9e8ee873f0ef"
      },
      "source": [
        "X_enc = enc.transform(df.season.values.reshape(-1,1))\n",
        "\n",
        "X_enc_train, X_enc_test, y_train, y_test = train_test_split(X_enc, Y, test_size=0.25, random_state=1)\n",
        "\n",
        "# training\n",
        "\n",
        "model = linear_module.LinearRegression()\n",
        "reg = model.fit(X_enc_train, y_train)\n",
        "print(\"intercept\", reg.intercept_)\n",
        "print(\"slope\", reg.coef_)"
      ],
      "execution_count": 44,
      "outputs": [
        {
          "output_type": "stream",
          "text": [
            "intercept [4519.08411248]\n",
            "slope [[-1917.99936672   538.60081903  1144.40913076   234.98941693]]\n"
          ],
          "name": "stdout"
        }
      ]
    },
    {
      "cell_type": "code",
      "metadata": {
        "colab": {
          "base_uri": "https://localhost:8080/"
        },
        "id": "wqQm1fRKPvY0",
        "outputId": "38d57a1b-3f87-41c7-a493-1af7dfdd2d06"
      },
      "source": [
        "y_predict = reg.predict(X_enc_test)\n",
        "regression_test_rse = math.sqrt(mean_squared_error(y_predict, y_test))\n",
        "\n",
        "r2_score(y_test, y_predict)\n",
        "\n",
        "# 34% of variability can be explained by this variable\n",
        "# This result is worse then using atemp"
      ],
      "execution_count": 45,
      "outputs": [
        {
          "output_type": "execute_result",
          "data": {
            "text/plain": [
              "0.34748148187140815"
            ]
          },
          "metadata": {
            "tags": []
          },
          "execution_count": 45
        }
      ]
    },
    {
      "cell_type": "code",
      "metadata": {
        "colab": {
          "base_uri": "https://localhost:8080/"
        },
        "id": "s3D5IVpsuuGQ",
        "outputId": "177f848b-d3c2-4ff9-ab8d-7d68709d1fb1"
      },
      "source": [
        "# one hot encoding for month variable (mnth)\n",
        "\n",
        "df.mnth.unique()"
      ],
      "execution_count": 47,
      "outputs": [
        {
          "output_type": "execute_result",
          "data": {
            "text/plain": [
              "array([ 1,  2,  3,  4,  5,  6,  7,  8,  9, 10, 11, 12])"
            ]
          },
          "metadata": {
            "tags": []
          },
          "execution_count": 47
        }
      ]
    },
    {
      "cell_type": "code",
      "metadata": {
        "colab": {
          "base_uri": "https://localhost:8080/"
        },
        "id": "O0pFwetsvMf4",
        "outputId": "48643fa6-5000-4ee6-93ac-dc68489c2d3f"
      },
      "source": [
        "m_list=list(df.mnth.unique())\n",
        "m_list"
      ],
      "execution_count": 48,
      "outputs": [
        {
          "output_type": "execute_result",
          "data": {
            "text/plain": [
              "[1, 2, 3, 4, 5, 6, 7, 8, 9, 10, 11, 12]"
            ]
          },
          "metadata": {
            "tags": []
          },
          "execution_count": 48
        }
      ]
    },
    {
      "cell_type": "code",
      "metadata": {
        "colab": {
          "base_uri": "https://localhost:8080/"
        },
        "id": "MDSbYivwvR56",
        "outputId": "531dd973-f74c-4738-af5d-5ef02b662b50"
      },
      "source": [
        "enc = preprocessing.OneHotEncoder(categories=[m_list])\n",
        "enc"
      ],
      "execution_count": 49,
      "outputs": [
        {
          "output_type": "execute_result",
          "data": {
            "text/plain": [
              "OneHotEncoder(categories=[[1, 2, 3, 4, 5, 6, 7, 8, 9, 10, 11, 12]])"
            ]
          },
          "metadata": {
            "tags": []
          },
          "execution_count": 49
        }
      ]
    },
    {
      "cell_type": "code",
      "metadata": {
        "colab": {
          "base_uri": "https://localhost:8080/"
        },
        "id": "T0B6xefIvYDv",
        "outputId": "3bbda5cc-eb13-4511-8605-806704a773fc"
      },
      "source": [
        "x = [[1], [3]]\n",
        "enc.fit(x)\n",
        "enc.transform(df.mnth.values.reshape(-1,1))"
      ],
      "execution_count": 50,
      "outputs": [
        {
          "output_type": "execute_result",
          "data": {
            "text/plain": [
              "<731x12 sparse matrix of type '<class 'numpy.float64'>'\n",
              "\twith 731 stored elements in Compressed Sparse Row format>"
            ]
          },
          "metadata": {
            "tags": []
          },
          "execution_count": 50
        }
      ]
    },
    {
      "cell_type": "code",
      "metadata": {
        "colab": {
          "base_uri": "https://localhost:8080/",
          "height": 419
        },
        "id": "NQj6-c2Yvc2S",
        "outputId": "7b2ee6bb-6624-4028-a1cc-2b385cba744d"
      },
      "source": [
        "pd.DataFrame.sparse.from_spmatrix(enc.transform(df.mnth.values.reshape(-1,1)))"
      ],
      "execution_count": 51,
      "outputs": [
        {
          "output_type": "execute_result",
          "data": {
            "text/html": [
              "<div>\n",
              "<style scoped>\n",
              "    .dataframe tbody tr th:only-of-type {\n",
              "        vertical-align: middle;\n",
              "    }\n",
              "\n",
              "    .dataframe tbody tr th {\n",
              "        vertical-align: top;\n",
              "    }\n",
              "\n",
              "    .dataframe thead th {\n",
              "        text-align: right;\n",
              "    }\n",
              "</style>\n",
              "<table border=\"1\" class=\"dataframe\">\n",
              "  <thead>\n",
              "    <tr style=\"text-align: right;\">\n",
              "      <th></th>\n",
              "      <th>0</th>\n",
              "      <th>1</th>\n",
              "      <th>2</th>\n",
              "      <th>3</th>\n",
              "      <th>4</th>\n",
              "      <th>5</th>\n",
              "      <th>6</th>\n",
              "      <th>7</th>\n",
              "      <th>8</th>\n",
              "      <th>9</th>\n",
              "      <th>10</th>\n",
              "      <th>11</th>\n",
              "    </tr>\n",
              "  </thead>\n",
              "  <tbody>\n",
              "    <tr>\n",
              "      <th>0</th>\n",
              "      <td>1.0</td>\n",
              "      <td>0.0</td>\n",
              "      <td>0.0</td>\n",
              "      <td>0.0</td>\n",
              "      <td>0.0</td>\n",
              "      <td>0.0</td>\n",
              "      <td>0.0</td>\n",
              "      <td>0.0</td>\n",
              "      <td>0.0</td>\n",
              "      <td>0.0</td>\n",
              "      <td>0.0</td>\n",
              "      <td>0.0</td>\n",
              "    </tr>\n",
              "    <tr>\n",
              "      <th>1</th>\n",
              "      <td>1.0</td>\n",
              "      <td>0.0</td>\n",
              "      <td>0.0</td>\n",
              "      <td>0.0</td>\n",
              "      <td>0.0</td>\n",
              "      <td>0.0</td>\n",
              "      <td>0.0</td>\n",
              "      <td>0.0</td>\n",
              "      <td>0.0</td>\n",
              "      <td>0.0</td>\n",
              "      <td>0.0</td>\n",
              "      <td>0.0</td>\n",
              "    </tr>\n",
              "    <tr>\n",
              "      <th>2</th>\n",
              "      <td>1.0</td>\n",
              "      <td>0.0</td>\n",
              "      <td>0.0</td>\n",
              "      <td>0.0</td>\n",
              "      <td>0.0</td>\n",
              "      <td>0.0</td>\n",
              "      <td>0.0</td>\n",
              "      <td>0.0</td>\n",
              "      <td>0.0</td>\n",
              "      <td>0.0</td>\n",
              "      <td>0.0</td>\n",
              "      <td>0.0</td>\n",
              "    </tr>\n",
              "    <tr>\n",
              "      <th>3</th>\n",
              "      <td>1.0</td>\n",
              "      <td>0.0</td>\n",
              "      <td>0.0</td>\n",
              "      <td>0.0</td>\n",
              "      <td>0.0</td>\n",
              "      <td>0.0</td>\n",
              "      <td>0.0</td>\n",
              "      <td>0.0</td>\n",
              "      <td>0.0</td>\n",
              "      <td>0.0</td>\n",
              "      <td>0.0</td>\n",
              "      <td>0.0</td>\n",
              "    </tr>\n",
              "    <tr>\n",
              "      <th>4</th>\n",
              "      <td>1.0</td>\n",
              "      <td>0.0</td>\n",
              "      <td>0.0</td>\n",
              "      <td>0.0</td>\n",
              "      <td>0.0</td>\n",
              "      <td>0.0</td>\n",
              "      <td>0.0</td>\n",
              "      <td>0.0</td>\n",
              "      <td>0.0</td>\n",
              "      <td>0.0</td>\n",
              "      <td>0.0</td>\n",
              "      <td>0.0</td>\n",
              "    </tr>\n",
              "    <tr>\n",
              "      <th>...</th>\n",
              "      <td>...</td>\n",
              "      <td>...</td>\n",
              "      <td>...</td>\n",
              "      <td>...</td>\n",
              "      <td>...</td>\n",
              "      <td>...</td>\n",
              "      <td>...</td>\n",
              "      <td>...</td>\n",
              "      <td>...</td>\n",
              "      <td>...</td>\n",
              "      <td>...</td>\n",
              "      <td>...</td>\n",
              "    </tr>\n",
              "    <tr>\n",
              "      <th>726</th>\n",
              "      <td>0.0</td>\n",
              "      <td>0.0</td>\n",
              "      <td>0.0</td>\n",
              "      <td>0.0</td>\n",
              "      <td>0.0</td>\n",
              "      <td>0.0</td>\n",
              "      <td>0.0</td>\n",
              "      <td>0.0</td>\n",
              "      <td>0.0</td>\n",
              "      <td>0.0</td>\n",
              "      <td>0.0</td>\n",
              "      <td>1.0</td>\n",
              "    </tr>\n",
              "    <tr>\n",
              "      <th>727</th>\n",
              "      <td>0.0</td>\n",
              "      <td>0.0</td>\n",
              "      <td>0.0</td>\n",
              "      <td>0.0</td>\n",
              "      <td>0.0</td>\n",
              "      <td>0.0</td>\n",
              "      <td>0.0</td>\n",
              "      <td>0.0</td>\n",
              "      <td>0.0</td>\n",
              "      <td>0.0</td>\n",
              "      <td>0.0</td>\n",
              "      <td>1.0</td>\n",
              "    </tr>\n",
              "    <tr>\n",
              "      <th>728</th>\n",
              "      <td>0.0</td>\n",
              "      <td>0.0</td>\n",
              "      <td>0.0</td>\n",
              "      <td>0.0</td>\n",
              "      <td>0.0</td>\n",
              "      <td>0.0</td>\n",
              "      <td>0.0</td>\n",
              "      <td>0.0</td>\n",
              "      <td>0.0</td>\n",
              "      <td>0.0</td>\n",
              "      <td>0.0</td>\n",
              "      <td>1.0</td>\n",
              "    </tr>\n",
              "    <tr>\n",
              "      <th>729</th>\n",
              "      <td>0.0</td>\n",
              "      <td>0.0</td>\n",
              "      <td>0.0</td>\n",
              "      <td>0.0</td>\n",
              "      <td>0.0</td>\n",
              "      <td>0.0</td>\n",
              "      <td>0.0</td>\n",
              "      <td>0.0</td>\n",
              "      <td>0.0</td>\n",
              "      <td>0.0</td>\n",
              "      <td>0.0</td>\n",
              "      <td>1.0</td>\n",
              "    </tr>\n",
              "    <tr>\n",
              "      <th>730</th>\n",
              "      <td>0.0</td>\n",
              "      <td>0.0</td>\n",
              "      <td>0.0</td>\n",
              "      <td>0.0</td>\n",
              "      <td>0.0</td>\n",
              "      <td>0.0</td>\n",
              "      <td>0.0</td>\n",
              "      <td>0.0</td>\n",
              "      <td>0.0</td>\n",
              "      <td>0.0</td>\n",
              "      <td>0.0</td>\n",
              "      <td>1.0</td>\n",
              "    </tr>\n",
              "  </tbody>\n",
              "</table>\n",
              "<p>731 rows × 12 columns</p>\n",
              "</div>"
            ],
            "text/plain": [
              "      0    1    2    3    4    5    6    7    8    9    10   11\n",
              "0    1.0  0.0  0.0  0.0  0.0  0.0  0.0  0.0  0.0  0.0  0.0  0.0\n",
              "1    1.0  0.0  0.0  0.0  0.0  0.0  0.0  0.0  0.0  0.0  0.0  0.0\n",
              "2    1.0  0.0  0.0  0.0  0.0  0.0  0.0  0.0  0.0  0.0  0.0  0.0\n",
              "3    1.0  0.0  0.0  0.0  0.0  0.0  0.0  0.0  0.0  0.0  0.0  0.0\n",
              "4    1.0  0.0  0.0  0.0  0.0  0.0  0.0  0.0  0.0  0.0  0.0  0.0\n",
              "..   ...  ...  ...  ...  ...  ...  ...  ...  ...  ...  ...  ...\n",
              "726  0.0  0.0  0.0  0.0  0.0  0.0  0.0  0.0  0.0  0.0  0.0  1.0\n",
              "727  0.0  0.0  0.0  0.0  0.0  0.0  0.0  0.0  0.0  0.0  0.0  1.0\n",
              "728  0.0  0.0  0.0  0.0  0.0  0.0  0.0  0.0  0.0  0.0  0.0  1.0\n",
              "729  0.0  0.0  0.0  0.0  0.0  0.0  0.0  0.0  0.0  0.0  0.0  1.0\n",
              "730  0.0  0.0  0.0  0.0  0.0  0.0  0.0  0.0  0.0  0.0  0.0  1.0\n",
              "\n",
              "[731 rows x 12 columns]"
            ]
          },
          "metadata": {
            "tags": []
          },
          "execution_count": 51
        }
      ]
    },
    {
      "cell_type": "code",
      "metadata": {
        "colab": {
          "base_uri": "https://localhost:8080/"
        },
        "id": "RnrB9pJwxUDy",
        "outputId": "2baf2474-cc24-4baf-bc2c-4041e43cd2b2"
      },
      "source": [
        "# I will use linear regression in one piece of code here\n",
        "\n",
        "Y = df[['cnt']]\n",
        "X = enc.transform(df.mnth.values.reshape(-1,1))\n",
        "\n",
        "from sklearn.model_selection import train_test_split\n",
        "X_train, X_test, y_train, y_test = train_test_split(X, Y, test_size=0.25, random_state=1)\n",
        "\n",
        "# training\n",
        "import sklearn.linear_model as linear_module\n",
        "model = linear_module.LinearRegression()\n",
        "reg = model.fit(X_train, y_train)\n",
        "print(\"intercept\", reg.intercept_)\n",
        "print(\"slope\", reg.coef_)\n",
        "\n",
        "# training error\n",
        "y_train_predict = reg.predict(X_train)\n",
        "regression_train_rse = math.sqrt(mean_squared_error(y_train_predict, y_train))\n",
        "r2_score_tr_cyl=r2_score(y_train, y_train_predict)\n",
        "print(\"Training error: \", r2_score_tr_cyl)\n",
        "\n",
        "# test error\n",
        "y_predict = reg.predict(X_test)\n",
        "regression_test_rse = math.sqrt(mean_squared_error(y_predict, y_test))\n",
        "r2_score_ts_cyl=r2_score(y_test, y_predict)\n",
        "print(\"Test error:\", r2_score_ts_cyl)\n",
        "\n",
        "# 41% of the variability can be explained by mnth (better than season, still worse than atemp)"
      ],
      "execution_count": 52,
      "outputs": [
        {
          "output_type": "stream",
          "text": [
            "intercept [4528.47326579]\n",
            "slope [[-2311.5187204  -1911.74353606  -600.96044523   137.40428501\n",
            "    756.20020336  1135.50499391  1035.46151752  1160.60836662\n",
            "   1308.47013042   608.23506896  -329.98347008  -987.67839404]]\n",
            "Training error:  0.36884629524644696\n",
            "Test error: 0.4159060202103074\n"
          ],
          "name": "stdout"
        }
      ]
    },
    {
      "cell_type": "code",
      "metadata": {
        "colab": {
          "base_uri": "https://localhost:8080/"
        },
        "id": "x4btuLvc4qS6",
        "outputId": "88780fec-b1d6-4713-ea7b-e6866816f6cd"
      },
      "source": [
        "df['b_mnth']=enc.transform(df.mnth.values.reshape(-1,1))\n",
        "df['b_mnth']"
      ],
      "execution_count": 53,
      "outputs": [
        {
          "output_type": "execute_result",
          "data": {
            "text/plain": [
              "instant\n",
              "1        (0, 0)\\t1.0\\n  (1, 0)\\t1.0\\n  (2, 0)\\t1.0\\n ...\n",
              "2        (0, 0)\\t1.0\\n  (1, 0)\\t1.0\\n  (2, 0)\\t1.0\\n ...\n",
              "3        (0, 0)\\t1.0\\n  (1, 0)\\t1.0\\n  (2, 0)\\t1.0\\n ...\n",
              "4        (0, 0)\\t1.0\\n  (1, 0)\\t1.0\\n  (2, 0)\\t1.0\\n ...\n",
              "5        (0, 0)\\t1.0\\n  (1, 0)\\t1.0\\n  (2, 0)\\t1.0\\n ...\n",
              "                             ...                        \n",
              "727      (0, 0)\\t1.0\\n  (1, 0)\\t1.0\\n  (2, 0)\\t1.0\\n ...\n",
              "728      (0, 0)\\t1.0\\n  (1, 0)\\t1.0\\n  (2, 0)\\t1.0\\n ...\n",
              "729      (0, 0)\\t1.0\\n  (1, 0)\\t1.0\\n  (2, 0)\\t1.0\\n ...\n",
              "730      (0, 0)\\t1.0\\n  (1, 0)\\t1.0\\n  (2, 0)\\t1.0\\n ...\n",
              "731      (0, 0)\\t1.0\\n  (1, 0)\\t1.0\\n  (2, 0)\\t1.0\\n ...\n",
              "Name: b_mnth, Length: 731, dtype: object"
            ]
          },
          "metadata": {
            "tags": []
          },
          "execution_count": 53
        }
      ]
    },
    {
      "cell_type": "code",
      "metadata": {
        "colab": {
          "base_uri": "https://localhost:8080/",
          "height": 620
        },
        "id": "Y7qbXCHrxQwa",
        "outputId": "d8feb97e-a6e3-48fc-a00a-d85982d3c5b0"
      },
      "source": [
        "df"
      ],
      "execution_count": 54,
      "outputs": [
        {
          "output_type": "execute_result",
          "data": {
            "text/html": [
              "<div>\n",
              "<style scoped>\n",
              "    .dataframe tbody tr th:only-of-type {\n",
              "        vertical-align: middle;\n",
              "    }\n",
              "\n",
              "    .dataframe tbody tr th {\n",
              "        vertical-align: top;\n",
              "    }\n",
              "\n",
              "    .dataframe thead th {\n",
              "        text-align: right;\n",
              "    }\n",
              "</style>\n",
              "<table border=\"1\" class=\"dataframe\">\n",
              "  <thead>\n",
              "    <tr style=\"text-align: right;\">\n",
              "      <th></th>\n",
              "      <th>dteday</th>\n",
              "      <th>season</th>\n",
              "      <th>yr</th>\n",
              "      <th>mnth</th>\n",
              "      <th>holiday</th>\n",
              "      <th>weekday</th>\n",
              "      <th>workingday</th>\n",
              "      <th>weathersit</th>\n",
              "      <th>temp</th>\n",
              "      <th>atemp</th>\n",
              "      <th>hum</th>\n",
              "      <th>windspeed</th>\n",
              "      <th>casual</th>\n",
              "      <th>registered</th>\n",
              "      <th>cnt</th>\n",
              "      <th>b_mnth</th>\n",
              "    </tr>\n",
              "    <tr>\n",
              "      <th>instant</th>\n",
              "      <th></th>\n",
              "      <th></th>\n",
              "      <th></th>\n",
              "      <th></th>\n",
              "      <th></th>\n",
              "      <th></th>\n",
              "      <th></th>\n",
              "      <th></th>\n",
              "      <th></th>\n",
              "      <th></th>\n",
              "      <th></th>\n",
              "      <th></th>\n",
              "      <th></th>\n",
              "      <th></th>\n",
              "      <th></th>\n",
              "      <th></th>\n",
              "    </tr>\n",
              "  </thead>\n",
              "  <tbody>\n",
              "    <tr>\n",
              "      <th>1</th>\n",
              "      <td>2011-01-01</td>\n",
              "      <td>1</td>\n",
              "      <td>0</td>\n",
              "      <td>1</td>\n",
              "      <td>0</td>\n",
              "      <td>6</td>\n",
              "      <td>0</td>\n",
              "      <td>2</td>\n",
              "      <td>0.344167</td>\n",
              "      <td>0.363625</td>\n",
              "      <td>0.805833</td>\n",
              "      <td>0.160446</td>\n",
              "      <td>331</td>\n",
              "      <td>654</td>\n",
              "      <td>985</td>\n",
              "      <td>(0, 0)\\t1.0\\n  (1, 0)\\t1.0\\n  (2, 0)\\t1.0\\n ...</td>\n",
              "    </tr>\n",
              "    <tr>\n",
              "      <th>2</th>\n",
              "      <td>2011-01-02</td>\n",
              "      <td>1</td>\n",
              "      <td>0</td>\n",
              "      <td>1</td>\n",
              "      <td>0</td>\n",
              "      <td>0</td>\n",
              "      <td>0</td>\n",
              "      <td>2</td>\n",
              "      <td>0.363478</td>\n",
              "      <td>0.353739</td>\n",
              "      <td>0.696087</td>\n",
              "      <td>0.248539</td>\n",
              "      <td>131</td>\n",
              "      <td>670</td>\n",
              "      <td>801</td>\n",
              "      <td>(0, 0)\\t1.0\\n  (1, 0)\\t1.0\\n  (2, 0)\\t1.0\\n ...</td>\n",
              "    </tr>\n",
              "    <tr>\n",
              "      <th>3</th>\n",
              "      <td>2011-01-03</td>\n",
              "      <td>1</td>\n",
              "      <td>0</td>\n",
              "      <td>1</td>\n",
              "      <td>0</td>\n",
              "      <td>1</td>\n",
              "      <td>1</td>\n",
              "      <td>1</td>\n",
              "      <td>0.196364</td>\n",
              "      <td>0.189405</td>\n",
              "      <td>0.437273</td>\n",
              "      <td>0.248309</td>\n",
              "      <td>120</td>\n",
              "      <td>1229</td>\n",
              "      <td>1349</td>\n",
              "      <td>(0, 0)\\t1.0\\n  (1, 0)\\t1.0\\n  (2, 0)\\t1.0\\n ...</td>\n",
              "    </tr>\n",
              "    <tr>\n",
              "      <th>4</th>\n",
              "      <td>2011-01-04</td>\n",
              "      <td>1</td>\n",
              "      <td>0</td>\n",
              "      <td>1</td>\n",
              "      <td>0</td>\n",
              "      <td>2</td>\n",
              "      <td>1</td>\n",
              "      <td>1</td>\n",
              "      <td>0.200000</td>\n",
              "      <td>0.212122</td>\n",
              "      <td>0.590435</td>\n",
              "      <td>0.160296</td>\n",
              "      <td>108</td>\n",
              "      <td>1454</td>\n",
              "      <td>1562</td>\n",
              "      <td>(0, 0)\\t1.0\\n  (1, 0)\\t1.0\\n  (2, 0)\\t1.0\\n ...</td>\n",
              "    </tr>\n",
              "    <tr>\n",
              "      <th>5</th>\n",
              "      <td>2011-01-05</td>\n",
              "      <td>1</td>\n",
              "      <td>0</td>\n",
              "      <td>1</td>\n",
              "      <td>0</td>\n",
              "      <td>3</td>\n",
              "      <td>1</td>\n",
              "      <td>1</td>\n",
              "      <td>0.226957</td>\n",
              "      <td>0.229270</td>\n",
              "      <td>0.436957</td>\n",
              "      <td>0.186900</td>\n",
              "      <td>82</td>\n",
              "      <td>1518</td>\n",
              "      <td>1600</td>\n",
              "      <td>(0, 0)\\t1.0\\n  (1, 0)\\t1.0\\n  (2, 0)\\t1.0\\n ...</td>\n",
              "    </tr>\n",
              "    <tr>\n",
              "      <th>...</th>\n",
              "      <td>...</td>\n",
              "      <td>...</td>\n",
              "      <td>...</td>\n",
              "      <td>...</td>\n",
              "      <td>...</td>\n",
              "      <td>...</td>\n",
              "      <td>...</td>\n",
              "      <td>...</td>\n",
              "      <td>...</td>\n",
              "      <td>...</td>\n",
              "      <td>...</td>\n",
              "      <td>...</td>\n",
              "      <td>...</td>\n",
              "      <td>...</td>\n",
              "      <td>...</td>\n",
              "      <td>...</td>\n",
              "    </tr>\n",
              "    <tr>\n",
              "      <th>727</th>\n",
              "      <td>2012-12-27</td>\n",
              "      <td>1</td>\n",
              "      <td>1</td>\n",
              "      <td>12</td>\n",
              "      <td>0</td>\n",
              "      <td>4</td>\n",
              "      <td>1</td>\n",
              "      <td>2</td>\n",
              "      <td>0.254167</td>\n",
              "      <td>0.226642</td>\n",
              "      <td>0.652917</td>\n",
              "      <td>0.350133</td>\n",
              "      <td>247</td>\n",
              "      <td>1867</td>\n",
              "      <td>2114</td>\n",
              "      <td>(0, 0)\\t1.0\\n  (1, 0)\\t1.0\\n  (2, 0)\\t1.0\\n ...</td>\n",
              "    </tr>\n",
              "    <tr>\n",
              "      <th>728</th>\n",
              "      <td>2012-12-28</td>\n",
              "      <td>1</td>\n",
              "      <td>1</td>\n",
              "      <td>12</td>\n",
              "      <td>0</td>\n",
              "      <td>5</td>\n",
              "      <td>1</td>\n",
              "      <td>2</td>\n",
              "      <td>0.253333</td>\n",
              "      <td>0.255046</td>\n",
              "      <td>0.590000</td>\n",
              "      <td>0.155471</td>\n",
              "      <td>644</td>\n",
              "      <td>2451</td>\n",
              "      <td>3095</td>\n",
              "      <td>(0, 0)\\t1.0\\n  (1, 0)\\t1.0\\n  (2, 0)\\t1.0\\n ...</td>\n",
              "    </tr>\n",
              "    <tr>\n",
              "      <th>729</th>\n",
              "      <td>2012-12-29</td>\n",
              "      <td>1</td>\n",
              "      <td>1</td>\n",
              "      <td>12</td>\n",
              "      <td>0</td>\n",
              "      <td>6</td>\n",
              "      <td>0</td>\n",
              "      <td>2</td>\n",
              "      <td>0.253333</td>\n",
              "      <td>0.242400</td>\n",
              "      <td>0.752917</td>\n",
              "      <td>0.124383</td>\n",
              "      <td>159</td>\n",
              "      <td>1182</td>\n",
              "      <td>1341</td>\n",
              "      <td>(0, 0)\\t1.0\\n  (1, 0)\\t1.0\\n  (2, 0)\\t1.0\\n ...</td>\n",
              "    </tr>\n",
              "    <tr>\n",
              "      <th>730</th>\n",
              "      <td>2012-12-30</td>\n",
              "      <td>1</td>\n",
              "      <td>1</td>\n",
              "      <td>12</td>\n",
              "      <td>0</td>\n",
              "      <td>0</td>\n",
              "      <td>0</td>\n",
              "      <td>1</td>\n",
              "      <td>0.255833</td>\n",
              "      <td>0.231700</td>\n",
              "      <td>0.483333</td>\n",
              "      <td>0.350754</td>\n",
              "      <td>364</td>\n",
              "      <td>1432</td>\n",
              "      <td>1796</td>\n",
              "      <td>(0, 0)\\t1.0\\n  (1, 0)\\t1.0\\n  (2, 0)\\t1.0\\n ...</td>\n",
              "    </tr>\n",
              "    <tr>\n",
              "      <th>731</th>\n",
              "      <td>2012-12-31</td>\n",
              "      <td>1</td>\n",
              "      <td>1</td>\n",
              "      <td>12</td>\n",
              "      <td>0</td>\n",
              "      <td>1</td>\n",
              "      <td>1</td>\n",
              "      <td>2</td>\n",
              "      <td>0.215833</td>\n",
              "      <td>0.223487</td>\n",
              "      <td>0.577500</td>\n",
              "      <td>0.154846</td>\n",
              "      <td>439</td>\n",
              "      <td>2290</td>\n",
              "      <td>2729</td>\n",
              "      <td>(0, 0)\\t1.0\\n  (1, 0)\\t1.0\\n  (2, 0)\\t1.0\\n ...</td>\n",
              "    </tr>\n",
              "  </tbody>\n",
              "</table>\n",
              "<p>731 rows × 16 columns</p>\n",
              "</div>"
            ],
            "text/plain": [
              "             dteday  ...                                             b_mnth\n",
              "instant              ...                                                   \n",
              "1        2011-01-01  ...    (0, 0)\\t1.0\\n  (1, 0)\\t1.0\\n  (2, 0)\\t1.0\\n ...\n",
              "2        2011-01-02  ...    (0, 0)\\t1.0\\n  (1, 0)\\t1.0\\n  (2, 0)\\t1.0\\n ...\n",
              "3        2011-01-03  ...    (0, 0)\\t1.0\\n  (1, 0)\\t1.0\\n  (2, 0)\\t1.0\\n ...\n",
              "4        2011-01-04  ...    (0, 0)\\t1.0\\n  (1, 0)\\t1.0\\n  (2, 0)\\t1.0\\n ...\n",
              "5        2011-01-05  ...    (0, 0)\\t1.0\\n  (1, 0)\\t1.0\\n  (2, 0)\\t1.0\\n ...\n",
              "...             ...  ...                                                ...\n",
              "727      2012-12-27  ...    (0, 0)\\t1.0\\n  (1, 0)\\t1.0\\n  (2, 0)\\t1.0\\n ...\n",
              "728      2012-12-28  ...    (0, 0)\\t1.0\\n  (1, 0)\\t1.0\\n  (2, 0)\\t1.0\\n ...\n",
              "729      2012-12-29  ...    (0, 0)\\t1.0\\n  (1, 0)\\t1.0\\n  (2, 0)\\t1.0\\n ...\n",
              "730      2012-12-30  ...    (0, 0)\\t1.0\\n  (1, 0)\\t1.0\\n  (2, 0)\\t1.0\\n ...\n",
              "731      2012-12-31  ...    (0, 0)\\t1.0\\n  (1, 0)\\t1.0\\n  (2, 0)\\t1.0\\n ...\n",
              "\n",
              "[731 rows x 16 columns]"
            ]
          },
          "metadata": {
            "tags": []
          },
          "execution_count": 54
        }
      ]
    },
    {
      "cell_type": "code",
      "metadata": {
        "colab": {
          "base_uri": "https://localhost:8080/"
        },
        "id": "94l2qhnSIKmB",
        "outputId": "435ef637-4a45-4c1b-b91b-4c811f9c6b64"
      },
      "source": [
        "!pip show scikit-learn"
      ],
      "execution_count": 56,
      "outputs": [
        {
          "output_type": "stream",
          "text": [
            "Name: scikit-learn\n",
            "Version: 0.24.2\n",
            "Summary: A set of python modules for machine learning and data mining\n",
            "Home-page: http://scikit-learn.org\n",
            "Author: None\n",
            "Author-email: None\n",
            "License: new BSD\n",
            "Location: /usr/local/lib/python3.7/dist-packages\n",
            "Requires: numpy, joblib, scipy, threadpoolctl\n",
            "Required-by: yellowbrick, sklearn, sklearn-pandas, mlxtend, lightgbm, librosa, imbalanced-learn\n"
          ],
          "name": "stdout"
        }
      ]
    },
    {
      "cell_type": "code",
      "metadata": {
        "colab": {
          "base_uri": "https://localhost:8080/"
        },
        "id": "giBTQWuhIPNL",
        "outputId": "431afd05-de08-4d52-be0c-e323a657f6ff"
      },
      "source": [
        "sklearn.show_versions()"
      ],
      "execution_count": 57,
      "outputs": [
        {
          "output_type": "stream",
          "text": [
            "\n",
            "System:\n",
            "    python: 3.7.10 (default, May  3 2021, 02:48:31)  [GCC 7.5.0]\n",
            "executable: /usr/bin/python3\n",
            "   machine: Linux-5.4.109+-x86_64-with-Ubuntu-18.04-bionic\n",
            "\n",
            "Python dependencies:\n",
            "          pip: 19.3.1\n",
            "   setuptools: 56.1.0\n",
            "      sklearn: 0.24.2\n",
            "        numpy: 1.19.5\n",
            "        scipy: 1.4.1\n",
            "       Cython: 0.29.23\n",
            "       pandas: 1.1.5\n",
            "   matplotlib: 3.2.2\n",
            "       joblib: 1.0.1\n",
            "threadpoolctl: 2.1.0\n",
            "\n",
            "Built with OpenMP: True\n"
          ],
          "name": "stdout"
        }
      ]
    },
    {
      "cell_type": "code",
      "metadata": {
        "id": "TUhCi6jYoQ5F"
      },
      "source": [
        "# We will use min_max_scaler\n",
        "\n",
        "Y = df[['cnt']]\n",
        "X_unscaled = df[['atemp','windspeed', 'hum', 'weekday', 'holiday']]\n",
        "\n",
        "X = min_max_scaler.fit_transform(X_unscaled)\n",
        "\n",
        "X_train, X_test, y_train, y_test = train_test_split(X, Y, test_size=0.25, random_state=1)"
      ],
      "execution_count": 59,
      "outputs": []
    },
    {
      "cell_type": "code",
      "metadata": {
        "colab": {
          "base_uri": "https://localhost:8080/"
        },
        "id": "vBRRGZ8erPOX",
        "outputId": "d8234aa4-b930-4774-c402-e66164b3c49e"
      },
      "source": [
        "# Forward and backward selection using regression model\n",
        "\n",
        "from sklearn.feature_selection import SequentialFeatureSelector\n",
        "from time import time\n",
        "from sklearn.linear_model import Lasso\n",
        "\n",
        "model = linear_module.LinearRegression()\n",
        "reg = model.fit(X_train, y_train)\n",
        "\n",
        "# this feature is optional: n_features_to_select=4, we are telling how many features to select\n",
        "\n",
        "tic_fwd = time()\n",
        "sfs_forward = SequentialFeatureSelector(reg, n_features_to_select=4,\n",
        "                                        direction='forward').fit(X_train, y_train)\n",
        "toc_fwd = time()\n",
        "\n",
        "tic_bwd = time()\n",
        "sfs_backward = SequentialFeatureSelector(reg,\n",
        "                                       direction='backward').fit(X_train, y_train)\n",
        "toc_bwd = time()\n",
        "\n",
        "sfs_forward.get_support()\n",
        "toc_fwd = time()\n",
        "print(toc_fwd)\n",
        "print(tic_bwd)"
      ],
      "execution_count": 73,
      "outputs": [
        {
          "output_type": "stream",
          "text": [
            "1622241005.8455493\n",
            "1622241005.7625327\n"
          ],
          "name": "stdout"
        }
      ]
    },
    {
      "cell_type": "code",
      "metadata": {
        "colab": {
          "base_uri": "https://localhost:8080/"
        },
        "id": "f8OZoDKKrce9",
        "outputId": "eec73267-81d5-41f8-ae55-ae5aa4cccdc7"
      },
      "source": [
        "X_unscaled.columns[sfs_forward.get_support()]"
      ],
      "execution_count": 74,
      "outputs": [
        {
          "output_type": "execute_result",
          "data": {
            "text/plain": [
              "Index(['atemp', 'windspeed', 'hum', 'weekday'], dtype='object')"
            ]
          },
          "metadata": {
            "tags": []
          },
          "execution_count": 74
        }
      ]
    },
    {
      "cell_type": "code",
      "metadata": {
        "colab": {
          "base_uri": "https://localhost:8080/"
        },
        "id": "KknTSWxgrzHv",
        "outputId": "b952f1db-6dd3-4a90-b8e9-c84f9e4624ea"
      },
      "source": [
        "X_unscaled.columns[sfs_backward.get_support()]"
      ],
      "execution_count": 75,
      "outputs": [
        {
          "output_type": "execute_result",
          "data": {
            "text/plain": [
              "Index(['atemp', 'hum'], dtype='object')"
            ]
          },
          "metadata": {
            "tags": []
          },
          "execution_count": 75
        }
      ]
    },
    {
      "cell_type": "code",
      "metadata": {
        "colab": {
          "base_uri": "https://localhost:8080/"
        },
        "id": "ANvd3UPrr5cG",
        "outputId": "e569f5f6-4d43-4a83-99ce-a359ca624d29"
      },
      "source": [
        "sfs_forward.get_params()"
      ],
      "execution_count": 76,
      "outputs": [
        {
          "output_type": "execute_result",
          "data": {
            "text/plain": [
              "{'cv': 5,\n",
              " 'direction': 'forward',\n",
              " 'estimator': LinearRegression(),\n",
              " 'estimator__copy_X': True,\n",
              " 'estimator__fit_intercept': True,\n",
              " 'estimator__n_jobs': None,\n",
              " 'estimator__normalize': False,\n",
              " 'estimator__positive': False,\n",
              " 'n_features_to_select': 4,\n",
              " 'n_jobs': None,\n",
              " 'scoring': None}"
            ]
          },
          "metadata": {
            "tags": []
          },
          "execution_count": 76
        }
      ]
    },
    {
      "cell_type": "code",
      "metadata": {
        "colab": {
          "base_uri": "https://localhost:8080/"
        },
        "id": "uBJtVDn6r8om",
        "outputId": "e2d109fb-2727-4717-8905-cb35f0845de9"
      },
      "source": [
        "X_train[0:5]"
      ],
      "execution_count": 77,
      "outputs": [
        {
          "output_type": "execute_result",
          "data": {
            "text/plain": [
              "array([[0.58651472, 0.38588822, 0.63067661, 0.33333333, 0.        ],\n",
              "       [0.70004059, 0.42818509, 0.75021388, 1.        , 0.        ],\n",
              "       [0.68180546, 0.51793891, 0.40145707, 0.33333333, 0.        ],\n",
              "       [0.69425974, 0.23079143, 0.71036812, 0.66666667, 0.        ],\n",
              "       [0.53956177, 0.24683031, 0.7640545 , 0.16666667, 0.        ]])"
            ]
          },
          "metadata": {
            "tags": []
          },
          "execution_count": 77
        }
      ]
    },
    {
      "cell_type": "code",
      "metadata": {
        "colab": {
          "base_uri": "https://localhost:8080/"
        },
        "id": "q1HJHmaHr_wY",
        "outputId": "b1411254-cc91-4c9c-a20a-b29a1d048792"
      },
      "source": [
        "y_predict = sfs_backward.estimator.predict(X_test)\n",
        "regression_test_rse = math.sqrt(mean_squared_error(y_predict, y_test))\n",
        "\n",
        "from sklearn.metrics import r2_score\n",
        "r2_score(y_test, y_predict)\n",
        "\n",
        "# Using backward selection based on r2_score, 46% of variability can be explained by the model"
      ],
      "execution_count": 78,
      "outputs": [
        {
          "output_type": "execute_result",
          "data": {
            "text/plain": [
              "0.4669865012454463"
            ]
          },
          "metadata": {
            "tags": []
          },
          "execution_count": 78
        }
      ]
    },
    {
      "cell_type": "code",
      "metadata": {
        "colab": {
          "base_uri": "https://localhost:8080/"
        },
        "id": "E-eNlZc1NQzc",
        "outputId": "3e1dd411-f424-449b-81ef-13f7373e1f48"
      },
      "source": [
        "df.columns"
      ],
      "execution_count": 79,
      "outputs": [
        {
          "output_type": "execute_result",
          "data": {
            "text/plain": [
              "Index(['dteday', 'season', 'yr', 'mnth', 'holiday', 'weekday', 'workingday',\n",
              "       'weathersit', 'temp', 'atemp', 'hum', 'windspeed', 'casual',\n",
              "       'registered', 'cnt', 'b_mnth'],\n",
              "      dtype='object')"
            ]
          },
          "metadata": {
            "tags": []
          },
          "execution_count": 79
        }
      ]
    },
    {
      "cell_type": "code",
      "metadata": {
        "colab": {
          "base_uri": "https://localhost:8080/"
        },
        "id": "PQ8gJ0SwNWP0",
        "outputId": "2446ba11-f7ef-41e2-faaf-f4c8129a6f01"
      },
      "source": [
        "# We will now use ridge model (all predictors)\n",
        "\n",
        "from sklearn.linear_model import Ridge\n",
        "\n",
        "Y = df[['cnt']]\n",
        "X = df[['season', 'yr', 'mnth', 'holiday', 'weekday',\n",
        "       'workingday', 'weathersit', 'temp', 'atemp', 'hum', 'windspeed',\n",
        "       'casual', 'registered']]\n",
        "\n",
        "X_train, X_test, y_train, y_test = train_test_split(X, Y, test_size=0.25, random_state=1)\n",
        "\n",
        "\n",
        "regressor = Ridge(alpha=0.5)\n",
        "regressor.fit(X_train,y_train)\n",
        "y_predict = regressor.predict(X_test)\n",
        "regression_model_mse = mean_squared_error(y_predict, y_test)\n",
        "regression_test_rse = math.sqrt(mean_squared_error(y_predict, y_test))\n",
        "\n",
        "r2_score(y_test, y_predict)\n",
        "\n",
        "\n",
        "# using ridge with all variables we get r2_score: 100% of variability can be explained by the model\n",
        "# We obtain this result because we are using 'casual' and 'registered' as predictors which are 2 parts of cnt\n",
        "# I run this code just to show what happens when we use these two variables"
      ],
      "execution_count": 80,
      "outputs": [
        {
          "output_type": "execute_result",
          "data": {
            "text/plain": [
              "1.0"
            ]
          },
          "metadata": {
            "tags": []
          },
          "execution_count": 80
        }
      ]
    },
    {
      "cell_type": "code",
      "metadata": {
        "colab": {
          "base_uri": "https://localhost:8080/"
        },
        "id": "RBHnuxggNtwQ",
        "outputId": "3741f5ad-94b9-449a-f587-42db824c5f43"
      },
      "source": [
        "# Ridge - without 'casual', 'registered'\n",
        "\n",
        "from sklearn.linear_model import Ridge\n",
        "\n",
        "Y = df[['cnt']]\n",
        "X = df[['season', 'yr', 'mnth', 'holiday', 'weekday',\n",
        "       'workingday', 'weathersit', 'temp', 'atemp', 'hum', 'windspeed']]\n",
        "\n",
        "X_train, X_test, y_train, y_test = train_test_split(X, Y, test_size=0.25, random_state=1)\n",
        "\n",
        "\n",
        "regressor = Ridge(alpha=0.5)\n",
        "regressor.fit(X_train,y_train)\n",
        "y_predict = regressor.predict(X_test)\n",
        "regression_model_mse = mean_squared_error(y_predict, y_test)\n",
        "regression_test_rse = math.sqrt(mean_squared_error(y_predict, y_test))\n",
        "\n",
        "r2_score(y_test, y_predict)\n",
        "\n",
        "# using ridge without 'casual' and 'registered, we get r2_score - 81% of variability can be explained by the model"
      ],
      "execution_count": 81,
      "outputs": [
        {
          "output_type": "execute_result",
          "data": {
            "text/plain": [
              "0.8151866615686227"
            ]
          },
          "metadata": {
            "tags": []
          },
          "execution_count": 81
        }
      ]
    },
    {
      "cell_type": "code",
      "metadata": {
        "colab": {
          "base_uri": "https://localhost:8080/"
        },
        "id": "xy4-bF4sNoDZ",
        "outputId": "5ebe5515-5c87-4dc3-d87f-13fba54a0727"
      },
      "source": [
        "reg.intercept_"
      ],
      "execution_count": 82,
      "outputs": [
        {
          "output_type": "execute_result",
          "data": {
            "text/plain": [
              "array([4566.34888091])"
            ]
          },
          "metadata": {
            "tags": []
          },
          "execution_count": 82
        }
      ]
    },
    {
      "cell_type": "code",
      "metadata": {
        "colab": {
          "base_uri": "https://localhost:8080/"
        },
        "id": "cTUQ8PcgNrsj",
        "outputId": "dafd7846-bc77-47c1-db41-62cfa3208f68"
      },
      "source": [
        "reg.coef_"
      ],
      "execution_count": 83,
      "outputs": [
        {
          "output_type": "execute_result",
          "data": {
            "text/plain": [
              "array([[ 5603.85575721, -2316.80432914, -3574.04609592,   426.71408734,\n",
              "         -397.44893839]])"
            ]
          },
          "metadata": {
            "tags": []
          },
          "execution_count": 83
        }
      ]
    },
    {
      "cell_type": "code",
      "metadata": {
        "colab": {
          "base_uri": "https://localhost:8080/"
        },
        "id": "Ia5jH9lHOBkq",
        "outputId": "2512635e-0529-4dab-e74a-da0cc29c5069"
      },
      "source": [
        "# ridge - cross validation\n",
        "\n",
        "from sklearn.linear_model import RidgeCV\n",
        "\n",
        "Y = df[['cnt']]\n",
        "X = df[['season', 'yr', 'mnth', 'holiday', 'weekday',\n",
        "       'workingday', 'weathersit', 'temp', 'atemp', 'hum', 'windspeed']]\n",
        "\n",
        "X_train, X_test, y_train, y_test = train_test_split(X, Y, test_size=0.25, random_state=1)\n",
        "\n",
        "\n",
        "ridge_regressor = RidgeCV(cv=5, alphas = [0.01,0.1, 0.5])\n",
        "ridge_regressor.fit(X_train,y_train)\n",
        "y_predict = ridge_regressor.predict(X_test)\n",
        "regression_model_mse = mean_squared_error(y_predict, y_test)\n",
        "regression_test_rse = math.sqrt(mean_squared_error(y_predict, y_test))\n",
        "\n",
        "r2_score(y_test, y_predict)\n",
        "\n",
        "# using ridge cross-validation we get r2_score 81% of variability can be explained by the model"
      ],
      "execution_count": 84,
      "outputs": [
        {
          "output_type": "execute_result",
          "data": {
            "text/plain": [
              "0.8151866615686227"
            ]
          },
          "metadata": {
            "tags": []
          },
          "execution_count": 84
        }
      ]
    },
    {
      "cell_type": "code",
      "metadata": {
        "colab": {
          "base_uri": "https://localhost:8080/"
        },
        "id": "lqmh2qo-OPjM",
        "outputId": "4a5b3d20-3e3f-4843-cd31-9486d891690c"
      },
      "source": [
        "ridge_regressor.coef_"
      ],
      "execution_count": 85,
      "outputs": [
        {
          "output_type": "execute_result",
          "data": {
            "text/plain": [
              "array([[  471.94527848,  2056.41109398,   -25.28919054,  -418.25579897,\n",
              "           77.12693269,    99.02542242,  -613.74204059,  2550.05455666,\n",
              "         2892.81743602, -1163.21588071, -2250.6625475 ]])"
            ]
          },
          "metadata": {
            "tags": []
          },
          "execution_count": 85
        }
      ]
    },
    {
      "cell_type": "code",
      "metadata": {
        "id": "PZui3e9MORnC",
        "colab": {
          "base_uri": "https://localhost:8080/"
        },
        "outputId": "1d253970-ffc7-4fbd-c639-46ab32f9ab6e"
      },
      "source": [
        "ridge_regressor.alpha_"
      ],
      "execution_count": 86,
      "outputs": [
        {
          "output_type": "execute_result",
          "data": {
            "text/plain": [
              "0.5"
            ]
          },
          "metadata": {
            "tags": []
          },
          "execution_count": 86
        }
      ]
    },
    {
      "cell_type": "code",
      "metadata": {
        "colab": {
          "base_uri": "https://localhost:8080/"
        },
        "id": "Mg5Dlv6lOVIY",
        "outputId": "9d2b0992-1766-40a6-dcb0-1094d2041117"
      },
      "source": [
        "# Lasso cross validation model\n",
        "\n",
        "from sklearn.linear_model import LassoCV\n",
        "lasso_regressor = LassoCV(alphas=[0.001, 0.01, 0.1, 0.25, 0.5, 0.75, 1, 5, 10, 50, 100, 1000 ])\n",
        "lasso_regressor.fit(X_train,y_train)\n",
        "y_predict = lasso_regressor.predict(X_test)\n",
        "regression_model_mse = mean_squared_error(y_predict, y_test)\n",
        "regression_test_rse = math.sqrt(mean_squared_error(y_predict, y_test))\n",
        "\n",
        "r2_score(y_test, y_predict)\n",
        "\n",
        "# using lasso cross-validation we get r2_score 81% of variability can be explained by the model"
      ],
      "execution_count": 88,
      "outputs": [
        {
          "output_type": "stream",
          "text": [
            "/usr/local/lib/python3.7/dist-packages/sklearn/utils/validation.py:63: DataConversionWarning: A column-vector y was passed when a 1d array was expected. Please change the shape of y to (n_samples, ), for example using ravel().\n",
            "  return f(*args, **kwargs)\n",
            "/usr/local/lib/python3.7/dist-packages/sklearn/linear_model/_coordinate_descent.py:528: ConvergenceWarning: Objective did not converge. You might want to increase the number of iterations. Duality gap: 405946.8502123356, tolerance: 161151.3585671982\n",
            "  tol, rng, random, positive)\n",
            "/usr/local/lib/python3.7/dist-packages/sklearn/linear_model/_coordinate_descent.py:528: ConvergenceWarning: Objective did not converge. You might want to increase the number of iterations. Duality gap: 411113.29329031706, tolerance: 161151.3585671982\n",
            "  tol, rng, random, positive)\n"
          ],
          "name": "stderr"
        },
        {
          "output_type": "execute_result",
          "data": {
            "text/plain": [
              "0.8144558336430714"
            ]
          },
          "metadata": {
            "tags": []
          },
          "execution_count": 88
        }
      ]
    },
    {
      "cell_type": "code",
      "metadata": {
        "colab": {
          "base_uri": "https://localhost:8080/"
        },
        "id": "urSQLr8_OYu-",
        "outputId": "8dbcc54e-c8a2-4aaf-d4e8-558f2c9c5867"
      },
      "source": [
        "lasso_regressor.alpha_"
      ],
      "execution_count": 89,
      "outputs": [
        {
          "output_type": "execute_result",
          "data": {
            "text/plain": [
              "0.75"
            ]
          },
          "metadata": {
            "tags": []
          },
          "execution_count": 89
        }
      ]
    },
    {
      "cell_type": "code",
      "metadata": {
        "colab": {
          "base_uri": "https://localhost:8080/"
        },
        "id": "dVn-bHjROeO7",
        "outputId": "d8508f28-5a1f-4f75-ab29-30abc4afe050"
      },
      "source": [
        "lasso_regressor.coef_"
      ],
      "execution_count": 90,
      "outputs": [
        {
          "output_type": "execute_result",
          "data": {
            "text/plain": [
              "array([  462.34200783,  2056.06002391,   -24.12567135,  -396.91822873,\n",
              "          77.59214947,    97.02250248,  -587.4725729 ,  1771.97707543,\n",
              "        3861.33822845, -1284.59737661, -2473.08476985])"
            ]
          },
          "metadata": {
            "tags": []
          },
          "execution_count": 90
        }
      ]
    },
    {
      "cell_type": "code",
      "metadata": {
        "id": "B4rykEJ7Dw6n",
        "colab": {
          "base_uri": "https://localhost:8080/",
          "height": 317
        },
        "outputId": "ee760a25-4c1d-4a4a-a5e5-6aeb0dfa52e3"
      },
      "source": [
        "# As the last step I want to check the dataset again and run some plots to visualize the data\n",
        "\n",
        "df.describe()"
      ],
      "execution_count": 91,
      "outputs": [
        {
          "output_type": "execute_result",
          "data": {
            "text/html": [
              "<div>\n",
              "<style scoped>\n",
              "    .dataframe tbody tr th:only-of-type {\n",
              "        vertical-align: middle;\n",
              "    }\n",
              "\n",
              "    .dataframe tbody tr th {\n",
              "        vertical-align: top;\n",
              "    }\n",
              "\n",
              "    .dataframe thead th {\n",
              "        text-align: right;\n",
              "    }\n",
              "</style>\n",
              "<table border=\"1\" class=\"dataframe\">\n",
              "  <thead>\n",
              "    <tr style=\"text-align: right;\">\n",
              "      <th></th>\n",
              "      <th>season</th>\n",
              "      <th>yr</th>\n",
              "      <th>mnth</th>\n",
              "      <th>holiday</th>\n",
              "      <th>weekday</th>\n",
              "      <th>workingday</th>\n",
              "      <th>weathersit</th>\n",
              "      <th>temp</th>\n",
              "      <th>atemp</th>\n",
              "      <th>hum</th>\n",
              "      <th>windspeed</th>\n",
              "      <th>casual</th>\n",
              "      <th>registered</th>\n",
              "      <th>cnt</th>\n",
              "    </tr>\n",
              "  </thead>\n",
              "  <tbody>\n",
              "    <tr>\n",
              "      <th>count</th>\n",
              "      <td>731.000000</td>\n",
              "      <td>731.000000</td>\n",
              "      <td>731.000000</td>\n",
              "      <td>731.000000</td>\n",
              "      <td>731.000000</td>\n",
              "      <td>731.000000</td>\n",
              "      <td>731.000000</td>\n",
              "      <td>731.000000</td>\n",
              "      <td>731.000000</td>\n",
              "      <td>731.000000</td>\n",
              "      <td>731.000000</td>\n",
              "      <td>731.000000</td>\n",
              "      <td>731.000000</td>\n",
              "      <td>731.000000</td>\n",
              "    </tr>\n",
              "    <tr>\n",
              "      <th>mean</th>\n",
              "      <td>2.496580</td>\n",
              "      <td>0.500684</td>\n",
              "      <td>6.519836</td>\n",
              "      <td>0.028728</td>\n",
              "      <td>2.997264</td>\n",
              "      <td>0.683995</td>\n",
              "      <td>1.395349</td>\n",
              "      <td>0.495385</td>\n",
              "      <td>0.474354</td>\n",
              "      <td>0.627894</td>\n",
              "      <td>0.190486</td>\n",
              "      <td>848.176471</td>\n",
              "      <td>3656.172367</td>\n",
              "      <td>4504.348837</td>\n",
              "    </tr>\n",
              "    <tr>\n",
              "      <th>std</th>\n",
              "      <td>1.110807</td>\n",
              "      <td>0.500342</td>\n",
              "      <td>3.451913</td>\n",
              "      <td>0.167155</td>\n",
              "      <td>2.004787</td>\n",
              "      <td>0.465233</td>\n",
              "      <td>0.544894</td>\n",
              "      <td>0.183051</td>\n",
              "      <td>0.162961</td>\n",
              "      <td>0.142429</td>\n",
              "      <td>0.077498</td>\n",
              "      <td>686.622488</td>\n",
              "      <td>1560.256377</td>\n",
              "      <td>1937.211452</td>\n",
              "    </tr>\n",
              "    <tr>\n",
              "      <th>min</th>\n",
              "      <td>1.000000</td>\n",
              "      <td>0.000000</td>\n",
              "      <td>1.000000</td>\n",
              "      <td>0.000000</td>\n",
              "      <td>0.000000</td>\n",
              "      <td>0.000000</td>\n",
              "      <td>1.000000</td>\n",
              "      <td>0.059130</td>\n",
              "      <td>0.079070</td>\n",
              "      <td>0.000000</td>\n",
              "      <td>0.022392</td>\n",
              "      <td>2.000000</td>\n",
              "      <td>20.000000</td>\n",
              "      <td>22.000000</td>\n",
              "    </tr>\n",
              "    <tr>\n",
              "      <th>25%</th>\n",
              "      <td>2.000000</td>\n",
              "      <td>0.000000</td>\n",
              "      <td>4.000000</td>\n",
              "      <td>0.000000</td>\n",
              "      <td>1.000000</td>\n",
              "      <td>0.000000</td>\n",
              "      <td>1.000000</td>\n",
              "      <td>0.337083</td>\n",
              "      <td>0.337842</td>\n",
              "      <td>0.520000</td>\n",
              "      <td>0.134950</td>\n",
              "      <td>315.500000</td>\n",
              "      <td>2497.000000</td>\n",
              "      <td>3152.000000</td>\n",
              "    </tr>\n",
              "    <tr>\n",
              "      <th>50%</th>\n",
              "      <td>3.000000</td>\n",
              "      <td>1.000000</td>\n",
              "      <td>7.000000</td>\n",
              "      <td>0.000000</td>\n",
              "      <td>3.000000</td>\n",
              "      <td>1.000000</td>\n",
              "      <td>1.000000</td>\n",
              "      <td>0.498333</td>\n",
              "      <td>0.486733</td>\n",
              "      <td>0.626667</td>\n",
              "      <td>0.180975</td>\n",
              "      <td>713.000000</td>\n",
              "      <td>3662.000000</td>\n",
              "      <td>4548.000000</td>\n",
              "    </tr>\n",
              "    <tr>\n",
              "      <th>75%</th>\n",
              "      <td>3.000000</td>\n",
              "      <td>1.000000</td>\n",
              "      <td>10.000000</td>\n",
              "      <td>0.000000</td>\n",
              "      <td>5.000000</td>\n",
              "      <td>1.000000</td>\n",
              "      <td>2.000000</td>\n",
              "      <td>0.655417</td>\n",
              "      <td>0.608602</td>\n",
              "      <td>0.730209</td>\n",
              "      <td>0.233214</td>\n",
              "      <td>1096.000000</td>\n",
              "      <td>4776.500000</td>\n",
              "      <td>5956.000000</td>\n",
              "    </tr>\n",
              "    <tr>\n",
              "      <th>max</th>\n",
              "      <td>4.000000</td>\n",
              "      <td>1.000000</td>\n",
              "      <td>12.000000</td>\n",
              "      <td>1.000000</td>\n",
              "      <td>6.000000</td>\n",
              "      <td>1.000000</td>\n",
              "      <td>3.000000</td>\n",
              "      <td>0.861667</td>\n",
              "      <td>0.840896</td>\n",
              "      <td>0.972500</td>\n",
              "      <td>0.507463</td>\n",
              "      <td>3410.000000</td>\n",
              "      <td>6946.000000</td>\n",
              "      <td>8714.000000</td>\n",
              "    </tr>\n",
              "  </tbody>\n",
              "</table>\n",
              "</div>"
            ],
            "text/plain": [
              "           season          yr  ...   registered          cnt\n",
              "count  731.000000  731.000000  ...   731.000000   731.000000\n",
              "mean     2.496580    0.500684  ...  3656.172367  4504.348837\n",
              "std      1.110807    0.500342  ...  1560.256377  1937.211452\n",
              "min      1.000000    0.000000  ...    20.000000    22.000000\n",
              "25%      2.000000    0.000000  ...  2497.000000  3152.000000\n",
              "50%      3.000000    1.000000  ...  3662.000000  4548.000000\n",
              "75%      3.000000    1.000000  ...  4776.500000  5956.000000\n",
              "max      4.000000    1.000000  ...  6946.000000  8714.000000\n",
              "\n",
              "[8 rows x 14 columns]"
            ]
          },
          "metadata": {
            "tags": []
          },
          "execution_count": 91
        }
      ]
    },
    {
      "cell_type": "code",
      "metadata": {
        "id": "IpZDFw0WEIUM",
        "colab": {
          "base_uri": "https://localhost:8080/",
          "height": 611
        },
        "outputId": "468aea59-e366-4e5f-89c6-efde6eced88d"
      },
      "source": [
        "# In this case I am doing exploratory analysis at the very end (to see if the predictors I get make sense)\n",
        "\n",
        "df.boxplot('cnt', by='atemp', figsize=(12,8), grid=True)"
      ],
      "execution_count": 94,
      "outputs": [
        {
          "output_type": "stream",
          "text": [
            "/usr/local/lib/python3.7/dist-packages/numpy/core/_asarray.py:83: VisibleDeprecationWarning: Creating an ndarray from ragged nested sequences (which is a list-or-tuple of lists-or-tuples-or ndarrays with different lengths or shapes) is deprecated. If you meant to do this, you must specify 'dtype=object' when creating the ndarray\n",
            "  return array(a, dtype, copy=False, order=order)\n"
          ],
          "name": "stderr"
        },
        {
          "output_type": "execute_result",
          "data": {
            "text/plain": [
              "<matplotlib.axes._subplots.AxesSubplot at 0x7fc9b004d7d0>"
            ]
          },
          "metadata": {
            "tags": []
          },
          "execution_count": 94
        },
        {
          "output_type": "display_data",
          "data": {
            "image/png": "[encoded data removed]",
            "text/plain": [
              "<Figure size 864x576 with 1 Axes>"
            ]
          },
          "metadata": {
            "tags": [],
            "needs_background": "light"
          }
        }
      ]
    },
    {
      "cell_type": "code",
      "metadata": {
        "id": "lKYZlSs3ER4w",
        "colab": {
          "base_uri": "https://localhost:8080/",
          "height": 611
        },
        "outputId": "f27dc2c5-687d-4e20-8d11-085aa7cfebfe"
      },
      "source": [
        "df.boxplot('cnt', by='season', figsize=(12,8), grid=True)"
      ],
      "execution_count": 95,
      "outputs": [
        {
          "output_type": "stream",
          "text": [
            "/usr/local/lib/python3.7/dist-packages/numpy/core/_asarray.py:83: VisibleDeprecationWarning: Creating an ndarray from ragged nested sequences (which is a list-or-tuple of lists-or-tuples-or ndarrays with different lengths or shapes) is deprecated. If you meant to do this, you must specify 'dtype=object' when creating the ndarray\n",
            "  return array(a, dtype, copy=False, order=order)\n"
          ],
          "name": "stderr"
        },
        {
          "output_type": "execute_result",
          "data": {
            "text/plain": [
              "<matplotlib.axes._subplots.AxesSubplot at 0x7fc9ab8dd990>"
            ]
          },
          "metadata": {
            "tags": []
          },
          "execution_count": 95
        },
        {
          "output_type": "display_data",
          "data": {
            "image/png": "[encoded data removed]",
            "text/plain": [
              "<Figure size 864x576 with 1 Axes>"
            ]
          },
          "metadata": {
            "tags": [],
            "needs_background": "light"
          }
        }
      ]
    },
    {
      "cell_type": "code",
      "metadata": {
        "id": "n0HIW2KTEVgb",
        "colab": {
          "base_uri": "https://localhost:8080/",
          "height": 611
        },
        "outputId": "b578c527-0e03-4f6b-cb50-915dc84b1557"
      },
      "source": [
        "df.boxplot('cnt', by='holiday', figsize=(12,8), grid=True)"
      ],
      "execution_count": 97,
      "outputs": [
        {
          "output_type": "stream",
          "text": [
            "/usr/local/lib/python3.7/dist-packages/numpy/core/_asarray.py:83: VisibleDeprecationWarning: Creating an ndarray from ragged nested sequences (which is a list-or-tuple of lists-or-tuples-or ndarrays with different lengths or shapes) is deprecated. If you meant to do this, you must specify 'dtype=object' when creating the ndarray\n",
            "  return array(a, dtype, copy=False, order=order)\n"
          ],
          "name": "stderr"
        },
        {
          "output_type": "execute_result",
          "data": {
            "text/plain": [
              "<matplotlib.axes._subplots.AxesSubplot at 0x7fc9ab896c90>"
            ]
          },
          "metadata": {
            "tags": []
          },
          "execution_count": 97
        },
        {
          "output_type": "display_data",
          "data": {
            "image/png": "[encoded data removed]",
            "text/plain": [
              "<Figure size 864x576 with 1 Axes>"
            ]
          },
          "metadata": {
            "tags": [],
            "needs_background": "light"
          }
        }
      ]
    },
    {
      "cell_type": "code",
      "metadata": {
        "id": "ZQVq1T4uEZCQ",
        "colab": {
          "base_uri": "https://localhost:8080/",
          "height": 611
        },
        "outputId": "2f8cd0d6-841c-41b5-d026-80bb9ecba74f"
      },
      "source": [
        "df.boxplot('cnt', by='mnth', figsize=(12,8), grid=True)"
      ],
      "execution_count": 98,
      "outputs": [
        {
          "output_type": "stream",
          "text": [
            "/usr/local/lib/python3.7/dist-packages/numpy/core/_asarray.py:83: VisibleDeprecationWarning: Creating an ndarray from ragged nested sequences (which is a list-or-tuple of lists-or-tuples-or ndarrays with different lengths or shapes) is deprecated. If you meant to do this, you must specify 'dtype=object' when creating the ndarray\n",
            "  return array(a, dtype, copy=False, order=order)\n"
          ],
          "name": "stderr"
        },
        {
          "output_type": "execute_result",
          "data": {
            "text/plain": [
              "<matplotlib.axes._subplots.AxesSubplot at 0x7fc9ab9fe410>"
            ]
          },
          "metadata": {
            "tags": []
          },
          "execution_count": 98
        },
        {
          "output_type": "display_data",
          "data": {
            "image/png": "[encoded data removed]",
            "text/plain": [
              "<Figure size 864x576 with 1 Axes>"
            ]
          },
          "metadata": {
            "tags": [],
            "needs_background": "light"
          }
        }
      ]
    },
    {
      "cell_type": "code",
      "metadata": {
        "id": "Ft9BthxpEeg7",
        "colab": {
          "base_uri": "https://localhost:8080/",
          "height": 611
        },
        "outputId": "bbe3cbd0-63ad-4ecb-f672-e71398a0768b"
      },
      "source": [
        "df.boxplot('cnt', by='weekday', figsize=(12,8), grid=True)"
      ],
      "execution_count": 99,
      "outputs": [
        {
          "output_type": "stream",
          "text": [
            "/usr/local/lib/python3.7/dist-packages/numpy/core/_asarray.py:83: VisibleDeprecationWarning: Creating an ndarray from ragged nested sequences (which is a list-or-tuple of lists-or-tuples-or ndarrays with different lengths or shapes) is deprecated. If you meant to do this, you must specify 'dtype=object' when creating the ndarray\n",
            "  return array(a, dtype, copy=False, order=order)\n"
          ],
          "name": "stderr"
        },
        {
          "output_type": "execute_result",
          "data": {
            "text/plain": [
              "<matplotlib.axes._subplots.AxesSubplot at 0x7fc9aba81d50>"
            ]
          },
          "metadata": {
            "tags": []
          },
          "execution_count": 99
        },
        {
          "output_type": "display_data",
          "data": {
            "image/png": "[encoded data removed]",
            "text/plain": [
              "<Figure size 864x576 with 1 Axes>"
            ]
          },
          "metadata": {
            "tags": [],
            "needs_background": "light"
          }
        }
      ]
    },
    {
      "cell_type": "markdown",
      "metadata": {
        "id": "2sEi-tAmHsXW"
      },
      "source": [
        "**Conclusion**\n",
        "\n",
        "It is interesting to note that on the plot season looks like a good predictor, however it is not so when we run it through regression model. \n",
        "\n",
        "Atemp seems to be the best predictor using linear regression \n",
        "Using Ridge and Lasso gives us good results as well.\n",
        "\n",
        "Data Insights: \n",
        "\n",
        "-mnth is interesting to look at from business perspective (we know what month is coming; also atemp and month are related)\n",
        "-mnth, one hot encoding, linear reg: 41% of variability can be explained by the model\n",
        "-atemp, linear reg: 46% of variability can be explained by the model\n",
        "-using ridge and lasso we get r2_score of 81%, which means that 81% of variability can be explained by the model\n"
      ]
    }
  ]
}