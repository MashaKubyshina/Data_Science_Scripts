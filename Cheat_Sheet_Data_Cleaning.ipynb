{
  "nbformat": 4,
  "nbformat_minor": 0,
  "metadata": {
    "colab": {
      "name": "Cheat_Sheet_Data_Cleaning.ipynb",
      "provenance": [],
      "toc_visible": true,
      "authorship_tag": "ABX9TyPku5KEj/eQ+M7DE27DyQvK",
      "include_colab_link": true
    },
    "kernelspec": {
      "name": "python3",
      "display_name": "Python 3"
    }
  },
  "cells": [
    {
      "cell_type": "markdown",
      "metadata": {
        "id": "view-in-github",
        "colab_type": "text"
      },
      "source": [
        "<a href=\"https://colab.research.google.com/github/MashaKubyshina/Learning-Code-1/blob/master/Cheat_Sheet_Data_Cleaning.ipynb\" target=\"_parent\"><img src=\"https://colab.research.google.com/assets/colab-badge.svg\" alt=\"Open In Colab\"/></a>"
      ]
    },
    {
      "cell_type": "code",
      "metadata": {
        "id": "uFxjPYpf8F2t"
      },
      "source": [
        "import pandas as pd\n",
        "import numpy as np"
      ],
      "execution_count": null,
      "outputs": []
    },
    {
      "cell_type": "markdown",
      "metadata": {
        "id": "xl8xSnMamDIa"
      },
      "source": [
        "# Types of dataframes"
      ]
    },
    {
      "cell_type": "code",
      "metadata": {
        "id": "jHzh5TjrmGpl"
      },
      "source": [
        "# we can create dataframes using using a dictionary with a list of items\n",
        "# we can also create a dataframe using series"
      ],
      "execution_count": null,
      "outputs": []
    },
    {
      "cell_type": "code",
      "metadata": {
        "colab": {
          "base_uri": "https://localhost:8080/",
          "height": 235
        },
        "id": "eDY3KAfwmPaA",
        "outputId": "ce9f0517-e42c-483e-fe2b-a742d1b0729d"
      },
      "source": [
        "# the most common is from a dict of equal-length lists or Numpy arrays.\n",
        "\n",
        "data = {'students': ['Alice','Bob','Charlie','Dave','Eva', 'Frank'],\n",
        "      'subjects': ['Bio','Physics','Math','Arts','Chemistry', 'Economics'],\n",
        "      'score1': [55, 40, 63, 90, 45, 45]}\n",
        "\n",
        "df = pd.DataFrame(data)\n",
        "df"
      ],
      "execution_count": null,
      "outputs": [
        {
          "output_type": "execute_result",
          "data": {
            "text/html": [
              "<div>\n",
              "<style scoped>\n",
              "    .dataframe tbody tr th:only-of-type {\n",
              "        vertical-align: middle;\n",
              "    }\n",
              "\n",
              "    .dataframe tbody tr th {\n",
              "        vertical-align: top;\n",
              "    }\n",
              "\n",
              "    .dataframe thead th {\n",
              "        text-align: right;\n",
              "    }\n",
              "</style>\n",
              "<table border=\"1\" class=\"dataframe\">\n",
              "  <thead>\n",
              "    <tr style=\"text-align: right;\">\n",
              "      <th></th>\n",
              "      <th>students</th>\n",
              "      <th>subjects</th>\n",
              "      <th>score1</th>\n",
              "    </tr>\n",
              "  </thead>\n",
              "  <tbody>\n",
              "    <tr>\n",
              "      <th>0</th>\n",
              "      <td>Alice</td>\n",
              "      <td>Bio</td>\n",
              "      <td>55</td>\n",
              "    </tr>\n",
              "    <tr>\n",
              "      <th>1</th>\n",
              "      <td>Bob</td>\n",
              "      <td>Physics</td>\n",
              "      <td>40</td>\n",
              "    </tr>\n",
              "    <tr>\n",
              "      <th>2</th>\n",
              "      <td>Charlie</td>\n",
              "      <td>Math</td>\n",
              "      <td>63</td>\n",
              "    </tr>\n",
              "    <tr>\n",
              "      <th>3</th>\n",
              "      <td>Dave</td>\n",
              "      <td>Arts</td>\n",
              "      <td>90</td>\n",
              "    </tr>\n",
              "    <tr>\n",
              "      <th>4</th>\n",
              "      <td>Eva</td>\n",
              "      <td>Chemistry</td>\n",
              "      <td>45</td>\n",
              "    </tr>\n",
              "    <tr>\n",
              "      <th>5</th>\n",
              "      <td>Frank</td>\n",
              "      <td>Economics</td>\n",
              "      <td>45</td>\n",
              "    </tr>\n",
              "  </tbody>\n",
              "</table>\n",
              "</div>"
            ],
            "text/plain": [
              "  students   subjects  score1\n",
              "0    Alice        Bio      55\n",
              "1      Bob    Physics      40\n",
              "2  Charlie       Math      63\n",
              "3     Dave       Arts      90\n",
              "4      Eva  Chemistry      45\n",
              "5    Frank  Economics      45"
            ]
          },
          "metadata": {
            "tags": []
          },
          "execution_count": 126
        }
      ]
    },
    {
      "cell_type": "code",
      "metadata": {
        "colab": {
          "base_uri": "https://localhost:8080/"
        },
        "id": "UTQmvLZgmZsx",
        "outputId": "97c951b9-fbb0-4729-d283-aae0a9e38306"
      },
      "source": [
        "# subsetting a column\n",
        "\n",
        "df.subjects"
      ],
      "execution_count": null,
      "outputs": [
        {
          "output_type": "execute_result",
          "data": {
            "text/plain": [
              "0          Bio\n",
              "1      Physics\n",
              "2         Math\n",
              "3         Arts\n",
              "4    Chemistry\n",
              "5    Economics\n",
              "Name: subjects, dtype: object"
            ]
          },
          "metadata": {
            "tags": []
          },
          "execution_count": 127
        }
      ]
    },
    {
      "cell_type": "code",
      "metadata": {
        "colab": {
          "base_uri": "https://localhost:8080/"
        },
        "id": "KZuvOyYTmfn2",
        "outputId": "f6f2abde-3c6d-4543-96e5-eb9a1bc35208"
      },
      "source": [
        "df.columns"
      ],
      "execution_count": null,
      "outputs": [
        {
          "output_type": "execute_result",
          "data": {
            "text/plain": [
              "Index(['students', 'subjects', 'score1'], dtype='object')"
            ]
          },
          "metadata": {
            "tags": []
          },
          "execution_count": 128
        }
      ]
    },
    {
      "cell_type": "code",
      "metadata": {
        "colab": {
          "base_uri": "https://localhost:8080/"
        },
        "id": "OWkhFeqSmmHS",
        "outputId": "d321de0a-e67e-4d20-bfa4-abdf19d7f97f"
      },
      "source": [
        "df.index"
      ],
      "execution_count": null,
      "outputs": [
        {
          "output_type": "execute_result",
          "data": {
            "text/plain": [
              "RangeIndex(start=0, stop=6, step=1)"
            ]
          },
          "metadata": {
            "tags": []
          },
          "execution_count": 129
        }
      ]
    },
    {
      "cell_type": "code",
      "metadata": {
        "colab": {
          "base_uri": "https://localhost:8080/",
          "height": 235
        },
        "id": "cwiPvd5YmuCO",
        "outputId": "18a24804-bcc1-4209-af77-c1cfc7d468bc"
      },
      "source": [
        "# broadcasting\n",
        "# we added 5 to each value in the score1 column\n",
        "df.score1 += 5\n",
        "df"
      ],
      "execution_count": null,
      "outputs": [
        {
          "output_type": "execute_result",
          "data": {
            "text/html": [
              "<div>\n",
              "<style scoped>\n",
              "    .dataframe tbody tr th:only-of-type {\n",
              "        vertical-align: middle;\n",
              "    }\n",
              "\n",
              "    .dataframe tbody tr th {\n",
              "        vertical-align: top;\n",
              "    }\n",
              "\n",
              "    .dataframe thead th {\n",
              "        text-align: right;\n",
              "    }\n",
              "</style>\n",
              "<table border=\"1\" class=\"dataframe\">\n",
              "  <thead>\n",
              "    <tr style=\"text-align: right;\">\n",
              "      <th></th>\n",
              "      <th>students</th>\n",
              "      <th>subjects</th>\n",
              "      <th>score1</th>\n",
              "    </tr>\n",
              "  </thead>\n",
              "  <tbody>\n",
              "    <tr>\n",
              "      <th>0</th>\n",
              "      <td>Alice</td>\n",
              "      <td>Bio</td>\n",
              "      <td>60</td>\n",
              "    </tr>\n",
              "    <tr>\n",
              "      <th>1</th>\n",
              "      <td>Bob</td>\n",
              "      <td>Physics</td>\n",
              "      <td>45</td>\n",
              "    </tr>\n",
              "    <tr>\n",
              "      <th>2</th>\n",
              "      <td>Charlie</td>\n",
              "      <td>Math</td>\n",
              "      <td>68</td>\n",
              "    </tr>\n",
              "    <tr>\n",
              "      <th>3</th>\n",
              "      <td>Dave</td>\n",
              "      <td>Arts</td>\n",
              "      <td>95</td>\n",
              "    </tr>\n",
              "    <tr>\n",
              "      <th>4</th>\n",
              "      <td>Eva</td>\n",
              "      <td>Chemistry</td>\n",
              "      <td>50</td>\n",
              "    </tr>\n",
              "    <tr>\n",
              "      <th>5</th>\n",
              "      <td>Frank</td>\n",
              "      <td>Economics</td>\n",
              "      <td>50</td>\n",
              "    </tr>\n",
              "  </tbody>\n",
              "</table>\n",
              "</div>"
            ],
            "text/plain": [
              "  students   subjects  score1\n",
              "0    Alice        Bio      60\n",
              "1      Bob    Physics      45\n",
              "2  Charlie       Math      68\n",
              "3     Dave       Arts      95\n",
              "4      Eva  Chemistry      50\n",
              "5    Frank  Economics      50"
            ]
          },
          "metadata": {
            "tags": []
          },
          "execution_count": 130
        }
      ]
    },
    {
      "cell_type": "markdown",
      "metadata": {
        "id": "aWio4KY5m6Y5"
      },
      "source": [
        "# iloc and loc"
      ]
    },
    {
      "cell_type": "code",
      "metadata": {
        "colab": {
          "base_uri": "https://localhost:8080/"
        },
        "id": "IMRfxbo4m_Bv",
        "outputId": "4a61abdc-d31f-4cd2-e87c-e7dd983d35d3"
      },
      "source": [
        "# We can extract one row using iloc and loc just like in Series.\n",
        "\n",
        "df.iloc[0]"
      ],
      "execution_count": null,
      "outputs": [
        {
          "output_type": "execute_result",
          "data": {
            "text/plain": [
              "students    Alice\n",
              "subjects      Bio\n",
              "score1         60\n",
              "Name: 0, dtype: object"
            ]
          },
          "metadata": {
            "tags": []
          },
          "execution_count": 133
        }
      ]
    },
    {
      "cell_type": "code",
      "metadata": {
        "colab": {
          "base_uri": "https://localhost:8080/"
        },
        "id": "eQGFz993nFQ6",
        "outputId": "11dfce31-ee46-4295-a1d7-2c06fe067da1"
      },
      "source": [
        "df.iloc[0].index"
      ],
      "execution_count": null,
      "outputs": [
        {
          "output_type": "execute_result",
          "data": {
            "text/plain": [
              "Index(['students', 'subjects', 'score1'], dtype='object')"
            ]
          },
          "metadata": {
            "tags": []
          },
          "execution_count": 134
        }
      ]
    },
    {
      "cell_type": "code",
      "metadata": {
        "id": "OzopTNuBm3ke"
      },
      "source": [
        "# dataframe as a list of series\n",
        "\n",
        "s0 = pd.Series({'students': 'Alice', 'Subjects' : 'Bio', 'score1' : 60})\n",
        "s1 = pd.Series({'students': 'Bob', 'Subjects' : 'Physics', 'score1' : 45})\n",
        "s2 = pd.Series({'students': 'Charlie', 'Subjects' : 'Math', 'score1' : 68})\n",
        "s3 = pd.Series({'students': 'Dave', 'Subjects' : 'Arts', 'score1' : 95})\n",
        "s4 = pd.Series({'students': 'Eva', 'Subjects' : 'Chemistry', 'score1' : 50})\n",
        "s5 = pd.Series({'students': 'Frank', 'Subjects' : 'Economics', 'score1' : 50})\n",
        "\n",
        "df2 = pd.DataFrame([s0, s1, s2, s3, s4, s5])\n",
        "df2"
      ],
      "execution_count": null,
      "outputs": []
    },
    {
      "cell_type": "code",
      "metadata": {
        "colab": {
          "base_uri": "https://localhost:8080/"
        },
        "id": "c8dCbAivnQFU",
        "outputId": "32d77859-810d-4fc4-eb13-6f86542831a2"
      },
      "source": [
        "type(df.iloc[0])"
      ],
      "execution_count": null,
      "outputs": [
        {
          "output_type": "execute_result",
          "data": {
            "text/plain": [
              "pandas.core.series.Series"
            ]
          },
          "metadata": {
            "tags": []
          },
          "execution_count": 135
        }
      ]
    },
    {
      "cell_type": "markdown",
      "metadata": {
        "id": "QzBGWJSjnUzW"
      },
      "source": [
        "# Basic dataframe functions"
      ]
    },
    {
      "cell_type": "code",
      "metadata": {
        "colab": {
          "base_uri": "https://localhost:8080/",
          "height": 204
        },
        "id": "5ZyICM7xnYR3",
        "outputId": "7858cc31-0476-4514-dcdc-a508905fc1a2"
      },
      "source": [
        "df.head()"
      ],
      "execution_count": null,
      "outputs": [
        {
          "output_type": "execute_result",
          "data": {
            "text/html": [
              "<div>\n",
              "<style scoped>\n",
              "    .dataframe tbody tr th:only-of-type {\n",
              "        vertical-align: middle;\n",
              "    }\n",
              "\n",
              "    .dataframe tbody tr th {\n",
              "        vertical-align: top;\n",
              "    }\n",
              "\n",
              "    .dataframe thead th {\n",
              "        text-align: right;\n",
              "    }\n",
              "</style>\n",
              "<table border=\"1\" class=\"dataframe\">\n",
              "  <thead>\n",
              "    <tr style=\"text-align: right;\">\n",
              "      <th></th>\n",
              "      <th>students</th>\n",
              "      <th>subjects</th>\n",
              "      <th>score1</th>\n",
              "    </tr>\n",
              "  </thead>\n",
              "  <tbody>\n",
              "    <tr>\n",
              "      <th>0</th>\n",
              "      <td>Alice</td>\n",
              "      <td>Bio</td>\n",
              "      <td>60</td>\n",
              "    </tr>\n",
              "    <tr>\n",
              "      <th>1</th>\n",
              "      <td>Bob</td>\n",
              "      <td>Physics</td>\n",
              "      <td>45</td>\n",
              "    </tr>\n",
              "    <tr>\n",
              "      <th>2</th>\n",
              "      <td>Charlie</td>\n",
              "      <td>Math</td>\n",
              "      <td>68</td>\n",
              "    </tr>\n",
              "    <tr>\n",
              "      <th>3</th>\n",
              "      <td>Dave</td>\n",
              "      <td>Arts</td>\n",
              "      <td>95</td>\n",
              "    </tr>\n",
              "    <tr>\n",
              "      <th>4</th>\n",
              "      <td>Eva</td>\n",
              "      <td>Chemistry</td>\n",
              "      <td>50</td>\n",
              "    </tr>\n",
              "  </tbody>\n",
              "</table>\n",
              "</div>"
            ],
            "text/plain": [
              "  students   subjects  score1\n",
              "0    Alice        Bio      60\n",
              "1      Bob    Physics      45\n",
              "2  Charlie       Math      68\n",
              "3     Dave       Arts      95\n",
              "4      Eva  Chemistry      50"
            ]
          },
          "metadata": {
            "tags": []
          },
          "execution_count": 136
        }
      ]
    },
    {
      "cell_type": "code",
      "metadata": {
        "colab": {
          "base_uri": "https://localhost:8080/",
          "height": 204
        },
        "id": "DgGpoWBvnbml",
        "outputId": "0e21b70f-f722-434a-bca3-ad0bbc72381b"
      },
      "source": [
        "df.tail()"
      ],
      "execution_count": null,
      "outputs": [
        {
          "output_type": "execute_result",
          "data": {
            "text/html": [
              "<div>\n",
              "<style scoped>\n",
              "    .dataframe tbody tr th:only-of-type {\n",
              "        vertical-align: middle;\n",
              "    }\n",
              "\n",
              "    .dataframe tbody tr th {\n",
              "        vertical-align: top;\n",
              "    }\n",
              "\n",
              "    .dataframe thead th {\n",
              "        text-align: right;\n",
              "    }\n",
              "</style>\n",
              "<table border=\"1\" class=\"dataframe\">\n",
              "  <thead>\n",
              "    <tr style=\"text-align: right;\">\n",
              "      <th></th>\n",
              "      <th>students</th>\n",
              "      <th>subjects</th>\n",
              "      <th>score1</th>\n",
              "    </tr>\n",
              "  </thead>\n",
              "  <tbody>\n",
              "    <tr>\n",
              "      <th>1</th>\n",
              "      <td>Bob</td>\n",
              "      <td>Physics</td>\n",
              "      <td>45</td>\n",
              "    </tr>\n",
              "    <tr>\n",
              "      <th>2</th>\n",
              "      <td>Charlie</td>\n",
              "      <td>Math</td>\n",
              "      <td>68</td>\n",
              "    </tr>\n",
              "    <tr>\n",
              "      <th>3</th>\n",
              "      <td>Dave</td>\n",
              "      <td>Arts</td>\n",
              "      <td>95</td>\n",
              "    </tr>\n",
              "    <tr>\n",
              "      <th>4</th>\n",
              "      <td>Eva</td>\n",
              "      <td>Chemistry</td>\n",
              "      <td>50</td>\n",
              "    </tr>\n",
              "    <tr>\n",
              "      <th>5</th>\n",
              "      <td>Frank</td>\n",
              "      <td>Economics</td>\n",
              "      <td>50</td>\n",
              "    </tr>\n",
              "  </tbody>\n",
              "</table>\n",
              "</div>"
            ],
            "text/plain": [
              "  students   subjects  score1\n",
              "1      Bob    Physics      45\n",
              "2  Charlie       Math      68\n",
              "3     Dave       Arts      95\n",
              "4      Eva  Chemistry      50\n",
              "5    Frank  Economics      50"
            ]
          },
          "metadata": {
            "tags": []
          },
          "execution_count": 137
        }
      ]
    },
    {
      "cell_type": "code",
      "metadata": {
        "colab": {
          "base_uri": "https://localhost:8080/",
          "height": 111
        },
        "id": "QeRTq2JGneOo",
        "outputId": "accf5c26-eb98-4094-a6fc-f2848a3b92bc"
      },
      "source": [
        "# subsetting\n",
        "\n",
        "df[1:3]"
      ],
      "execution_count": null,
      "outputs": [
        {
          "output_type": "execute_result",
          "data": {
            "text/html": [
              "<div>\n",
              "<style scoped>\n",
              "    .dataframe tbody tr th:only-of-type {\n",
              "        vertical-align: middle;\n",
              "    }\n",
              "\n",
              "    .dataframe tbody tr th {\n",
              "        vertical-align: top;\n",
              "    }\n",
              "\n",
              "    .dataframe thead th {\n",
              "        text-align: right;\n",
              "    }\n",
              "</style>\n",
              "<table border=\"1\" class=\"dataframe\">\n",
              "  <thead>\n",
              "    <tr style=\"text-align: right;\">\n",
              "      <th></th>\n",
              "      <th>students</th>\n",
              "      <th>subjects</th>\n",
              "      <th>score1</th>\n",
              "    </tr>\n",
              "  </thead>\n",
              "  <tbody>\n",
              "    <tr>\n",
              "      <th>1</th>\n",
              "      <td>Bob</td>\n",
              "      <td>Physics</td>\n",
              "      <td>45</td>\n",
              "    </tr>\n",
              "    <tr>\n",
              "      <th>2</th>\n",
              "      <td>Charlie</td>\n",
              "      <td>Math</td>\n",
              "      <td>68</td>\n",
              "    </tr>\n",
              "  </tbody>\n",
              "</table>\n",
              "</div>"
            ],
            "text/plain": [
              "  students subjects  score1\n",
              "1      Bob  Physics      45\n",
              "2  Charlie     Math      68"
            ]
          },
          "metadata": {
            "tags": []
          },
          "execution_count": 138
        }
      ]
    },
    {
      "cell_type": "code",
      "metadata": {
        "colab": {
          "base_uri": "https://localhost:8080/"
        },
        "id": "HCwiOU_RniSB",
        "outputId": "af5ddc3b-266b-4ed5-9a2c-815bb920b806"
      },
      "source": [
        "# more subsetting\n",
        "\n",
        "df[1:3]['subjects']"
      ],
      "execution_count": null,
      "outputs": [
        {
          "output_type": "execute_result",
          "data": {
            "text/plain": [
              "1    Physics\n",
              "2       Math\n",
              "Name: subjects, dtype: object"
            ]
          },
          "metadata": {
            "tags": []
          },
          "execution_count": 139
        }
      ]
    },
    {
      "cell_type": "markdown",
      "metadata": {
        "id": "V8HH3ByBZT4y"
      },
      "source": [
        "# Categorical"
      ]
    },
    {
      "cell_type": "code",
      "metadata": {
        "colab": {
          "base_uri": "https://localhost:8080/"
        },
        "id": "rm-t0enHXSA3",
        "outputId": "6759efd9-4b23-4895-ada3-3c09eeb9c3f0"
      },
      "source": [
        "# CATEGORY\n",
        "# We can create a category, different from regular array\n",
        "# category is a set number of values that can be in the df\n",
        "\n",
        "s = pd.Series([\"a\", \"c\", \"b\"], dtype=\"category\") # 3 categories\n",
        "s"
      ],
      "execution_count": null,
      "outputs": [
        {
          "output_type": "execute_result",
          "data": {
            "text/plain": [
              "0    a\n",
              "1    c\n",
              "2    b\n",
              "dtype: category\n",
              "Categories (3, object): ['a', 'b', 'c']"
            ]
          },
          "metadata": {
            "tags": []
          },
          "execution_count": 2
        }
      ]
    },
    {
      "cell_type": "markdown",
      "metadata": {
        "id": "roAblNTqhBjb"
      },
      "source": [
        "# Replace values in dataframes"
      ]
    },
    {
      "cell_type": "code",
      "metadata": {
        "colab": {
          "base_uri": "https://localhost:8080/",
          "height": 173
        },
        "id": "Mq8GBwRJhKeJ",
        "outputId": "2e4dfdaa-19e3-4f5d-d82d-1f5f44ba33df"
      },
      "source": [
        "# let's use simple dataframe\n",
        "\n",
        "df = pd.DataFrame({'a': [1, 2, 3, 4],\n",
        "                   'b': np.arange(5,9),\n",
        "                   'c': np.arange(100, 104)})\n",
        "df"
      ],
      "execution_count": null,
      "outputs": [
        {
          "output_type": "execute_result",
          "data": {
            "text/html": [
              "<div>\n",
              "<style scoped>\n",
              "    .dataframe tbody tr th:only-of-type {\n",
              "        vertical-align: middle;\n",
              "    }\n",
              "\n",
              "    .dataframe tbody tr th {\n",
              "        vertical-align: top;\n",
              "    }\n",
              "\n",
              "    .dataframe thead th {\n",
              "        text-align: right;\n",
              "    }\n",
              "</style>\n",
              "<table border=\"1\" class=\"dataframe\">\n",
              "  <thead>\n",
              "    <tr style=\"text-align: right;\">\n",
              "      <th></th>\n",
              "      <th>a</th>\n",
              "      <th>b</th>\n",
              "      <th>c</th>\n",
              "    </tr>\n",
              "  </thead>\n",
              "  <tbody>\n",
              "    <tr>\n",
              "      <th>0</th>\n",
              "      <td>1</td>\n",
              "      <td>5</td>\n",
              "      <td>100</td>\n",
              "    </tr>\n",
              "    <tr>\n",
              "      <th>1</th>\n",
              "      <td>2</td>\n",
              "      <td>6</td>\n",
              "      <td>101</td>\n",
              "    </tr>\n",
              "    <tr>\n",
              "      <th>2</th>\n",
              "      <td>3</td>\n",
              "      <td>7</td>\n",
              "      <td>102</td>\n",
              "    </tr>\n",
              "    <tr>\n",
              "      <th>3</th>\n",
              "      <td>4</td>\n",
              "      <td>8</td>\n",
              "      <td>103</td>\n",
              "    </tr>\n",
              "  </tbody>\n",
              "</table>\n",
              "</div>"
            ],
            "text/plain": [
              "   a  b    c\n",
              "0  1  5  100\n",
              "1  2  6  101\n",
              "2  3  7  102\n",
              "3  4  8  103"
            ]
          },
          "metadata": {
            "tags": []
          },
          "execution_count": 75
        }
      ]
    },
    {
      "cell_type": "code",
      "metadata": {
        "colab": {
          "base_uri": "https://localhost:8080/"
        },
        "id": "BmOvHkp6hWoj",
        "outputId": "ff30e38d-56c4-4e2e-9706-ebb996308d82"
      },
      "source": [
        "# sum rows\n",
        "\n",
        "df.sum()"
      ],
      "execution_count": null,
      "outputs": [
        {
          "output_type": "execute_result",
          "data": {
            "text/plain": [
              "a     10\n",
              "b     26\n",
              "c    406\n",
              "dtype: int64"
            ]
          },
          "metadata": {
            "tags": []
          },
          "execution_count": 76
        }
      ]
    },
    {
      "cell_type": "code",
      "metadata": {
        "colab": {
          "base_uri": "https://localhost:8080/"
        },
        "id": "UcdGLecGhaQ8",
        "outputId": "ec844957-aa0f-4bb1-ebdd-e3fbab202145"
      },
      "source": [
        "# sum columns\n",
        "\n",
        "df.sum(axis=1)"
      ],
      "execution_count": null,
      "outputs": [
        {
          "output_type": "execute_result",
          "data": {
            "text/plain": [
              "0    106\n",
              "1    109\n",
              "2    112\n",
              "3    115\n",
              "dtype: int64"
            ]
          },
          "metadata": {
            "tags": []
          },
          "execution_count": 78
        }
      ]
    },
    {
      "cell_type": "code",
      "metadata": {
        "colab": {
          "base_uri": "https://localhost:8080/",
          "height": 235
        },
        "id": "l3djSlimhgaN",
        "outputId": "a1d636d6-f7c6-4cc4-c339-b7cca8ac0033"
      },
      "source": [
        "# the same can be done with non numerical values (using string)\n",
        "data = {'students': ['Alice','Bob','Charlie','Dave','Eva', 'Frank'],\n",
        "      'subjects': ['Bio','Physics','Math','Arts','Chemistry', 'Economics'],\n",
        "      'score1': [55, 40, 63, 90, 45, 45]}\n",
        "\n",
        "df_4 = pd.DataFrame(data)\n",
        "df_4"
      ],
      "execution_count": null,
      "outputs": [
        {
          "output_type": "execute_result",
          "data": {
            "text/html": [
              "<div>\n",
              "<style scoped>\n",
              "    .dataframe tbody tr th:only-of-type {\n",
              "        vertical-align: middle;\n",
              "    }\n",
              "\n",
              "    .dataframe tbody tr th {\n",
              "        vertical-align: top;\n",
              "    }\n",
              "\n",
              "    .dataframe thead th {\n",
              "        text-align: right;\n",
              "    }\n",
              "</style>\n",
              "<table border=\"1\" class=\"dataframe\">\n",
              "  <thead>\n",
              "    <tr style=\"text-align: right;\">\n",
              "      <th></th>\n",
              "      <th>students</th>\n",
              "      <th>subjects</th>\n",
              "      <th>score1</th>\n",
              "    </tr>\n",
              "  </thead>\n",
              "  <tbody>\n",
              "    <tr>\n",
              "      <th>0</th>\n",
              "      <td>Alice</td>\n",
              "      <td>Bio</td>\n",
              "      <td>55</td>\n",
              "    </tr>\n",
              "    <tr>\n",
              "      <th>1</th>\n",
              "      <td>Bob</td>\n",
              "      <td>Physics</td>\n",
              "      <td>40</td>\n",
              "    </tr>\n",
              "    <tr>\n",
              "      <th>2</th>\n",
              "      <td>Charlie</td>\n",
              "      <td>Math</td>\n",
              "      <td>63</td>\n",
              "    </tr>\n",
              "    <tr>\n",
              "      <th>3</th>\n",
              "      <td>Dave</td>\n",
              "      <td>Arts</td>\n",
              "      <td>90</td>\n",
              "    </tr>\n",
              "    <tr>\n",
              "      <th>4</th>\n",
              "      <td>Eva</td>\n",
              "      <td>Chemistry</td>\n",
              "      <td>45</td>\n",
              "    </tr>\n",
              "    <tr>\n",
              "      <th>5</th>\n",
              "      <td>Frank</td>\n",
              "      <td>Economics</td>\n",
              "      <td>45</td>\n",
              "    </tr>\n",
              "  </tbody>\n",
              "</table>\n",
              "</div>"
            ],
            "text/plain": [
              "  students   subjects  score1\n",
              "0    Alice        Bio      55\n",
              "1      Bob    Physics      40\n",
              "2  Charlie       Math      63\n",
              "3     Dave       Arts      90\n",
              "4      Eva  Chemistry      45\n",
              "5    Frank  Economics      45"
            ]
          },
          "metadata": {
            "tags": []
          },
          "execution_count": 98
        }
      ]
    },
    {
      "cell_type": "code",
      "metadata": {
        "colab": {
          "base_uri": "https://localhost:8080/",
          "height": 235
        },
        "id": "FFtgAPJdhquR",
        "outputId": "0bd94ed8-eee2-46e9-ce1b-d17c69d0f1c4"
      },
      "source": [
        "# let's add another column\n",
        "df_4[\"score2\"] = [45, 55, 40, 90, 20, 25]\n",
        "\n",
        "df_4"
      ],
      "execution_count": null,
      "outputs": [
        {
          "output_type": "execute_result",
          "data": {
            "text/html": [
              "<div>\n",
              "<style scoped>\n",
              "    .dataframe tbody tr th:only-of-type {\n",
              "        vertical-align: middle;\n",
              "    }\n",
              "\n",
              "    .dataframe tbody tr th {\n",
              "        vertical-align: top;\n",
              "    }\n",
              "\n",
              "    .dataframe thead th {\n",
              "        text-align: right;\n",
              "    }\n",
              "</style>\n",
              "<table border=\"1\" class=\"dataframe\">\n",
              "  <thead>\n",
              "    <tr style=\"text-align: right;\">\n",
              "      <th></th>\n",
              "      <th>students</th>\n",
              "      <th>subjects</th>\n",
              "      <th>score1</th>\n",
              "      <th>score2</th>\n",
              "    </tr>\n",
              "  </thead>\n",
              "  <tbody>\n",
              "    <tr>\n",
              "      <th>0</th>\n",
              "      <td>Alice</td>\n",
              "      <td>Bio</td>\n",
              "      <td>55</td>\n",
              "      <td>45</td>\n",
              "    </tr>\n",
              "    <tr>\n",
              "      <th>1</th>\n",
              "      <td>Bob</td>\n",
              "      <td>Physics</td>\n",
              "      <td>40</td>\n",
              "      <td>55</td>\n",
              "    </tr>\n",
              "    <tr>\n",
              "      <th>2</th>\n",
              "      <td>Charlie</td>\n",
              "      <td>Math</td>\n",
              "      <td>63</td>\n",
              "      <td>40</td>\n",
              "    </tr>\n",
              "    <tr>\n",
              "      <th>3</th>\n",
              "      <td>Dave</td>\n",
              "      <td>Arts</td>\n",
              "      <td>90</td>\n",
              "      <td>90</td>\n",
              "    </tr>\n",
              "    <tr>\n",
              "      <th>4</th>\n",
              "      <td>Eva</td>\n",
              "      <td>Chemistry</td>\n",
              "      <td>45</td>\n",
              "      <td>20</td>\n",
              "    </tr>\n",
              "    <tr>\n",
              "      <th>5</th>\n",
              "      <td>Frank</td>\n",
              "      <td>Economics</td>\n",
              "      <td>45</td>\n",
              "      <td>25</td>\n",
              "    </tr>\n",
              "  </tbody>\n",
              "</table>\n",
              "</div>"
            ],
            "text/plain": [
              "  students   subjects  score1  score2\n",
              "0    Alice        Bio      55      45\n",
              "1      Bob    Physics      40      55\n",
              "2  Charlie       Math      63      40\n",
              "3     Dave       Arts      90      90\n",
              "4      Eva  Chemistry      45      20\n",
              "5    Frank  Economics      45      25"
            ]
          },
          "metadata": {
            "tags": []
          },
          "execution_count": 99
        }
      ]
    },
    {
      "cell_type": "code",
      "metadata": {
        "colab": {
          "base_uri": "https://localhost:8080/",
          "height": 235
        },
        "id": "XTTrpv3EiTWr",
        "outputId": "1b6ef2ab-2528-4447-c648-e9a988e7e31f"
      },
      "source": [
        "# and replace 45 for 25\n",
        "df_4.replace(45, 25)\n",
        "df_4"
      ],
      "execution_count": null,
      "outputs": [
        {
          "output_type": "execute_result",
          "data": {
            "text/html": [
              "<div>\n",
              "<style scoped>\n",
              "    .dataframe tbody tr th:only-of-type {\n",
              "        vertical-align: middle;\n",
              "    }\n",
              "\n",
              "    .dataframe tbody tr th {\n",
              "        vertical-align: top;\n",
              "    }\n",
              "\n",
              "    .dataframe thead th {\n",
              "        text-align: right;\n",
              "    }\n",
              "</style>\n",
              "<table border=\"1\" class=\"dataframe\">\n",
              "  <thead>\n",
              "    <tr style=\"text-align: right;\">\n",
              "      <th></th>\n",
              "      <th>students</th>\n",
              "      <th>subjects</th>\n",
              "      <th>score1</th>\n",
              "      <th>score2</th>\n",
              "    </tr>\n",
              "  </thead>\n",
              "  <tbody>\n",
              "    <tr>\n",
              "      <th>0</th>\n",
              "      <td>Alice</td>\n",
              "      <td>Bio</td>\n",
              "      <td>55</td>\n",
              "      <td>45</td>\n",
              "    </tr>\n",
              "    <tr>\n",
              "      <th>1</th>\n",
              "      <td>Bob</td>\n",
              "      <td>Physics</td>\n",
              "      <td>40</td>\n",
              "      <td>55</td>\n",
              "    </tr>\n",
              "    <tr>\n",
              "      <th>2</th>\n",
              "      <td>Charlie</td>\n",
              "      <td>Math</td>\n",
              "      <td>63</td>\n",
              "      <td>40</td>\n",
              "    </tr>\n",
              "    <tr>\n",
              "      <th>3</th>\n",
              "      <td>Dave</td>\n",
              "      <td>Arts</td>\n",
              "      <td>90</td>\n",
              "      <td>90</td>\n",
              "    </tr>\n",
              "    <tr>\n",
              "      <th>4</th>\n",
              "      <td>Eva</td>\n",
              "      <td>Chemistry</td>\n",
              "      <td>45</td>\n",
              "      <td>20</td>\n",
              "    </tr>\n",
              "    <tr>\n",
              "      <th>5</th>\n",
              "      <td>Frank</td>\n",
              "      <td>Economics</td>\n",
              "      <td>45</td>\n",
              "      <td>25</td>\n",
              "    </tr>\n",
              "  </tbody>\n",
              "</table>\n",
              "</div>"
            ],
            "text/plain": [
              "  students   subjects  score1  score2\n",
              "0    Alice        Bio      55      45\n",
              "1      Bob    Physics      40      55\n",
              "2  Charlie       Math      63      40\n",
              "3     Dave       Arts      90      90\n",
              "4      Eva  Chemistry      45      20\n",
              "5    Frank  Economics      45      25"
            ]
          },
          "metadata": {
            "tags": []
          },
          "execution_count": 100
        }
      ]
    },
    {
      "cell_type": "code",
      "metadata": {
        "colab": {
          "base_uri": "https://localhost:8080/"
        },
        "id": "yBWoU40-ijMk",
        "outputId": "5d096b48-885b-4e82-b2cb-7c187faddf1f"
      },
      "source": [
        "# replace only in 1 column\n",
        "\n",
        "df_4.score1.replace(90, 30)"
      ],
      "execution_count": null,
      "outputs": [
        {
          "output_type": "execute_result",
          "data": {
            "text/plain": [
              "0    55\n",
              "1    40\n",
              "2    63\n",
              "3    30\n",
              "4    45\n",
              "5    45\n",
              "Name: score1, dtype: int64"
            ]
          },
          "metadata": {
            "tags": []
          },
          "execution_count": 101
        }
      ]
    },
    {
      "cell_type": "markdown",
      "metadata": {
        "id": "UFkmG2Oxi-J9"
      },
      "source": [
        "df.replace(\"old value\", \"new value\", inplace=True)"
      ]
    },
    {
      "cell_type": "code",
      "metadata": {
        "colab": {
          "base_uri": "https://localhost:8080/",
          "height": 235
        },
        "id": "PHcy_0OVjExT",
        "outputId": "408e0ee8-fd02-4495-90be-2477d95295eb"
      },
      "source": [
        "# this works for one column or the whole dataset.\n",
        "df_4.score1.replace(90, 30, inplace = True)\n",
        "df_4"
      ],
      "execution_count": null,
      "outputs": [
        {
          "output_type": "execute_result",
          "data": {
            "text/html": [
              "<div>\n",
              "<style scoped>\n",
              "    .dataframe tbody tr th:only-of-type {\n",
              "        vertical-align: middle;\n",
              "    }\n",
              "\n",
              "    .dataframe tbody tr th {\n",
              "        vertical-align: top;\n",
              "    }\n",
              "\n",
              "    .dataframe thead th {\n",
              "        text-align: right;\n",
              "    }\n",
              "</style>\n",
              "<table border=\"1\" class=\"dataframe\">\n",
              "  <thead>\n",
              "    <tr style=\"text-align: right;\">\n",
              "      <th></th>\n",
              "      <th>students</th>\n",
              "      <th>subjects</th>\n",
              "      <th>score1</th>\n",
              "      <th>score2</th>\n",
              "    </tr>\n",
              "  </thead>\n",
              "  <tbody>\n",
              "    <tr>\n",
              "      <th>0</th>\n",
              "      <td>Alice</td>\n",
              "      <td>Bio</td>\n",
              "      <td>55</td>\n",
              "      <td>45</td>\n",
              "    </tr>\n",
              "    <tr>\n",
              "      <th>1</th>\n",
              "      <td>Bob</td>\n",
              "      <td>Physics</td>\n",
              "      <td>40</td>\n",
              "      <td>55</td>\n",
              "    </tr>\n",
              "    <tr>\n",
              "      <th>2</th>\n",
              "      <td>Charlie</td>\n",
              "      <td>Math</td>\n",
              "      <td>63</td>\n",
              "      <td>40</td>\n",
              "    </tr>\n",
              "    <tr>\n",
              "      <th>3</th>\n",
              "      <td>Dave</td>\n",
              "      <td>Arts</td>\n",
              "      <td>30</td>\n",
              "      <td>90</td>\n",
              "    </tr>\n",
              "    <tr>\n",
              "      <th>4</th>\n",
              "      <td>Eva</td>\n",
              "      <td>Chemistry</td>\n",
              "      <td>45</td>\n",
              "      <td>20</td>\n",
              "    </tr>\n",
              "    <tr>\n",
              "      <th>5</th>\n",
              "      <td>Frank</td>\n",
              "      <td>Economics</td>\n",
              "      <td>45</td>\n",
              "      <td>25</td>\n",
              "    </tr>\n",
              "  </tbody>\n",
              "</table>\n",
              "</div>"
            ],
            "text/plain": [
              "  students   subjects  score1  score2\n",
              "0    Alice        Bio      55      45\n",
              "1      Bob    Physics      40      55\n",
              "2  Charlie       Math      63      40\n",
              "3     Dave       Arts      30      90\n",
              "4      Eva  Chemistry      45      20\n",
              "5    Frank  Economics      45      25"
            ]
          },
          "metadata": {
            "tags": []
          },
          "execution_count": 102
        }
      ]
    },
    {
      "cell_type": "markdown",
      "metadata": {
        "id": "wfzwvNTKjSQF"
      },
      "source": [
        "# Missing Values in dataframes"
      ]
    },
    {
      "cell_type": "code",
      "metadata": {
        "colab": {
          "base_uri": "https://localhost:8080/",
          "height": 204
        },
        "id": "wy_Elliqjc2C",
        "outputId": "9cd9f415-3cc5-4ce0-d208-ed6dbf4cb65c"
      },
      "source": [
        "scores = pd.DataFrame({\"Alice\": [10000, 20000, 30000, np.nan],\n",
        "                       \"Bob\": [15000, None, 25000, 30000],\n",
        "                       \"Charlie\": [5000, 6000, None, 8200],\n",
        "                       \"Dave\": [-1, 2000, None, None],\n",
        "                       \"Eva\": [1, 4, None, 16]}\n",
        "                      )\n",
        "scores['rounds'] = pd.Series([2010, 2011, 2012, 2013])\n",
        "scores.set_index('rounds', inplace=True)\n",
        "scores"
      ],
      "execution_count": null,
      "outputs": [
        {
          "output_type": "execute_result",
          "data": {
            "text/html": [
              "<div>\n",
              "<style scoped>\n",
              "    .dataframe tbody tr th:only-of-type {\n",
              "        vertical-align: middle;\n",
              "    }\n",
              "\n",
              "    .dataframe tbody tr th {\n",
              "        vertical-align: top;\n",
              "    }\n",
              "\n",
              "    .dataframe thead th {\n",
              "        text-align: right;\n",
              "    }\n",
              "</style>\n",
              "<table border=\"1\" class=\"dataframe\">\n",
              "  <thead>\n",
              "    <tr style=\"text-align: right;\">\n",
              "      <th></th>\n",
              "      <th>Alice</th>\n",
              "      <th>Bob</th>\n",
              "      <th>Charlie</th>\n",
              "      <th>Dave</th>\n",
              "      <th>Eva</th>\n",
              "    </tr>\n",
              "    <tr>\n",
              "      <th>rounds</th>\n",
              "      <th></th>\n",
              "      <th></th>\n",
              "      <th></th>\n",
              "      <th></th>\n",
              "      <th></th>\n",
              "    </tr>\n",
              "  </thead>\n",
              "  <tbody>\n",
              "    <tr>\n",
              "      <th>2010</th>\n",
              "      <td>10000.0</td>\n",
              "      <td>15000.0</td>\n",
              "      <td>5000.0</td>\n",
              "      <td>-1.0</td>\n",
              "      <td>1.0</td>\n",
              "    </tr>\n",
              "    <tr>\n",
              "      <th>2011</th>\n",
              "      <td>20000.0</td>\n",
              "      <td>NaN</td>\n",
              "      <td>6000.0</td>\n",
              "      <td>2000.0</td>\n",
              "      <td>4.0</td>\n",
              "    </tr>\n",
              "    <tr>\n",
              "      <th>2012</th>\n",
              "      <td>30000.0</td>\n",
              "      <td>25000.0</td>\n",
              "      <td>NaN</td>\n",
              "      <td>NaN</td>\n",
              "      <td>NaN</td>\n",
              "    </tr>\n",
              "    <tr>\n",
              "      <th>2013</th>\n",
              "      <td>NaN</td>\n",
              "      <td>30000.0</td>\n",
              "      <td>8200.0</td>\n",
              "      <td>NaN</td>\n",
              "      <td>16.0</td>\n",
              "    </tr>\n",
              "  </tbody>\n",
              "</table>\n",
              "</div>"
            ],
            "text/plain": [
              "          Alice      Bob  Charlie    Dave   Eva\n",
              "rounds                                         \n",
              "2010    10000.0  15000.0   5000.0    -1.0   1.0\n",
              "2011    20000.0      NaN   6000.0  2000.0   4.0\n",
              "2012    30000.0  25000.0      NaN     NaN   NaN\n",
              "2013        NaN  30000.0   8200.0     NaN  16.0"
            ]
          },
          "metadata": {
            "tags": []
          },
          "execution_count": 103
        }
      ]
    },
    {
      "cell_type": "code",
      "metadata": {
        "colab": {
          "base_uri": "https://localhost:8080/",
          "height": 111
        },
        "id": "wyuW3cpYjg3j",
        "outputId": "b33fb8f3-40c5-49fb-e111-19c87d5181f8"
      },
      "source": [
        "# drop any row that has missing entries\n",
        "scores.dropna()"
      ],
      "execution_count": null,
      "outputs": [
        {
          "output_type": "execute_result",
          "data": {
            "text/html": [
              "<div>\n",
              "<style scoped>\n",
              "    .dataframe tbody tr th:only-of-type {\n",
              "        vertical-align: middle;\n",
              "    }\n",
              "\n",
              "    .dataframe tbody tr th {\n",
              "        vertical-align: top;\n",
              "    }\n",
              "\n",
              "    .dataframe thead th {\n",
              "        text-align: right;\n",
              "    }\n",
              "</style>\n",
              "<table border=\"1\" class=\"dataframe\">\n",
              "  <thead>\n",
              "    <tr style=\"text-align: right;\">\n",
              "      <th></th>\n",
              "      <th>Alice</th>\n",
              "      <th>Bob</th>\n",
              "      <th>Charlie</th>\n",
              "      <th>Dave</th>\n",
              "      <th>Eva</th>\n",
              "    </tr>\n",
              "    <tr>\n",
              "      <th>rounds</th>\n",
              "      <th></th>\n",
              "      <th></th>\n",
              "      <th></th>\n",
              "      <th></th>\n",
              "      <th></th>\n",
              "    </tr>\n",
              "  </thead>\n",
              "  <tbody>\n",
              "    <tr>\n",
              "      <th>2010</th>\n",
              "      <td>10000.0</td>\n",
              "      <td>15000.0</td>\n",
              "      <td>5000.0</td>\n",
              "      <td>-1.0</td>\n",
              "      <td>1.0</td>\n",
              "    </tr>\n",
              "  </tbody>\n",
              "</table>\n",
              "</div>"
            ],
            "text/plain": [
              "          Alice      Bob  Charlie  Dave  Eva\n",
              "rounds                                      \n",
              "2010    10000.0  15000.0   5000.0  -1.0  1.0"
            ]
          },
          "metadata": {
            "tags": []
          },
          "execution_count": 104
        }
      ]
    },
    {
      "cell_type": "code",
      "metadata": {
        "colab": {
          "base_uri": "https://localhost:8080/"
        },
        "id": "pr1_kO5QjjjV",
        "outputId": "f3edebf5-7480-4bcb-e334-0152eee2ccf8"
      },
      "source": [
        "# drop a column with missing data\n",
        "scores.Dave.dropna()"
      ],
      "execution_count": null,
      "outputs": [
        {
          "output_type": "execute_result",
          "data": {
            "text/plain": [
              "rounds\n",
              "2010      -1.0\n",
              "2011    2000.0\n",
              "Name: Dave, dtype: float64"
            ]
          },
          "metadata": {
            "tags": []
          },
          "execution_count": 105
        }
      ]
    },
    {
      "cell_type": "code",
      "metadata": {
        "colab": {
          "base_uri": "https://localhost:8080/",
          "height": 204
        },
        "id": "9ri9chhyjpCb",
        "outputId": "b4e9c1b9-4c3e-49dc-8c2e-357d9ab4c927"
      },
      "source": [
        "# replace negative with 0\n",
        "\n",
        "scores.replace(-1, 0, inplace=True)\n",
        "scores"
      ],
      "execution_count": null,
      "outputs": [
        {
          "output_type": "execute_result",
          "data": {
            "text/html": [
              "<div>\n",
              "<style scoped>\n",
              "    .dataframe tbody tr th:only-of-type {\n",
              "        vertical-align: middle;\n",
              "    }\n",
              "\n",
              "    .dataframe tbody tr th {\n",
              "        vertical-align: top;\n",
              "    }\n",
              "\n",
              "    .dataframe thead th {\n",
              "        text-align: right;\n",
              "    }\n",
              "</style>\n",
              "<table border=\"1\" class=\"dataframe\">\n",
              "  <thead>\n",
              "    <tr style=\"text-align: right;\">\n",
              "      <th></th>\n",
              "      <th>Alice</th>\n",
              "      <th>Bob</th>\n",
              "      <th>Charlie</th>\n",
              "      <th>Dave</th>\n",
              "      <th>Eva</th>\n",
              "    </tr>\n",
              "    <tr>\n",
              "      <th>rounds</th>\n",
              "      <th></th>\n",
              "      <th></th>\n",
              "      <th></th>\n",
              "      <th></th>\n",
              "      <th></th>\n",
              "    </tr>\n",
              "  </thead>\n",
              "  <tbody>\n",
              "    <tr>\n",
              "      <th>2010</th>\n",
              "      <td>10000.0</td>\n",
              "      <td>15000.0</td>\n",
              "      <td>5000.0</td>\n",
              "      <td>0.0</td>\n",
              "      <td>1.0</td>\n",
              "    </tr>\n",
              "    <tr>\n",
              "      <th>2011</th>\n",
              "      <td>20000.0</td>\n",
              "      <td>NaN</td>\n",
              "      <td>6000.0</td>\n",
              "      <td>2000.0</td>\n",
              "      <td>4.0</td>\n",
              "    </tr>\n",
              "    <tr>\n",
              "      <th>2012</th>\n",
              "      <td>30000.0</td>\n",
              "      <td>25000.0</td>\n",
              "      <td>NaN</td>\n",
              "      <td>NaN</td>\n",
              "      <td>NaN</td>\n",
              "    </tr>\n",
              "    <tr>\n",
              "      <th>2013</th>\n",
              "      <td>NaN</td>\n",
              "      <td>30000.0</td>\n",
              "      <td>8200.0</td>\n",
              "      <td>NaN</td>\n",
              "      <td>16.0</td>\n",
              "    </tr>\n",
              "  </tbody>\n",
              "</table>\n",
              "</div>"
            ],
            "text/plain": [
              "          Alice      Bob  Charlie    Dave   Eva\n",
              "rounds                                         \n",
              "2010    10000.0  15000.0   5000.0     0.0   1.0\n",
              "2011    20000.0      NaN   6000.0  2000.0   4.0\n",
              "2012    30000.0  25000.0      NaN     NaN   NaN\n",
              "2013        NaN  30000.0   8200.0     NaN  16.0"
            ]
          },
          "metadata": {
            "tags": []
          },
          "execution_count": 108
        }
      ]
    },
    {
      "cell_type": "code",
      "metadata": {
        "colab": {
          "base_uri": "https://localhost:8080/",
          "height": 204
        },
        "id": "j5jOzOAijsc4",
        "outputId": "df413f2f-375f-4ae9-a345-cd916cc2a6a7"
      },
      "source": [
        "# fill missing values with 100\n",
        "\n",
        "scores.fillna(100) # inplace = False"
      ],
      "execution_count": null,
      "outputs": [
        {
          "output_type": "execute_result",
          "data": {
            "text/html": [
              "<div>\n",
              "<style scoped>\n",
              "    .dataframe tbody tr th:only-of-type {\n",
              "        vertical-align: middle;\n",
              "    }\n",
              "\n",
              "    .dataframe tbody tr th {\n",
              "        vertical-align: top;\n",
              "    }\n",
              "\n",
              "    .dataframe thead th {\n",
              "        text-align: right;\n",
              "    }\n",
              "</style>\n",
              "<table border=\"1\" class=\"dataframe\">\n",
              "  <thead>\n",
              "    <tr style=\"text-align: right;\">\n",
              "      <th></th>\n",
              "      <th>Alice</th>\n",
              "      <th>Bob</th>\n",
              "      <th>Charlie</th>\n",
              "      <th>Dave</th>\n",
              "      <th>Eva</th>\n",
              "    </tr>\n",
              "    <tr>\n",
              "      <th>rounds</th>\n",
              "      <th></th>\n",
              "      <th></th>\n",
              "      <th></th>\n",
              "      <th></th>\n",
              "      <th></th>\n",
              "    </tr>\n",
              "  </thead>\n",
              "  <tbody>\n",
              "    <tr>\n",
              "      <th>2010</th>\n",
              "      <td>10000.0</td>\n",
              "      <td>15000.0</td>\n",
              "      <td>5000.0</td>\n",
              "      <td>0.0</td>\n",
              "      <td>1.0</td>\n",
              "    </tr>\n",
              "    <tr>\n",
              "      <th>2011</th>\n",
              "      <td>20000.0</td>\n",
              "      <td>100.0</td>\n",
              "      <td>6000.0</td>\n",
              "      <td>2000.0</td>\n",
              "      <td>4.0</td>\n",
              "    </tr>\n",
              "    <tr>\n",
              "      <th>2012</th>\n",
              "      <td>30000.0</td>\n",
              "      <td>25000.0</td>\n",
              "      <td>100.0</td>\n",
              "      <td>100.0</td>\n",
              "      <td>100.0</td>\n",
              "    </tr>\n",
              "    <tr>\n",
              "      <th>2013</th>\n",
              "      <td>100.0</td>\n",
              "      <td>30000.0</td>\n",
              "      <td>8200.0</td>\n",
              "      <td>100.0</td>\n",
              "      <td>16.0</td>\n",
              "    </tr>\n",
              "  </tbody>\n",
              "</table>\n",
              "</div>"
            ],
            "text/plain": [
              "          Alice      Bob  Charlie    Dave    Eva\n",
              "rounds                                          \n",
              "2010    10000.0  15000.0   5000.0     0.0    1.0\n",
              "2011    20000.0    100.0   6000.0  2000.0    4.0\n",
              "2012    30000.0  25000.0    100.0   100.0  100.0\n",
              "2013      100.0  30000.0   8200.0   100.0   16.0"
            ]
          },
          "metadata": {
            "tags": []
          },
          "execution_count": 107
        }
      ]
    },
    {
      "cell_type": "markdown",
      "metadata": {
        "id": "pb2w-7BWj9Cu"
      },
      "source": [
        "# Filling missing values"
      ]
    },
    {
      "cell_type": "code",
      "metadata": {
        "colab": {
          "base_uri": "https://localhost:8080/",
          "height": 204
        },
        "id": "Syw_XYSzj_4l",
        "outputId": "6a0b713b-5602-44b0-b389-d24a902aa6cd"
      },
      "source": [
        "scores"
      ],
      "execution_count": null,
      "outputs": [
        {
          "output_type": "execute_result",
          "data": {
            "text/html": [
              "<div>\n",
              "<style scoped>\n",
              "    .dataframe tbody tr th:only-of-type {\n",
              "        vertical-align: middle;\n",
              "    }\n",
              "\n",
              "    .dataframe tbody tr th {\n",
              "        vertical-align: top;\n",
              "    }\n",
              "\n",
              "    .dataframe thead th {\n",
              "        text-align: right;\n",
              "    }\n",
              "</style>\n",
              "<table border=\"1\" class=\"dataframe\">\n",
              "  <thead>\n",
              "    <tr style=\"text-align: right;\">\n",
              "      <th></th>\n",
              "      <th>Alice</th>\n",
              "      <th>Bob</th>\n",
              "      <th>Charlie</th>\n",
              "      <th>Dave</th>\n",
              "      <th>Eva</th>\n",
              "    </tr>\n",
              "    <tr>\n",
              "      <th>rounds</th>\n",
              "      <th></th>\n",
              "      <th></th>\n",
              "      <th></th>\n",
              "      <th></th>\n",
              "      <th></th>\n",
              "    </tr>\n",
              "  </thead>\n",
              "  <tbody>\n",
              "    <tr>\n",
              "      <th>2010</th>\n",
              "      <td>10000.0</td>\n",
              "      <td>15000.0</td>\n",
              "      <td>5000.0</td>\n",
              "      <td>0.0</td>\n",
              "      <td>1.0</td>\n",
              "    </tr>\n",
              "    <tr>\n",
              "      <th>2011</th>\n",
              "      <td>20000.0</td>\n",
              "      <td>NaN</td>\n",
              "      <td>6000.0</td>\n",
              "      <td>2000.0</td>\n",
              "      <td>4.0</td>\n",
              "    </tr>\n",
              "    <tr>\n",
              "      <th>2012</th>\n",
              "      <td>30000.0</td>\n",
              "      <td>25000.0</td>\n",
              "      <td>NaN</td>\n",
              "      <td>NaN</td>\n",
              "      <td>NaN</td>\n",
              "    </tr>\n",
              "    <tr>\n",
              "      <th>2013</th>\n",
              "      <td>NaN</td>\n",
              "      <td>30000.0</td>\n",
              "      <td>8200.0</td>\n",
              "      <td>NaN</td>\n",
              "      <td>16.0</td>\n",
              "    </tr>\n",
              "  </tbody>\n",
              "</table>\n",
              "</div>"
            ],
            "text/plain": [
              "          Alice      Bob  Charlie    Dave   Eva\n",
              "rounds                                         \n",
              "2010    10000.0  15000.0   5000.0     0.0   1.0\n",
              "2011    20000.0      NaN   6000.0  2000.0   4.0\n",
              "2012    30000.0  25000.0      NaN     NaN   NaN\n",
              "2013        NaN  30000.0   8200.0     NaN  16.0"
            ]
          },
          "metadata": {
            "tags": []
          },
          "execution_count": 109
        }
      ]
    },
    {
      "cell_type": "code",
      "metadata": {
        "colab": {
          "base_uri": "https://localhost:8080/",
          "height": 204
        },
        "id": "VT6Rv3sQkBTq",
        "outputId": "eb80ed80-7056-4bd5-eaff-56f8bfb3245e"
      },
      "source": [
        "# backfill\n",
        "\n",
        "scores.fillna(method=\"bfill\")"
      ],
      "execution_count": null,
      "outputs": [
        {
          "output_type": "execute_result",
          "data": {
            "text/html": [
              "<div>\n",
              "<style scoped>\n",
              "    .dataframe tbody tr th:only-of-type {\n",
              "        vertical-align: middle;\n",
              "    }\n",
              "\n",
              "    .dataframe tbody tr th {\n",
              "        vertical-align: top;\n",
              "    }\n",
              "\n",
              "    .dataframe thead th {\n",
              "        text-align: right;\n",
              "    }\n",
              "</style>\n",
              "<table border=\"1\" class=\"dataframe\">\n",
              "  <thead>\n",
              "    <tr style=\"text-align: right;\">\n",
              "      <th></th>\n",
              "      <th>Alice</th>\n",
              "      <th>Bob</th>\n",
              "      <th>Charlie</th>\n",
              "      <th>Dave</th>\n",
              "      <th>Eva</th>\n",
              "    </tr>\n",
              "    <tr>\n",
              "      <th>rounds</th>\n",
              "      <th></th>\n",
              "      <th></th>\n",
              "      <th></th>\n",
              "      <th></th>\n",
              "      <th></th>\n",
              "    </tr>\n",
              "  </thead>\n",
              "  <tbody>\n",
              "    <tr>\n",
              "      <th>2010</th>\n",
              "      <td>10000.0</td>\n",
              "      <td>15000.0</td>\n",
              "      <td>5000.0</td>\n",
              "      <td>0.0</td>\n",
              "      <td>1.0</td>\n",
              "    </tr>\n",
              "    <tr>\n",
              "      <th>2011</th>\n",
              "      <td>20000.0</td>\n",
              "      <td>25000.0</td>\n",
              "      <td>6000.0</td>\n",
              "      <td>2000.0</td>\n",
              "      <td>4.0</td>\n",
              "    </tr>\n",
              "    <tr>\n",
              "      <th>2012</th>\n",
              "      <td>30000.0</td>\n",
              "      <td>25000.0</td>\n",
              "      <td>8200.0</td>\n",
              "      <td>NaN</td>\n",
              "      <td>16.0</td>\n",
              "    </tr>\n",
              "    <tr>\n",
              "      <th>2013</th>\n",
              "      <td>NaN</td>\n",
              "      <td>30000.0</td>\n",
              "      <td>8200.0</td>\n",
              "      <td>NaN</td>\n",
              "      <td>16.0</td>\n",
              "    </tr>\n",
              "  </tbody>\n",
              "</table>\n",
              "</div>"
            ],
            "text/plain": [
              "          Alice      Bob  Charlie    Dave   Eva\n",
              "rounds                                         \n",
              "2010    10000.0  15000.0   5000.0     0.0   1.0\n",
              "2011    20000.0  25000.0   6000.0  2000.0   4.0\n",
              "2012    30000.0  25000.0   8200.0     NaN  16.0\n",
              "2013        NaN  30000.0   8200.0     NaN  16.0"
            ]
          },
          "metadata": {
            "tags": []
          },
          "execution_count": 111
        }
      ]
    },
    {
      "cell_type": "code",
      "metadata": {
        "colab": {
          "base_uri": "https://localhost:8080/",
          "height": 204
        },
        "id": "Eop3TopgkINI",
        "outputId": "c8fc06af-f509-4995-f51c-a321b9597191"
      },
      "source": [
        "# forward fill\n",
        "\n",
        "scores.fillna(method=\"ffill\")"
      ],
      "execution_count": null,
      "outputs": [
        {
          "output_type": "execute_result",
          "data": {
            "text/html": [
              "<div>\n",
              "<style scoped>\n",
              "    .dataframe tbody tr th:only-of-type {\n",
              "        vertical-align: middle;\n",
              "    }\n",
              "\n",
              "    .dataframe tbody tr th {\n",
              "        vertical-align: top;\n",
              "    }\n",
              "\n",
              "    .dataframe thead th {\n",
              "        text-align: right;\n",
              "    }\n",
              "</style>\n",
              "<table border=\"1\" class=\"dataframe\">\n",
              "  <thead>\n",
              "    <tr style=\"text-align: right;\">\n",
              "      <th></th>\n",
              "      <th>Alice</th>\n",
              "      <th>Bob</th>\n",
              "      <th>Charlie</th>\n",
              "      <th>Dave</th>\n",
              "      <th>Eva</th>\n",
              "    </tr>\n",
              "    <tr>\n",
              "      <th>rounds</th>\n",
              "      <th></th>\n",
              "      <th></th>\n",
              "      <th></th>\n",
              "      <th></th>\n",
              "      <th></th>\n",
              "    </tr>\n",
              "  </thead>\n",
              "  <tbody>\n",
              "    <tr>\n",
              "      <th>2010</th>\n",
              "      <td>10000.0</td>\n",
              "      <td>15000.0</td>\n",
              "      <td>5000.0</td>\n",
              "      <td>0.0</td>\n",
              "      <td>1.0</td>\n",
              "    </tr>\n",
              "    <tr>\n",
              "      <th>2011</th>\n",
              "      <td>20000.0</td>\n",
              "      <td>15000.0</td>\n",
              "      <td>6000.0</td>\n",
              "      <td>2000.0</td>\n",
              "      <td>4.0</td>\n",
              "    </tr>\n",
              "    <tr>\n",
              "      <th>2012</th>\n",
              "      <td>30000.0</td>\n",
              "      <td>25000.0</td>\n",
              "      <td>6000.0</td>\n",
              "      <td>2000.0</td>\n",
              "      <td>4.0</td>\n",
              "    </tr>\n",
              "    <tr>\n",
              "      <th>2013</th>\n",
              "      <td>30000.0</td>\n",
              "      <td>30000.0</td>\n",
              "      <td>8200.0</td>\n",
              "      <td>2000.0</td>\n",
              "      <td>16.0</td>\n",
              "    </tr>\n",
              "  </tbody>\n",
              "</table>\n",
              "</div>"
            ],
            "text/plain": [
              "          Alice      Bob  Charlie    Dave   Eva\n",
              "rounds                                         \n",
              "2010    10000.0  15000.0   5000.0     0.0   1.0\n",
              "2011    20000.0  15000.0   6000.0  2000.0   4.0\n",
              "2012    30000.0  25000.0   6000.0  2000.0   4.0\n",
              "2013    30000.0  30000.0   8200.0  2000.0  16.0"
            ]
          },
          "metadata": {
            "tags": []
          },
          "execution_count": 114
        }
      ]
    },
    {
      "cell_type": "code",
      "metadata": {
        "colab": {
          "base_uri": "https://localhost:8080/",
          "height": 204
        },
        "id": "0eTFJzyYkLgk",
        "outputId": "7e245bcd-2423-4ac1-c9f0-e1a0311e4a2b"
      },
      "source": [
        "# pad\n",
        "\n",
        "scores.fillna(method=\"pad\")"
      ],
      "execution_count": null,
      "outputs": [
        {
          "output_type": "execute_result",
          "data": {
            "text/html": [
              "<div>\n",
              "<style scoped>\n",
              "    .dataframe tbody tr th:only-of-type {\n",
              "        vertical-align: middle;\n",
              "    }\n",
              "\n",
              "    .dataframe tbody tr th {\n",
              "        vertical-align: top;\n",
              "    }\n",
              "\n",
              "    .dataframe thead th {\n",
              "        text-align: right;\n",
              "    }\n",
              "</style>\n",
              "<table border=\"1\" class=\"dataframe\">\n",
              "  <thead>\n",
              "    <tr style=\"text-align: right;\">\n",
              "      <th></th>\n",
              "      <th>Alice</th>\n",
              "      <th>Bob</th>\n",
              "      <th>Charlie</th>\n",
              "      <th>Dave</th>\n",
              "      <th>Eva</th>\n",
              "    </tr>\n",
              "    <tr>\n",
              "      <th>rounds</th>\n",
              "      <th></th>\n",
              "      <th></th>\n",
              "      <th></th>\n",
              "      <th></th>\n",
              "      <th></th>\n",
              "    </tr>\n",
              "  </thead>\n",
              "  <tbody>\n",
              "    <tr>\n",
              "      <th>2010</th>\n",
              "      <td>10000.0</td>\n",
              "      <td>15000.0</td>\n",
              "      <td>5000.0</td>\n",
              "      <td>0.0</td>\n",
              "      <td>1.0</td>\n",
              "    </tr>\n",
              "    <tr>\n",
              "      <th>2011</th>\n",
              "      <td>20000.0</td>\n",
              "      <td>15000.0</td>\n",
              "      <td>6000.0</td>\n",
              "      <td>2000.0</td>\n",
              "      <td>4.0</td>\n",
              "    </tr>\n",
              "    <tr>\n",
              "      <th>2012</th>\n",
              "      <td>30000.0</td>\n",
              "      <td>25000.0</td>\n",
              "      <td>6000.0</td>\n",
              "      <td>2000.0</td>\n",
              "      <td>4.0</td>\n",
              "    </tr>\n",
              "    <tr>\n",
              "      <th>2013</th>\n",
              "      <td>30000.0</td>\n",
              "      <td>30000.0</td>\n",
              "      <td>8200.0</td>\n",
              "      <td>2000.0</td>\n",
              "      <td>16.0</td>\n",
              "    </tr>\n",
              "  </tbody>\n",
              "</table>\n",
              "</div>"
            ],
            "text/plain": [
              "          Alice      Bob  Charlie    Dave   Eva\n",
              "rounds                                         \n",
              "2010    10000.0  15000.0   5000.0     0.0   1.0\n",
              "2011    20000.0  15000.0   6000.0  2000.0   4.0\n",
              "2012    30000.0  25000.0   6000.0  2000.0   4.0\n",
              "2013    30000.0  30000.0   8200.0  2000.0  16.0"
            ]
          },
          "metadata": {
            "tags": []
          },
          "execution_count": 112
        }
      ]
    },
    {
      "cell_type": "code",
      "metadata": {
        "colab": {
          "base_uri": "https://localhost:8080/",
          "height": 204
        },
        "id": "QThfxaATkVVF",
        "outputId": "65a6fdf1-44e6-4951-ffed-f21d750e5b86"
      },
      "source": [
        "#backfill\n",
        "\n",
        "scores.fillna(method=\"backfill\")"
      ],
      "execution_count": null,
      "outputs": [
        {
          "output_type": "execute_result",
          "data": {
            "text/html": [
              "<div>\n",
              "<style scoped>\n",
              "    .dataframe tbody tr th:only-of-type {\n",
              "        vertical-align: middle;\n",
              "    }\n",
              "\n",
              "    .dataframe tbody tr th {\n",
              "        vertical-align: top;\n",
              "    }\n",
              "\n",
              "    .dataframe thead th {\n",
              "        text-align: right;\n",
              "    }\n",
              "</style>\n",
              "<table border=\"1\" class=\"dataframe\">\n",
              "  <thead>\n",
              "    <tr style=\"text-align: right;\">\n",
              "      <th></th>\n",
              "      <th>Alice</th>\n",
              "      <th>Bob</th>\n",
              "      <th>Charlie</th>\n",
              "      <th>Dave</th>\n",
              "      <th>Eva</th>\n",
              "    </tr>\n",
              "    <tr>\n",
              "      <th>rounds</th>\n",
              "      <th></th>\n",
              "      <th></th>\n",
              "      <th></th>\n",
              "      <th></th>\n",
              "      <th></th>\n",
              "    </tr>\n",
              "  </thead>\n",
              "  <tbody>\n",
              "    <tr>\n",
              "      <th>2010</th>\n",
              "      <td>10000.0</td>\n",
              "      <td>15000.0</td>\n",
              "      <td>5000.0</td>\n",
              "      <td>0.0</td>\n",
              "      <td>1.0</td>\n",
              "    </tr>\n",
              "    <tr>\n",
              "      <th>2011</th>\n",
              "      <td>20000.0</td>\n",
              "      <td>25000.0</td>\n",
              "      <td>6000.0</td>\n",
              "      <td>2000.0</td>\n",
              "      <td>4.0</td>\n",
              "    </tr>\n",
              "    <tr>\n",
              "      <th>2012</th>\n",
              "      <td>30000.0</td>\n",
              "      <td>25000.0</td>\n",
              "      <td>8200.0</td>\n",
              "      <td>NaN</td>\n",
              "      <td>16.0</td>\n",
              "    </tr>\n",
              "    <tr>\n",
              "      <th>2013</th>\n",
              "      <td>NaN</td>\n",
              "      <td>30000.0</td>\n",
              "      <td>8200.0</td>\n",
              "      <td>NaN</td>\n",
              "      <td>16.0</td>\n",
              "    </tr>\n",
              "  </tbody>\n",
              "</table>\n",
              "</div>"
            ],
            "text/plain": [
              "          Alice      Bob  Charlie    Dave   Eva\n",
              "rounds                                         \n",
              "2010    10000.0  15000.0   5000.0     0.0   1.0\n",
              "2011    20000.0  25000.0   6000.0  2000.0   4.0\n",
              "2012    30000.0  25000.0   8200.0     NaN  16.0\n",
              "2013        NaN  30000.0   8200.0     NaN  16.0"
            ]
          },
          "metadata": {
            "tags": []
          },
          "execution_count": 117
        }
      ]
    },
    {
      "cell_type": "markdown",
      "metadata": {
        "id": "gMODl4pwknbs"
      },
      "source": [
        "https://pandas.pydata.org/pandas-docs/stable/reference/api/pandas.DataFrame.interpolate.html#pandas.DataFrame.interpolate\n"
      ]
    },
    {
      "cell_type": "markdown",
      "metadata": {
        "id": "azJ_NK0gkrz5"
      },
      "source": [
        "# Interpolate missing values"
      ]
    },
    {
      "cell_type": "code",
      "metadata": {
        "colab": {
          "base_uri": "https://localhost:8080/",
          "height": 204
        },
        "id": "26DWVqi6kwg0",
        "outputId": "2dede0a2-9c62-4639-952d-190a94870560"
      },
      "source": [
        "# If values are either increasing or decreasing in a pattern, we can interpolate the values for the missing entries, say as an average of the nearby values.\n",
        "\n",
        "scores.interpolate(method=\"linear\") # inplace=False"
      ],
      "execution_count": null,
      "outputs": [
        {
          "output_type": "execute_result",
          "data": {
            "text/html": [
              "<div>\n",
              "<style scoped>\n",
              "    .dataframe tbody tr th:only-of-type {\n",
              "        vertical-align: middle;\n",
              "    }\n",
              "\n",
              "    .dataframe tbody tr th {\n",
              "        vertical-align: top;\n",
              "    }\n",
              "\n",
              "    .dataframe thead th {\n",
              "        text-align: right;\n",
              "    }\n",
              "</style>\n",
              "<table border=\"1\" class=\"dataframe\">\n",
              "  <thead>\n",
              "    <tr style=\"text-align: right;\">\n",
              "      <th></th>\n",
              "      <th>Alice</th>\n",
              "      <th>Bob</th>\n",
              "      <th>Charlie</th>\n",
              "      <th>Dave</th>\n",
              "      <th>Eva</th>\n",
              "    </tr>\n",
              "    <tr>\n",
              "      <th>rounds</th>\n",
              "      <th></th>\n",
              "      <th></th>\n",
              "      <th></th>\n",
              "      <th></th>\n",
              "      <th></th>\n",
              "    </tr>\n",
              "  </thead>\n",
              "  <tbody>\n",
              "    <tr>\n",
              "      <th>2010</th>\n",
              "      <td>10000.0</td>\n",
              "      <td>15000.0</td>\n",
              "      <td>5000.0</td>\n",
              "      <td>0.0</td>\n",
              "      <td>1.0</td>\n",
              "    </tr>\n",
              "    <tr>\n",
              "      <th>2011</th>\n",
              "      <td>20000.0</td>\n",
              "      <td>20000.0</td>\n",
              "      <td>6000.0</td>\n",
              "      <td>2000.0</td>\n",
              "      <td>4.0</td>\n",
              "    </tr>\n",
              "    <tr>\n",
              "      <th>2012</th>\n",
              "      <td>30000.0</td>\n",
              "      <td>25000.0</td>\n",
              "      <td>7100.0</td>\n",
              "      <td>2000.0</td>\n",
              "      <td>10.0</td>\n",
              "    </tr>\n",
              "    <tr>\n",
              "      <th>2013</th>\n",
              "      <td>30000.0</td>\n",
              "      <td>30000.0</td>\n",
              "      <td>8200.0</td>\n",
              "      <td>2000.0</td>\n",
              "      <td>16.0</td>\n",
              "    </tr>\n",
              "  </tbody>\n",
              "</table>\n",
              "</div>"
            ],
            "text/plain": [
              "          Alice      Bob  Charlie    Dave   Eva\n",
              "rounds                                         \n",
              "2010    10000.0  15000.0   5000.0     0.0   1.0\n",
              "2011    20000.0  20000.0   6000.0  2000.0   4.0\n",
              "2012    30000.0  25000.0   7100.0  2000.0  10.0\n",
              "2013    30000.0  30000.0   8200.0  2000.0  16.0"
            ]
          },
          "metadata": {
            "tags": []
          },
          "execution_count": 119
        }
      ]
    },
    {
      "cell_type": "code",
      "metadata": {
        "colab": {
          "base_uri": "https://localhost:8080/"
        },
        "id": "k72hT__Pk3Pa",
        "outputId": "d2e45854-5d32-4ac9-df40-0ecc2f60d52f"
      },
      "source": [
        "# interpolate using quadratic methord\n",
        "\n",
        "scores[\"Eva\"].interpolate(method=\"quadratic\")"
      ],
      "execution_count": null,
      "outputs": [
        {
          "output_type": "execute_result",
          "data": {
            "text/plain": [
              "rounds\n",
              "2010     1.0\n",
              "2011     4.0\n",
              "2012     9.0\n",
              "2013    16.0\n",
              "Name: Eva, dtype: float64"
            ]
          },
          "metadata": {
            "tags": []
          },
          "execution_count": 120
        }
      ]
    },
    {
      "cell_type": "code",
      "metadata": {
        "colab": {
          "base_uri": "https://localhost:8080/",
          "height": 204
        },
        "id": "4_iQc9malBpy",
        "outputId": "6e2b6dcc-9264-4e97-b4c9-a5c35ac892c3"
      },
      "source": [
        "# forward fill column 1\n",
        "\n",
        "scores.fillna(method=\"ffill\", axis = 1)"
      ],
      "execution_count": null,
      "outputs": [
        {
          "output_type": "execute_result",
          "data": {
            "text/html": [
              "<div>\n",
              "<style scoped>\n",
              "    .dataframe tbody tr th:only-of-type {\n",
              "        vertical-align: middle;\n",
              "    }\n",
              "\n",
              "    .dataframe tbody tr th {\n",
              "        vertical-align: top;\n",
              "    }\n",
              "\n",
              "    .dataframe thead th {\n",
              "        text-align: right;\n",
              "    }\n",
              "</style>\n",
              "<table border=\"1\" class=\"dataframe\">\n",
              "  <thead>\n",
              "    <tr style=\"text-align: right;\">\n",
              "      <th></th>\n",
              "      <th>Alice</th>\n",
              "      <th>Bob</th>\n",
              "      <th>Charlie</th>\n",
              "      <th>Dave</th>\n",
              "      <th>Eva</th>\n",
              "    </tr>\n",
              "    <tr>\n",
              "      <th>rounds</th>\n",
              "      <th></th>\n",
              "      <th></th>\n",
              "      <th></th>\n",
              "      <th></th>\n",
              "      <th></th>\n",
              "    </tr>\n",
              "  </thead>\n",
              "  <tbody>\n",
              "    <tr>\n",
              "      <th>2010</th>\n",
              "      <td>10000.0</td>\n",
              "      <td>15000.0</td>\n",
              "      <td>5000.0</td>\n",
              "      <td>0.0</td>\n",
              "      <td>1.0</td>\n",
              "    </tr>\n",
              "    <tr>\n",
              "      <th>2011</th>\n",
              "      <td>20000.0</td>\n",
              "      <td>20000.0</td>\n",
              "      <td>6000.0</td>\n",
              "      <td>2000.0</td>\n",
              "      <td>4.0</td>\n",
              "    </tr>\n",
              "    <tr>\n",
              "      <th>2012</th>\n",
              "      <td>30000.0</td>\n",
              "      <td>25000.0</td>\n",
              "      <td>25000.0</td>\n",
              "      <td>25000.0</td>\n",
              "      <td>25000.0</td>\n",
              "    </tr>\n",
              "    <tr>\n",
              "      <th>2013</th>\n",
              "      <td>NaN</td>\n",
              "      <td>30000.0</td>\n",
              "      <td>8200.0</td>\n",
              "      <td>8200.0</td>\n",
              "      <td>16.0</td>\n",
              "    </tr>\n",
              "  </tbody>\n",
              "</table>\n",
              "</div>"
            ],
            "text/plain": [
              "          Alice      Bob  Charlie     Dave      Eva\n",
              "rounds                                             \n",
              "2010    10000.0  15000.0   5000.0      0.0      1.0\n",
              "2011    20000.0  20000.0   6000.0   2000.0      4.0\n",
              "2012    30000.0  25000.0  25000.0  25000.0  25000.0\n",
              "2013        NaN  30000.0   8200.0   8200.0     16.0"
            ]
          },
          "metadata": {
            "tags": []
          },
          "execution_count": 121
        }
      ]
    },
    {
      "cell_type": "markdown",
      "metadata": {
        "id": "JkdYMYPKZVns"
      },
      "source": [
        "# Groupby"
      ]
    },
    {
      "cell_type": "code",
      "metadata": {
        "colab": {
          "base_uri": "https://localhost:8080/",
          "height": 328
        },
        "id": "nDqxFa0fXwqY",
        "outputId": "08debc40-9a40-4b60-99f8-100c681ea9a0"
      },
      "source": [
        "# GROUPBY\n",
        "# We can group things by attributes\n",
        "# first we create a dataframe\n",
        "\n",
        "df = pd.DataFrame({'name' : ['Alice', 'Bob', 'Charlie', 'Daniele', 'Eva', 'Frank', 'Gus', 'Harriet', 'Ivan'],\n",
        "                   'gender' : ['F', 'M', 'M', 'F', 'F', 'M', 'M', 'F', 'M'],\n",
        "                   'year' : ['junior', 'senior', 'junior', 'senior', 'junior', 'senior', 'junior', 'senior', 'junior'],\n",
        "                   'data1' : np.random.randint(0, 10,9),\n",
        "                   'data2' : np.random.randint(11, 19, 9)})\n",
        "df"
      ],
      "execution_count": null,
      "outputs": [
        {
          "output_type": "execute_result",
          "data": {
            "text/html": [
              "<div>\n",
              "<style scoped>\n",
              "    .dataframe tbody tr th:only-of-type {\n",
              "        vertical-align: middle;\n",
              "    }\n",
              "\n",
              "    .dataframe tbody tr th {\n",
              "        vertical-align: top;\n",
              "    }\n",
              "\n",
              "    .dataframe thead th {\n",
              "        text-align: right;\n",
              "    }\n",
              "</style>\n",
              "<table border=\"1\" class=\"dataframe\">\n",
              "  <thead>\n",
              "    <tr style=\"text-align: right;\">\n",
              "      <th></th>\n",
              "      <th>name</th>\n",
              "      <th>gender</th>\n",
              "      <th>year</th>\n",
              "      <th>data1</th>\n",
              "      <th>data2</th>\n",
              "    </tr>\n",
              "  </thead>\n",
              "  <tbody>\n",
              "    <tr>\n",
              "      <th>0</th>\n",
              "      <td>Alice</td>\n",
              "      <td>F</td>\n",
              "      <td>junior</td>\n",
              "      <td>4</td>\n",
              "      <td>16</td>\n",
              "    </tr>\n",
              "    <tr>\n",
              "      <th>1</th>\n",
              "      <td>Bob</td>\n",
              "      <td>M</td>\n",
              "      <td>senior</td>\n",
              "      <td>6</td>\n",
              "      <td>18</td>\n",
              "    </tr>\n",
              "    <tr>\n",
              "      <th>2</th>\n",
              "      <td>Charlie</td>\n",
              "      <td>M</td>\n",
              "      <td>junior</td>\n",
              "      <td>2</td>\n",
              "      <td>11</td>\n",
              "    </tr>\n",
              "    <tr>\n",
              "      <th>3</th>\n",
              "      <td>Daniele</td>\n",
              "      <td>F</td>\n",
              "      <td>senior</td>\n",
              "      <td>0</td>\n",
              "      <td>11</td>\n",
              "    </tr>\n",
              "    <tr>\n",
              "      <th>4</th>\n",
              "      <td>Eva</td>\n",
              "      <td>F</td>\n",
              "      <td>junior</td>\n",
              "      <td>7</td>\n",
              "      <td>17</td>\n",
              "    </tr>\n",
              "    <tr>\n",
              "      <th>5</th>\n",
              "      <td>Frank</td>\n",
              "      <td>M</td>\n",
              "      <td>senior</td>\n",
              "      <td>4</td>\n",
              "      <td>16</td>\n",
              "    </tr>\n",
              "    <tr>\n",
              "      <th>6</th>\n",
              "      <td>Gus</td>\n",
              "      <td>M</td>\n",
              "      <td>junior</td>\n",
              "      <td>6</td>\n",
              "      <td>11</td>\n",
              "    </tr>\n",
              "    <tr>\n",
              "      <th>7</th>\n",
              "      <td>Harriet</td>\n",
              "      <td>F</td>\n",
              "      <td>senior</td>\n",
              "      <td>4</td>\n",
              "      <td>12</td>\n",
              "    </tr>\n",
              "    <tr>\n",
              "      <th>8</th>\n",
              "      <td>Ivan</td>\n",
              "      <td>M</td>\n",
              "      <td>junior</td>\n",
              "      <td>0</td>\n",
              "      <td>12</td>\n",
              "    </tr>\n",
              "  </tbody>\n",
              "</table>\n",
              "</div>"
            ],
            "text/plain": [
              "      name gender    year  data1  data2\n",
              "0    Alice      F  junior      4     16\n",
              "1      Bob      M  senior      6     18\n",
              "2  Charlie      M  junior      2     11\n",
              "3  Daniele      F  senior      0     11\n",
              "4      Eva      F  junior      7     17\n",
              "5    Frank      M  senior      4     16\n",
              "6      Gus      M  junior      6     11\n",
              "7  Harriet      F  senior      4     12\n",
              "8     Ivan      M  junior      0     12"
            ]
          },
          "metadata": {
            "tags": []
          },
          "execution_count": 3
        }
      ]
    },
    {
      "cell_type": "code",
      "metadata": {
        "colab": {
          "base_uri": "https://localhost:8080/",
          "height": 142
        },
        "id": "4HXQVRF8YH_v",
        "outputId": "4f6a69f3-f597-49e1-a35c-3e933c6c0d16"
      },
      "source": [
        "# we find mean \n",
        "# df[df['gender'] == 'M'].mean()\n",
        "# df[df['gender'] == 'F'].mean()\n",
        "\n",
        "# however we can also use GROUPBY\n",
        "\n",
        "df.groupby(['gender']).mean()"
      ],
      "execution_count": null,
      "outputs": [
        {
          "output_type": "execute_result",
          "data": {
            "text/html": [
              "<div>\n",
              "<style scoped>\n",
              "    .dataframe tbody tr th:only-of-type {\n",
              "        vertical-align: middle;\n",
              "    }\n",
              "\n",
              "    .dataframe tbody tr th {\n",
              "        vertical-align: top;\n",
              "    }\n",
              "\n",
              "    .dataframe thead th {\n",
              "        text-align: right;\n",
              "    }\n",
              "</style>\n",
              "<table border=\"1\" class=\"dataframe\">\n",
              "  <thead>\n",
              "    <tr style=\"text-align: right;\">\n",
              "      <th></th>\n",
              "      <th>data1</th>\n",
              "      <th>data2</th>\n",
              "    </tr>\n",
              "    <tr>\n",
              "      <th>gender</th>\n",
              "      <th></th>\n",
              "      <th></th>\n",
              "    </tr>\n",
              "  </thead>\n",
              "  <tbody>\n",
              "    <tr>\n",
              "      <th>F</th>\n",
              "      <td>3.75</td>\n",
              "      <td>14.0</td>\n",
              "    </tr>\n",
              "    <tr>\n",
              "      <th>M</th>\n",
              "      <td>3.60</td>\n",
              "      <td>13.6</td>\n",
              "    </tr>\n",
              "  </tbody>\n",
              "</table>\n",
              "</div>"
            ],
            "text/plain": [
              "        data1  data2\n",
              "gender              \n",
              "F        3.75   14.0\n",
              "M        3.60   13.6"
            ]
          },
          "metadata": {
            "tags": []
          },
          "execution_count": 7
        }
      ]
    },
    {
      "cell_type": "code",
      "metadata": {
        "colab": {
          "base_uri": "https://localhost:8080/"
        },
        "id": "_xSs5gImYm2c",
        "outputId": "ecd3936b-ed4b-42e4-a0f9-cd463e8d4ec0"
      },
      "source": [
        "# We can count how manu values are in each subgroup\n",
        "# here we have 4 F and 5 M values\n",
        "# we select 'name' as a count column, or else it will print all the columns\n",
        "\n",
        "df.groupby(['gender'])['name'].count()"
      ],
      "execution_count": null,
      "outputs": [
        {
          "output_type": "execute_result",
          "data": {
            "text/plain": [
              "gender\n",
              "F    4\n",
              "M    5\n",
              "Name: name, dtype: int64"
            ]
          },
          "metadata": {
            "tags": []
          },
          "execution_count": 8
        }
      ]
    },
    {
      "cell_type": "code",
      "metadata": {
        "colab": {
          "base_uri": "https://localhost:8080/",
          "height": 204
        },
        "id": "tbJaKsmFY4Z8",
        "outputId": "46d07779-8495-4285-aa63-bb14231835d6"
      },
      "source": [
        "# we can create a hierarchical clustering\n",
        "\n",
        "df.groupby(['gender', 'year']).mean()"
      ],
      "execution_count": null,
      "outputs": [
        {
          "output_type": "execute_result",
          "data": {
            "text/html": [
              "<div>\n",
              "<style scoped>\n",
              "    .dataframe tbody tr th:only-of-type {\n",
              "        vertical-align: middle;\n",
              "    }\n",
              "\n",
              "    .dataframe tbody tr th {\n",
              "        vertical-align: top;\n",
              "    }\n",
              "\n",
              "    .dataframe thead th {\n",
              "        text-align: right;\n",
              "    }\n",
              "</style>\n",
              "<table border=\"1\" class=\"dataframe\">\n",
              "  <thead>\n",
              "    <tr style=\"text-align: right;\">\n",
              "      <th></th>\n",
              "      <th></th>\n",
              "      <th>data1</th>\n",
              "      <th>data2</th>\n",
              "    </tr>\n",
              "    <tr>\n",
              "      <th>gender</th>\n",
              "      <th>year</th>\n",
              "      <th></th>\n",
              "      <th></th>\n",
              "    </tr>\n",
              "  </thead>\n",
              "  <tbody>\n",
              "    <tr>\n",
              "      <th rowspan=\"2\" valign=\"top\">F</th>\n",
              "      <th>junior</th>\n",
              "      <td>5.500000</td>\n",
              "      <td>16.500000</td>\n",
              "    </tr>\n",
              "    <tr>\n",
              "      <th>senior</th>\n",
              "      <td>2.000000</td>\n",
              "      <td>11.500000</td>\n",
              "    </tr>\n",
              "    <tr>\n",
              "      <th rowspan=\"2\" valign=\"top\">M</th>\n",
              "      <th>junior</th>\n",
              "      <td>2.666667</td>\n",
              "      <td>11.333333</td>\n",
              "    </tr>\n",
              "    <tr>\n",
              "      <th>senior</th>\n",
              "      <td>5.000000</td>\n",
              "      <td>17.000000</td>\n",
              "    </tr>\n",
              "  </tbody>\n",
              "</table>\n",
              "</div>"
            ],
            "text/plain": [
              "                  data1      data2\n",
              "gender year                       \n",
              "F      junior  5.500000  16.500000\n",
              "       senior  2.000000  11.500000\n",
              "M      junior  2.666667  11.333333\n",
              "       senior  5.000000  17.000000"
            ]
          },
          "metadata": {
            "tags": []
          },
          "execution_count": 10
        }
      ]
    },
    {
      "cell_type": "code",
      "metadata": {
        "colab": {
          "base_uri": "https://localhost:8080/"
        },
        "id": "AYWsAD8wZMQD",
        "outputId": "d0c6f75d-cc6a-4deb-b748-8e1a198b65be"
      },
      "source": [
        "# subsetting\n",
        "\n",
        "df.groupby(['gender', 'year'])['data1'].mean()"
      ],
      "execution_count": null,
      "outputs": [
        {
          "output_type": "execute_result",
          "data": {
            "text/plain": [
              "gender  year  \n",
              "F       junior    5.500000\n",
              "        senior    2.000000\n",
              "M       junior    2.666667\n",
              "        senior    5.000000\n",
              "Name: data1, dtype: float64"
            ]
          },
          "metadata": {
            "tags": []
          },
          "execution_count": 11
        }
      ]
    },
    {
      "cell_type": "code",
      "metadata": {
        "colab": {
          "base_uri": "https://localhost:8080/"
        },
        "id": "uDGp0ZG-ZOlO",
        "outputId": "555e7ed9-8d9f-49c0-ecf8-6596afb477e4"
      },
      "source": [
        "# we can also subset differently\n",
        "grouped = df['data2'].groupby(df['gender'])\n",
        "grouped.mean()"
      ],
      "execution_count": null,
      "outputs": [
        {
          "output_type": "execute_result",
          "data": {
            "text/plain": [
              "gender\n",
              "F    14.0\n",
              "M    13.6\n",
              "Name: data2, dtype: float64"
            ]
          },
          "metadata": {
            "tags": []
          },
          "execution_count": 12
        }
      ]
    },
    {
      "cell_type": "code",
      "metadata": {
        "colab": {
          "base_uri": "https://localhost:8080/",
          "height": 142
        },
        "id": "fa_WWM-HZvWo",
        "outputId": "974a5fac-aaac-4903-8a76-ebe087e78a65"
      },
      "source": [
        "# aggregate\n",
        "\n",
        "df.groupby(['gender'])['data1'].aggregate([\"mean\", \"min\"])"
      ],
      "execution_count": null,
      "outputs": [
        {
          "output_type": "execute_result",
          "data": {
            "text/html": [
              "<div>\n",
              "<style scoped>\n",
              "    .dataframe tbody tr th:only-of-type {\n",
              "        vertical-align: middle;\n",
              "    }\n",
              "\n",
              "    .dataframe tbody tr th {\n",
              "        vertical-align: top;\n",
              "    }\n",
              "\n",
              "    .dataframe thead th {\n",
              "        text-align: right;\n",
              "    }\n",
              "</style>\n",
              "<table border=\"1\" class=\"dataframe\">\n",
              "  <thead>\n",
              "    <tr style=\"text-align: right;\">\n",
              "      <th></th>\n",
              "      <th>mean</th>\n",
              "      <th>min</th>\n",
              "    </tr>\n",
              "    <tr>\n",
              "      <th>gender</th>\n",
              "      <th></th>\n",
              "      <th></th>\n",
              "    </tr>\n",
              "  </thead>\n",
              "  <tbody>\n",
              "    <tr>\n",
              "      <th>F</th>\n",
              "      <td>3.75</td>\n",
              "      <td>0</td>\n",
              "    </tr>\n",
              "    <tr>\n",
              "      <th>M</th>\n",
              "      <td>3.60</td>\n",
              "      <td>0</td>\n",
              "    </tr>\n",
              "  </tbody>\n",
              "</table>\n",
              "</div>"
            ],
            "text/plain": [
              "        mean  min\n",
              "gender           \n",
              "F       3.75    0\n",
              "M       3.60    0"
            ]
          },
          "metadata": {
            "tags": []
          },
          "execution_count": 15
        }
      ]
    },
    {
      "cell_type": "code",
      "metadata": {
        "colab": {
          "base_uri": "https://localhost:8080/"
        },
        "id": "gMgNs-arZ3bi",
        "outputId": "c81662d5-3cff-4120-b276-551877126581"
      },
      "source": [
        "# find the groups that we grouped\n",
        "grouped.groups"
      ],
      "execution_count": null,
      "outputs": [
        {
          "output_type": "execute_result",
          "data": {
            "text/plain": [
              "{'F': [0, 3, 4, 7], 'M': [1, 2, 5, 6, 8]}"
            ]
          },
          "metadata": {
            "tags": []
          },
          "execution_count": 16
        }
      ]
    },
    {
      "cell_type": "code",
      "metadata": {
        "colab": {
          "base_uri": "https://localhost:8080/"
        },
        "id": "ZUPz87Q7aD1O",
        "outputId": "003b3040-cd79-4934-c7c6-813221ed4ba1"
      },
      "source": [
        "# we can iterate over the groups and use the index position to get more data from the dataframe\n",
        "\n",
        "for key, value in grouped.groups.items():\n",
        "  print(\"key:\", key)\n",
        "  print(\"values\", df.iloc[value])"
      ],
      "execution_count": null,
      "outputs": [
        {
          "output_type": "stream",
          "text": [
            "key: F\n",
            "values       name gender    year  data1  data2\n",
            "0    Alice      F  junior      4     16\n",
            "3  Daniele      F  senior      0     11\n",
            "4      Eva      F  junior      7     17\n",
            "7  Harriet      F  senior      4     12\n",
            "key: M\n",
            "values       name gender    year  data1  data2\n",
            "1      Bob      M  senior      6     18\n",
            "2  Charlie      M  junior      2     11\n",
            "5    Frank      M  senior      4     16\n",
            "6      Gus      M  junior      6     11\n",
            "8     Ivan      M  junior      0     12\n"
          ],
          "name": "stdout"
        }
      ]
    },
    {
      "cell_type": "code",
      "metadata": {
        "id": "9xLxG3j4aTT0"
      },
      "source": [
        "# More aggregate functions using the aggregate method.\n",
        "\n",
        "# https://pandas.pydata.org/pandas-docs/stable/reference/api/pandas.DataFrame.aggregate.html"
      ],
      "execution_count": null,
      "outputs": []
    },
    {
      "cell_type": "markdown",
      "metadata": {
        "id": "aP0VMbr2aZWw"
      },
      "source": [
        "# Berkeley Dataset workbook"
      ]
    },
    {
      "cell_type": "code",
      "metadata": {
        "colab": {
          "base_uri": "https://localhost:8080/",
          "height": 343
        },
        "id": "RjMSGgRVarvL",
        "outputId": "2c18d48e-a17c-418c-f95b-5bd38a961062"
      },
      "source": [
        "url = 'https://data.cityofberkeley.info/api/views/k2nh-s5h5/rows.csv'\n",
        "\n",
        "df = pd.read_csv(url)\n",
        "\n",
        "df.head(4)"
      ],
      "execution_count": null,
      "outputs": [
        {
          "output_type": "execute_result",
          "data": {
            "text/html": [
              "<div>\n",
              "<style scoped>\n",
              "    .dataframe tbody tr th:only-of-type {\n",
              "        vertical-align: middle;\n",
              "    }\n",
              "\n",
              "    .dataframe tbody tr th {\n",
              "        vertical-align: top;\n",
              "    }\n",
              "\n",
              "    .dataframe thead th {\n",
              "        text-align: right;\n",
              "    }\n",
              "</style>\n",
              "<table border=\"1\" class=\"dataframe\">\n",
              "  <thead>\n",
              "    <tr style=\"text-align: right;\">\n",
              "      <th></th>\n",
              "      <th>CASENO</th>\n",
              "      <th>OFFENSE</th>\n",
              "      <th>EVENTDT</th>\n",
              "      <th>EVENTTM</th>\n",
              "      <th>CVLEGEND</th>\n",
              "      <th>CVDOW</th>\n",
              "      <th>InDbDate</th>\n",
              "      <th>Block_Location</th>\n",
              "      <th>BLKADDR</th>\n",
              "      <th>City</th>\n",
              "      <th>State</th>\n",
              "    </tr>\n",
              "  </thead>\n",
              "  <tbody>\n",
              "    <tr>\n",
              "      <th>0</th>\n",
              "      <td>20047075</td>\n",
              "      <td>VEHICLE STOLEN</td>\n",
              "      <td>10/11/2020 12:00:00 AM</td>\n",
              "      <td>13:11</td>\n",
              "      <td>MOTOR VEHICLE THEFT</td>\n",
              "      <td>0</td>\n",
              "      <td>02/25/2021 12:00:00 AM</td>\n",
              "      <td>Berkeley, CA\\n(37.869058, -122.270455)</td>\n",
              "      <td>NaN</td>\n",
              "      <td>Berkeley</td>\n",
              "      <td>CA</td>\n",
              "    </tr>\n",
              "    <tr>\n",
              "      <th>1</th>\n",
              "      <td>20049646</td>\n",
              "      <td>IDENTITY THEFT</td>\n",
              "      <td>09/29/2020 12:00:00 AM</td>\n",
              "      <td>8:00</td>\n",
              "      <td>FRAUD</td>\n",
              "      <td>2</td>\n",
              "      <td>02/25/2021 12:00:00 AM</td>\n",
              "      <td>200 BLOCK PANORAMIC WAY\\nBerkeley, CA\\n(37.869...</td>\n",
              "      <td>200 BLOCK PANORAMIC WAY</td>\n",
              "      <td>Berkeley</td>\n",
              "      <td>CA</td>\n",
              "    </tr>\n",
              "    <tr>\n",
              "      <th>2</th>\n",
              "      <td>21090137</td>\n",
              "      <td>THEFT FELONY (OVER $950)</td>\n",
              "      <td>01/28/2021 12:00:00 AM</td>\n",
              "      <td>11:00</td>\n",
              "      <td>LARCENY</td>\n",
              "      <td>4</td>\n",
              "      <td>02/25/2021 12:00:00 AM</td>\n",
              "      <td>2900 BLOCK ELLIS ST\\nBerkeley, CA\\n(37.85583, ...</td>\n",
              "      <td>2900 BLOCK ELLIS ST</td>\n",
              "      <td>Berkeley</td>\n",
              "      <td>CA</td>\n",
              "    </tr>\n",
              "    <tr>\n",
              "      <th>3</th>\n",
              "      <td>20045958</td>\n",
              "      <td>THEFT FELONY (OVER $950)</td>\n",
              "      <td>10/04/2020 12:00:00 AM</td>\n",
              "      <td>17:59</td>\n",
              "      <td>LARCENY</td>\n",
              "      <td>0</td>\n",
              "      <td>02/25/2021 12:00:00 AM</td>\n",
              "      <td>2300 BLOCK TELEGRAPH AVE\\nBerkeley, CA\\n(37.86...</td>\n",
              "      <td>2300 BLOCK TELEGRAPH AVE</td>\n",
              "      <td>Berkeley</td>\n",
              "      <td>CA</td>\n",
              "    </tr>\n",
              "  </tbody>\n",
              "</table>\n",
              "</div>"
            ],
            "text/plain": [
              "     CASENO                   OFFENSE  ...      City State\n",
              "0  20047075            VEHICLE STOLEN  ...  Berkeley    CA\n",
              "1  20049646            IDENTITY THEFT  ...  Berkeley    CA\n",
              "2  21090137  THEFT FELONY (OVER $950)  ...  Berkeley    CA\n",
              "3  20045958  THEFT FELONY (OVER $950)  ...  Berkeley    CA\n",
              "\n",
              "[4 rows x 11 columns]"
            ]
          },
          "metadata": {
            "tags": []
          },
          "execution_count": 21
        }
      ]
    },
    {
      "cell_type": "code",
      "metadata": {
        "colab": {
          "base_uri": "https://localhost:8080/",
          "height": 297
        },
        "id": "Mw-Sqb_6blNC",
        "outputId": "e1768c60-14b6-4009-bda5-4bc3e020ec42"
      },
      "source": [
        "# check the dataset\n",
        "df.describe()"
      ],
      "execution_count": null,
      "outputs": [
        {
          "output_type": "execute_result",
          "data": {
            "text/html": [
              "<div>\n",
              "<style scoped>\n",
              "    .dataframe tbody tr th:only-of-type {\n",
              "        vertical-align: middle;\n",
              "    }\n",
              "\n",
              "    .dataframe tbody tr th {\n",
              "        vertical-align: top;\n",
              "    }\n",
              "\n",
              "    .dataframe thead th {\n",
              "        text-align: right;\n",
              "    }\n",
              "</style>\n",
              "<table border=\"1\" class=\"dataframe\">\n",
              "  <thead>\n",
              "    <tr style=\"text-align: right;\">\n",
              "      <th></th>\n",
              "      <th>CASENO</th>\n",
              "      <th>CVDOW</th>\n",
              "    </tr>\n",
              "  </thead>\n",
              "  <tbody>\n",
              "    <tr>\n",
              "      <th>count</th>\n",
              "      <td>2.541000e+03</td>\n",
              "      <td>2541.000000</td>\n",
              "    </tr>\n",
              "    <tr>\n",
              "      <th>mean</th>\n",
              "      <td>2.035684e+07</td>\n",
              "      <td>3.070838</td>\n",
              "    </tr>\n",
              "    <tr>\n",
              "      <th>std</th>\n",
              "      <td>4.455391e+05</td>\n",
              "      <td>2.015027</td>\n",
              "    </tr>\n",
              "    <tr>\n",
              "      <th>min</th>\n",
              "      <td>2.004014e+07</td>\n",
              "      <td>0.000000</td>\n",
              "    </tr>\n",
              "    <tr>\n",
              "      <th>25%</th>\n",
              "      <td>2.004922e+07</td>\n",
              "      <td>1.000000</td>\n",
              "    </tr>\n",
              "    <tr>\n",
              "      <th>50%</th>\n",
              "      <td>2.005792e+07</td>\n",
              "      <td>3.000000</td>\n",
              "    </tr>\n",
              "    <tr>\n",
              "      <th>75%</th>\n",
              "      <td>2.100170e+07</td>\n",
              "      <td>5.000000</td>\n",
              "    </tr>\n",
              "    <tr>\n",
              "      <th>max</th>\n",
              "      <td>2.109024e+07</td>\n",
              "      <td>6.000000</td>\n",
              "    </tr>\n",
              "  </tbody>\n",
              "</table>\n",
              "</div>"
            ],
            "text/plain": [
              "             CASENO        CVDOW\n",
              "count  2.541000e+03  2541.000000\n",
              "mean   2.035684e+07     3.070838\n",
              "std    4.455391e+05     2.015027\n",
              "min    2.004014e+07     0.000000\n",
              "25%    2.004922e+07     1.000000\n",
              "50%    2.005792e+07     3.000000\n",
              "75%    2.100170e+07     5.000000\n",
              "max    2.109024e+07     6.000000"
            ]
          },
          "metadata": {
            "tags": []
          },
          "execution_count": 26
        }
      ]
    },
    {
      "cell_type": "code",
      "metadata": {
        "colab": {
          "base_uri": "https://localhost:8080/"
        },
        "id": "gkCtkhDfbrp9",
        "outputId": "ee18446e-d053-4965-c35d-80ef0a4da7b1"
      },
      "source": [
        "# check length\n",
        "len(df)"
      ],
      "execution_count": null,
      "outputs": [
        {
          "output_type": "execute_result",
          "data": {
            "text/plain": [
              "2541"
            ]
          },
          "metadata": {
            "tags": []
          },
          "execution_count": 27
        }
      ]
    },
    {
      "cell_type": "code",
      "metadata": {
        "colab": {
          "base_uri": "https://localhost:8080/"
        },
        "id": "alwcOj4Ebt6M",
        "outputId": "dfb6e98f-26c9-4cf5-d7bf-1a2e0677ab80"
      },
      "source": [
        "# check shape\n",
        "df.shape"
      ],
      "execution_count": null,
      "outputs": [
        {
          "output_type": "execute_result",
          "data": {
            "text/plain": [
              "(2541, 12)"
            ]
          },
          "metadata": {
            "tags": []
          },
          "execution_count": 28
        }
      ]
    },
    {
      "cell_type": "markdown",
      "metadata": {
        "id": "TjqpTA37cbM1"
      },
      "source": [
        "# Splitting Time and Date in a column"
      ]
    },
    {
      "cell_type": "code",
      "metadata": {
        "colab": {
          "base_uri": "https://localhost:8080/"
        },
        "id": "y_AHJGLva0cz",
        "outputId": "249f80bb-0818-40a6-9fe1-9c6ed420419b"
      },
      "source": [
        "# splitting time and date from EVENTDT column\n",
        "# we create a subset\n",
        "\n",
        "df_date=df[\"EVENTDT\"].str.split()\n",
        "df_date.head()"
      ],
      "execution_count": null,
      "outputs": [
        {
          "output_type": "execute_result",
          "data": {
            "text/plain": [
              "0    [10/11/2020, 12:00:00, AM]\n",
              "1    [09/29/2020, 12:00:00, AM]\n",
              "2    [01/28/2021, 12:00:00, AM]\n",
              "3    [10/04/2020, 12:00:00, AM]\n",
              "4    [11/02/2020, 12:00:00, AM]\n",
              "Name: EVENTDT, dtype: object"
            ]
          },
          "metadata": {
            "tags": []
          },
          "execution_count": 22
        }
      ]
    },
    {
      "cell_type": "code",
      "metadata": {
        "colab": {
          "base_uri": "https://localhost:8080/"
        },
        "id": "v0ys7Uh9a6Px",
        "outputId": "218e9898-9b9e-431f-bac6-f29f1bde21e9"
      },
      "source": [
        "# we subset the date only (column 0)\n",
        "\n",
        "df_date_only=df_date.str[0]\n",
        "df_date_only.head()"
      ],
      "execution_count": null,
      "outputs": [
        {
          "output_type": "execute_result",
          "data": {
            "text/plain": [
              "0    10/11/2020\n",
              "1    09/29/2020\n",
              "2    01/28/2021\n",
              "3    10/04/2020\n",
              "4    11/02/2020\n",
              "Name: EVENTDT, dtype: object"
            ]
          },
          "metadata": {
            "tags": []
          },
          "execution_count": 23
        }
      ]
    },
    {
      "cell_type": "code",
      "metadata": {
        "colab": {
          "base_uri": "https://localhost:8080/"
        },
        "id": "X_dFYhxsbS8g",
        "outputId": "8c38e580-fbcd-4301-865f-9c2c8945083b"
      },
      "source": [
        "# we create the column \"df_date_only\"\n",
        "\n",
        "df['df_date_only']=df_date_only\n",
        "df['df_date_only'].head()"
      ],
      "execution_count": null,
      "outputs": [
        {
          "output_type": "execute_result",
          "data": {
            "text/plain": [
              "0    10/11/2020\n",
              "1    09/29/2020\n",
              "2    01/28/2021\n",
              "3    10/04/2020\n",
              "4    11/02/2020\n",
              "Name: df_date_only, dtype: object"
            ]
          },
          "metadata": {
            "tags": []
          },
          "execution_count": 24
        }
      ]
    },
    {
      "cell_type": "code",
      "metadata": {
        "colab": {
          "base_uri": "https://localhost:8080/",
          "height": 298
        },
        "id": "4J7ns2SObbyS",
        "outputId": "5a688010-0c4c-4568-9114-9db63637d2a8"
      },
      "source": [
        "# check the head (scroll to the right to see the new column was added)\n",
        "\n",
        "df.head(3)"
      ],
      "execution_count": null,
      "outputs": [
        {
          "output_type": "execute_result",
          "data": {
            "text/html": [
              "<div>\n",
              "<style scoped>\n",
              "    .dataframe tbody tr th:only-of-type {\n",
              "        vertical-align: middle;\n",
              "    }\n",
              "\n",
              "    .dataframe tbody tr th {\n",
              "        vertical-align: top;\n",
              "    }\n",
              "\n",
              "    .dataframe thead th {\n",
              "        text-align: right;\n",
              "    }\n",
              "</style>\n",
              "<table border=\"1\" class=\"dataframe\">\n",
              "  <thead>\n",
              "    <tr style=\"text-align: right;\">\n",
              "      <th></th>\n",
              "      <th>CASENO</th>\n",
              "      <th>OFFENSE</th>\n",
              "      <th>EVENTDT</th>\n",
              "      <th>EVENTTM</th>\n",
              "      <th>CVLEGEND</th>\n",
              "      <th>CVDOW</th>\n",
              "      <th>InDbDate</th>\n",
              "      <th>Block_Location</th>\n",
              "      <th>BLKADDR</th>\n",
              "      <th>City</th>\n",
              "      <th>State</th>\n",
              "      <th>df_date_only</th>\n",
              "    </tr>\n",
              "  </thead>\n",
              "  <tbody>\n",
              "    <tr>\n",
              "      <th>0</th>\n",
              "      <td>20047075</td>\n",
              "      <td>VEHICLE STOLEN</td>\n",
              "      <td>10/11/2020 12:00:00 AM</td>\n",
              "      <td>13:11</td>\n",
              "      <td>MOTOR VEHICLE THEFT</td>\n",
              "      <td>0</td>\n",
              "      <td>02/25/2021 12:00:00 AM</td>\n",
              "      <td>Berkeley, CA\\n(37.869058, -122.270455)</td>\n",
              "      <td>NaN</td>\n",
              "      <td>Berkeley</td>\n",
              "      <td>CA</td>\n",
              "      <td>10/11/2020</td>\n",
              "    </tr>\n",
              "    <tr>\n",
              "      <th>1</th>\n",
              "      <td>20049646</td>\n",
              "      <td>IDENTITY THEFT</td>\n",
              "      <td>09/29/2020 12:00:00 AM</td>\n",
              "      <td>8:00</td>\n",
              "      <td>FRAUD</td>\n",
              "      <td>2</td>\n",
              "      <td>02/25/2021 12:00:00 AM</td>\n",
              "      <td>200 BLOCK PANORAMIC WAY\\nBerkeley, CA\\n(37.869...</td>\n",
              "      <td>200 BLOCK PANORAMIC WAY</td>\n",
              "      <td>Berkeley</td>\n",
              "      <td>CA</td>\n",
              "      <td>09/29/2020</td>\n",
              "    </tr>\n",
              "    <tr>\n",
              "      <th>2</th>\n",
              "      <td>21090137</td>\n",
              "      <td>THEFT FELONY (OVER $950)</td>\n",
              "      <td>01/28/2021 12:00:00 AM</td>\n",
              "      <td>11:00</td>\n",
              "      <td>LARCENY</td>\n",
              "      <td>4</td>\n",
              "      <td>02/25/2021 12:00:00 AM</td>\n",
              "      <td>2900 BLOCK ELLIS ST\\nBerkeley, CA\\n(37.85583, ...</td>\n",
              "      <td>2900 BLOCK ELLIS ST</td>\n",
              "      <td>Berkeley</td>\n",
              "      <td>CA</td>\n",
              "      <td>01/28/2021</td>\n",
              "    </tr>\n",
              "  </tbody>\n",
              "</table>\n",
              "</div>"
            ],
            "text/plain": [
              "     CASENO                   OFFENSE  ... State df_date_only\n",
              "0  20047075            VEHICLE STOLEN  ...    CA   10/11/2020\n",
              "1  20049646            IDENTITY THEFT  ...    CA   09/29/2020\n",
              "2  21090137  THEFT FELONY (OVER $950)  ...    CA   01/28/2021\n",
              "\n",
              "[3 rows x 12 columns]"
            ]
          },
          "metadata": {
            "tags": []
          },
          "execution_count": 25
        }
      ]
    },
    {
      "cell_type": "markdown",
      "metadata": {
        "id": "6WOIt9xuclED"
      },
      "source": [
        "# Creating Day of the Week by mapping"
      ]
    },
    {
      "cell_type": "code",
      "metadata": {
        "colab": {
          "base_uri": "https://localhost:8080/"
        },
        "id": "ZWP7PJDbb2fs",
        "outputId": "81a8cfe8-c030-4894-c406-01b0b4521c80"
      },
      "source": [
        "# let's create the days of the week to work with CVDOW column\n",
        "\n",
        "day_map={\"0\" : \"Sunday\", \"1\" : \"Monday\", \"2\" : \"Tuesday\", \"3\":\"Wednesday\", \"4\" : \"Thursday\", \"5\" : \"Friday\", \"6\" : \"Saturday\"}\n",
        "day_map"
      ],
      "execution_count": null,
      "outputs": [
        {
          "output_type": "execute_result",
          "data": {
            "text/plain": [
              "{'0': 'Sunday',\n",
              " '1': 'Monday',\n",
              " '2': 'Tuesday',\n",
              " '3': 'Wednesday',\n",
              " '4': 'Thursday',\n",
              " '5': 'Friday',\n",
              " '6': 'Saturday'}"
            ]
          },
          "metadata": {
            "tags": []
          },
          "execution_count": 29
        }
      ]
    },
    {
      "cell_type": "code",
      "metadata": {
        "colab": {
          "base_uri": "https://localhost:8080/"
        },
        "id": "yLQ0_6xIcCQg",
        "outputId": "e8d311be-8c51-4f6d-a142-363805508413"
      },
      "source": [
        "# we add column \"DAY\" to the end of the dataset mapping the days of the week\n",
        "\n",
        "df[\"DAY\"] = df.CVDOW.map({ 0 : \"Sunday\", 1 : \"Monday\", 2 : \"Tuesday\", 3: \"Wednesday\",  4 : \"Thursday\", 5 : \"Friday\", 6 : \"Saturday\"}).astype(\"category\")\n",
        "df[\"DAY\"]"
      ],
      "execution_count": null,
      "outputs": [
        {
          "output_type": "execute_result",
          "data": {
            "text/plain": [
              "0         Sunday\n",
              "1        Tuesday\n",
              "2       Thursday\n",
              "3         Sunday\n",
              "4         Monday\n",
              "          ...   \n",
              "2536      Friday\n",
              "2537      Monday\n",
              "2538    Thursday\n",
              "2539     Tuesday\n",
              "2540      Sunday\n",
              "Name: DAY, Length: 2541, dtype: category\n",
              "Categories (7, object): ['Friday', 'Monday', 'Saturday', 'Sunday', 'Thursday', 'Tuesday',\n",
              "                         'Wednesday']"
            ]
          },
          "metadata": {
            "tags": []
          },
          "execution_count": 31
        }
      ]
    },
    {
      "cell_type": "markdown",
      "metadata": {
        "id": "kpzuKODQczYC"
      },
      "source": [
        "# Exploring dataset with pd.Series"
      ]
    },
    {
      "cell_type": "code",
      "metadata": {
        "colab": {
          "base_uri": "https://localhost:8080/"
        },
        "id": "kcc6NPG_cu64",
        "outputId": "8d231b18-aaa1-4513-adb6-6515f7699881"
      },
      "source": [
        "# Let's examine the dataset using pd.series\n",
        "\n",
        "# finding unique offenses\n",
        "\n",
        "pd.Series.unique(df['OFFENSE'])"
      ],
      "execution_count": null,
      "outputs": [
        {
          "output_type": "execute_result",
          "data": {
            "text/plain": [
              "array(['VEHICLE STOLEN', 'IDENTITY THEFT', 'THEFT FELONY (OVER $950)',\n",
              "       'ASSAULT/BATTERY MISD.', 'THEFT MISD. (UNDER $950)', 'DISTURBANCE',\n",
              "       'MISSING ADULT', 'BURGLARY COMMERCIAL', 'VANDALISM',\n",
              "       'BURGLARY AUTO', 'ROBBERY', 'THEFT FROM AUTO',\n",
              "       'BURGLARY RESIDENTIAL', 'NARCOTICS', 'GUN/WEAPON',\n",
              "       'DOMESTIC VIOLENCE', 'BRANDISHING', 'ARSON',\n",
              "       'ASSAULT/BATTERY FEL.', 'SEXUAL ASSAULT FEL.', 'THEFT FROM PERSON',\n",
              "       'ALCOHOL OFFENSE', 'FRAUD/FORGERY', 'VEHICLE RECOVERED',\n",
              "       'SEXUAL ASSAULT MISD.', 'MUNICIPAL CODE', 'MISSING JUVENILE',\n",
              "       'HOMICIDE'], dtype=object)"
            ]
          },
          "metadata": {
            "tags": []
          },
          "execution_count": 32
        }
      ]
    },
    {
      "cell_type": "code",
      "metadata": {
        "colab": {
          "base_uri": "https://localhost:8080/"
        },
        "id": "7_n6ZpfPc_jX",
        "outputId": "b61a3f60-d062-4502-e75c-bcf6dfd538d8"
      },
      "source": [
        "# counting values of each offense\n",
        "\n",
        "df['OFFENSE'].value_counts()"
      ],
      "execution_count": null,
      "outputs": [
        {
          "output_type": "execute_result",
          "data": {
            "text/plain": [
              "THEFT MISD. (UNDER $950)    574\n",
              "THEFT FELONY (OVER $950)    237\n",
              "VEHICLE STOLEN              212\n",
              "DISTURBANCE                 182\n",
              "BURGLARY RESIDENTIAL        180\n",
              "BURGLARY AUTO               159\n",
              "VANDALISM                   156\n",
              "THEFT FROM AUTO             144\n",
              "ASSAULT/BATTERY MISD.       105\n",
              "BURGLARY COMMERCIAL          97\n",
              "ROBBERY                      91\n",
              "DOMESTIC VIOLENCE            87\n",
              "IDENTITY THEFT               72\n",
              "FRAUD/FORGERY                44\n",
              "ASSAULT/BATTERY FEL.         32\n",
              "MISSING ADULT                28\n",
              "NARCOTICS                    28\n",
              "ALCOHOL OFFENSE              22\n",
              "ARSON                        20\n",
              "BRANDISHING                  18\n",
              "GUN/WEAPON                   14\n",
              "SEXUAL ASSAULT FEL.          11\n",
              "SEXUAL ASSAULT MISD.         10\n",
              "THEFT FROM PERSON             8\n",
              "VEHICLE RECOVERED             3\n",
              "MISSING JUVENILE              3\n",
              "HOMICIDE                      2\n",
              "MUNICIPAL CODE                2\n",
              "Name: OFFENSE, dtype: int64"
            ]
          },
          "metadata": {
            "tags": []
          },
          "execution_count": 33
        }
      ]
    },
    {
      "cell_type": "code",
      "metadata": {
        "colab": {
          "base_uri": "https://localhost:8080/"
        },
        "id": "cik4oj4wdEg1",
        "outputId": "155d2373-d578-460b-dd5a-2cc1b4825ddf"
      },
      "source": [
        "# finding unique CVlegend\n",
        "\n",
        "pd.Series.unique(df['CVLEGEND'])"
      ],
      "execution_count": null,
      "outputs": [
        {
          "output_type": "execute_result",
          "data": {
            "text/plain": [
              "array(['MOTOR VEHICLE THEFT', 'FRAUD', 'LARCENY', 'ASSAULT',\n",
              "       'DISORDERLY CONDUCT', 'MISSING PERSON', 'BURGLARY - COMMERCIAL',\n",
              "       'VANDALISM', 'BURGLARY - VEHICLE', 'ROBBERY',\n",
              "       'LARCENY - FROM VEHICLE', 'BURGLARY - RESIDENTIAL',\n",
              "       'DRUG VIOLATION', 'WEAPONS OFFENSE', 'FAMILY OFFENSE', 'ARSON',\n",
              "       'SEX CRIME', 'LIQUOR LAW VIOLATION', 'RECOVERED VEHICLE',\n",
              "       'ALL OTHER OFFENSES', 'HOMICIDE'], dtype=object)"
            ]
          },
          "metadata": {
            "tags": []
          },
          "execution_count": 35
        }
      ]
    },
    {
      "cell_type": "code",
      "metadata": {
        "colab": {
          "base_uri": "https://localhost:8080/"
        },
        "id": "6uQ9_srudMoO",
        "outputId": "c795c3f9-8f80-4799-de7d-03e31011dda0"
      },
      "source": [
        "# unique value counts for CVlegend\n",
        "df['CVLEGEND'].value_counts()"
      ],
      "execution_count": null,
      "outputs": [
        {
          "output_type": "execute_result",
          "data": {
            "text/plain": [
              "LARCENY                   819\n",
              "MOTOR VEHICLE THEFT       212\n",
              "DISORDERLY CONDUCT        182\n",
              "BURGLARY - RESIDENTIAL    180\n",
              "BURGLARY - VEHICLE        159\n",
              "VANDALISM                 156\n",
              "LARCENY - FROM VEHICLE    144\n",
              "ASSAULT                   137\n",
              "FRAUD                     116\n",
              "BURGLARY - COMMERCIAL      97\n",
              "ROBBERY                    91\n",
              "FAMILY OFFENSE             87\n",
              "WEAPONS OFFENSE            32\n",
              "MISSING PERSON             31\n",
              "DRUG VIOLATION             28\n",
              "LIQUOR LAW VIOLATION       22\n",
              "SEX CRIME                  21\n",
              "ARSON                      20\n",
              "RECOVERED VEHICLE           3\n",
              "ALL OTHER OFFENSES          2\n",
              "HOMICIDE                    2\n",
              "Name: CVLEGEND, dtype: int64"
            ]
          },
          "metadata": {
            "tags": []
          },
          "execution_count": 36
        }
      ]
    },
    {
      "cell_type": "code",
      "metadata": {
        "colab": {
          "base_uri": "https://localhost:8080/"
        },
        "id": "SH_-t40UdRSV",
        "outputId": "6e9b6c35-9934-4585-b0c5-8a43223c275c"
      },
      "source": [
        "# number of unique offenses in CVlegend\n",
        "\n",
        "df['CVLEGEND'].nunique()"
      ],
      "execution_count": null,
      "outputs": [
        {
          "output_type": "execute_result",
          "data": {
            "text/plain": [
              "21"
            ]
          },
          "metadata": {
            "tags": []
          },
          "execution_count": 37
        }
      ]
    },
    {
      "cell_type": "markdown",
      "metadata": {
        "id": "tGaiXw_jdahG"
      },
      "source": [
        "# Exploring Berkeley dataset with groupby"
      ]
    },
    {
      "cell_type": "code",
      "metadata": {
        "colab": {
          "base_uri": "https://localhost:8080/"
        },
        "id": "Y-bUVv2OdXYa",
        "outputId": "67a29737-0723-4e3c-966b-b29dd7db7a3d"
      },
      "source": [
        "# 1. How many events (of any kind) have occured on different days of the week?\n",
        "\n",
        "df.groupby(['DAY'])['CASENO'].count()"
      ],
      "execution_count": null,
      "outputs": [
        {
          "output_type": "execute_result",
          "data": {
            "text/plain": [
              "DAY\n",
              "Friday       388\n",
              "Monday       366\n",
              "Saturday     390\n",
              "Sunday       344\n",
              "Thursday     351\n",
              "Tuesday      353\n",
              "Wednesday    349\n",
              "Name: CASENO, dtype: int64"
            ]
          },
          "metadata": {
            "tags": []
          },
          "execution_count": 38
        }
      ]
    },
    {
      "cell_type": "code",
      "metadata": {
        "colab": {
          "base_uri": "https://localhost:8080/"
        },
        "id": "COD_IqzDdg6y",
        "outputId": "f74f47f0-b347-46d3-fce5-aab94c38f206"
      },
      "source": [
        "# 2. CVLEGEND has 21 kinds of crimes. How many events (CVLEGEND) of each kind have occured?\n",
        "\n",
        "df.groupby(['CVLEGEND'])['CASENO'].count()"
      ],
      "execution_count": null,
      "outputs": [
        {
          "output_type": "execute_result",
          "data": {
            "text/plain": [
              "CVLEGEND\n",
              "ALL OTHER OFFENSES          2\n",
              "ARSON                      20\n",
              "ASSAULT                   137\n",
              "BURGLARY - COMMERCIAL      97\n",
              "BURGLARY - RESIDENTIAL    180\n",
              "BURGLARY - VEHICLE        159\n",
              "DISORDERLY CONDUCT        182\n",
              "DRUG VIOLATION             28\n",
              "FAMILY OFFENSE             87\n",
              "FRAUD                     116\n",
              "HOMICIDE                    2\n",
              "LARCENY                   819\n",
              "LARCENY - FROM VEHICLE    144\n",
              "LIQUOR LAW VIOLATION       22\n",
              "MISSING PERSON             31\n",
              "MOTOR VEHICLE THEFT       212\n",
              "RECOVERED VEHICLE           3\n",
              "ROBBERY                    91\n",
              "SEX CRIME                  21\n",
              "VANDALISM                 156\n",
              "WEAPONS OFFENSE            32\n",
              "Name: CASENO, dtype: int64"
            ]
          },
          "metadata": {
            "tags": []
          },
          "execution_count": 39
        }
      ]
    },
    {
      "cell_type": "code",
      "metadata": {
        "colab": {
          "base_uri": "https://localhost:8080/"
        },
        "id": "-553JAvFdj9N",
        "outputId": "69ee4627-d76e-467b-cf4a-a0642fee44e6"
      },
      "source": [
        "df.groupby(['CVLEGEND'])['OFFENSE'].count()"
      ],
      "execution_count": null,
      "outputs": [
        {
          "output_type": "execute_result",
          "data": {
            "text/plain": [
              "CVLEGEND\n",
              "ALL OTHER OFFENSES          2\n",
              "ARSON                      20\n",
              "ASSAULT                   137\n",
              "BURGLARY - COMMERCIAL      97\n",
              "BURGLARY - RESIDENTIAL    180\n",
              "BURGLARY - VEHICLE        159\n",
              "DISORDERLY CONDUCT        182\n",
              "DRUG VIOLATION             28\n",
              "FAMILY OFFENSE             87\n",
              "FRAUD                     116\n",
              "HOMICIDE                    2\n",
              "LARCENY                   819\n",
              "LARCENY - FROM VEHICLE    144\n",
              "LIQUOR LAW VIOLATION       22\n",
              "MISSING PERSON             31\n",
              "MOTOR VEHICLE THEFT       212\n",
              "RECOVERED VEHICLE           3\n",
              "ROBBERY                    91\n",
              "SEX CRIME                  21\n",
              "VANDALISM                 156\n",
              "WEAPONS OFFENSE            32\n",
              "Name: OFFENSE, dtype: int64"
            ]
          },
          "metadata": {
            "tags": []
          },
          "execution_count": 40
        }
      ]
    },
    {
      "cell_type": "code",
      "metadata": {
        "colab": {
          "base_uri": "https://localhost:8080/"
        },
        "id": "fOG3yWmEdnZr",
        "outputId": "556581c3-7996-48e1-a76b-cd97c0e46dc0"
      },
      "source": [
        "# Pick the crime type that is most common. How many events of this kind occur on different days of the week?\n",
        "\n",
        "# subset the part of the df where cvlegend=larceny\n",
        "# we need to do it in 2 steps\n",
        "\n",
        "lar_df=df[df['CVLEGEND']=='LARCENY']\n",
        "lar_df.groupby('DAY')['CASENO'].count()"
      ],
      "execution_count": null,
      "outputs": [
        {
          "output_type": "execute_result",
          "data": {
            "text/plain": [
              "DAY\n",
              "Friday       109\n",
              "Monday       131\n",
              "Saturday     135\n",
              "Sunday       110\n",
              "Thursday     113\n",
              "Tuesday      122\n",
              "Wednesday     99\n",
              "Name: CASENO, dtype: int64"
            ]
          },
          "metadata": {
            "tags": []
          },
          "execution_count": 41
        }
      ]
    },
    {
      "cell_type": "code",
      "metadata": {
        "colab": {
          "base_uri": "https://localhost:8080/"
        },
        "id": "orqegEZqdsIH",
        "outputId": "185f2250-c8ea-46f1-9b76-320696003e90"
      },
      "source": [
        "# alternative way to do it\n",
        "# Pick the crime type that is most common. How many events of this kind occur on different days of the week?\n",
        "\n",
        "df[df['CVLEGEND']=='LARCENY'].groupby('DAY')['CASENO'].count()"
      ],
      "execution_count": null,
      "outputs": [
        {
          "output_type": "execute_result",
          "data": {
            "text/plain": [
              "DAY\n",
              "Friday       109\n",
              "Monday       131\n",
              "Saturday     135\n",
              "Sunday       110\n",
              "Thursday     113\n",
              "Tuesday      122\n",
              "Wednesday     99\n",
              "Name: CASENO, dtype: int64"
            ]
          },
          "metadata": {
            "tags": []
          },
          "execution_count": 42
        }
      ]
    },
    {
      "cell_type": "code",
      "metadata": {
        "colab": {
          "base_uri": "https://localhost:8080/"
        },
        "id": "AWioDLoDd1Ts",
        "outputId": "8c7307d4-e498-41ed-abc8-75b3676c042e"
      },
      "source": [
        "df['DAY'].groupby(df['CVLEGEND'])"
      ],
      "execution_count": null,
      "outputs": [
        {
          "output_type": "execute_result",
          "data": {
            "text/plain": [
              "<pandas.core.groupby.generic.SeriesGroupBy object at 0x7fe59698b150>"
            ]
          },
          "metadata": {
            "tags": []
          },
          "execution_count": 45
        }
      ]
    },
    {
      "cell_type": "code",
      "metadata": {
        "colab": {
          "base_uri": "https://localhost:8080/"
        },
        "id": "mvZ7eTZbd_61",
        "outputId": "c8e071fe-2a52-4375-e34a-93b17a57a6d2"
      },
      "source": [
        "# 4. How many events of any kind have happened on different days of the week? \n",
        "# (this can have upto 21x7 groups for 21 crime types and 7 days of the week.)\n",
        "# there should be 21x7=147 entries (lines)\n",
        "\n",
        "grouped = df.groupby('DAY')\n",
        "grouped"
      ],
      "execution_count": null,
      "outputs": [
        {
          "output_type": "execute_result",
          "data": {
            "text/plain": [
              "<pandas.core.groupby.generic.DataFrameGroupBy object at 0x7fe596978390>"
            ]
          },
          "metadata": {
            "tags": []
          },
          "execution_count": 46
        }
      ]
    },
    {
      "cell_type": "code",
      "metadata": {
        "colab": {
          "base_uri": "https://localhost:8080/"
        },
        "id": "BZwFNGsaeC6L",
        "outputId": "e263c550-fe78-4b37-eaab-5a3725a7332e"
      },
      "source": [
        "# not all the values are printed, but all 147 entries seem present\n",
        "\n",
        "df.groupby(['DAY', 'CVLEGEND'])['CASENO'].count()"
      ],
      "execution_count": null,
      "outputs": [
        {
          "output_type": "execute_result",
          "data": {
            "text/plain": [
              "DAY        CVLEGEND              \n",
              "Friday     ALL OTHER OFFENSES         1\n",
              "           ARSON                      6\n",
              "           ASSAULT                   26\n",
              "           BURGLARY - COMMERCIAL     16\n",
              "           BURGLARY - RESIDENTIAL    34\n",
              "                                     ..\n",
              "Wednesday  RECOVERED VEHICLE          1\n",
              "           ROBBERY                   17\n",
              "           SEX CRIME                  3\n",
              "           VANDALISM                 19\n",
              "           WEAPONS OFFENSE            6\n",
              "Name: CASENO, Length: 147, dtype: int64"
            ]
          },
          "metadata": {
            "tags": []
          },
          "execution_count": 47
        }
      ]
    },
    {
      "cell_type": "code",
      "metadata": {
        "colab": {
          "base_uri": "https://localhost:8080/"
        },
        "id": "zF-CpP3keK0T",
        "outputId": "4c29d693-3205-461c-a71d-7f6335478d13"
      },
      "source": [
        "# Alternative way to do question #4\n",
        "\n",
        "df.groupby(['DAY', 'CVLEGEND'])['CASENO'].groups"
      ],
      "execution_count": null,
      "outputs": [
        {
          "output_type": "execute_result",
          "data": {
            "text/plain": [
              "{('Friday', 'ALL OTHER OFFENSES'): [498], ('Friday', 'ARSON'): [116, 422, 631, 1271, 1921, 2520], ('Friday', 'ASSAULT'): [78, 165, 431, 523, 622, 728, 909, 984, 1148, 1325, 1339, 1414, 1510, 1763, 1950, 1975, 2013, 2063, 2154, 2165, 2176, 2180, 2317, 2338, 2404, 2456], ('Friday', 'BURGLARY - COMMERCIAL'): [42, 135, 245, 402, 549, 775, 791, 1177, 1849, 1978, 2046, 2211, 2216, 2392, 2397, 2416], ('Friday', 'BURGLARY - RESIDENTIAL'): [114, 152, 156, 222, 249, 281, 343, 346, 396, 452, 511, 513, 587, 656, 714, 733, 779, 1013, 1128, 1252, 1287, 1365, 1405, 1532, 1564, 1607, 1712, 1758, 1813, 2159, 2400, 2435, 2490, 2532], ('Friday', 'BURGLARY - VEHICLE'): [113, 137, 419, 485, 810, 850, 981, 1034, 1087, 1195, 1230, 1563, 1586, 1642, 1742, 1745, 1843, 1888, 1923, 1979, 2006, 2080, 2207, 2246], ('Friday', 'DISORDERLY CONDUCT'): [166, 336, 341, 375, 438, 456, 476, 596, 638, 786, 878, 950, 1041, 1088, 1192, 1227, 1353, 1372, 1425, 1584, 1618, 1705, 1821, 2008, 2286, 2325, 2517, 2534], ('Friday', 'DRUG VIOLATION'): [139, 512, 1255, 1258, 1269, 1562, 2043, 2485], ('Friday', 'FAMILY OFFENSE'): [192, 405, 835, 931, 934, 1183, 1373, 1449, 1716, 2473], ('Friday', 'FRAUD'): [14, 268, 418, 508, 571, 698, 876, 1023, 1035, 1063, 1072, 1194, 1519, 1770, 1935, 2071, 2115, 2141, 2242, 2367, 2385, 2399, 2401, 2507], ('Friday', 'LARCENY'): [5, 21, 31, 41, 90, 140, 159, 233, 236, 254, 303, 305, 333, 335, 357, 377, 382, 427, 441, 467, 510, 519, 528, 547, 559, 633, 639, 647, 658, 677, 769, 782, 797, 814, 816, 833, 843, 848, 871, 872, 907, 914, 942, 967, 994, 1000, 1025, 1054, 1099, 1116, 1145, 1158, 1168, 1204, 1206, 1209, 1276, 1336, 1346, 1348, 1355, 1379, 1382, 1391, 1403, 1489, 1513, 1528, 1537, 1543, 1593, 1620, 1624, 1645, 1665, 1718, 1723, 1757, 1782, 1818, 1852, 1864, 1914, 1927, 1939, 1999, 2015, 2038, 2085, 2136, 2139, 2155, 2179, 2231, 2247, 2248, 2265, 2278, 2299, 2307, ...], ('Friday', 'LARCENY - FROM VEHICLE'): [37, 378, 388, 736, 945, 1075, 1175, 1231, 1384, 1486, 1775, 1792, 1805, 1949, 2021, 2090, 2168, 2418, 2426, 2522], ('Friday', 'LIQUOR LAW VIOLATION'): [208, 1281, 1851, 2156], ('Friday', 'MISSING PERSON'): [532, 578, 887, 1332, 1640, 1976], ('Friday', 'MOTOR VEHICLE THEFT'): [149, 178, 278, 287, 443, 637, 688, 748, 809, 847, 858, 1026, 1077, 1137, 1377, 1455, 1572, 1629, 1664, 1765, 1829, 2055, 2069, 2086, 2230, 2336, 2389, 2410, 2412, 2450, 2469, 2487], ('Friday', 'ROBBERY'): [26, 36, 173, 577, 960, 1182, 1707, 1868, 2001, 2047, 2060, 2260], ('Friday', 'SEX CRIME'): [95, 398, 1291, 2321], ('Friday', 'VANDALISM'): [130, 170, 331, 376, 709, 787, 991, 1241, 1335, 1465, 1512, 1675, 1802, 1804, 1867, 1912, 2026, 2359, 2409, 2525], ('Friday', 'WEAPONS OFFENSE'): [676, 2132, 2289, 2535], ('Monday', 'ARSON'): [297, 650, 2328], ('Monday', 'ASSAULT'): [4, 19, 77, 220, 361, 387, 599, 683, 801, 913, 1229, 1265, 1303, 1374, 1539, 1571, 1636, 1729, 2097, 2147, 2178], ('Monday', 'BURGLARY - COMMERCIAL'): [35, 317, 454, 635, 989, 1330, 1409, 1855, 2206], ('Monday', 'BURGLARY - RESIDENTIAL'): [489, 492, 539, 624, 719, 723, 742, 763, 808, 903, 922, 996, 1001, 1030, 1095, 1167, 1174, 1387, 1407, 1737, 1756, 2023], ('Monday', 'BURGLARY - VEHICLE'): [104, 150, 315, 316, 414, 424, 1059, 1219, 1366, 1490, 1657, 1903, 1969, 2044, 2237, 2256, 2274, 2413], ('Monday', 'DISORDERLY CONDUCT'): [58, 253, 399, 403, 947, 1038, 1089, 1207, 1239, 1323, 1343, 1383, 1498, 1536, 1609, 1687, 1738, 1806, 1876, 2049, 2135, 2140, 2296, 2510, 2526, 2537], ('Monday', 'DRUG VIOLATION'): [1494], ('Monday', 'FAMILY OFFENSE'): [175, 461, 487, 641, 672, 836, 1002, 1037, 1149, 1385, 1660, 1911, 2106], ('Monday', 'FRAUD'): [127, 200, 428, 435, 478, 482, 518, 873, 1130, 1200, 1247, 1315, 1338, 1436, 1630, 1650, 1859, 2007, 2273, 2373, 2503], ('Monday', 'LARCENY'): [13, 18, 24, 38, 40, 62, 92, 99, 108, 111, 142, 157, 213, 235, 238, 251, 256, 257, 319, 329, 460, 473, 525, 557, 566, 605, 616, 630, 642, 653, 661, 685, 731, 739, 750, 755, 762, 795, 826, 837, 840, 842, 861, 862, 869, 870, 886, 890, 897, 921, 927, 986, 1003, 1006, 1014, 1016, 1047, 1058, 1069, 1100, 1113, 1134, 1150, 1220, 1232, 1254, 1274, 1322, 1324, 1351, 1371, 1408, 1418, 1430, 1441, 1454, 1501, 1540, 1549, 1561, 1567, 1568, 1603, 1619, 1654, 1667, 1691, 1722, 1728, 1739, 1787, 1800, 1834, 1850, 1854, 1858, 1877, 1905, 1907, 1913, ...], ('Monday', 'LARCENY - FROM VEHICLE'): [56, 89, 266, 437, 520, 803, 881, 1051, 1314, 1395, 1560, 1602, 1736, 1749, 1955, 1970, 1994, 2091, 2094, 2235, 2253, 2262, 2310, 2453, 2470, 2486, 2516], ('Monday', 'LIQUOR LAW VIOLATION'): [720, 857], ('Monday', 'MISSING PERSON'): [307, 522, 753, 761, 1278, 2313, 2345], ('Monday', 'MOTOR VEHICLE THEFT'): [7, 91, 323, 390, 732, 751, 776, 839, 880, 923, 1039, 1060, 1226, 1249, 1326, 1514, 2182, 2217, 2308, 2316, 2515], ('Monday', 'ROBBERY'): [309, 350, 380, 713, 743, 831, 1363, 1627, 1697, 2092, 2162, 2304, 2421], ('Monday', 'SEX CRIME'): [724, 2311], ('Monday', 'VANDALISM'): [45, 242, 290, 310, 494, 727, 759, 838, 943, 992, 1011, 1107, 1127, 1176, 1406, 1517, 1617, 1635, 1670, 1777, 1916, 2036, 2040, 2122, 2414, 2491, 2531], ('Monday', 'WEAPONS OFFENSE'): [79, 2131], ('Saturday', 'ARSON'): [84, 530, 540, 1101, 1531, 1648, 1835], ('Saturday', 'ASSAULT'): [59, 87, 177, 212, 231, 551, 594, 1188, 1286, 1288, 1317, 1421, 1459, 1579, 1832, 1879, 1944, 2303, 2306, 2488], ('Saturday', 'BURGLARY - COMMERCIAL'): [199, 216, 645, 766, 794, 812, 1044, 1309, 1506, 1844, 1960, 2123, 2266, 2444, 2484], ('Saturday', 'BURGLARY - RESIDENTIAL'): [74, 360, 445, 481, 493, 567, 629, 646, 663, 670, 716, 813, 856, 941, 983, 1084, 1102, 1447, 1524, 1892, 1954, 1964, 2205, 2224, 2350], ('Saturday', 'BURGLARY - VEHICLE'): [72, 204, 209, 215, 353, 394, 603, 741, 780, 824, 905, 957, 970, 993, 1040, 1173, 1197, 1350, 1895, 1963, 1980, 2024, 2291, 2428, 2481], ('Saturday', 'DISORDERLY CONDUCT'): [6, 83, 100, 337, 421, 515, 617, 859, 866, 901, 937, 990, 1019, 1184, 1246, 1446, 1496, 1499, 1774, 1824, 1828, 2153, 2215], ('Saturday', 'DRUG VIOLATION'): [607, 1704, 2035, 2320, 2339, 2374], ('Saturday', 'FAMILY OFFENSE'): [64, 190, 556, 655, 789, 1250, 1328, 1419, 1544, 1581, 2431, 2506], ('Saturday', 'FRAUD'): [465, 534, 926, 1244, 1741, 1761, 2169, 2172], ('Saturday', 'HOMICIDE'): [802], ('Saturday', 'LARCENY'): [10, 39, 49, 60, 63, 66, 69, 118, 154, 219, 227, 241, 243, 263, 289, 306, 322, 328, 342, 345, 363, 366, 367, 369, 395, 412, 436, 453, 455, 484, 500, 502, 542, 562, 589, 597, 654, 665, 674, 675, 687, 691, 729, 738, 756, 793, 818, 828, 863, 868, 879, 888, 912, 955, 965, 1064, 1090, 1126, 1138, 1161, 1162, 1191, 1214, 1225, 1267, 1299, 1311, 1333, 1347, 1392, 1396, 1413, 1453, 1460, 1468, 1473, 1476, 1487, 1502, 1516, 1525, 1547, 1578, 1591, 1604, 1634, 1639, 1662, 1696, 1699, 1762, 1768, 1779, 1799, 1890, 1936, 1953, 1966, 1981, 1984, ...], ('Saturday', 'LARCENY - FROM VEHICLE'): [129, 406, 439, 458, 573, 620, 696, 1223, 1262, 1589, 1767, 1885, 1951, 2031, 2161, 2268, 2355, 2379, 2466, 2498], ('Saturday', 'LIQUOR LAW VIOLATION'): [160, 819, 1370, 1814, 1928, 1946, 2082, 2368], ('Saturday', 'MISSING PERSON'): [174, 1376, 1759], ('Saturday', 'MOTOR VEHICLE THEFT'): [22, 25, 51, 132, 180, 283, 296, 304, 545, 565, 576, 598, 682, 800, 849, 882, 961, 1112, 1248, 1313, 1551, 1632, 1681, 1875, 1883, 1934, 1945, 2101, 2158, 2243, 2259, 2468, 2521], ('Saturday', 'RECOVERED VEHICLE'): [1133], ('Saturday', 'ROBBERY'): [47, 364, 423, 558, 695, 860, 933, 1076, 1481, 1527, 1894, 1996, 2066, 2294, 2301], ('Saturday', 'SEX CRIME'): [1393, 2257, 2269], ('Saturday', 'VANDALISM'): [274, 292, 334, 615, 722, 821, 939, 1028, 1321, 1399, 1438, 1535, 1647, 1720, 1910, 1948, 1988, 2014, 2017, 2225, 2264, 2309, 2331, 2381, 2454], ('Saturday', 'WEAPONS OFFENSE'): [651, 959, 1511, 1784, 2384], ('Sunday', 'ALL OTHER OFFENSES'): [1083], ('Sunday', 'ASSAULT'): [34, 151, 371, 974, 1086, 1381, 1491, 1533, 1860, 2149, 2190, 2223, 2229, 2287, 2425, 2513], ('Sunday', 'BURGLARY - COMMERCIAL'): [202, 417, 507, 509, 726, 1268, 1410, 1445, 1615, 1698, 1893, 1901, 2012, 2218, 2326, 2380, 2405, 2540], ('Sunday', 'BURGLARY - RESIDENTIAL'): [61, 144, 183, 224, 298, 841, 946, 1117, 1266, 1397, 1523, 1693, 1694, 1703, 1725, 1727, 1786, 2019], ('Sunday', 'BURGLARY - VEHICLE'): [23, 81, 124, 265, 397, 410, 475, 524, 894, 1056, 1135, 1213, 1386, 1504, 1637, 1673, 1785, 2183, 2255, 2344], ('Sunday', 'DISORDERLY CONDUCT'): [110, 167, 308, 327, 479, 497, 593, 618, 822, 834, 845, 920, 1045, 1122, 1160, 1163, 1211, 1217, 1389, 1483, 1585, 1592, 1679, 1733, 1997, 2004, 2102, 2118, 2177, 2193], ('Sunday', 'DRUG VIOLATION'): [1020, 1221, 2462], ('Sunday', 'FAMILY OFFENSE'): [230, 471, 543, 614, 692, 877, 940, 1070, 1140, 1264, 1457, 1597, 1869, 2079, 2081, 2088, 2130, 2312, 2323, 2333, 2348, 2354], ('Sunday', 'FRAUD'): [246, 300, 501, 1065, 1580, 1643, 1781, 2251, 2371], ('Sunday', 'LARCENY'): [3, 8, 12, 48, 70, 86, 94, 97, 103, 115, 141, 153, 161, 168, 179, 186, 201, 211, 237, 252, 262, 273, 354, 358, 408, 434, 444, 474, 488, 503, 526, 586, 604, 608, 678, 764, 904, 918, 958, 1018, 1036, 1053, 1091, 1104, 1108, 1109, 1120, 1131, 1154, 1179, 1243, 1290, 1296, 1331, 1349, 1390, 1416, 1424, 1428, 1443, 1451, 1485, 1569, 1575, 1601, 1628, 1656, 1671, 1680, 1689, 1711, 1713, 1721, 1734, 1735, 1740, 1752, 1788, 1795, 1809, 1841, 1870, 1872, 1899, 1900, 1918, 1920, 1922, 1952, 1977, 2010, 2173, 2187, 2192, 2199, 2209, 2239, 2252, 2263, 2363, ...], ('Sunday', 'LARCENY - FROM VEHICLE'): [53, 531, 643, 690, 935, 1042, 1164, 1218, 1224, 1590, 1956, 2127, 2297, 2342], ('Sunday', 'LIQUOR LAW VIOLATION'): [1199, 1600], ('Sunday', 'MISSING PERSON'): [29, 649, 852, 1307], ('Sunday', 'MOTOR VEHICLE THEFT'): [0, 205, 270, 514, 602, 606, 613, 660, 671, 706, 734, 948, 988, 997, 1153, 1215, 1233, 1417, 1452, 1548, 1783, 1857, 1940, 1962, 2022, 2048, 2068, 2093, 2250, 2352, 2358, 2463], ('Sunday', 'ROBBERY'): [33, 128, 338, 389, 404, 963, 979, 1415, 1437, 1708, 1731, 1957], ('Sunday', 'SEX CRIME'): [112, 269, 580, 1318, 2386], ('Sunday', 'VANDALISM'): [184, 321, 324, 432, 564, 575, 591, 636, 760, 867, 954, 1190, 1292, 1565, 1669, 1692, 1773, 1886, 1904, 1932, 1990, 2171, 2213, 2227], ('Sunday', 'WEAPONS OFFENSE'): [1469, 1706, 2157, 2391], ('Thursday', 'ASSAULT'): [181, 448, 490, 541, 555, 611, 1280, 1308, 1341, 1362, 1534, 1796, 1823, 1972, 2057, 2133, 2438], ('Thursday', 'BURGLARY - COMMERCIAL'): [272, 355, 619, 679, 792, 910, 1764, 1771, 1982, 2053, 2283, 2411], ('Thursday', 'BURGLARY - RESIDENTIAL'): [44, 73, 264, 320, 400, 401, 758, 823, 885, 908, 1124, 1142, 1234, 1279, 1361, 1388, 1423, 1432, 1480, 1674, 1719, 1871, 2027, 2041, 2330, 2337, 2476, 2524], ('Thursday', 'BURGLARY - VEHICLE'): [232, 285, 291, 326, 446, 572, 628, 632, 712, 805, 811, 884, 1024, 1106, 1461, 1478, 1605, 1646, 1695, 1794, 1845, 1891, 1958, 2037, 2045, 2089, 2417, 2528, 2529], ('Thursday', 'DISORDERLY CONDUCT'): [67, 196, 457, 504, 569, 600, 610, 686, 754, 825, 938, 971, 1022, 1302, 1398, 1508, 1526, 1558, 1559, 1780, 1917, 2061, 2100, 2332, 2353, 2493], ('Thursday', 'DRUG VIOLATION'): [259, 1588, 1915], ('Thursday', 'FAMILY OFFENSE'): [626, 693, 1240, 1553, 1941, 2025, 2300, 2527], ('Thursday', 'FRAUD'): [162, 214, 293, 294, 744, 924, 966, 1008, 1049, 1079, 1151, 1172, 1431, 1440, 1598, 1652, 1769, 1820, 2105, 2254, 2394, 2499], ('Thursday', 'LARCENY'): [2, 57, 68, 75, 101, 120, 126, 131, 239, 359, 365, 370, 411, 429, 442, 470, 527, 535, 552, 554, 560, 601, 612, 681, 700, 710, 745, 770, 772, 783, 830, 875, 896, 898, 919, 952, 977, 1021, 1055, 1068, 1073, 1081, 1096, 1115, 1119, 1132, 1141, 1152, 1187, 1208, 1212, 1257, 1316, 1368, 1401, 1402, 1404, 1444, 1466, 1475, 1493, 1515, 1522, 1529, 1541, 1574, 1583, 1623, 1633, 1651, 1676, 1677, 1683, 1702, 1730, 1746, 1747, 1750, 1751, 1798, 1815, 1827, 1833, 1837, 1840, 1853, 1856, 1865, 1874, 1887, 1933, 1967, 2002, 2074, 2112, 2114, 2125, 2137, 2184, 2198, ...], ('Thursday', 'LARCENY - FROM VEHICLE'): [93, 210, 379, 413, 627, 680, 864, 1062, 1155, 1216, 1456, 1470, 1760, 1831, 1884, 1929, 2210, 2347, 2372, 2459, 2478, 2504], ('Thursday', 'LIQUOR LAW VIOLATION'): [2185], ('Thursday', 'MISSING PERSON'): [1557, 2067, 2073], ('Thursday', 'MOTOR VEHICLE THEFT'): [107, 119, 449, 546, 550, 673, 749, 796, 949, 956, 998, 1017, 1129, 1210, 1251, 1344, 1474, 1542, 1587, 1655, 1666, 1797, 1862, 2050, 2194, 2398, 2511], ('Thursday', 'RECOVERED VEHICLE'): [221], ('Thursday', 'ROBBERY'): [80, 483, 1169, 1170, 1185, 1357, 1776, 2148], ('Thursday', 'SEX CRIME'): [579, 788, 2396], ('Thursday', 'VANDALISM'): [228, 247, 255, 662, 708, 740, 746, 883, 1057, 1285, 1375, 1566, 1625, 1659, 1715, 1937, 2018, 2095, 2099, 2244, 2275], ('Thursday', 'WEAPONS OFFENSE'): [50, 798, 804, 1690, 1812, 1906, 2078], ('Tuesday', 'ASSAULT'): [145, 187, 240, 666, 711, 735, 953, 976, 1005, 1027, 1139, 1270, 1319, 1789, 1807, 2000, 2219, 2387], ('Tuesday', 'BURGLARY - COMMERCIAL'): [88, 206, 505, 506, 568, 657, 664, 829, 1012, 1015, 1284, 2033, 2175, 2220, 2302], ('Tuesday', 'BURGLARY - RESIDENTIAL'): [134, 312, 517, 548, 684, 697, 820, 865, 874, 889, 982, 1144, 1352, 1484, 1530, 1596, 1748, 1816, 1889, 1931, 2029, 2343, 2442, 2448], ('Tuesday', 'BURGLARY - VEHICLE'): [82, 136, 194, 302, 325, 374, 420, 433, 570, 667, 668, 768, 815, 928, 999, 1067, 1228, 1289, 1358, 1471, 2267, 2282, 2480], ('Tuesday', 'DISORDERLY CONDUCT'): [98, 133, 176, 203, 244, 462, 486, 516, 623, 964, 1078, 1121, 1143, 1301, 1433, 1545, 1811, 1847, 1947, 1983, 2020, 2064, 2083, 2222, 2362], ('Tuesday', 'DRUG VIOLATION'): [125, 463, 2104], ('Tuesday', 'FAMILY OFFENSE'): [185, 229, 915, 1110, 1283, 1426, 2070, 2189, 2377, 2461], ...}"
            ]
          },
          "metadata": {
            "tags": []
          },
          "execution_count": 48
        }
      ]
    },
    {
      "cell_type": "code",
      "metadata": {
        "colab": {
          "base_uri": "https://localhost:8080/"
        },
        "id": "IxC2Z8hWeOUy",
        "outputId": "bb1384e9-bf06-40e3-b531-6960a5411d59"
      },
      "source": [
        "# checkign how many groups we have\n",
        "\n",
        "grouped.ngroups"
      ],
      "execution_count": null,
      "outputs": [
        {
          "output_type": "execute_result",
          "data": {
            "text/plain": [
              "7"
            ]
          },
          "metadata": {
            "tags": []
          },
          "execution_count": 49
        }
      ]
    },
    {
      "cell_type": "code",
      "metadata": {
        "colab": {
          "base_uri": "https://localhost:8080/"
        },
        "id": "402BGZ7neTDZ",
        "outputId": "b33a1b86-def3-48e6-b926-3e40a17a5e17"
      },
      "source": [
        "grouped.groups"
      ],
      "execution_count": null,
      "outputs": [
        {
          "output_type": "execute_result",
          "data": {
            "text/plain": [
              "{'Friday': [5, 14, 21, 26, 31, 36, 37, 41, 42, 78, 90, 95, 113, 114, 116, 130, 135, 137, 139, 140, 149, 152, 156, 159, 165, 166, 170, 173, 178, 192, 208, 222, 233, 236, 245, 249, 254, 268, 278, 281, 287, 303, 305, 331, 333, 335, 336, 341, 343, 346, 357, 375, 376, 377, 378, 382, 388, 396, 398, 402, 405, 418, 419, 422, 427, 431, 438, 441, 443, 452, 456, 467, 476, 485, 498, 508, 510, 511, 512, 513, 519, 523, 528, 532, 547, 549, 559, 571, 577, 578, 587, 596, 622, 631, 633, 637, 638, 639, 647, 656, ...], 'Monday': [4, 7, 13, 18, 19, 24, 35, 38, 40, 45, 56, 58, 62, 77, 79, 89, 91, 92, 99, 104, 108, 111, 127, 142, 150, 157, 175, 200, 213, 220, 235, 238, 242, 251, 253, 256, 257, 266, 290, 297, 307, 309, 310, 315, 316, 317, 319, 323, 329, 350, 361, 380, 387, 390, 399, 403, 414, 424, 428, 435, 437, 454, 460, 461, 473, 478, 482, 487, 489, 492, 494, 518, 520, 522, 525, 539, 557, 566, 599, 605, 616, 624, 630, 635, 641, 642, 650, 653, 661, 672, 683, 685, 713, 719, 720, 723, 724, 727, 731, 732, ...], 'Saturday': [6, 10, 22, 25, 39, 47, 49, 51, 59, 60, 63, 64, 66, 69, 72, 74, 83, 84, 87, 100, 118, 129, 132, 154, 160, 174, 177, 180, 190, 199, 204, 209, 212, 215, 216, 219, 227, 231, 241, 243, 263, 274, 283, 289, 292, 296, 304, 306, 322, 328, 334, 337, 342, 345, 353, 360, 363, 364, 366, 367, 369, 394, 395, 406, 412, 421, 423, 436, 439, 445, 453, 455, 458, 465, 481, 484, 493, 500, 502, 515, 530, 534, 540, 542, 545, 551, 556, 558, 562, 565, 567, 573, 576, 589, 594, 597, 598, 603, 607, 615, ...], 'Sunday': [0, 3, 8, 12, 23, 29, 33, 34, 48, 53, 61, 70, 81, 86, 94, 97, 103, 110, 112, 115, 124, 128, 141, 144, 151, 153, 161, 167, 168, 179, 183, 184, 186, 201, 202, 205, 211, 224, 230, 237, 246, 252, 262, 265, 269, 270, 273, 298, 300, 308, 321, 324, 327, 338, 354, 358, 371, 389, 397, 404, 408, 410, 417, 432, 434, 444, 471, 474, 475, 479, 488, 497, 501, 503, 507, 509, 514, 524, 526, 531, 543, 564, 575, 580, 586, 591, 593, 602, 604, 606, 608, 613, 614, 618, 636, 643, 649, 660, 671, 678, ...], 'Thursday': [2, 44, 50, 57, 67, 68, 73, 75, 80, 93, 101, 107, 119, 120, 126, 131, 162, 181, 196, 210, 214, 221, 228, 232, 239, 247, 255, 259, 264, 272, 285, 291, 293, 294, 320, 326, 355, 359, 365, 370, 379, 400, 401, 411, 413, 429, 442, 446, 448, 449, 457, 470, 483, 490, 504, 527, 535, 541, 546, 550, 552, 554, 555, 560, 569, 572, 579, 600, 601, 610, 611, 612, 619, 626, 627, 628, 632, 662, 673, 679, 680, 681, 686, 693, 700, 708, 710, 712, 740, 744, 745, 746, 749, 754, 758, 770, 772, 783, 788, 792, ...], 'Tuesday': [1, 9, 11, 17, 27, 28, 32, 43, 52, 54, 76, 82, 85, 88, 96, 98, 109, 117, 122, 123, 125, 133, 134, 136, 138, 143, 145, 146, 147, 148, 158, 164, 176, 182, 185, 187, 189, 194, 195, 197, 203, 206, 217, 223, 225, 229, 234, 240, 244, 267, 276, 280, 282, 286, 288, 295, 301, 302, 312, 318, 325, 330, 339, 347, 348, 349, 372, 373, 374, 381, 386, 393, 420, 425, 433, 447, 451, 459, 462, 463, 466, 486, 496, 505, 506, 516, 517, 521, 533, 536, 538, 548, 553, 561, 568, 570, 582, 590, 592, 609, ...], 'Wednesday': [15, 16, 20, 30, 46, 55, 65, 71, 102, 105, 106, 121, 155, 163, 169, 171, 172, 188, 191, 193, 198, 207, 218, 226, 248, 250, 258, 260, 261, 271, 275, 277, 279, 284, 299, 311, 313, 314, 332, 340, 344, 351, 352, 356, 362, 368, 383, 384, 385, 391, 392, 407, 409, 415, 416, 426, 430, 440, 450, 464, 468, 469, 472, 477, 480, 491, 495, 499, 529, 537, 544, 563, 574, 581, 583, 584, 585, 588, 595, 625, 634, 640, 644, 659, 669, 694, 701, 702, 704, 705, 721, 725, 730, 747, 752, 757, 767, 771, 777, 778, ...]}"
            ]
          },
          "metadata": {
            "tags": []
          },
          "execution_count": 50
        }
      ]
    },
    {
      "cell_type": "code",
      "metadata": {
        "colab": {
          "base_uri": "https://localhost:8080/"
        },
        "id": "7b2w4OXBeYTU",
        "outputId": "ff944b67-d10b-4fac-c2a2-e7d8fd299c26"
      },
      "source": [
        "# printing the dataframe by day of the week with all the info\n",
        "\n",
        "\n",
        "for key, value in grouped.groups.items():\n",
        "  print(\"key:\", key)\n",
        "  print(\"values\", df.iloc[value])"
      ],
      "execution_count": null,
      "outputs": [
        {
          "output_type": "stream",
          "text": [
            "key: Friday\n",
            "values         CASENO                   OFFENSE  ... df_date_only     DAY\n",
            "5     20041090  THEFT MISD. (UNDER $950)  ...   09/04/2020  Friday\n",
            "14    21090132            IDENTITY THEFT  ...   12/18/2020  Friday\n",
            "21    20056610  THEFT MISD. (UNDER $950)  ...   12/11/2020  Friday\n",
            "26    20053413                   ROBBERY  ...   11/20/2020  Friday\n",
            "31    21003891  THEFT MISD. (UNDER $950)  ...   01/29/2021  Friday\n",
            "...        ...                       ...  ...          ...     ...\n",
            "2525  20056583                 VANDALISM  ...   12/11/2020  Friday\n",
            "2532  20045649      BURGLARY RESIDENTIAL  ...   10/02/2020  Friday\n",
            "2534  20050224               DISTURBANCE  ...   10/30/2020  Friday\n",
            "2535  21006096               BRANDISHING  ...   02/12/2021  Friday\n",
            "2536  20044389  THEFT FELONY (OVER $950)  ...   09/25/2020  Friday\n",
            "\n",
            "[388 rows x 13 columns]\n",
            "key: Monday\n",
            "values         CASENO                   OFFENSE  ... df_date_only     DAY\n",
            "4     20050711     ASSAULT/BATTERY MISD.  ...   11/02/2020  Monday\n",
            "7     20054742            VEHICLE STOLEN  ...   11/23/2020  Monday\n",
            "13    20048374  THEFT MISD. (UNDER $950)  ...   10/19/2020  Monday\n",
            "18    20055766  THEFT MISD. (UNDER $950)  ...   12/07/2020  Monday\n",
            "19    20046093     ASSAULT/BATTERY MISD.  ...   10/05/2020  Monday\n",
            "...        ...                       ...  ...          ...     ...\n",
            "2519  20052718  THEFT MISD. (UNDER $950)  ...   11/16/2020  Monday\n",
            "2526  21005589               DISTURBANCE  ...   02/08/2021  Monday\n",
            "2531  20047226                 VANDALISM  ...   10/12/2020  Monday\n",
            "2533  21000423  THEFT MISD. (UNDER $950)  ...   01/04/2021  Monday\n",
            "2537  20051685               DISTURBANCE  ...   11/09/2020  Monday\n",
            "\n",
            "[366 rows x 13 columns]\n",
            "key: Saturday\n",
            "values         CASENO                   OFFENSE  ... df_date_only       DAY\n",
            "6     21005629               DISTURBANCE  ...   01/16/2021  Saturday\n",
            "10    20057613  THEFT MISD. (UNDER $950)  ...   12/19/2020  Saturday\n",
            "22    20041431            VEHICLE STOLEN  ...   09/05/2020  Saturday\n",
            "25    21003140            VEHICLE STOLEN  ...   01/23/2021  Saturday\n",
            "39    21002012  THEFT MISD. (UNDER $950)  ...   01/16/2021  Saturday\n",
            "...        ...                       ...  ...          ...       ...\n",
            "2505  21007370  THEFT MISD. (UNDER $950)  ...   02/20/2021  Saturday\n",
            "2506  20048076         DOMESTIC VIOLENCE  ...   10/17/2020  Saturday\n",
            "2514  21090144  THEFT MISD. (UNDER $950)  ...   01/30/2021  Saturday\n",
            "2521  21003074            VEHICLE STOLEN  ...   01/23/2021  Saturday\n",
            "2530  20041317  THEFT MISD. (UNDER $950)  ...   09/05/2020  Saturday\n",
            "\n",
            "[390 rows x 13 columns]\n",
            "key: Sunday\n",
            "values         CASENO                   OFFENSE  ... df_date_only     DAY\n",
            "0     20047075            VEHICLE STOLEN  ...   10/11/2020  Sunday\n",
            "3     20045958  THEFT FELONY (OVER $950)  ...   10/04/2020  Sunday\n",
            "8     20056763  THEFT FELONY (OVER $950)  ...   12/13/2020  Sunday\n",
            "12    21004226  THEFT MISD. (UNDER $950)  ...   01/31/2021  Sunday\n",
            "23    20092155             BURGLARY AUTO  ...   11/29/2020  Sunday\n",
            "...        ...                       ...  ...          ...     ...\n",
            "2472  20044742  THEFT MISD. (UNDER $950)  ...   09/27/2020  Sunday\n",
            "2500  20045981  THEFT MISD. (UNDER $950)  ...   10/04/2020  Sunday\n",
            "2513  21005320     ASSAULT/BATTERY MISD.  ...   02/07/2021  Sunday\n",
            "2523  21090063  THEFT FELONY (OVER $950)  ...   01/10/2021  Sunday\n",
            "2540  20050504       BURGLARY COMMERCIAL  ...   11/01/2020  Sunday\n",
            "\n",
            "[344 rows x 13 columns]\n",
            "key: Thursday\n",
            "values         CASENO                   OFFENSE  ... df_date_only       DAY\n",
            "2     21090137  THEFT FELONY (OVER $950)  ...   01/28/2021  Thursday\n",
            "44    20058337      BURGLARY RESIDENTIAL  ...   12/24/2020  Thursday\n",
            "50    20050090                GUN/WEAPON  ...   10/29/2020  Thursday\n",
            "57    21003752  THEFT MISD. (UNDER $950)  ...   01/28/2021  Thursday\n",
            "67    20051176               DISTURBANCE  ...   11/05/2020  Thursday\n",
            "...        ...                       ...  ...          ...       ...\n",
            "2524  20044142      BURGLARY RESIDENTIAL  ...   09/24/2020  Thursday\n",
            "2527  20043041         DOMESTIC VIOLENCE  ...   09/17/2020  Thursday\n",
            "2528  20091737             BURGLARY AUTO  ...   09/10/2020  Thursday\n",
            "2529  20052264             BURGLARY AUTO  ...   11/12/2020  Thursday\n",
            "2538  20055176  THEFT MISD. (UNDER $950)  ...   12/03/2020  Thursday\n",
            "\n",
            "[351 rows x 13 columns]\n",
            "key: Tuesday\n",
            "values         CASENO                   OFFENSE  ... df_date_only      DAY\n",
            "1     20049646            IDENTITY THEFT  ...   09/29/2020  Tuesday\n",
            "9     20051823  THEFT MISD. (UNDER $950)  ...   11/10/2020  Tuesday\n",
            "11    20058005  THEFT FELONY (OVER $950)  ...   10/27/2020  Tuesday\n",
            "17    21090073                 VANDALISM  ...   01/12/2021  Tuesday\n",
            "27    20052927             MISSING ADULT  ...   09/15/2020  Tuesday\n",
            "...        ...                       ...  ...          ...      ...\n",
            "2495  20042632  THEFT MISD. (UNDER $950)  ...   09/15/2020  Tuesday\n",
            "2496  21090040  THEFT MISD. (UNDER $950)  ...   01/05/2021  Tuesday\n",
            "2502  21090208  THEFT FELONY (OVER $950)  ...   02/16/2021  Tuesday\n",
            "2518  21005929            VEHICLE STOLEN  ...   02/09/2021  Tuesday\n",
            "2539  21003589  THEFT FELONY (OVER $950)  ...   01/26/2021  Tuesday\n",
            "\n",
            "[353 rows x 13 columns]\n",
            "key: Wednesday\n",
            "values         CASENO                   OFFENSE  ... df_date_only        DAY\n",
            "15    20055065             MISSING ADULT  ...   11/11/2020  Wednesday\n",
            "16    20058927       BURGLARY COMMERCIAL  ...   12/23/2020  Wednesday\n",
            "20    20049935  THEFT MISD. (UNDER $950)  ...   10/21/2020  Wednesday\n",
            "30    20047634            VEHICLE STOLEN  ...   10/07/2020  Wednesday\n",
            "46    20049809                 NARCOTICS  ...   10/28/2020  Wednesday\n",
            "...        ...                       ...  ...          ...        ...\n",
            "2483  21000641               DISTURBANCE  ...   01/06/2021  Wednesday\n",
            "2501  21003922  THEFT FELONY (OVER $950)  ...   01/20/2021  Wednesday\n",
            "2508  20055105  THEFT MISD. (UNDER $950)  ...   12/02/2020  Wednesday\n",
            "2509  20046317      BURGLARY RESIDENTIAL  ...   10/07/2020  Wednesday\n",
            "2512  20047470             FRAUD/FORGERY  ...   10/07/2020  Wednesday\n",
            "\n",
            "[349 rows x 13 columns]\n"
          ],
          "name": "stdout"
        }
      ]
    },
    {
      "cell_type": "code",
      "metadata": {
        "colab": {
          "base_uri": "https://localhost:8080/",
          "height": 931
        },
        "id": "22ZvnK0Pegqy",
        "outputId": "d64a542f-eaa5-4c1e-c4f0-516363da6f0b"
      },
      "source": [
        "# Last week we created offense_df. This was a subset of CVLEGEND and OFFENSE columns. \n",
        "# There are 28 OFFENSE types and 21 CVLEGEND types. \n",
        "# How many offenses of each kind are listed per CVLEGEND type?\n",
        "\n",
        "# subset the part of the df to look at 2 columns\n",
        "# and then group this subset by these 2 columns\n",
        "# we need to do it in 2 steps\n",
        "\n",
        "off_df=df[ ['CVLEGEND', 'OFFENSE'] ]\n",
        "off_df.groupby(['CVLEGEND', 'OFFENSE']).count()"
      ],
      "execution_count": null,
      "outputs": [
        {
          "output_type": "execute_result",
          "data": {
            "text/html": [
              "<div>\n",
              "<style scoped>\n",
              "    .dataframe tbody tr th:only-of-type {\n",
              "        vertical-align: middle;\n",
              "    }\n",
              "\n",
              "    .dataframe tbody tr th {\n",
              "        vertical-align: top;\n",
              "    }\n",
              "\n",
              "    .dataframe thead th {\n",
              "        text-align: right;\n",
              "    }\n",
              "</style>\n",
              "<table border=\"1\" class=\"dataframe\">\n",
              "  <thead>\n",
              "    <tr style=\"text-align: right;\">\n",
              "      <th></th>\n",
              "      <th></th>\n",
              "    </tr>\n",
              "    <tr>\n",
              "      <th>CVLEGEND</th>\n",
              "      <th>OFFENSE</th>\n",
              "    </tr>\n",
              "  </thead>\n",
              "  <tbody>\n",
              "    <tr>\n",
              "      <th>ALL OTHER OFFENSES</th>\n",
              "      <th>MUNICIPAL CODE</th>\n",
              "    </tr>\n",
              "    <tr>\n",
              "      <th>ARSON</th>\n",
              "      <th>ARSON</th>\n",
              "    </tr>\n",
              "    <tr>\n",
              "      <th rowspan=\"2\" valign=\"top\">ASSAULT</th>\n",
              "      <th>ASSAULT/BATTERY FEL.</th>\n",
              "    </tr>\n",
              "    <tr>\n",
              "      <th>ASSAULT/BATTERY MISD.</th>\n",
              "    </tr>\n",
              "    <tr>\n",
              "      <th>BURGLARY - COMMERCIAL</th>\n",
              "      <th>BURGLARY COMMERCIAL</th>\n",
              "    </tr>\n",
              "    <tr>\n",
              "      <th>BURGLARY - RESIDENTIAL</th>\n",
              "      <th>BURGLARY RESIDENTIAL</th>\n",
              "    </tr>\n",
              "    <tr>\n",
              "      <th>BURGLARY - VEHICLE</th>\n",
              "      <th>BURGLARY AUTO</th>\n",
              "    </tr>\n",
              "    <tr>\n",
              "      <th>DISORDERLY CONDUCT</th>\n",
              "      <th>DISTURBANCE</th>\n",
              "    </tr>\n",
              "    <tr>\n",
              "      <th>DRUG VIOLATION</th>\n",
              "      <th>NARCOTICS</th>\n",
              "    </tr>\n",
              "    <tr>\n",
              "      <th>FAMILY OFFENSE</th>\n",
              "      <th>DOMESTIC VIOLENCE</th>\n",
              "    </tr>\n",
              "    <tr>\n",
              "      <th rowspan=\"2\" valign=\"top\">FRAUD</th>\n",
              "      <th>FRAUD/FORGERY</th>\n",
              "    </tr>\n",
              "    <tr>\n",
              "      <th>IDENTITY THEFT</th>\n",
              "    </tr>\n",
              "    <tr>\n",
              "      <th>HOMICIDE</th>\n",
              "      <th>HOMICIDE</th>\n",
              "    </tr>\n",
              "    <tr>\n",
              "      <th rowspan=\"3\" valign=\"top\">LARCENY</th>\n",
              "      <th>THEFT FELONY (OVER $950)</th>\n",
              "    </tr>\n",
              "    <tr>\n",
              "      <th>THEFT FROM PERSON</th>\n",
              "    </tr>\n",
              "    <tr>\n",
              "      <th>THEFT MISD. (UNDER $950)</th>\n",
              "    </tr>\n",
              "    <tr>\n",
              "      <th>LARCENY - FROM VEHICLE</th>\n",
              "      <th>THEFT FROM AUTO</th>\n",
              "    </tr>\n",
              "    <tr>\n",
              "      <th>LIQUOR LAW VIOLATION</th>\n",
              "      <th>ALCOHOL OFFENSE</th>\n",
              "    </tr>\n",
              "    <tr>\n",
              "      <th rowspan=\"2\" valign=\"top\">MISSING PERSON</th>\n",
              "      <th>MISSING ADULT</th>\n",
              "    </tr>\n",
              "    <tr>\n",
              "      <th>MISSING JUVENILE</th>\n",
              "    </tr>\n",
              "    <tr>\n",
              "      <th>MOTOR VEHICLE THEFT</th>\n",
              "      <th>VEHICLE STOLEN</th>\n",
              "    </tr>\n",
              "    <tr>\n",
              "      <th>RECOVERED VEHICLE</th>\n",
              "      <th>VEHICLE RECOVERED</th>\n",
              "    </tr>\n",
              "    <tr>\n",
              "      <th>ROBBERY</th>\n",
              "      <th>ROBBERY</th>\n",
              "    </tr>\n",
              "    <tr>\n",
              "      <th rowspan=\"2\" valign=\"top\">SEX CRIME</th>\n",
              "      <th>SEXUAL ASSAULT FEL.</th>\n",
              "    </tr>\n",
              "    <tr>\n",
              "      <th>SEXUAL ASSAULT MISD.</th>\n",
              "    </tr>\n",
              "    <tr>\n",
              "      <th>VANDALISM</th>\n",
              "      <th>VANDALISM</th>\n",
              "    </tr>\n",
              "    <tr>\n",
              "      <th rowspan=\"2\" valign=\"top\">WEAPONS OFFENSE</th>\n",
              "      <th>BRANDISHING</th>\n",
              "    </tr>\n",
              "    <tr>\n",
              "      <th>GUN/WEAPON</th>\n",
              "    </tr>\n",
              "  </tbody>\n",
              "</table>\n",
              "</div>"
            ],
            "text/plain": [
              "Empty DataFrame\n",
              "Columns: []\n",
              "Index: [(ALL OTHER OFFENSES, MUNICIPAL CODE), (ARSON, ARSON), (ASSAULT, ASSAULT/BATTERY FEL.), (ASSAULT, ASSAULT/BATTERY MISD.), (BURGLARY - COMMERCIAL, BURGLARY COMMERCIAL), (BURGLARY - RESIDENTIAL, BURGLARY RESIDENTIAL), (BURGLARY - VEHICLE, BURGLARY AUTO), (DISORDERLY CONDUCT, DISTURBANCE), (DRUG VIOLATION, NARCOTICS), (FAMILY OFFENSE, DOMESTIC VIOLENCE), (FRAUD, FRAUD/FORGERY), (FRAUD, IDENTITY THEFT), (HOMICIDE, HOMICIDE), (LARCENY, THEFT FELONY (OVER $950)), (LARCENY, THEFT FROM PERSON), (LARCENY, THEFT MISD. (UNDER $950)), (LARCENY - FROM VEHICLE, THEFT FROM AUTO), (LIQUOR LAW VIOLATION, ALCOHOL OFFENSE), (MISSING PERSON, MISSING ADULT), (MISSING PERSON, MISSING JUVENILE), (MOTOR VEHICLE THEFT, VEHICLE STOLEN), (RECOVERED VEHICLE, VEHICLE RECOVERED), (ROBBERY, ROBBERY), (SEX CRIME, SEXUAL ASSAULT FEL.), (SEX CRIME, SEXUAL ASSAULT MISD.), (VANDALISM, VANDALISM), (WEAPONS OFFENSE, BRANDISHING), (WEAPONS OFFENSE, GUN/WEAPON)]"
            ]
          },
          "metadata": {
            "tags": []
          },
          "execution_count": 52
        }
      ]
    },
    {
      "cell_type": "markdown",
      "metadata": {
        "id": "ZGLCEHTwemlP"
      },
      "source": [
        "# Exploring Berkeley dataset with subsetting"
      ]
    },
    {
      "cell_type": "code",
      "metadata": {
        "colab": {
          "base_uri": "https://localhost:8080/"
        },
        "id": "yRZeMMVTesV_",
        "outputId": "24839ab9-44ea-4ad2-9055-007495a9ee5d"
      },
      "source": [
        "# Question: We see the 4 most common offenses and 4 most common places where crimes occur in Berkeley,\n",
        "# Which of these 4 offenses have occurred regularly in the same places?\n",
        "\n",
        "# slicing the dataset by these 4 most common offenses\n",
        "df_larceny = df[df[\"CVLEGEND\"]=='LARCENY']\n",
        "df_vehicle_theft = df[df[\"CVLEGEND\"]=='MOTOR VEHICLE THEFT']\n",
        "df_dis_conduct = df[df[\"CVLEGEND\"]=='DISORDERLY CONDUCT']\n",
        "df_assault = df[df[\"CVLEGEND\"]=='ASSAULT']\n",
        "\n",
        "# printing length of each subset\n",
        "\n",
        "len(df_larceny), len(df_vehicle_theft), len(df_dis_conduct), len(df_assault)"
      ],
      "execution_count": null,
      "outputs": [
        {
          "output_type": "execute_result",
          "data": {
            "text/plain": [
              "(819, 212, 182, 137)"
            ]
          },
          "metadata": {
            "tags": []
          },
          "execution_count": 56
        }
      ]
    },
    {
      "cell_type": "code",
      "metadata": {
        "colab": {
          "base_uri": "https://localhost:8080/"
        },
        "id": "cQxSgzd0fhow",
        "outputId": "49d81b90-0775-4256-9579-81c0faae9476"
      },
      "source": [
        "## seems interesting\n",
        "# places (blocks) where most incedents occur\n",
        "\n",
        "pd.Series.unique(df['BLKADDR'])\n",
        "df['BLKADDR'].value_counts()"
      ],
      "execution_count": null,
      "outputs": [
        {
          "output_type": "execute_result",
          "data": {
            "text/plain": [
              "2800 BLOCK ADELINE ST        100\n",
              "2100 BLOCK SHATTUCK AVE       71\n",
              "1000 BLOCK GILMAN ST          56\n",
              "2600 BLOCK TELEGRAPH AVE      48\n",
              "1400 BLOCK UNIVERSITY AVE     44\n",
              "                            ... \n",
              "550 COLUSA AVE                 1\n",
              "600 BLOCK HEARST AVE           1\n",
              "2200 BLOCK RUSSELL ST          1\n",
              "2900 BLOCK NEWBURY ST          1\n",
              "800 BLOCK ARLINGTON AVE        1\n",
              "Name: BLKADDR, Length: 820, dtype: int64"
            ]
          },
          "metadata": {
            "tags": []
          },
          "execution_count": 65
        }
      ]
    },
    {
      "cell_type": "code",
      "metadata": {
        "colab": {
          "base_uri": "https://localhost:8080/"
        },
        "id": "9nvMrWD7e3OJ",
        "outputId": "ac6dc57e-611e-43fb-8b1f-05cdb36b8262"
      },
      "source": [
        "# let's sxplore all 4 main offenses by most common places of occurrence\n",
        "\n",
        "# offense 1: Larceny\n",
        "\n",
        "print('Larceny at 2800 BLOCK ADELINE ST:', sum(df_larceny[\"BLKADDR\"] == '2800 BLOCK ADELINE ST'))\n",
        "print('Larceny at 2100 BLOCK SHATTUCK AVE:', sum(df_larceny[\"BLKADDR\"] == '2100 BLOCK SHATTUCK AVE'))\n",
        "print('Larceny at 2600 BLOCK TELEGRAPH AVE:', sum(df_larceny[\"BLKADDR\"] == '2600 BLOCK TELEGRAPH AVE'))\n",
        "print('Larceny at 1000 BLOCK GILMAN ST:', sum(df_larceny[\"BLKADDR\"] == '1000 BLOCK GILMAN ST'))"
      ],
      "execution_count": null,
      "outputs": [
        {
          "output_type": "stream",
          "text": [
            "Larceny at 2800 BLOCK ADELINE ST: 84\n",
            "Larceny at 2100 BLOCK SHATTUCK AVE: 37\n",
            "Larceny at 2600 BLOCK TELEGRAPH AVE: 27\n",
            "Larceny at 1000 BLOCK GILMAN ST: 43\n"
          ],
          "name": "stdout"
        }
      ]
    },
    {
      "cell_type": "code",
      "metadata": {
        "colab": {
          "base_uri": "https://localhost:8080/"
        },
        "id": "1PcVViYofGPn",
        "outputId": "b5ead25d-541e-47d0-82b7-5f93b1a61b84"
      },
      "source": [
        "# offense 2: vehicle_theft\n",
        "\n",
        "print('Vehicle theft at 2800 BLOCK ADELINE ST:', sum(df_vehicle_theft[\"BLKADDR\"] == '2800 BLOCK ADELINE ST'))\n",
        "print('Vehicle theft at 2100 BLOCK SHATTUCK AVE:', sum(df_vehicle_theft[\"BLKADDR\"] == '2100 BLOCK SHATTUCK AVE'))\n",
        "print('Vehicle theft at 2600 BLOCK TELEGRAPH AVE:', sum(df_vehicle_theft[\"BLKADDR\"] == '2600 BLOCK TELEGRAPH AVE'))\n",
        "print('Vehicle theft at 1000 BLOCK GILMAN ST:', sum(df_vehicle_theft[\"BLKADDR\"] == '1000 BLOCK GILMAN ST'))"
      ],
      "execution_count": null,
      "outputs": [
        {
          "output_type": "stream",
          "text": [
            "Vehicle theft at 2800 BLOCK ADELINE ST: 0\n",
            "Vehicle theft at 2100 BLOCK SHATTUCK AVE: 1\n",
            "Vehicle theft at 2600 BLOCK TELEGRAPH AVE: 0\n",
            "Vehicle theft at 1000 BLOCK GILMAN ST: 3\n"
          ],
          "name": "stdout"
        }
      ]
    },
    {
      "cell_type": "code",
      "metadata": {
        "colab": {
          "base_uri": "https://localhost:8080/"
        },
        "id": "ARqkxwdTfJwa",
        "outputId": "47745442-a936-4d05-da0d-281b5b7b5933"
      },
      "source": [
        "# I wanted to check if it was right that there was no vehicle theft at most common offense locations\n",
        "\n",
        "df_vehicle_theft['BLKADDR'].value_counts()"
      ],
      "execution_count": null,
      "outputs": [
        {
          "output_type": "execute_result",
          "data": {
            "text/plain": [
              "1100 BLOCK UNIVERSITY AVE     5\n",
              "200 BLOCK MARINA BLVD         4\n",
              "600 BLOCK GILMAN ST           3\n",
              "1000 BLOCK GILMAN ST          3\n",
              "1800 BLOCK SAN LORENZO AVE    3\n",
              "                             ..\n",
              "1900 BLOCK HARMON ST          1\n",
              "1500 BLOCK HENRY ST           1\n",
              "1400 BLOCK PERALTA AVE        1\n",
              "900 BLOCK SAN BENITO RD       1\n",
              "1400 BLOCK 6TH ST             1\n",
              "Name: BLKADDR, Length: 177, dtype: int64"
            ]
          },
          "metadata": {
            "tags": []
          },
          "execution_count": 59
        }
      ]
    },
    {
      "cell_type": "code",
      "metadata": {
        "colab": {
          "base_uri": "https://localhost:8080/"
        },
        "id": "i2yRlXdCfMZR",
        "outputId": "c113026c-c7c5-495f-accd-0cfe2f7876bd"
      },
      "source": [
        "# offense 3: DISORDERLY CONDUCT\n",
        "\n",
        "print('DISORDERLY CONDUCT  at 2800 BLOCK ADELINE ST:', sum(df_dis_conduct[\"BLKADDR\"] == '2800 BLOCK ADELINE ST'))\n",
        "print('DISORDERLY CONDUCT  at 2100 BLOCK SHATTUCK AVE:', sum(df_dis_conduct[\"BLKADDR\"] == '2100 BLOCK SHATTUCK AVE'))\n",
        "print('DISORDERLY CONDUCT  at 2600 BLOCK TELEGRAPH AVE:', sum(df_dis_conduct[\"BLKADDR\"] == '2600 BLOCK TELEGRAPH AVE'))\n",
        "print('DISORDERLY CONDUCT  at 1000 BLOCK GILMAN ST:', sum(df_dis_conduct[\"BLKADDR\"] == '1000 BLOCK GILMAN ST'))"
      ],
      "execution_count": null,
      "outputs": [
        {
          "output_type": "stream",
          "text": [
            "DISORDERLY CONDUCT  at 2800 BLOCK ADELINE ST: 1\n",
            "DISORDERLY CONDUCT  at 2100 BLOCK SHATTUCK AVE: 5\n",
            "DISORDERLY CONDUCT  at 2600 BLOCK TELEGRAPH AVE: 2\n",
            "DISORDERLY CONDUCT  at 1000 BLOCK GILMAN ST: 1\n"
          ],
          "name": "stdout"
        }
      ]
    },
    {
      "cell_type": "code",
      "metadata": {
        "colab": {
          "base_uri": "https://localhost:8080/"
        },
        "id": "7iaby1IDfTww",
        "outputId": "fdafca7e-fbd6-4a71-a67a-aa87e4048530"
      },
      "source": [
        "# I wanted to check if it was right that there was no disorderly conduct at most common offense locations\n",
        "\n",
        "df_dis_conduct['BLKADDR'].value_counts()"
      ],
      "execution_count": null,
      "outputs": [
        {
          "output_type": "execute_result",
          "data": {
            "text/plain": [
              "2100 BLOCK SHATTUCK AVE      5\n",
              "1700 BLOCK HOPKINS ST        4\n",
              "1900 BLOCK SAN PABLO AVE     4\n",
              "2500 BLOCK TELEGRAPH AVE     3\n",
              "1800 BLOCK UNIVERSITY AVE    3\n",
              "                            ..\n",
              "2500 BLOCK DURANT AVE        1\n",
              "2600 BLOCK DWIGHT WAY        1\n",
              "800 BLOCK UNIVERSITY AVE     1\n",
              "2100 BLOCK DWIGHT WAY        1\n",
              "2800 BLOCK FULTON ST         1\n",
              "Name: BLKADDR, Length: 140, dtype: int64"
            ]
          },
          "metadata": {
            "tags": []
          },
          "execution_count": 61
        }
      ]
    },
    {
      "cell_type": "code",
      "metadata": {
        "colab": {
          "base_uri": "https://localhost:8080/"
        },
        "id": "z1KuKacAfXAD",
        "outputId": "b02900cb-49d4-4967-f660-9c0112eec55b"
      },
      "source": [
        "# offense 4: Assault\n",
        "\n",
        "print('Assault at 2800 BLOCK ADELINE ST:', sum(df_assault[\"BLKADDR\"] == '2800 BLOCK ADELINE ST'))\n",
        "print('Assault at 2100 BLOCK SHATTUCK AVE:', sum(df_assault[\"BLKADDR\"] == '2100 BLOCK SHATTUCK AVE'))\n",
        "print('Assault at 2600 BLOCK TELEGRAPH AVE:', sum(df_assault[\"BLKADDR\"] == '2600 BLOCK TELEGRAPH AVE'))\n",
        "print('Assault at 1000 BLOCK GILMAN ST:', sum(df_assault[\"BLKADDR\"] == '1000 BLOCK GILMAN ST'))"
      ],
      "execution_count": null,
      "outputs": [
        {
          "output_type": "stream",
          "text": [
            "Assault at 2800 BLOCK ADELINE ST: 1\n",
            "Assault at 2100 BLOCK SHATTUCK AVE: 8\n",
            "Assault at 2600 BLOCK TELEGRAPH AVE: 2\n",
            "Assault at 1000 BLOCK GILMAN ST: 2\n"
          ],
          "name": "stdout"
        }
      ]
    },
    {
      "cell_type": "code",
      "metadata": {
        "colab": {
          "base_uri": "https://localhost:8080/"
        },
        "id": "R9Nz0qjJfdaf",
        "outputId": "ecd9c75d-90f2-4191-ff63-0c57c797ef36"
      },
      "source": [
        "# I wanted to check if it was right that there was no assult at most common offense locations\n",
        "\n",
        "df_assault['BLKADDR'].value_counts()"
      ],
      "execution_count": null,
      "outputs": [
        {
          "output_type": "execute_result",
          "data": {
            "text/plain": [
              "2100 BLOCK SHATTUCK AVE      8\n",
              "2300 BLOCK TELEGRAPH AVE     6\n",
              "2400 BLOCK ASHBY AVE         4\n",
              "2300 BLOCK SHATTUCK AVE      4\n",
              "2500 BLOCK TELEGRAPH AVE     3\n",
              "                            ..\n",
              "900 BLOCK ASHBY AVE          1\n",
              "1800 BLOCK 6TH ST            1\n",
              "1100 BLOCK UNIVERSITY AVE    1\n",
              "1800 BLOCK SAN PABLO AVE     1\n",
              "1006 VIRGINIA ST             1\n",
              "Name: BLKADDR, Length: 96, dtype: int64"
            ]
          },
          "metadata": {
            "tags": []
          },
          "execution_count": 63
        }
      ]
    },
    {
      "cell_type": "code",
      "metadata": {
        "colab": {
          "base_uri": "https://localhost:8080/",
          "height": 419
        },
        "id": "LFav3Bdlfv54",
        "outputId": "4e076149-a642-42d9-d489-dae938e00adb"
      },
      "source": [
        "# subsetting columns offense and cvlegend to compare\n",
        "\n",
        "off_df=df[['OFFENSE', 'CVLEGEND']]\n",
        "off_df"
      ],
      "execution_count": null,
      "outputs": [
        {
          "output_type": "execute_result",
          "data": {
            "text/html": [
              "<div>\n",
              "<style scoped>\n",
              "    .dataframe tbody tr th:only-of-type {\n",
              "        vertical-align: middle;\n",
              "    }\n",
              "\n",
              "    .dataframe tbody tr th {\n",
              "        vertical-align: top;\n",
              "    }\n",
              "\n",
              "    .dataframe thead th {\n",
              "        text-align: right;\n",
              "    }\n",
              "</style>\n",
              "<table border=\"1\" class=\"dataframe\">\n",
              "  <thead>\n",
              "    <tr style=\"text-align: right;\">\n",
              "      <th></th>\n",
              "      <th>OFFENSE</th>\n",
              "      <th>CVLEGEND</th>\n",
              "    </tr>\n",
              "  </thead>\n",
              "  <tbody>\n",
              "    <tr>\n",
              "      <th>0</th>\n",
              "      <td>VEHICLE STOLEN</td>\n",
              "      <td>MOTOR VEHICLE THEFT</td>\n",
              "    </tr>\n",
              "    <tr>\n",
              "      <th>1</th>\n",
              "      <td>IDENTITY THEFT</td>\n",
              "      <td>FRAUD</td>\n",
              "    </tr>\n",
              "    <tr>\n",
              "      <th>2</th>\n",
              "      <td>THEFT FELONY (OVER $950)</td>\n",
              "      <td>LARCENY</td>\n",
              "    </tr>\n",
              "    <tr>\n",
              "      <th>3</th>\n",
              "      <td>THEFT FELONY (OVER $950)</td>\n",
              "      <td>LARCENY</td>\n",
              "    </tr>\n",
              "    <tr>\n",
              "      <th>4</th>\n",
              "      <td>ASSAULT/BATTERY MISD.</td>\n",
              "      <td>ASSAULT</td>\n",
              "    </tr>\n",
              "    <tr>\n",
              "      <th>...</th>\n",
              "      <td>...</td>\n",
              "      <td>...</td>\n",
              "    </tr>\n",
              "    <tr>\n",
              "      <th>2536</th>\n",
              "      <td>THEFT FELONY (OVER $950)</td>\n",
              "      <td>LARCENY</td>\n",
              "    </tr>\n",
              "    <tr>\n",
              "      <th>2537</th>\n",
              "      <td>DISTURBANCE</td>\n",
              "      <td>DISORDERLY CONDUCT</td>\n",
              "    </tr>\n",
              "    <tr>\n",
              "      <th>2538</th>\n",
              "      <td>THEFT MISD. (UNDER $950)</td>\n",
              "      <td>LARCENY</td>\n",
              "    </tr>\n",
              "    <tr>\n",
              "      <th>2539</th>\n",
              "      <td>THEFT FELONY (OVER $950)</td>\n",
              "      <td>LARCENY</td>\n",
              "    </tr>\n",
              "    <tr>\n",
              "      <th>2540</th>\n",
              "      <td>BURGLARY COMMERCIAL</td>\n",
              "      <td>BURGLARY - COMMERCIAL</td>\n",
              "    </tr>\n",
              "  </tbody>\n",
              "</table>\n",
              "<p>2541 rows × 2 columns</p>\n",
              "</div>"
            ],
            "text/plain": [
              "                       OFFENSE               CVLEGEND\n",
              "0               VEHICLE STOLEN    MOTOR VEHICLE THEFT\n",
              "1               IDENTITY THEFT                  FRAUD\n",
              "2     THEFT FELONY (OVER $950)                LARCENY\n",
              "3     THEFT FELONY (OVER $950)                LARCENY\n",
              "4        ASSAULT/BATTERY MISD.                ASSAULT\n",
              "...                        ...                    ...\n",
              "2536  THEFT FELONY (OVER $950)                LARCENY\n",
              "2537               DISTURBANCE     DISORDERLY CONDUCT\n",
              "2538  THEFT MISD. (UNDER $950)                LARCENY\n",
              "2539  THEFT FELONY (OVER $950)                LARCENY\n",
              "2540       BURGLARY COMMERCIAL  BURGLARY - COMMERCIAL\n",
              "\n",
              "[2541 rows x 2 columns]"
            ]
          },
          "metadata": {
            "tags": []
          },
          "execution_count": 66
        }
      ]
    },
    {
      "cell_type": "code",
      "metadata": {
        "colab": {
          "base_uri": "https://localhost:8080/"
        },
        "id": "3GQOttxkf3T2",
        "outputId": "3e1c913b-e3e3-4af1-f1d0-e6f46e3baab7"
      },
      "source": [
        "# checking duplicates in boolean\n",
        "off_df['CVLEGEND'].duplicated()"
      ],
      "execution_count": null,
      "outputs": [
        {
          "output_type": "execute_result",
          "data": {
            "text/plain": [
              "0       False\n",
              "1       False\n",
              "2       False\n",
              "3        True\n",
              "4       False\n",
              "        ...  \n",
              "2536     True\n",
              "2537     True\n",
              "2538     True\n",
              "2539     True\n",
              "2540     True\n",
              "Name: CVLEGEND, Length: 2541, dtype: bool"
            ]
          },
          "metadata": {
            "tags": []
          },
          "execution_count": 67
        }
      ]
    },
    {
      "cell_type": "code",
      "metadata": {
        "colab": {
          "base_uri": "https://localhost:8080/"
        },
        "id": "wVKESTR7gT8U",
        "outputId": "064fd146-d5f3-4c74-f36f-cae22739c427"
      },
      "source": [
        "len(off_df)"
      ],
      "execution_count": null,
      "outputs": [
        {
          "output_type": "execute_result",
          "data": {
            "text/plain": [
              "2541"
            ]
          },
          "metadata": {
            "tags": []
          },
          "execution_count": 70
        }
      ]
    },
    {
      "cell_type": "code",
      "metadata": {
        "colab": {
          "base_uri": "https://localhost:8080/",
          "height": 917
        },
        "id": "tRT-fN_OgJac",
        "outputId": "7b9c19a5-aee2-4aa8-ffc7-a4daceb93c5a"
      },
      "source": [
        "# to delete duplicates\n",
        "\n",
        "off_df.drop_duplicates() "
      ],
      "execution_count": null,
      "outputs": [
        {
          "output_type": "execute_result",
          "data": {
            "text/html": [
              "<div>\n",
              "<style scoped>\n",
              "    .dataframe tbody tr th:only-of-type {\n",
              "        vertical-align: middle;\n",
              "    }\n",
              "\n",
              "    .dataframe tbody tr th {\n",
              "        vertical-align: top;\n",
              "    }\n",
              "\n",
              "    .dataframe thead th {\n",
              "        text-align: right;\n",
              "    }\n",
              "</style>\n",
              "<table border=\"1\" class=\"dataframe\">\n",
              "  <thead>\n",
              "    <tr style=\"text-align: right;\">\n",
              "      <th></th>\n",
              "      <th>OFFENSE</th>\n",
              "      <th>CVLEGEND</th>\n",
              "    </tr>\n",
              "  </thead>\n",
              "  <tbody>\n",
              "    <tr>\n",
              "      <th>0</th>\n",
              "      <td>VEHICLE STOLEN</td>\n",
              "      <td>MOTOR VEHICLE THEFT</td>\n",
              "    </tr>\n",
              "    <tr>\n",
              "      <th>1</th>\n",
              "      <td>IDENTITY THEFT</td>\n",
              "      <td>FRAUD</td>\n",
              "    </tr>\n",
              "    <tr>\n",
              "      <th>2</th>\n",
              "      <td>THEFT FELONY (OVER $950)</td>\n",
              "      <td>LARCENY</td>\n",
              "    </tr>\n",
              "    <tr>\n",
              "      <th>4</th>\n",
              "      <td>ASSAULT/BATTERY MISD.</td>\n",
              "      <td>ASSAULT</td>\n",
              "    </tr>\n",
              "    <tr>\n",
              "      <th>5</th>\n",
              "      <td>THEFT MISD. (UNDER $950)</td>\n",
              "      <td>LARCENY</td>\n",
              "    </tr>\n",
              "    <tr>\n",
              "      <th>6</th>\n",
              "      <td>DISTURBANCE</td>\n",
              "      <td>DISORDERLY CONDUCT</td>\n",
              "    </tr>\n",
              "    <tr>\n",
              "      <th>15</th>\n",
              "      <td>MISSING ADULT</td>\n",
              "      <td>MISSING PERSON</td>\n",
              "    </tr>\n",
              "    <tr>\n",
              "      <th>16</th>\n",
              "      <td>BURGLARY COMMERCIAL</td>\n",
              "      <td>BURGLARY - COMMERCIAL</td>\n",
              "    </tr>\n",
              "    <tr>\n",
              "      <th>17</th>\n",
              "      <td>VANDALISM</td>\n",
              "      <td>VANDALISM</td>\n",
              "    </tr>\n",
              "    <tr>\n",
              "      <th>23</th>\n",
              "      <td>BURGLARY AUTO</td>\n",
              "      <td>BURGLARY - VEHICLE</td>\n",
              "    </tr>\n",
              "    <tr>\n",
              "      <th>26</th>\n",
              "      <td>ROBBERY</td>\n",
              "      <td>ROBBERY</td>\n",
              "    </tr>\n",
              "    <tr>\n",
              "      <th>37</th>\n",
              "      <td>THEFT FROM AUTO</td>\n",
              "      <td>LARCENY - FROM VEHICLE</td>\n",
              "    </tr>\n",
              "    <tr>\n",
              "      <th>44</th>\n",
              "      <td>BURGLARY RESIDENTIAL</td>\n",
              "      <td>BURGLARY - RESIDENTIAL</td>\n",
              "    </tr>\n",
              "    <tr>\n",
              "      <th>46</th>\n",
              "      <td>NARCOTICS</td>\n",
              "      <td>DRUG VIOLATION</td>\n",
              "    </tr>\n",
              "    <tr>\n",
              "      <th>50</th>\n",
              "      <td>GUN/WEAPON</td>\n",
              "      <td>WEAPONS OFFENSE</td>\n",
              "    </tr>\n",
              "    <tr>\n",
              "      <th>64</th>\n",
              "      <td>DOMESTIC VIOLENCE</td>\n",
              "      <td>FAMILY OFFENSE</td>\n",
              "    </tr>\n",
              "    <tr>\n",
              "      <th>79</th>\n",
              "      <td>BRANDISHING</td>\n",
              "      <td>WEAPONS OFFENSE</td>\n",
              "    </tr>\n",
              "    <tr>\n",
              "      <th>84</th>\n",
              "      <td>ARSON</td>\n",
              "      <td>ARSON</td>\n",
              "    </tr>\n",
              "    <tr>\n",
              "      <th>87</th>\n",
              "      <td>ASSAULT/BATTERY FEL.</td>\n",
              "      <td>ASSAULT</td>\n",
              "    </tr>\n",
              "    <tr>\n",
              "      <th>95</th>\n",
              "      <td>SEXUAL ASSAULT FEL.</td>\n",
              "      <td>SEX CRIME</td>\n",
              "    </tr>\n",
              "    <tr>\n",
              "      <th>103</th>\n",
              "      <td>THEFT FROM PERSON</td>\n",
              "      <td>LARCENY</td>\n",
              "    </tr>\n",
              "    <tr>\n",
              "      <th>160</th>\n",
              "      <td>ALCOHOL OFFENSE</td>\n",
              "      <td>LIQUOR LAW VIOLATION</td>\n",
              "    </tr>\n",
              "    <tr>\n",
              "      <th>200</th>\n",
              "      <td>FRAUD/FORGERY</td>\n",
              "      <td>FRAUD</td>\n",
              "    </tr>\n",
              "    <tr>\n",
              "      <th>221</th>\n",
              "      <td>VEHICLE RECOVERED</td>\n",
              "      <td>RECOVERED VEHICLE</td>\n",
              "    </tr>\n",
              "    <tr>\n",
              "      <th>269</th>\n",
              "      <td>SEXUAL ASSAULT MISD.</td>\n",
              "      <td>SEX CRIME</td>\n",
              "    </tr>\n",
              "    <tr>\n",
              "      <th>498</th>\n",
              "      <td>MUNICIPAL CODE</td>\n",
              "      <td>ALL OTHER OFFENSES</td>\n",
              "    </tr>\n",
              "    <tr>\n",
              "      <th>753</th>\n",
              "      <td>MISSING JUVENILE</td>\n",
              "      <td>MISSING PERSON</td>\n",
              "    </tr>\n",
              "    <tr>\n",
              "      <th>802</th>\n",
              "      <td>HOMICIDE</td>\n",
              "      <td>HOMICIDE</td>\n",
              "    </tr>\n",
              "  </tbody>\n",
              "</table>\n",
              "</div>"
            ],
            "text/plain": [
              "                      OFFENSE                CVLEGEND\n",
              "0              VEHICLE STOLEN     MOTOR VEHICLE THEFT\n",
              "1              IDENTITY THEFT                   FRAUD\n",
              "2    THEFT FELONY (OVER $950)                 LARCENY\n",
              "4       ASSAULT/BATTERY MISD.                 ASSAULT\n",
              "5    THEFT MISD. (UNDER $950)                 LARCENY\n",
              "6                 DISTURBANCE      DISORDERLY CONDUCT\n",
              "15              MISSING ADULT          MISSING PERSON\n",
              "16        BURGLARY COMMERCIAL   BURGLARY - COMMERCIAL\n",
              "17                  VANDALISM               VANDALISM\n",
              "23              BURGLARY AUTO      BURGLARY - VEHICLE\n",
              "26                    ROBBERY                 ROBBERY\n",
              "37            THEFT FROM AUTO  LARCENY - FROM VEHICLE\n",
              "44       BURGLARY RESIDENTIAL  BURGLARY - RESIDENTIAL\n",
              "46                  NARCOTICS          DRUG VIOLATION\n",
              "50                 GUN/WEAPON         WEAPONS OFFENSE\n",
              "64          DOMESTIC VIOLENCE          FAMILY OFFENSE\n",
              "79                BRANDISHING         WEAPONS OFFENSE\n",
              "84                      ARSON                   ARSON\n",
              "87       ASSAULT/BATTERY FEL.                 ASSAULT\n",
              "95        SEXUAL ASSAULT FEL.               SEX CRIME\n",
              "103         THEFT FROM PERSON                 LARCENY\n",
              "160           ALCOHOL OFFENSE    LIQUOR LAW VIOLATION\n",
              "200             FRAUD/FORGERY                   FRAUD\n",
              "221         VEHICLE RECOVERED       RECOVERED VEHICLE\n",
              "269      SEXUAL ASSAULT MISD.               SEX CRIME\n",
              "498            MUNICIPAL CODE      ALL OTHER OFFENSES\n",
              "753          MISSING JUVENILE          MISSING PERSON\n",
              "802                  HOMICIDE                HOMICIDE"
            ]
          },
          "metadata": {
            "tags": []
          },
          "execution_count": 68
        }
      ]
    },
    {
      "cell_type": "code",
      "metadata": {
        "colab": {
          "base_uri": "https://localhost:8080/"
        },
        "id": "_bVAqMczgNjL",
        "outputId": "d27d9623-371c-4ca8-a21f-77e72b3ad915"
      },
      "source": [
        "# the lenght of drop_duplicates\n",
        "\n",
        "len(off_df.drop_duplicates())"
      ],
      "execution_count": null,
      "outputs": [
        {
          "output_type": "execute_result",
          "data": {
            "text/plain": [
              "28"
            ]
          },
          "metadata": {
            "tags": []
          },
          "execution_count": 69
        }
      ]
    },
    {
      "cell_type": "code",
      "metadata": {
        "colab": {
          "base_uri": "https://localhost:8080/",
          "height": 731
        },
        "id": "MqfFA5VcgaTu",
        "outputId": "26996871-1e6d-4ac9-eb10-f807f58416e0"
      },
      "source": [
        "# to count the repetitive cases\n",
        "\n",
        "off_df.groupby('CVLEGEND').count()"
      ],
      "execution_count": null,
      "outputs": [
        {
          "output_type": "execute_result",
          "data": {
            "text/html": [
              "<div>\n",
              "<style scoped>\n",
              "    .dataframe tbody tr th:only-of-type {\n",
              "        vertical-align: middle;\n",
              "    }\n",
              "\n",
              "    .dataframe tbody tr th {\n",
              "        vertical-align: top;\n",
              "    }\n",
              "\n",
              "    .dataframe thead th {\n",
              "        text-align: right;\n",
              "    }\n",
              "</style>\n",
              "<table border=\"1\" class=\"dataframe\">\n",
              "  <thead>\n",
              "    <tr style=\"text-align: right;\">\n",
              "      <th></th>\n",
              "      <th>OFFENSE</th>\n",
              "    </tr>\n",
              "    <tr>\n",
              "      <th>CVLEGEND</th>\n",
              "      <th></th>\n",
              "    </tr>\n",
              "  </thead>\n",
              "  <tbody>\n",
              "    <tr>\n",
              "      <th>ALL OTHER OFFENSES</th>\n",
              "      <td>2</td>\n",
              "    </tr>\n",
              "    <tr>\n",
              "      <th>ARSON</th>\n",
              "      <td>20</td>\n",
              "    </tr>\n",
              "    <tr>\n",
              "      <th>ASSAULT</th>\n",
              "      <td>137</td>\n",
              "    </tr>\n",
              "    <tr>\n",
              "      <th>BURGLARY - COMMERCIAL</th>\n",
              "      <td>97</td>\n",
              "    </tr>\n",
              "    <tr>\n",
              "      <th>BURGLARY - RESIDENTIAL</th>\n",
              "      <td>180</td>\n",
              "    </tr>\n",
              "    <tr>\n",
              "      <th>BURGLARY - VEHICLE</th>\n",
              "      <td>159</td>\n",
              "    </tr>\n",
              "    <tr>\n",
              "      <th>DISORDERLY CONDUCT</th>\n",
              "      <td>182</td>\n",
              "    </tr>\n",
              "    <tr>\n",
              "      <th>DRUG VIOLATION</th>\n",
              "      <td>28</td>\n",
              "    </tr>\n",
              "    <tr>\n",
              "      <th>FAMILY OFFENSE</th>\n",
              "      <td>87</td>\n",
              "    </tr>\n",
              "    <tr>\n",
              "      <th>FRAUD</th>\n",
              "      <td>116</td>\n",
              "    </tr>\n",
              "    <tr>\n",
              "      <th>HOMICIDE</th>\n",
              "      <td>2</td>\n",
              "    </tr>\n",
              "    <tr>\n",
              "      <th>LARCENY</th>\n",
              "      <td>819</td>\n",
              "    </tr>\n",
              "    <tr>\n",
              "      <th>LARCENY - FROM VEHICLE</th>\n",
              "      <td>144</td>\n",
              "    </tr>\n",
              "    <tr>\n",
              "      <th>LIQUOR LAW VIOLATION</th>\n",
              "      <td>22</td>\n",
              "    </tr>\n",
              "    <tr>\n",
              "      <th>MISSING PERSON</th>\n",
              "      <td>31</td>\n",
              "    </tr>\n",
              "    <tr>\n",
              "      <th>MOTOR VEHICLE THEFT</th>\n",
              "      <td>212</td>\n",
              "    </tr>\n",
              "    <tr>\n",
              "      <th>RECOVERED VEHICLE</th>\n",
              "      <td>3</td>\n",
              "    </tr>\n",
              "    <tr>\n",
              "      <th>ROBBERY</th>\n",
              "      <td>91</td>\n",
              "    </tr>\n",
              "    <tr>\n",
              "      <th>SEX CRIME</th>\n",
              "      <td>21</td>\n",
              "    </tr>\n",
              "    <tr>\n",
              "      <th>VANDALISM</th>\n",
              "      <td>156</td>\n",
              "    </tr>\n",
              "    <tr>\n",
              "      <th>WEAPONS OFFENSE</th>\n",
              "      <td>32</td>\n",
              "    </tr>\n",
              "  </tbody>\n",
              "</table>\n",
              "</div>"
            ],
            "text/plain": [
              "                        OFFENSE\n",
              "CVLEGEND                       \n",
              "ALL OTHER OFFENSES            2\n",
              "ARSON                        20\n",
              "ASSAULT                     137\n",
              "BURGLARY - COMMERCIAL        97\n",
              "BURGLARY - RESIDENTIAL      180\n",
              "BURGLARY - VEHICLE          159\n",
              "DISORDERLY CONDUCT          182\n",
              "DRUG VIOLATION               28\n",
              "FAMILY OFFENSE               87\n",
              "FRAUD                       116\n",
              "HOMICIDE                      2\n",
              "LARCENY                     819\n",
              "LARCENY - FROM VEHICLE      144\n",
              "LIQUOR LAW VIOLATION         22\n",
              "MISSING PERSON               31\n",
              "MOTOR VEHICLE THEFT         212\n",
              "RECOVERED VEHICLE             3\n",
              "ROBBERY                      91\n",
              "SEX CRIME                    21\n",
              "VANDALISM                   156\n",
              "WEAPONS OFFENSE              32"
            ]
          },
          "metadata": {
            "tags": []
          },
          "execution_count": 71
        }
      ]
    },
    {
      "cell_type": "code",
      "metadata": {
        "colab": {
          "base_uri": "https://localhost:8080/"
        },
        "id": "JMTtQ5WVgmIF",
        "outputId": "9f07a641-98f2-4538-c76a-efcd1c91f07a"
      },
      "source": [
        "# create offence map to delete duplicates\n",
        "\n",
        "offense_map={\"BURGLARY - COMMERCIAL\" : \"BURGLARY\", \"BURGLARY - RESIDENTIAL\" : \"BURGLARY\", \"BURGLARY - VEHICLE\" : \"BURGLARY\", \"LARCENY - FROM VEHICLE\": \"LARCENY\" }\n",
        "offense_map"
      ],
      "execution_count": null,
      "outputs": [
        {
          "output_type": "execute_result",
          "data": {
            "text/plain": [
              "{'BURGLARY - COMMERCIAL': 'BURGLARY',\n",
              " 'BURGLARY - RESIDENTIAL': 'BURGLARY',\n",
              " 'BURGLARY - VEHICLE': 'BURGLARY',\n",
              " 'LARCENY - FROM VEHICLE': 'LARCENY'}"
            ]
          },
          "metadata": {
            "tags": []
          },
          "execution_count": 72
        }
      ]
    },
    {
      "cell_type": "code",
      "metadata": {
        "colab": {
          "base_uri": "https://localhost:8080/"
        },
        "id": "cr4aFUyAgr0V",
        "outputId": "ac12cd43-511d-4934-9523-d04a23a94767"
      },
      "source": [
        "off_df.CVLEGEND.map(offense_map)"
      ],
      "execution_count": null,
      "outputs": [
        {
          "output_type": "execute_result",
          "data": {
            "text/plain": [
              "0            NaN\n",
              "1            NaN\n",
              "2            NaN\n",
              "3            NaN\n",
              "4            NaN\n",
              "          ...   \n",
              "2536         NaN\n",
              "2537         NaN\n",
              "2538         NaN\n",
              "2539         NaN\n",
              "2540    BURGLARY\n",
              "Name: CVLEGEND, Length: 2541, dtype: object"
            ]
          },
          "metadata": {
            "tags": []
          },
          "execution_count": 73
        }
      ]
    },
    {
      "cell_type": "code",
      "metadata": {
        "colab": {
          "base_uri": "https://localhost:8080/",
          "height": 1000
        },
        "id": "bi8Xgc0_gyGM",
        "outputId": "8c5b4db9-1289-4178-8ce3-7e24139e5ed3"
      },
      "source": [
        "df[~df['CVLEGEND'].duplicated()]"
      ],
      "execution_count": null,
      "outputs": [
        {
          "output_type": "execute_result",
          "data": {
            "text/html": [
              "<div>\n",
              "<style scoped>\n",
              "    .dataframe tbody tr th:only-of-type {\n",
              "        vertical-align: middle;\n",
              "    }\n",
              "\n",
              "    .dataframe tbody tr th {\n",
              "        vertical-align: top;\n",
              "    }\n",
              "\n",
              "    .dataframe thead th {\n",
              "        text-align: right;\n",
              "    }\n",
              "</style>\n",
              "<table border=\"1\" class=\"dataframe\">\n",
              "  <thead>\n",
              "    <tr style=\"text-align: right;\">\n",
              "      <th></th>\n",
              "      <th>CASENO</th>\n",
              "      <th>OFFENSE</th>\n",
              "      <th>EVENTDT</th>\n",
              "      <th>EVENTTM</th>\n",
              "      <th>CVLEGEND</th>\n",
              "      <th>CVDOW</th>\n",
              "      <th>InDbDate</th>\n",
              "      <th>Block_Location</th>\n",
              "      <th>BLKADDR</th>\n",
              "      <th>City</th>\n",
              "      <th>State</th>\n",
              "      <th>df_date_only</th>\n",
              "      <th>DAY</th>\n",
              "    </tr>\n",
              "  </thead>\n",
              "  <tbody>\n",
              "    <tr>\n",
              "      <th>0</th>\n",
              "      <td>20047075</td>\n",
              "      <td>VEHICLE STOLEN</td>\n",
              "      <td>10/11/2020 12:00:00 AM</td>\n",
              "      <td>13:11</td>\n",
              "      <td>MOTOR VEHICLE THEFT</td>\n",
              "      <td>0</td>\n",
              "      <td>02/25/2021 12:00:00 AM</td>\n",
              "      <td>Berkeley, CA\\n(37.869058, -122.270455)</td>\n",
              "      <td>NaN</td>\n",
              "      <td>Berkeley</td>\n",
              "      <td>CA</td>\n",
              "      <td>10/11/2020</td>\n",
              "      <td>Sunday</td>\n",
              "    </tr>\n",
              "    <tr>\n",
              "      <th>1</th>\n",
              "      <td>20049646</td>\n",
              "      <td>IDENTITY THEFT</td>\n",
              "      <td>09/29/2020 12:00:00 AM</td>\n",
              "      <td>8:00</td>\n",
              "      <td>FRAUD</td>\n",
              "      <td>2</td>\n",
              "      <td>02/25/2021 12:00:00 AM</td>\n",
              "      <td>200 BLOCK PANORAMIC WAY\\nBerkeley, CA\\n(37.869...</td>\n",
              "      <td>200 BLOCK PANORAMIC WAY</td>\n",
              "      <td>Berkeley</td>\n",
              "      <td>CA</td>\n",
              "      <td>09/29/2020</td>\n",
              "      <td>Tuesday</td>\n",
              "    </tr>\n",
              "    <tr>\n",
              "      <th>2</th>\n",
              "      <td>21090137</td>\n",
              "      <td>THEFT FELONY (OVER $950)</td>\n",
              "      <td>01/28/2021 12:00:00 AM</td>\n",
              "      <td>11:00</td>\n",
              "      <td>LARCENY</td>\n",
              "      <td>4</td>\n",
              "      <td>02/25/2021 12:00:00 AM</td>\n",
              "      <td>2900 BLOCK ELLIS ST\\nBerkeley, CA\\n(37.85583, ...</td>\n",
              "      <td>2900 BLOCK ELLIS ST</td>\n",
              "      <td>Berkeley</td>\n",
              "      <td>CA</td>\n",
              "      <td>01/28/2021</td>\n",
              "      <td>Thursday</td>\n",
              "    </tr>\n",
              "    <tr>\n",
              "      <th>4</th>\n",
              "      <td>20050711</td>\n",
              "      <td>ASSAULT/BATTERY MISD.</td>\n",
              "      <td>11/02/2020 12:00:00 AM</td>\n",
              "      <td>18:45</td>\n",
              "      <td>ASSAULT</td>\n",
              "      <td>1</td>\n",
              "      <td>02/25/2021 12:00:00 AM</td>\n",
              "      <td>2300 BLOCK SHATTUCK AVE\\nBerkeley, CA\\n(37.867...</td>\n",
              "      <td>2300 BLOCK SHATTUCK AVE</td>\n",
              "      <td>Berkeley</td>\n",
              "      <td>CA</td>\n",
              "      <td>11/02/2020</td>\n",
              "      <td>Monday</td>\n",
              "    </tr>\n",
              "    <tr>\n",
              "      <th>6</th>\n",
              "      <td>21005629</td>\n",
              "      <td>DISTURBANCE</td>\n",
              "      <td>01/16/2021 12:00:00 AM</td>\n",
              "      <td>0:01</td>\n",
              "      <td>DISORDERLY CONDUCT</td>\n",
              "      <td>6</td>\n",
              "      <td>02/25/2021 12:00:00 AM</td>\n",
              "      <td>2600 BLOCK SAN PABLO AVE\\nBerkeley, CA\\n(37.85...</td>\n",
              "      <td>2600 BLOCK SAN PABLO AVE</td>\n",
              "      <td>Berkeley</td>\n",
              "      <td>CA</td>\n",
              "      <td>01/16/2021</td>\n",
              "      <td>Saturday</td>\n",
              "    </tr>\n",
              "    <tr>\n",
              "      <th>15</th>\n",
              "      <td>20055065</td>\n",
              "      <td>MISSING ADULT</td>\n",
              "      <td>11/11/2020 12:00:00 AM</td>\n",
              "      <td>0:00</td>\n",
              "      <td>MISSING PERSON</td>\n",
              "      <td>3</td>\n",
              "      <td>02/25/2021 12:00:00 AM</td>\n",
              "      <td>1000 BLOCK UNIVERSITY AVE\\nBerkeley, CA\\n(37.8...</td>\n",
              "      <td>1000 BLOCK UNIVERSITY AVE</td>\n",
              "      <td>Berkeley</td>\n",
              "      <td>CA</td>\n",
              "      <td>11/11/2020</td>\n",
              "      <td>Wednesday</td>\n",
              "    </tr>\n",
              "    <tr>\n",
              "      <th>16</th>\n",
              "      <td>20058927</td>\n",
              "      <td>BURGLARY COMMERCIAL</td>\n",
              "      <td>12/23/2020 12:00:00 AM</td>\n",
              "      <td>16:00</td>\n",
              "      <td>BURGLARY - COMMERCIAL</td>\n",
              "      <td>3</td>\n",
              "      <td>02/25/2021 12:00:00 AM</td>\n",
              "      <td>2100 BLOCK SAN PABLO AVE\\nBerkeley, CA\\n(37.86...</td>\n",
              "      <td>2100 BLOCK SAN PABLO AVE</td>\n",
              "      <td>Berkeley</td>\n",
              "      <td>CA</td>\n",
              "      <td>12/23/2020</td>\n",
              "      <td>Wednesday</td>\n",
              "    </tr>\n",
              "    <tr>\n",
              "      <th>17</th>\n",
              "      <td>21090073</td>\n",
              "      <td>VANDALISM</td>\n",
              "      <td>01/12/2021 12:00:00 AM</td>\n",
              "      <td>0:25</td>\n",
              "      <td>VANDALISM</td>\n",
              "      <td>2</td>\n",
              "      <td>02/25/2021 12:00:00 AM</td>\n",
              "      <td>200 BLOCK UNIVERSITY AVE\\nBerkeley, CA\\n(37.86...</td>\n",
              "      <td>200 BLOCK UNIVERSITY AVE</td>\n",
              "      <td>Berkeley</td>\n",
              "      <td>CA</td>\n",
              "      <td>01/12/2021</td>\n",
              "      <td>Tuesday</td>\n",
              "    </tr>\n",
              "    <tr>\n",
              "      <th>23</th>\n",
              "      <td>20092155</td>\n",
              "      <td>BURGLARY AUTO</td>\n",
              "      <td>11/29/2020 12:00:00 AM</td>\n",
              "      <td>19:00</td>\n",
              "      <td>BURGLARY - VEHICLE</td>\n",
              "      <td>0</td>\n",
              "      <td>02/25/2021 12:00:00 AM</td>\n",
              "      <td>2600 BLOCK PIEDMONT AVE\\nBerkeley, CA\\n(37.863...</td>\n",
              "      <td>2600 BLOCK PIEDMONT AVE</td>\n",
              "      <td>Berkeley</td>\n",
              "      <td>CA</td>\n",
              "      <td>11/29/2020</td>\n",
              "      <td>Sunday</td>\n",
              "    </tr>\n",
              "    <tr>\n",
              "      <th>26</th>\n",
              "      <td>20053413</td>\n",
              "      <td>ROBBERY</td>\n",
              "      <td>11/20/2020 12:00:00 AM</td>\n",
              "      <td>16:39</td>\n",
              "      <td>ROBBERY</td>\n",
              "      <td>5</td>\n",
              "      <td>02/25/2021 12:00:00 AM</td>\n",
              "      <td>3000 BLOCK ADELINE ST\\nBerkeley, CA\\n(37.85488...</td>\n",
              "      <td>3000 BLOCK ADELINE ST</td>\n",
              "      <td>Berkeley</td>\n",
              "      <td>CA</td>\n",
              "      <td>11/20/2020</td>\n",
              "      <td>Friday</td>\n",
              "    </tr>\n",
              "    <tr>\n",
              "      <th>37</th>\n",
              "      <td>21001374</td>\n",
              "      <td>THEFT FROM AUTO</td>\n",
              "      <td>01/01/2021 12:00:00 AM</td>\n",
              "      <td>20:00</td>\n",
              "      <td>LARCENY - FROM VEHICLE</td>\n",
              "      <td>5</td>\n",
              "      <td>02/25/2021 12:00:00 AM</td>\n",
              "      <td>2200 BLOCK GRANT ST\\nBerkeley, CA\\n(37.868355,...</td>\n",
              "      <td>2200 BLOCK GRANT ST</td>\n",
              "      <td>Berkeley</td>\n",
              "      <td>CA</td>\n",
              "      <td>01/01/2021</td>\n",
              "      <td>Friday</td>\n",
              "    </tr>\n",
              "    <tr>\n",
              "      <th>44</th>\n",
              "      <td>20058337</td>\n",
              "      <td>BURGLARY RESIDENTIAL</td>\n",
              "      <td>12/24/2020 12:00:00 AM</td>\n",
              "      <td>1:00</td>\n",
              "      <td>BURGLARY - RESIDENTIAL</td>\n",
              "      <td>4</td>\n",
              "      <td>02/25/2021 12:00:00 AM</td>\n",
              "      <td>2700 BLOCK ALCATRAZ AVE\\nBerkeley, CA\\n(37.851...</td>\n",
              "      <td>2700 BLOCK ALCATRAZ AVE</td>\n",
              "      <td>Berkeley</td>\n",
              "      <td>CA</td>\n",
              "      <td>12/24/2020</td>\n",
              "      <td>Thursday</td>\n",
              "    </tr>\n",
              "    <tr>\n",
              "      <th>46</th>\n",
              "      <td>20049809</td>\n",
              "      <td>NARCOTICS</td>\n",
              "      <td>10/28/2020 12:00:00 AM</td>\n",
              "      <td>8:29</td>\n",
              "      <td>DRUG VIOLATION</td>\n",
              "      <td>3</td>\n",
              "      <td>02/25/2021 12:00:00 AM</td>\n",
              "      <td>2300 BLOCK TELEGRAPH AVE\\nBerkeley, CA\\n(37.86...</td>\n",
              "      <td>2300 BLOCK TELEGRAPH AVE</td>\n",
              "      <td>Berkeley</td>\n",
              "      <td>CA</td>\n",
              "      <td>10/28/2020</td>\n",
              "      <td>Wednesday</td>\n",
              "    </tr>\n",
              "    <tr>\n",
              "      <th>50</th>\n",
              "      <td>20050090</td>\n",
              "      <td>GUN/WEAPON</td>\n",
              "      <td>10/29/2020 12:00:00 AM</td>\n",
              "      <td>21:18</td>\n",
              "      <td>WEAPONS OFFENSE</td>\n",
              "      <td>4</td>\n",
              "      <td>02/25/2021 12:00:00 AM</td>\n",
              "      <td>3200 BLOCK IDAHO ST\\nBerkeley, CA\\n(37.849609,...</td>\n",
              "      <td>3200 BLOCK IDAHO ST</td>\n",
              "      <td>Berkeley</td>\n",
              "      <td>CA</td>\n",
              "      <td>10/29/2020</td>\n",
              "      <td>Thursday</td>\n",
              "    </tr>\n",
              "    <tr>\n",
              "      <th>64</th>\n",
              "      <td>21005172</td>\n",
              "      <td>DOMESTIC VIOLENCE</td>\n",
              "      <td>02/06/2021 12:00:00 AM</td>\n",
              "      <td>11:30</td>\n",
              "      <td>FAMILY OFFENSE</td>\n",
              "      <td>6</td>\n",
              "      <td>02/25/2021 12:00:00 AM</td>\n",
              "      <td>400 BLOCK VASSAR AVE\\nBerkeley, CA\\n(37.904224...</td>\n",
              "      <td>400 BLOCK VASSAR AVE</td>\n",
              "      <td>Berkeley</td>\n",
              "      <td>CA</td>\n",
              "      <td>02/06/2021</td>\n",
              "      <td>Saturday</td>\n",
              "    </tr>\n",
              "    <tr>\n",
              "      <th>84</th>\n",
              "      <td>21007390</td>\n",
              "      <td>ARSON</td>\n",
              "      <td>02/20/2021 12:00:00 AM</td>\n",
              "      <td>22:35</td>\n",
              "      <td>ARSON</td>\n",
              "      <td>6</td>\n",
              "      <td>02/25/2021 12:00:00 AM</td>\n",
              "      <td>900 BLOCK ASHBY AVE\\nBerkeley, CA\\n(37.851017,...</td>\n",
              "      <td>900 BLOCK ASHBY AVE</td>\n",
              "      <td>Berkeley</td>\n",
              "      <td>CA</td>\n",
              "      <td>02/20/2021</td>\n",
              "      <td>Saturday</td>\n",
              "    </tr>\n",
              "    <tr>\n",
              "      <th>95</th>\n",
              "      <td>21000165</td>\n",
              "      <td>SEXUAL ASSAULT FEL.</td>\n",
              "      <td>01/01/2021 12:00:00 AM</td>\n",
              "      <td>3:00</td>\n",
              "      <td>SEX CRIME</td>\n",
              "      <td>5</td>\n",
              "      <td>02/25/2021 12:00:00 AM</td>\n",
              "      <td>2600 BLOCK HILLEGASS AVE\\nBerkeley, CA\\n(37.86...</td>\n",
              "      <td>2600 BLOCK HILLEGASS AVE</td>\n",
              "      <td>Berkeley</td>\n",
              "      <td>CA</td>\n",
              "      <td>01/01/2021</td>\n",
              "      <td>Friday</td>\n",
              "    </tr>\n",
              "    <tr>\n",
              "      <th>160</th>\n",
              "      <td>21004102</td>\n",
              "      <td>ALCOHOL OFFENSE</td>\n",
              "      <td>01/30/2021 12:00:00 AM</td>\n",
              "      <td>20:45</td>\n",
              "      <td>LIQUOR LAW VIOLATION</td>\n",
              "      <td>6</td>\n",
              "      <td>02/25/2021 12:00:00 AM</td>\n",
              "      <td>1900 BLOCK SHATTUCK AVE\\nBerkeley, CA\\n(37.873...</td>\n",
              "      <td>1900 BLOCK SHATTUCK AVE</td>\n",
              "      <td>Berkeley</td>\n",
              "      <td>CA</td>\n",
              "      <td>01/30/2021</td>\n",
              "      <td>Saturday</td>\n",
              "    </tr>\n",
              "    <tr>\n",
              "      <th>221</th>\n",
              "      <td>20059222</td>\n",
              "      <td>VEHICLE RECOVERED</td>\n",
              "      <td>12/31/2020 12:00:00 AM</td>\n",
              "      <td>17:03</td>\n",
              "      <td>RECOVERED VEHICLE</td>\n",
              "      <td>4</td>\n",
              "      <td>02/25/2021 12:00:00 AM</td>\n",
              "      <td>1300 BLOCK PERALTA AVE\\nBerkeley, CA\\n(37.8808...</td>\n",
              "      <td>1300 BLOCK PERALTA AVE</td>\n",
              "      <td>Berkeley</td>\n",
              "      <td>CA</td>\n",
              "      <td>12/31/2020</td>\n",
              "      <td>Thursday</td>\n",
              "    </tr>\n",
              "    <tr>\n",
              "      <th>498</th>\n",
              "      <td>20045634</td>\n",
              "      <td>MUNICIPAL CODE</td>\n",
              "      <td>10/02/2020 12:00:00 AM</td>\n",
              "      <td>18:57</td>\n",
              "      <td>ALL OTHER OFFENSES</td>\n",
              "      <td>5</td>\n",
              "      <td>02/25/2021 12:00:00 AM</td>\n",
              "      <td>2300 BLOCK SHATTUCK AVE\\nBerkeley, CA\\n(37.867...</td>\n",
              "      <td>2300 BLOCK SHATTUCK AVE</td>\n",
              "      <td>Berkeley</td>\n",
              "      <td>CA</td>\n",
              "      <td>10/02/2020</td>\n",
              "      <td>Friday</td>\n",
              "    </tr>\n",
              "    <tr>\n",
              "      <th>802</th>\n",
              "      <td>20044589</td>\n",
              "      <td>HOMICIDE</td>\n",
              "      <td>09/26/2020 12:00:00 AM</td>\n",
              "      <td>16:00</td>\n",
              "      <td>HOMICIDE</td>\n",
              "      <td>6</td>\n",
              "      <td>02/25/2021 12:00:00 AM</td>\n",
              "      <td>1100 BLOCK GLEN AVE\\nBerkeley, CA\\n(37.887747,...</td>\n",
              "      <td>1100 BLOCK GLEN AVE</td>\n",
              "      <td>Berkeley</td>\n",
              "      <td>CA</td>\n",
              "      <td>09/26/2020</td>\n",
              "      <td>Saturday</td>\n",
              "    </tr>\n",
              "  </tbody>\n",
              "</table>\n",
              "</div>"
            ],
            "text/plain": [
              "       CASENO                   OFFENSE  ... df_date_only        DAY\n",
              "0    20047075            VEHICLE STOLEN  ...   10/11/2020     Sunday\n",
              "1    20049646            IDENTITY THEFT  ...   09/29/2020    Tuesday\n",
              "2    21090137  THEFT FELONY (OVER $950)  ...   01/28/2021   Thursday\n",
              "4    20050711     ASSAULT/BATTERY MISD.  ...   11/02/2020     Monday\n",
              "6    21005629               DISTURBANCE  ...   01/16/2021   Saturday\n",
              "15   20055065             MISSING ADULT  ...   11/11/2020  Wednesday\n",
              "16   20058927       BURGLARY COMMERCIAL  ...   12/23/2020  Wednesday\n",
              "17   21090073                 VANDALISM  ...   01/12/2021    Tuesday\n",
              "23   20092155             BURGLARY AUTO  ...   11/29/2020     Sunday\n",
              "26   20053413                   ROBBERY  ...   11/20/2020     Friday\n",
              "37   21001374           THEFT FROM AUTO  ...   01/01/2021     Friday\n",
              "44   20058337      BURGLARY RESIDENTIAL  ...   12/24/2020   Thursday\n",
              "46   20049809                 NARCOTICS  ...   10/28/2020  Wednesday\n",
              "50   20050090                GUN/WEAPON  ...   10/29/2020   Thursday\n",
              "64   21005172         DOMESTIC VIOLENCE  ...   02/06/2021   Saturday\n",
              "84   21007390                     ARSON  ...   02/20/2021   Saturday\n",
              "95   21000165       SEXUAL ASSAULT FEL.  ...   01/01/2021     Friday\n",
              "160  21004102           ALCOHOL OFFENSE  ...   01/30/2021   Saturday\n",
              "221  20059222         VEHICLE RECOVERED  ...   12/31/2020   Thursday\n",
              "498  20045634            MUNICIPAL CODE  ...   10/02/2020     Friday\n",
              "802  20044589                  HOMICIDE  ...   09/26/2020   Saturday\n",
              "\n",
              "[21 rows x 13 columns]"
            ]
          },
          "metadata": {
            "tags": []
          },
          "execution_count": 74
        }
      ]
    },
    {
      "cell_type": "markdown",
      "metadata": {
        "id": "5-Y-rPq9oJSR"
      },
      "source": [
        "# String operations"
      ]
    },
    {
      "cell_type": "code",
      "metadata": {
        "colab": {
          "base_uri": "https://localhost:8080/",
          "height": 37
        },
        "id": "o_o8H44hoQ0r",
        "outputId": "3d050cb8-121c-426f-80a4-351669b936a0"
      },
      "source": [
        "s = \"This is a very long sentence that we will break up. This one has a    lot   of  spaces  .    \"\n",
        "s"
      ],
      "execution_count": null,
      "outputs": [
        {
          "output_type": "execute_result",
          "data": {
            "application/vnd.google.colaboratory.intrinsic+json": {
              "type": "string"
            },
            "text/plain": [
              "'This is a very long sentence that we will break up. This one has a    lot   of  spaces  .    '"
            ]
          },
          "metadata": {
            "tags": []
          },
          "execution_count": 142
        }
      ]
    },
    {
      "cell_type": "code",
      "metadata": {
        "colab": {
          "base_uri": "https://localhost:8080/"
        },
        "id": "0aCubMfvoaxg",
        "outputId": "3e3be466-a6e4-4282-c186-81392eb18625"
      },
      "source": [
        "# split() will split with the `space` character.\n",
        "s.split()"
      ],
      "execution_count": null,
      "outputs": [
        {
          "output_type": "execute_result",
          "data": {
            "text/plain": [
              "['This',\n",
              " 'is',\n",
              " 'a',\n",
              " 'very',\n",
              " 'long',\n",
              " 'sentence',\n",
              " 'that',\n",
              " 'we',\n",
              " 'will',\n",
              " 'break',\n",
              " 'up.',\n",
              " 'This',\n",
              " 'one',\n",
              " 'has',\n",
              " 'a',\n",
              " 'lot',\n",
              " 'of',\n",
              " 'spaces',\n",
              " '.']"
            ]
          },
          "metadata": {
            "tags": []
          },
          "execution_count": 143
        }
      ]
    },
    {
      "cell_type": "code",
      "metadata": {
        "colab": {
          "base_uri": "https://localhost:8080/"
        },
        "id": "5neZEqzYoeQ9",
        "outputId": "b2010d26-4dd7-4451-8af5-10f61c70a76c"
      },
      "source": [
        "# You can split with any character.\n",
        "s.split(\".\")"
      ],
      "execution_count": null,
      "outputs": [
        {
          "output_type": "execute_result",
          "data": {
            "text/plain": [
              "['This is a very long sentence that we will break up',\n",
              " ' This one has a    lot   of  spaces  ',\n",
              " '    ']"
            ]
          },
          "metadata": {
            "tags": []
          },
          "execution_count": 144
        }
      ]
    },
    {
      "cell_type": "code",
      "metadata": {
        "colab": {
          "base_uri": "https://localhost:8080/"
        },
        "id": "dZrDEtP1oiFM",
        "outputId": "0d9b3bd8-dba9-43d6-8c1c-e49ab08d142d"
      },
      "source": [
        "# notice that the character used to split is not in the result.\n",
        "s.split(\"a\")"
      ],
      "execution_count": null,
      "outputs": [
        {
          "output_type": "execute_result",
          "data": {
            "text/plain": [
              "['This is ',\n",
              " ' very long sentence th',\n",
              " 't we will bre',\n",
              " 'k up. This one h',\n",
              " 's ',\n",
              " '    lot   of  sp',\n",
              " 'ces  .    ']"
            ]
          },
          "metadata": {
            "tags": []
          },
          "execution_count": 145
        }
      ]
    },
    {
      "cell_type": "markdown",
      "metadata": {
        "id": "VyzCCKLvonF3"
      },
      "source": [
        "# String split in pandas"
      ]
    },
    {
      "cell_type": "code",
      "metadata": {
        "colab": {
          "base_uri": "https://localhost:8080/"
        },
        "id": "JasUh7Zxoqvq",
        "outputId": "a4c45e2a-7c42-4176-919d-aa19f22bd1f9"
      },
      "source": [
        "# notice that the character used to split is not in the result.\n",
        "p = pd.Series([\"Three word sentence\",\n",
        "               \"Another such sentence\",\n",
        "               \"Third sentence too\"])\n",
        "\n",
        "p"
      ],
      "execution_count": null,
      "outputs": [
        {
          "output_type": "execute_result",
          "data": {
            "text/plain": [
              "0      Three word sentence\n",
              "1    Another such sentence\n",
              "2       Third sentence too\n",
              "dtype: object"
            ]
          },
          "metadata": {
            "tags": []
          },
          "execution_count": 147
        }
      ]
    },
    {
      "cell_type": "code",
      "metadata": {
        "colab": {
          "base_uri": "https://localhost:8080/"
        },
        "id": "SRl5lk8wowV9",
        "outputId": "0a73a534-e428-4b97-c896-5482620c8d89"
      },
      "source": [
        "p.str.split()"
      ],
      "execution_count": null,
      "outputs": [
        {
          "output_type": "execute_result",
          "data": {
            "text/plain": [
              "0      [Three, word, sentence]\n",
              "1    [Another, such, sentence]\n",
              "2       [Third, sentence, too]\n",
              "dtype: object"
            ]
          },
          "metadata": {
            "tags": []
          },
          "execution_count": 148
        }
      ]
    },
    {
      "cell_type": "code",
      "metadata": {
        "colab": {
          "base_uri": "https://localhost:8080/"
        },
        "id": "j2nJsEpXozYP",
        "outputId": "5e0baea0-4148-48c4-dc33-6e9e704d12d1"
      },
      "source": [
        "split_p = p.str.split()\n",
        "print(type(split_p))"
      ],
      "execution_count": null,
      "outputs": [
        {
          "output_type": "stream",
          "text": [
            "<class 'pandas.core.series.Series'>\n"
          ],
          "name": "stdout"
        }
      ]
    },
    {
      "cell_type": "code",
      "metadata": {
        "colab": {
          "base_uri": "https://localhost:8080/"
        },
        "id": "KLz9VV0Do4BF",
        "outputId": "65cab60e-2fbf-4e88-cf8d-37c5d174d839"
      },
      "source": [
        "# subset 2nd row\n",
        "\n",
        "split_p[1]"
      ],
      "execution_count": null,
      "outputs": [
        {
          "output_type": "execute_result",
          "data": {
            "text/plain": [
              "['Another', 'such', 'sentence']"
            ]
          },
          "metadata": {
            "tags": []
          },
          "execution_count": 150
        }
      ]
    },
    {
      "cell_type": "code",
      "metadata": {
        "colab": {
          "base_uri": "https://localhost:8080/"
        },
        "id": "7TlDcqlXo_Ky",
        "outputId": "70dda257-d655-4c8d-c1be-616419f3f654"
      },
      "source": [
        "# subset last column\n",
        "\n",
        "split_p.str[-1]"
      ],
      "execution_count": null,
      "outputs": [
        {
          "output_type": "execute_result",
          "data": {
            "text/plain": [
              "0    sentence\n",
              "1    sentence\n",
              "2         too\n",
              "dtype: object"
            ]
          },
          "metadata": {
            "tags": []
          },
          "execution_count": 151
        }
      ]
    },
    {
      "cell_type": "code",
      "metadata": {
        "colab": {
          "base_uri": "https://localhost:8080/"
        },
        "id": "aPT4UQWxpHAo",
        "outputId": "b6f19da4-3dcd-4698-f724-9d12f584a758"
      },
      "source": [
        "split_p.str.get(-1)"
      ],
      "execution_count": null,
      "outputs": [
        {
          "output_type": "execute_result",
          "data": {
            "text/plain": [
              "0    sentence\n",
              "1    sentence\n",
              "2         too\n",
              "dtype: object"
            ]
          },
          "metadata": {
            "tags": []
          },
          "execution_count": 152
        }
      ]
    },
    {
      "cell_type": "markdown",
      "metadata": {
        "id": "conQIeNFpOzc"
      },
      "source": [
        "# Join strings"
      ]
    },
    {
      "cell_type": "code",
      "metadata": {
        "colab": {
          "base_uri": "https://localhost:8080/",
          "height": 37
        },
        "id": "Npcw4qeXpRUa",
        "outputId": "9ae3f178-14cc-4c8b-d849-34b0d808919a"
      },
      "source": [
        "\".\".join(['a', 'b', 'c'])"
      ],
      "execution_count": null,
      "outputs": [
        {
          "output_type": "execute_result",
          "data": {
            "application/vnd.google.colaboratory.intrinsic+json": {
              "type": "string"
            },
            "text/plain": [
              "'a.b.c'"
            ]
          },
          "metadata": {
            "tags": []
          },
          "execution_count": 153
        }
      ]
    },
    {
      "cell_type": "code",
      "metadata": {
        "colab": {
          "base_uri": "https://localhost:8080/",
          "height": 37
        },
        "id": "b9z14Mt0pTr-",
        "outputId": "ee4cb658-6241-439d-b41c-a626ad9e0afc"
      },
      "source": [
        "\"  \".join(['a', 'b', 'c'])"
      ],
      "execution_count": null,
      "outputs": [
        {
          "output_type": "execute_result",
          "data": {
            "application/vnd.google.colaboratory.intrinsic+json": {
              "type": "string"
            },
            "text/plain": [
              "'a  b  c'"
            ]
          },
          "metadata": {
            "tags": []
          },
          "execution_count": 154
        }
      ]
    },
    {
      "cell_type": "markdown",
      "metadata": {
        "id": "-WBzvsmXpcIT"
      },
      "source": [
        "# RegEx"
      ]
    },
    {
      "cell_type": "code",
      "metadata": {
        "id": "RVy2ziNUpelI"
      },
      "source": [
        "r = '2100 SHATTUCK AVE\\nBerkeley, CA\\n(37.871167, -122.268285)'"
      ],
      "execution_count": null,
      "outputs": []
    },
    {
      "cell_type": "code",
      "metadata": {
        "colab": {
          "base_uri": "https://localhost:8080/"
        },
        "id": "ukBM5o_ApiLW",
        "outputId": "991a97f6-1c9d-4be6-d966-d2e177a46564"
      },
      "source": [
        "r.split()"
      ],
      "execution_count": null,
      "outputs": [
        {
          "output_type": "execute_result",
          "data": {
            "text/plain": [
              "['2100', 'SHATTUCK', 'AVE', 'Berkeley,', 'CA', '(37.871167,', '-122.268285)']"
            ]
          },
          "metadata": {
            "tags": []
          },
          "execution_count": 156
        }
      ]
    },
    {
      "cell_type": "markdown",
      "metadata": {
        "id": "48hTW0hcpsnk"
      },
      "source": [
        "Pictorial representation: https://www.python-course.eu/re.php"
      ]
    },
    {
      "cell_type": "code",
      "metadata": {
        "id": "bOlNKPZOpofz"
      },
      "source": [
        "import re"
      ],
      "execution_count": null,
      "outputs": []
    },
    {
      "cell_type": "code",
      "metadata": {
        "colab": {
          "base_uri": "https://localhost:8080/",
          "height": 37
        },
        "id": "AqRvIPuOpxQJ",
        "outputId": "614cf931-a278-4a93-8b95-c8666b0c3055"
      },
      "source": [
        "a = re.split(r'[()]', r)\n",
        "a[0]"
      ],
      "execution_count": null,
      "outputs": [
        {
          "output_type": "execute_result",
          "data": {
            "application/vnd.google.colaboratory.intrinsic+json": {
              "type": "string"
            },
            "text/plain": [
              "'2100 SHATTUCK AVE\\nBerkeley, CA\\n'"
            ]
          },
          "metadata": {
            "tags": []
          },
          "execution_count": 162
        }
      ]
    },
    {
      "cell_type": "code",
      "metadata": {
        "colab": {
          "base_uri": "https://localhost:8080/",
          "height": 37
        },
        "id": "d1WPibDuqAp_",
        "outputId": "35c4725b-2dbd-49c6-8afe-124ad5f0fc0e"
      },
      "source": [
        "a[1]"
      ],
      "execution_count": null,
      "outputs": [
        {
          "output_type": "execute_result",
          "data": {
            "application/vnd.google.colaboratory.intrinsic+json": {
              "type": "string"
            },
            "text/plain": [
              "'37.871167, -122.268285'"
            ]
          },
          "metadata": {
            "tags": []
          },
          "execution_count": 163
        }
      ]
    },
    {
      "cell_type": "code",
      "metadata": {
        "colab": {
          "base_uri": "https://localhost:8080/"
        },
        "id": "YbJVPI9CqNQp",
        "outputId": "82424d31-a032-40a5-d678-18ca7a1f97dd"
      },
      "source": [
        "# find items in the string\n",
        "\n",
        "txt = \"I have a pet in petaluma\"\n",
        "x = re.findall(\"pet\", txt)\n",
        "print(x)"
      ],
      "execution_count": null,
      "outputs": [
        {
          "output_type": "stream",
          "text": [
            "['pet', 'pet']\n"
          ],
          "name": "stdout"
        }
      ]
    },
    {
      "cell_type": "code",
      "metadata": {
        "colab": {
          "base_uri": "https://localhost:8080/"
        },
        "id": "nkKWk4FuqVMv",
        "outputId": "0563b3cc-1d4c-437b-ee58-d2c63c1c1f7f"
      },
      "source": [
        "# search\n",
        "\n",
        "ex = \"There is a Spade near the sand\"\n",
        "t=re.search(\"\\s\", ex)\n",
        "print(t)"
      ],
      "execution_count": null,
      "outputs": [
        {
          "output_type": "stream",
          "text": [
            "<re.Match object; span=(5, 6), match=' '>\n"
          ],
          "name": "stdout"
        }
      ]
    },
    {
      "cell_type": "code",
      "metadata": {
        "colab": {
          "base_uri": "https://localhost:8080/"
        },
        "id": "SxzzDH8Cqck6",
        "outputId": "f6470271-0f12-4b15-933f-8bd73f89fded"
      },
      "source": [
        "ex1 = \"There is a Spade near the sand\"\n",
        "x = re.search(\"near\",ex1)\n",
        "print(x)"
      ],
      "execution_count": null,
      "outputs": [
        {
          "output_type": "stream",
          "text": [
            "<re.Match object; span=(17, 21), match='near'>\n"
          ],
          "name": "stdout"
        }
      ]
    },
    {
      "cell_type": "code",
      "metadata": {
        "colab": {
          "base_uri": "https://localhost:8080/"
        },
        "id": "sfuqT3f5qrwn",
        "outputId": "1d2c9ecc-7fbd-45ed-f8ba-0615a00c43fe"
      },
      "source": [
        "# re.sub\n",
        "\n",
        "# Every match of the regular expression regex in the string subject will be replaced by the string replacement.\n",
        "\n",
        "import re\n",
        "\n",
        "ex2 = \"The rain in Spain\"\n",
        "x1 = re.sub(\"\\s\", \"9\", ex2,2)\n",
        "print(x1)\n"
      ],
      "execution_count": null,
      "outputs": [
        {
          "output_type": "stream",
          "text": [
            "The9rain9in Spain\n"
          ],
          "name": "stdout"
        }
      ]
    }
  ]
}